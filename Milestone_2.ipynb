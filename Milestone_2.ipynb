{
 "cells": [
  {
   "cell_type": "markdown",
   "metadata": {},
   "source": [
    "# Environmental Impact of Agricultural Practices in the World\n",
    "\n",
    "**ADA Project Milestone 2**\n",
    "\n",
    "This notebook consists of our initial Data Analysis of the FAOSTAT dataset on Food an agriculture. We will first study the contents of the data and its strucuture, before restructuring it in order to start our analysis. Also, some research questions initially asked will be answered by the end of this notebook."
   ]
  },
  {
   "cell_type": "markdown",
   "metadata": {},
   "source": [
    "## A. Initial Analysis"
   ]
  },
  {
   "cell_type": "markdown",
   "metadata": {},
   "source": [
    "The dataset initially contained 78 csv files, but some of them were discarded as they will not be useful for our analysis. We have selected 43 CSVs that would help us with our analysis."
   ]
  },
  {
   "cell_type": "code",
   "execution_count": 2,
   "metadata": {},
   "outputs": [],
   "source": [
    "from glob import glob\n",
    "import pandas as pd\n",
    "import numpy as np\n",
    "\n",
    "%load_ext autoreload\n",
    "%autoreload 2"
   ]
  },
  {
   "cell_type": "code",
   "execution_count": 3,
   "metadata": {},
   "outputs": [
    {
     "data": {
      "text/plain": [
       "43"
      ]
     },
     "execution_count": 3,
     "metadata": {},
     "output_type": "execute_result"
    }
   ],
   "source": [
    "csv_files = glob('data/**/**.csv')\n",
    "len(csv_files)"
   ]
  },
  {
   "cell_type": "markdown",
   "metadata": {},
   "source": [
    "We split those 43 csv into different directories, one for each group of csv. Each group corresponds to one category:\n",
    "```.\n",
    "+-- data/\n",
    "|   +-- emissions_agriculture/\n",
    "|      +-- ...\n",
    "|   +-- emissions_land/\n",
    "|      +-- ...\n",
    "|   +-- environment/\n",
    "|      +-- ...\n",
    "|   +-- forestry/\n",
    "|      +-- ...\n",
    "|   +-- inputs/\n",
    "|      +-- ...\n",
    "|   +-- population/\n",
    "|      +-- ...\n",
    "|   +-- production/\n",
    "|      +-- ...\n",
    "```"
   ]
  },
  {
   "cell_type": "markdown",
   "metadata": {},
   "source": [
    "---\n",
    "### A.1 Schema consistency\n",
    "---\n",
    "\n",
    "We will first study the schemas of all the csv files we have in order to see if they are consistent or require changes"
   ]
  },
  {
   "cell_type": "markdown",
   "metadata": {},
   "source": [
    "#### 1. Checking column names across whole dataset\n",
    "---"
   ]
  },
  {
   "cell_type": "markdown",
   "metadata": {},
   "source": [
    "Now, let's scan all the csv files and check their schemas."
   ]
  },
  {
   "cell_type": "code",
   "execution_count": 1,
   "metadata": {},
   "outputs": [
    {
     "ename": "NameError",
     "evalue": "name 'csv_files' is not defined",
     "output_type": "error",
     "traceback": [
      "\u001b[0;31m---------------------------------------------------------------------------\u001b[0m",
      "\u001b[0;31mNameError\u001b[0m                                 Traceback (most recent call last)",
      "\u001b[0;32m<ipython-input-1-984a285ad20b>\u001b[0m in \u001b[0;36m<module>\u001b[0;34m\u001b[0m\n\u001b[1;32m      1\u001b[0m \u001b[0;32mfrom\u001b[0m \u001b[0mdata_processing\u001b[0m \u001b[0;32mimport\u001b[0m \u001b[0mscan_columns\u001b[0m\u001b[0;34m\u001b[0m\u001b[0;34m\u001b[0m\u001b[0m\n\u001b[0;32m----> 2\u001b[0;31m \u001b[0mall_columns\u001b[0m \u001b[0;34m=\u001b[0m \u001b[0mscan_columns\u001b[0m\u001b[0;34m(\u001b[0m\u001b[0mcsv_files\u001b[0m\u001b[0;34m)\u001b[0m\u001b[0;34m\u001b[0m\u001b[0;34m\u001b[0m\u001b[0m\n\u001b[0m\u001b[1;32m      3\u001b[0m \u001b[0mprint\u001b[0m\u001b[0;34m(\u001b[0m\u001b[0;34m\"The found columns, grouped, are:\\n\"\u001b[0m\u001b[0;34m)\u001b[0m\u001b[0;34m\u001b[0m\u001b[0;34m\u001b[0m\u001b[0m\n\u001b[1;32m      4\u001b[0m \u001b[0;32mfor\u001b[0m \u001b[0mcols\u001b[0m\u001b[0;34m,\u001b[0m \u001b[0mf\u001b[0m \u001b[0;32min\u001b[0m \u001b[0mall_columns\u001b[0m\u001b[0;34m:\u001b[0m\u001b[0;34m\u001b[0m\u001b[0;34m\u001b[0m\u001b[0m\n\u001b[1;32m      5\u001b[0m     \u001b[0mprint\u001b[0m\u001b[0;34m(\u001b[0m\u001b[0mlist\u001b[0m\u001b[0;34m(\u001b[0m\u001b[0msorted\u001b[0m\u001b[0;34m(\u001b[0m\u001b[0mcols\u001b[0m\u001b[0;34m)\u001b[0m\u001b[0;34m)\u001b[0m\u001b[0;34m,\u001b[0m \u001b[0;34mf\"Num files {len(f)}\"\u001b[0m\u001b[0;34m)\u001b[0m\u001b[0;34m\u001b[0m\u001b[0;34m\u001b[0m\u001b[0m\n",
      "\u001b[0;31mNameError\u001b[0m: name 'csv_files' is not defined"
     ]
    }
   ],
   "source": [
    "from data_processing import scan_columns\n",
    "all_columns = scan_columns(csv_files)\n",
    "print(\"The found columns, grouped, are:\\n\")\n",
    "for cols, f in all_columns:\n",
    "    print(list(sorted(cols)), f\"Num files {len(f)}\")"
   ]
  },
  {
   "cell_type": "markdown",
   "metadata": {},
   "source": [
    "As we can see, sometimes the columns `area` and `areacode` are named `country` and `countrycode`, only because some csv files only contain country data, without country groups. We will rename those as to have a unified schema. Also, some files have the `note`, `elementgroup` and `months` columns. We will look into those in subsequent steps as we are now simply checking whether column naming is consistent.\n",
    "\n",
    "In order to obtain a more consistent column naming, we will rename `country` to `area` and `countrycode` to `areacode`."
   ]
  },
  {
   "cell_type": "code",
   "execution_count": 4,
   "metadata": {},
   "outputs": [],
   "source": [
    "column_rename = {'country': 'area', 'countrycode': 'areacode'}"
   ]
  },
  {
   "cell_type": "code",
   "execution_count": 5,
   "metadata": {},
   "outputs": [
    {
     "name": "stdout",
     "output_type": "stream",
     "text": [
      "After renaming, we obtain the following columns:\n",
      "\n",
      "['area', 'areacode', 'element', 'elementcode', 'flag', 'item', 'itemcode', 'unit', 'value', 'year', 'yearcode'] Num files 34\n",
      "['area', 'areacode', 'element', 'elementcode', 'elementgroup', 'flag', 'item', 'itemcode', 'unit', 'value', 'year'] Num files 4\n",
      "['area', 'areacode', 'element', 'elementcode', 'flag', 'months', 'monthscode', 'unit', 'value', 'year', 'yearcode'] Num files 1\n",
      "['area', 'areacode', 'element', 'elementcode', 'flag', 'item', 'itemcode', 'note', 'unit', 'value', 'year', 'yearcode'] Num files 4\n"
     ]
    }
   ],
   "source": [
    "all_columns_2 = scan_columns(csv_files, column_rename)\n",
    "print(f\"After renaming, we obtain the following columns:\\n\")\n",
    "for cols, f in all_columns_2:\n",
    "    print(list(sorted(cols)), f\"Num files {len(f)}\")"
   ]
  },
  {
   "cell_type": "markdown",
   "metadata": {},
   "source": [
    "#### 2. Checking which columns to drop\n",
    "---"
   ]
  },
  {
   "cell_type": "markdown",
   "metadata": {},
   "source": [
    "Now we have a few files that have different schemas. One column that we should look into before continuing is `note`, as it is in 4 files."
   ]
  },
  {
   "cell_type": "code",
   "execution_count": 6,
   "metadata": {},
   "outputs": [
    {
     "data": {
      "text/html": [
       "<div>\n",
       "<style scoped>\n",
       "    .dataframe tbody tr th:only-of-type {\n",
       "        vertical-align: middle;\n",
       "    }\n",
       "\n",
       "    .dataframe tbody tr th {\n",
       "        vertical-align: top;\n",
       "    }\n",
       "\n",
       "    .dataframe thead th {\n",
       "        text-align: right;\n",
       "    }\n",
       "</style>\n",
       "<table border=\"1\" class=\"dataframe\">\n",
       "  <thead>\n",
       "    <tr style=\"text-align: right;\">\n",
       "      <th></th>\n",
       "      <th>note</th>\n",
       "    </tr>\n",
       "  </thead>\n",
       "  <tbody>\n",
       "    <tr>\n",
       "      <th>0</th>\n",
       "      <td>NaN</td>\n",
       "    </tr>\n",
       "  </tbody>\n",
       "</table>\n",
       "</div>"
      ],
      "text/plain": [
       "   note\n",
       "0   NaN"
      ]
     },
     "execution_count": 6,
     "metadata": {},
     "output_type": "execute_result"
    }
   ],
   "source": [
    "from data_processing import get_column_unique_values\n",
    "\n",
    "files_with_note = all_columns_2[-1][1]\n",
    "note_values = get_column_unique_values(files_with_note, column_rename, None,['note'])\n",
    "note_values"
   ]
  },
  {
   "cell_type": "markdown",
   "metadata": {},
   "source": [
    "As we can see, all values for this column are NaN, so we can safely drop the column."
   ]
  },
  {
   "cell_type": "markdown",
   "metadata": {},
   "source": [
    "#### 3. Checking duplicate columns\n",
    "---\n",
    "\n",
    "We figured it would be useful to scan for duplicate columns in each dataframe (i.e. columns with different names but same values)"
   ]
  },
  {
   "cell_type": "code",
   "execution_count": 7,
   "metadata": {},
   "outputs": [
    {
     "name": "stdout",
     "output_type": "stream",
     "text": [
      "Duplicates for [('yearcode', 'year')] in 39 files\n",
      "Duplicates for [('elementgroup', 'elementcode')] in 3 files\n"
     ]
    }
   ],
   "source": [
    "from data_processing import scan_column_duplicates\n",
    "duplicates = scan_column_duplicates(csv_files, column_rename)\n",
    "for c, f in duplicates:\n",
    "    print(f\"Duplicates for {c} in {len(f)} files\")"
   ]
  },
  {
   "cell_type": "markdown",
   "metadata": {},
   "source": [
    "As we can see, most files have `year` and `yearcode` columns which are equal. Hence, we can safely drop this column. However, for `elementgroup` and `elementcode`, they are equal in almost all CSV where they appear (3/4), but not all, so we cannot safely drop it without checking. We choose to keep `elementcode` when those two are equal, and keep them both when they are not.\n",
    "\n",
    "Hence, we can define a list of columns to be checked and dropped; We drop them if they fulfill any of the following conditions:\n",
    " - NaN in all rows\n",
    " - Duplicate with another column"
   ]
  },
  {
   "cell_type": "code",
   "execution_count": 8,
   "metadata": {},
   "outputs": [
    {
     "name": "stdout",
     "output_type": "stream",
     "text": [
      "After renaming and dropping columns, we obtain the following columns:\n",
      "\n",
      "['area', 'areacode', 'element', 'elementcode', 'flag', 'item', 'itemcode', 'unit', 'value', 'year'] Num files 41\n",
      "['area', 'areacode', 'element', 'elementcode', 'elementgroup', 'flag', 'item', 'itemcode', 'unit', 'value', 'year'] Num files 1\n",
      "['area', 'areacode', 'element', 'elementcode', 'flag', 'months', 'monthscode', 'unit', 'value', 'year'] Num files 1\n"
     ]
    }
   ],
   "source": [
    "check_columns = [\"note\", \"yearcode\", \"elementgroup\"]\n",
    "all_columns_3 = scan_columns(csv_files, column_rename, check_columns)\n",
    "print(f\"After renaming and dropping columns, we obtain the following columns:\\n\")\n",
    "for cols, f in all_columns_3:\n",
    "    print(list(sorted(cols)), f\"Num files {len(f)}\")"
   ]
  },
  {
   "cell_type": "markdown",
   "metadata": {},
   "source": [
    "We now have 41 files with identical schemas, and 2 files that have a different one:\n",
    " - The file containing the `elementgroup` additional column, which refers to groups of `elements`\n",
    " - The file with monthly data and no `item` and `itemcode` columns\n",
    " \n",
    "To obtain the desired format, we can now call `load_dataframe(<file>, column_rename, drop_columns)` with `column_rename = {'country': 'area', 'countrycode': 'areacode'}` and `drop_columns = [\"note\", \"yearcode\", \"elementgroup\"]`"
   ]
  },
  {
   "cell_type": "markdown",
   "metadata": {},
   "source": [
    "---\n",
    "### A.2 Schema description\n",
    "\n",
    "---\n",
    "Now that we have a unified schema for (almost) all csv files, we can start looking into the meaning of each column and their possible value. "
   ]
  },
  {
   "cell_type": "markdown",
   "metadata": {},
   "source": [
    "#### 1. Area columns\n",
    "---\n",
    "We will first look into the columns `area` and `areacode`. According to FAOSTAT's website, each area is defined by a unique areacode, however some areas include other ones, i.e. there are grouped areas in the datasets. We would expect a one-to-one mapping between those two columns. Let's see how this looks like"
   ]
  },
  {
   "cell_type": "markdown",
   "metadata": {},
   "source": [
    "To verify that it is indeed a one-to-one mapping, we will append all values from all csv files, and drop duplicates. Then we group by area and see if the length of the group is 1."
   ]
  },
  {
   "cell_type": "code",
   "execution_count": 10,
   "metadata": {},
   "outputs": [
    {
     "data": {
      "text/plain": [
       "False"
      ]
     },
     "execution_count": 10,
     "metadata": {},
     "output_type": "execute_result"
    }
   ],
   "source": [
    "from utils import is_unique_mapping\n",
    "\n",
    "area_values = get_column_unique_values(csv_files, column_rename, check_columns, ['area', 'areacode'])\n",
    "is_unique_mapping(area_values, 'area', 'areacode')"
   ]
  },
  {
   "cell_type": "markdown",
   "metadata": {},
   "source": [
    "It seems that the mapping is not one-to-one. Let's look into why that is. First we group by `areacode` and aggregate to a list of `area` and then we do the inverse. This way, we can see how the mapping is."
   ]
  },
  {
   "cell_type": "code",
   "execution_count": 11,
   "metadata": {},
   "outputs": [
    {
     "data": {
      "text/plain": [
       "Series([], Name: areacode, dtype: object)"
      ]
     },
     "execution_count": 11,
     "metadata": {},
     "output_type": "execute_result"
    }
   ],
   "source": [
    "grpd = area_values.groupby('area')['areacode'].apply(list)\n",
    "grpd[grpd.apply(lambda x: len(x) > 1)]"
   ]
  },
  {
   "cell_type": "markdown",
   "metadata": {},
   "source": [
    "The mapping `area` -> `areacode` is unique, now for the opposite:"
   ]
  },
  {
   "cell_type": "code",
   "execution_count": 12,
   "metadata": {},
   "outputs": [
    {
     "data": {
      "text/plain": [
       "areacode\n",
       "35                               [Cabo Verde, Cape Verde]\n",
       "151     [Netherlands Antilles (former), Netherlands An...\n",
       "154     [The former Yugoslav Republic of Macedonia, No...\n",
       "167                             [Czechia, Czech Republic]\n",
       "209                                 [Eswatini, Swaziland]\n",
       "299           [Occupied Palestinian Territory, Palestine]\n",
       "5000                             [World, World + (Total)]\n",
       "5100                           [Africa, Africa + (Total)]\n",
       "5101           [Eastern Africa, Eastern Africa + (Total)]\n",
       "5102             [Middle Africa, Middle Africa + (Total)]\n",
       "5103         [Northern Africa, Northern Africa + (Total)]\n",
       "5104         [Southern Africa, Southern Africa + (Total)]\n",
       "5105           [Western Africa, Western Africa + (Total)]\n",
       "5200                       [Americas, Americas + (Total)]\n",
       "5203       [Northern America, Northern America + (Total)]\n",
       "5204         [Central America, Central America + (Total)]\n",
       "5206                     [Caribbean, Caribbean + (Total)]\n",
       "5207             [South America, South America + (Total)]\n",
       "5300                               [Asia, Asia + (Total)]\n",
       "5301               [Central Asia, Central Asia + (Total)]\n",
       "5302               [Eastern Asia, Eastern Asia + (Total)]\n",
       "5303             [Southern Asia, Southern Asia + (Total)]\n",
       "5304    [South-Eastern Asia, South-Eastern Asia + (Tot...\n",
       "5305               [Western Asia, Western Asia + (Total)]\n",
       "5400                           [Europe, Europe + (Total)]\n",
       "5401           [Eastern Europe, Eastern Europe + (Total)]\n",
       "5402         [Northern Europe, Northern Europe + (Total)]\n",
       "5403         [Southern Europe, Southern Europe + (Total)]\n",
       "5404           [Western Europe, Western Europe + (Total)]\n",
       "5500                         [Oceania, Oceania + (Total)]\n",
       "5501    [Australia & New Zealand, Australia and New Ze...\n",
       "5502                     [Melanesia, Melanesia + (Total)]\n",
       "5504                     [Polynesia, Polynesia + (Total)]\n",
       "5706           [European Union, European Union + (Total)]\n",
       "5801    [Least Developed Countries, Least Developed Co...\n",
       "5802    [Land Locked Developing Countries, LandLocked ...\n",
       "5803    [Small Island Developing States, Small Island ...\n",
       "5815    [Low Income Food Deficit Countries, Low Income...\n",
       "5817    [Net Food Importing Developing Countries, Net ...\n",
       "Name: area, dtype: object"
      ]
     },
     "execution_count": 12,
     "metadata": {},
     "output_type": "execute_result"
    }
   ],
   "source": [
    "grpd = area_values.groupby('areacode')['area'].apply(list)\n",
    "grpd[grpd.apply(lambda x: len(x) > 1)]"
   ]
  },
  {
   "cell_type": "markdown",
   "metadata": {},
   "source": [
    "It seems that the same `areacode` is sometimes mapped to multiple `area`, most of the time by adding \"+ (Total)\". For that, we could drop the `area` column and keep working with `areacode`.\n",
    "\n",
    "However, we still need a fixed database that maps the `areacode` to `area`, and for this, FAOSTAT provides one CSV file containing the mapping, as well as another one containing a description of country groups (i.e. \"Asia\") and which contries they contain."
   ]
  },
  {
   "cell_type": "code",
   "execution_count": 14,
   "metadata": {},
   "outputs": [
    {
     "data": {
      "text/html": [
       "<div>\n",
       "<style scoped>\n",
       "    .dataframe tbody tr th:only-of-type {\n",
       "        vertical-align: middle;\n",
       "    }\n",
       "\n",
       "    .dataframe tbody tr th {\n",
       "        vertical-align: top;\n",
       "    }\n",
       "\n",
       "    .dataframe thead th {\n",
       "        text-align: right;\n",
       "    }\n",
       "</style>\n",
       "<table border=\"1\" class=\"dataframe\">\n",
       "  <thead>\n",
       "    <tr style=\"text-align: right;\">\n",
       "      <th></th>\n",
       "      <th>countrycode</th>\n",
       "      <th>country</th>\n",
       "      <th>m49code</th>\n",
       "      <th>iso2code</th>\n",
       "      <th>iso3code</th>\n",
       "      <th>startyear</th>\n",
       "      <th>endyear</th>\n",
       "    </tr>\n",
       "  </thead>\n",
       "  <tbody>\n",
       "    <tr>\n",
       "      <th>0</th>\n",
       "      <td>2</td>\n",
       "      <td>Afghanistan</td>\n",
       "      <td>4.0</td>\n",
       "      <td>AF</td>\n",
       "      <td>AFG</td>\n",
       "      <td>NaN</td>\n",
       "      <td>NaN</td>\n",
       "    </tr>\n",
       "    <tr>\n",
       "      <th>1</th>\n",
       "      <td>5100</td>\n",
       "      <td>Africa</td>\n",
       "      <td>2.0</td>\n",
       "      <td>NaN</td>\n",
       "      <td>X06</td>\n",
       "      <td>NaN</td>\n",
       "      <td>NaN</td>\n",
       "    </tr>\n",
       "    <tr>\n",
       "      <th>2</th>\n",
       "      <td>284</td>\n",
       "      <td>Ã",
       "land Islands</td>\n",
       "      <td>248.0</td>\n",
       "      <td>NaN</td>\n",
       "      <td>ALA</td>\n",
       "      <td>NaN</td>\n",
       "      <td>NaN</td>\n",
       "    </tr>\n",
       "    <tr>\n",
       "      <th>3</th>\n",
       "      <td>3</td>\n",
       "      <td>Albania</td>\n",
       "      <td>8.0</td>\n",
       "      <td>AL</td>\n",
       "      <td>ALB</td>\n",
       "      <td>NaN</td>\n",
       "      <td>NaN</td>\n",
       "    </tr>\n",
       "    <tr>\n",
       "      <th>4</th>\n",
       "      <td>4</td>\n",
       "      <td>Algeria</td>\n",
       "      <td>12.0</td>\n",
       "      <td>DZ</td>\n",
       "      <td>DZA</td>\n",
       "      <td>NaN</td>\n",
       "      <td>NaN</td>\n",
       "    </tr>\n",
       "  </tbody>\n",
       "</table>\n",
       "</div>"
      ],
      "text/plain": [
       "   countrycode         country  m49code iso2code iso3code  startyear  endyear\n",
       "0            2     Afghanistan      4.0       AF      AFG        NaN      NaN\n",
       "1         5100          Africa      2.0      NaN      X06        NaN      NaN\n",
       "2          284  Ã\n",
       "land Islands    248.0      NaN      ALA        NaN      NaN\n",
       "3            3         Albania      8.0       AL      ALB        NaN      NaN\n",
       "4            4         Algeria     12.0       DZ      DZA        NaN      NaN"
      ]
     },
     "execution_count": 14,
     "metadata": {},
     "output_type": "execute_result"
    }
   ],
   "source": [
    "from data_processing import load_dataframe\n",
    "area_codes = load_dataframe('data/countries.csv')\n",
    "area_codes.head()"
   ]
  },
  {
   "cell_type": "code",
   "execution_count": 15,
   "metadata": {},
   "outputs": [
    {
     "data": {
      "text/html": [
       "<div>\n",
       "<style scoped>\n",
       "    .dataframe tbody tr th:only-of-type {\n",
       "        vertical-align: middle;\n",
       "    }\n",
       "\n",
       "    .dataframe tbody tr th {\n",
       "        vertical-align: top;\n",
       "    }\n",
       "\n",
       "    .dataframe thead th {\n",
       "        text-align: right;\n",
       "    }\n",
       "</style>\n",
       "<table border=\"1\" class=\"dataframe\">\n",
       "  <thead>\n",
       "    <tr style=\"text-align: right;\">\n",
       "      <th></th>\n",
       "      <th>countrygroupcode</th>\n",
       "      <th>countrygroup</th>\n",
       "      <th>countrycode</th>\n",
       "      <th>country</th>\n",
       "      <th>m49code</th>\n",
       "      <th>iso2code</th>\n",
       "      <th>iso3code</th>\n",
       "    </tr>\n",
       "  </thead>\n",
       "  <tbody>\n",
       "    <tr>\n",
       "      <th>0</th>\n",
       "      <td>5100</td>\n",
       "      <td>Africa</td>\n",
       "      <td>4</td>\n",
       "      <td>Algeria</td>\n",
       "      <td>12.0</td>\n",
       "      <td>DZ</td>\n",
       "      <td>DZA</td>\n",
       "    </tr>\n",
       "    <tr>\n",
       "      <th>1</th>\n",
       "      <td>5100</td>\n",
       "      <td>Africa</td>\n",
       "      <td>7</td>\n",
       "      <td>Angola</td>\n",
       "      <td>24.0</td>\n",
       "      <td>AO</td>\n",
       "      <td>AGO</td>\n",
       "    </tr>\n",
       "    <tr>\n",
       "      <th>2</th>\n",
       "      <td>5100</td>\n",
       "      <td>Africa</td>\n",
       "      <td>53</td>\n",
       "      <td>Benin</td>\n",
       "      <td>204.0</td>\n",
       "      <td>BJ</td>\n",
       "      <td>BEN</td>\n",
       "    </tr>\n",
       "    <tr>\n",
       "      <th>3</th>\n",
       "      <td>5100</td>\n",
       "      <td>Africa</td>\n",
       "      <td>20</td>\n",
       "      <td>Botswana</td>\n",
       "      <td>72.0</td>\n",
       "      <td>BW</td>\n",
       "      <td>BWA</td>\n",
       "    </tr>\n",
       "    <tr>\n",
       "      <th>4</th>\n",
       "      <td>5100</td>\n",
       "      <td>Africa</td>\n",
       "      <td>24</td>\n",
       "      <td>British Indian Ocean Territory</td>\n",
       "      <td>86.0</td>\n",
       "      <td>IO</td>\n",
       "      <td>IOT</td>\n",
       "    </tr>\n",
       "  </tbody>\n",
       "</table>\n",
       "</div>"
      ],
      "text/plain": [
       "   countrygroupcode countrygroup  countrycode                         country  \\\n",
       "0              5100       Africa            4                         Algeria   \n",
       "1              5100       Africa            7                          Angola   \n",
       "2              5100       Africa           53                           Benin   \n",
       "3              5100       Africa           20                        Botswana   \n",
       "4              5100       Africa           24  British Indian Ocean Territory   \n",
       "\n",
       "   m49code iso2code iso3code  \n",
       "0     12.0       DZ      DZA  \n",
       "1     24.0       AO      AGO  \n",
       "2    204.0       BJ      BEN  \n",
       "3     72.0       BW      BWA  \n",
       "4     86.0       IO      IOT  "
      ]
     },
     "execution_count": 15,
     "metadata": {},
     "output_type": "execute_result"
    }
   ],
   "source": [
    "country_groups = load_dataframe('data/country_groups.csv')\n",
    "country_groups.head()"
   ]
  },
  {
   "cell_type": "markdown",
   "metadata": {},
   "source": [
    "Here, countries are grouped into multiple `countrygroup`, so we know exactly of which countries each group is formed. These country groups are present in the dataset as `area`, meaning there are aggregated values in the dataset. For example: we can find the emissions for \"Algeria\" and for \"Africa\", where the latter is an aggregated value over the whole group. We will need to be careful when aggregating values in the future, as we could account multiple times for one country."
   ]
  },
  {
   "cell_type": "code",
   "execution_count": 16,
   "metadata": {},
   "outputs": [
    {
     "data": {
      "text/plain": [
       "True"
      ]
     },
     "execution_count": 16,
     "metadata": {},
     "output_type": "execute_result"
    }
   ],
   "source": [
    "is_unique_mapping(area_codes[['country', 'countrycode']].drop_duplicates(), 'country', 'countrycode')"
   ]
  },
  {
   "cell_type": "code",
   "execution_count": 17,
   "metadata": {},
   "outputs": [
    {
     "data": {
      "text/plain": [
       "True"
      ]
     },
     "execution_count": 17,
     "metadata": {},
     "output_type": "execute_result"
    }
   ],
   "source": [
    "all(x in area_codes.countrycode.unique() for x in area_values.areacode.unique())"
   ]
  },
  {
   "cell_type": "markdown",
   "metadata": {},
   "source": [
    "Hence, we can use the dataframe `area_codes` to obtain the country's name from it's code, and `country_groups` to get which countries form a group. For this, we can now drop the `area` column in our dataset."
   ]
  },
  {
   "cell_type": "markdown",
   "metadata": {},
   "source": [
    "#### 2. Element Columns\n",
    "---\n",
    "\n",
    "The `element` and `elementcode` represent the measure quantity for a given `item`. A quantity has a name and a unit, which is why we believe these two columns should also have a one-to-one mapping accross the whole dataset. Also, since an `elementcode` potentially uniquely identifies (`element`, `unit`) pair, we might drop those two columns as to make the csv files smaller and easier to manipulate.\n",
    "\n",
    "First let's check if indeed this mapping is one-to-one:"
   ]
  },
  {
   "cell_type": "code",
   "execution_count": 18,
   "metadata": {},
   "outputs": [
    {
     "data": {
      "text/plain": [
       "True"
      ]
     },
     "execution_count": 18,
     "metadata": {},
     "output_type": "execute_result"
    }
   ],
   "source": [
    "element_values = get_column_unique_values(csv_files, column_rename, check_columns, ['elementcode', 'element', 'unit'])\n",
    "is_unique_mapping(element_values, 'elementcode', ['element', 'unit'])"
   ]
  },
  {
   "cell_type": "code",
   "execution_count": 19,
   "metadata": {},
   "outputs": [
    {
     "data": {
      "text/html": [
       "<div>\n",
       "<style scoped>\n",
       "    .dataframe tbody tr th:only-of-type {\n",
       "        vertical-align: middle;\n",
       "    }\n",
       "\n",
       "    .dataframe tbody tr th {\n",
       "        vertical-align: top;\n",
       "    }\n",
       "\n",
       "    .dataframe thead th {\n",
       "        text-align: right;\n",
       "    }\n",
       "</style>\n",
       "<table border=\"1\" class=\"dataframe\">\n",
       "  <thead>\n",
       "    <tr style=\"text-align: right;\">\n",
       "      <th></th>\n",
       "      <th>elementcode</th>\n",
       "      <th>element</th>\n",
       "      <th>unit</th>\n",
       "    </tr>\n",
       "  </thead>\n",
       "  <tbody>\n",
       "    <tr>\n",
       "      <th>0</th>\n",
       "      <td>5111</td>\n",
       "      <td>Stocks</td>\n",
       "      <td>Head</td>\n",
       "    </tr>\n",
       "    <tr>\n",
       "      <th>171</th>\n",
       "      <td>5112</td>\n",
       "      <td>Stocks</td>\n",
       "      <td>1000 Head</td>\n",
       "    </tr>\n",
       "    <tr>\n",
       "      <th>684</th>\n",
       "      <td>5114</td>\n",
       "      <td>Stocks</td>\n",
       "      <td>No</td>\n",
       "    </tr>\n",
       "    <tr>\n",
       "      <th>0</th>\n",
       "      <td>5510</td>\n",
       "      <td>Production</td>\n",
       "      <td>tonnes</td>\n",
       "    </tr>\n",
       "    <tr>\n",
       "      <th>0</th>\n",
       "      <td>5313</td>\n",
       "      <td>Laying</td>\n",
       "      <td>1000 Head</td>\n",
       "    </tr>\n",
       "  </tbody>\n",
       "</table>\n",
       "</div>"
      ],
      "text/plain": [
       "     elementcode     element       unit\n",
       "0           5111      Stocks       Head\n",
       "171         5112      Stocks  1000 Head\n",
       "684         5114      Stocks         No\n",
       "0           5510  Production     tonnes\n",
       "0           5313      Laying  1000 Head"
      ]
     },
     "execution_count": 19,
     "metadata": {},
     "output_type": "execute_result"
    }
   ],
   "source": [
    "element_values.head()"
   ]
  },
  {
   "cell_type": "markdown",
   "metadata": {},
   "source": [
    "As we can see, `elementcode` uniquely identify (`element`, `unit`) pairs, so we can safely drop those two columns and only use `elementcode`. We will later pivot each csv as to obtain all the `elementcode`s as columns, so we can reduce de number of rows significantly. A mapping using a dictionnary will of course be necessary in order to have a nice GUI where users can select the (element, unit) pair instead of the code."
   ]
  },
  {
   "cell_type": "markdown",
   "metadata": {},
   "source": [
    "#### 3. Item columns\n",
    "---\n",
    "\n",
    "According to FAOSTAT, the `item` and `itemcode` columns represent item on which measurements were done. For example an item can be `cattle` and the measurement can be \"CH4 emissions in gigagrams\". \n",
    "Similarly to what we did above, we expect `item` and `itemcode` to have a one-to-one relationship. Let's verify this using the same functions"
   ]
  },
  {
   "cell_type": "code",
   "execution_count": 20,
   "metadata": {},
   "outputs": [
    {
     "data": {
      "text/plain": [
       "False"
      ]
     },
     "execution_count": 20,
     "metadata": {},
     "output_type": "execute_result"
    }
   ],
   "source": [
    "item_values = get_column_unique_values(csv_files, column_rename, check_columns, ['item', 'itemcode'], with_file=True)\n",
    "is_unique_mapping(item_values[['item', 'itemcode']], 'item', 'itemcode')"
   ]
  },
  {
   "cell_type": "markdown",
   "metadata": {},
   "source": [
    "It seems that `item` to `itemcode` is not unique for a few items, let's check those and try to understand why it is the case."
   ]
  },
  {
   "cell_type": "code",
   "execution_count": 21,
   "metadata": {},
   "outputs": [
    {
     "data": {
      "text/plain": [
       "Series([], Name: item, dtype: object)"
      ]
     },
     "execution_count": 21,
     "metadata": {},
     "output_type": "execute_result"
    }
   ],
   "source": [
    "grpd = item_values.groupby('itemcode')['item'].agg(set)\n",
    "grpd[grpd.apply(len) > 1]"
   ]
  },
  {
   "cell_type": "markdown",
   "metadata": {},
   "source": [
    "The mapping `itemcode` -> `item` is unique, now let's check the other way around"
   ]
  },
  {
   "cell_type": "code",
   "execution_count": 22,
   "metadata": {},
   "outputs": [
    {
     "data": {
      "text/plain": [
       "item\n",
       "Ammonium nitrate (AN)                                  {1362, 4003}\n",
       "Ammonium sulphate                                      {1361, 4002}\n",
       "Burning - all categories                               {6795, 6798}\n",
       "Cattle                                                  {866, 1757}\n",
       "Chickens                                               {1057, 1054}\n",
       "Cropland                                               {6620, 5070}\n",
       "Disinfectants                                          {1358, 1351}\n",
       "Forest land                                      {5065, 6749, 6646}\n",
       "Grassland                                              {6794, 6983}\n",
       "Mineral Oils                                           {1354, 1316}\n",
       "Other Pesticides nes                                   {1355, 1359}\n",
       "Other nitrogenous fertilizers, n.e.c.                  {4008, 1369}\n",
       "Other potassic fertilizers, n.e.c.                     {4018, 1391}\n",
       "Plant Growth Regulators                                {1356, 1341}\n",
       "Potassium sulphate (sulphate of potash) (SOP)          {4017, 1387}\n",
       "Urea                                                   {4001, 1367}\n",
       "Name: itemcode, dtype: object"
      ]
     },
     "execution_count": 22,
     "metadata": {},
     "output_type": "execute_result"
    }
   ],
   "source": [
    "grouped = item_values.groupby('item')['itemcode'].agg(set)\n",
    "grouped[grouped.apply(len) > 1]"
   ]
  },
  {
   "cell_type": "markdown",
   "metadata": {},
   "source": [
    "Some items seem to have multiple (up to 3) different item codes, which doesn't seem very normal. \n",
    "\n",
    "**a.** It seems that some of those items correspond to nutrients provided throught fertilizers. Let's see in which files those appear. The items related to nutrients are the following :"
   ]
  },
  {
   "cell_type": "code",
   "execution_count": 23,
   "metadata": {},
   "outputs": [
    {
     "data": {
      "text/plain": [
       "array(['data/inputs/Inputs_FertilizersArchive_E_All_Data_(Normalized).csv',\n",
       "       'data/inputs/Inputs_FertilizersProduct_E_All_Data_(Normalized).csv'],\n",
       "      dtype=object)"
      ]
     },
     "execution_count": 23,
     "metadata": {},
     "output_type": "execute_result"
    }
   ],
   "source": [
    "nutrient_items = [\"Ammonium nitrate (AN)\", \"Ammonium sulphate\", \"Other nitrogenous fertilizers, n.e.c.\", \"Other potassic fertilizers, n.e.c.\", \"Potassium sulphate (sulphate of potash) (SOP)\", \"Urea\"]\n",
    "item_values[item_values.item.isin(nutrient_items)].file.unique()"
   ]
  },
  {
   "cell_type": "markdown",
   "metadata": {},
   "source": [
    "Those items are only present in two dataframes, related to Ferilizer use. If we look closely at the names of csv files, we can see that one of them is \"Archive\", \n",
    "while the other is product. After having looking and reading the documentation for this CSV http://www.fao.org/faostat/en/#data/RA, we understand that it is an archive document, that has not been updated since 2002. \n",
    "\n",
    "Before that date, all data on Fertilizer was put into one single dataframe (i.e. info about production, trade and consumption) both in total nutrients and amount of product. After 2002, it was split into nutrient and product, which is why we have two `itemcode` values for those `items`. \n",
    "\n",
    "Hence, we should be careful when studying the fertilizer use, as data collection has changed in 2002.\n"
   ]
  },
  {
   "cell_type": "markdown",
   "metadata": {},
   "source": [
    "**b.** Some items are related to pesticides. Let's in which csv files they appear"
   ]
  },
  {
   "cell_type": "code",
   "execution_count": 24,
   "metadata": {},
   "outputs": [
    {
     "data": {
      "text/plain": [
       "array(['data/inputs/Inputs_Pesticides_Use_E_All_Data_(Normalized).csv'],\n",
       "      dtype=object)"
      ]
     },
     "execution_count": 24,
     "metadata": {},
     "output_type": "execute_result"
    }
   ],
   "source": [
    "pesticide_items = [\"Disinfectants\", \"Mineral Oils\", \"Other Pesticides nes\", \"Plant Growth Regulators\"]\n",
    "item_values[item_values.item.isin(pesticide_items)].file.unique()"
   ]
  },
  {
   "cell_type": "markdown",
   "metadata": {},
   "source": [
    "Some duplicate items with the same name but different codes appear in only one csv file, which seems quite odd. We suspect having duplicate rows in that case. Let's check that out."
   ]
  },
  {
   "cell_type": "code",
   "execution_count": 26,
   "metadata": {},
   "outputs": [
    {
     "name": "stdout",
     "output_type": "stream",
     "text": [
      "Duplicate item for Disinfectants codes [1358 1351]\n",
      "Duplicate item for Mineral Oils codes [1354 1316]\n",
      "Duplicate item for Other Pesticides nes codes [1359 1355]\n",
      "Duplicate item for Plant Growth Regulators codes [1356 1341]\n"
     ]
    }
   ],
   "source": [
    "from data_processing import check_duplicate_items\n",
    "t = load_dataframe('data/inputs/Inputs_Pesticides_Use_E_All_Data_(Normalized).csv', column_rename, check_columns)\n",
    "check_duplicate_items(t, pesticide_items)"
   ]
  },
  {
   "cell_type": "markdown",
   "metadata": {},
   "source": [
    "We now know that there are potentially duplicate rows for the same `item` but a different `itemcode` (with the same measurements). Hence, we need to add a functionnality that checks for duplicated items in the dataframe."
   ]
  },
  {
   "cell_type": "markdown",
   "metadata": {},
   "source": [
    "**c.** Now let's look at livestock items"
   ]
  },
  {
   "cell_type": "code",
   "execution_count": 27,
   "metadata": {},
   "outputs": [
    {
     "data": {
      "text/html": [
       "<div>\n",
       "<style scoped>\n",
       "    .dataframe tbody tr th:only-of-type {\n",
       "        vertical-align: middle;\n",
       "    }\n",
       "\n",
       "    .dataframe tbody tr th {\n",
       "        vertical-align: top;\n",
       "    }\n",
       "\n",
       "    .dataframe thead th {\n",
       "        text-align: right;\n",
       "    }\n",
       "</style>\n",
       "<table border=\"1\" class=\"dataframe\">\n",
       "  <thead>\n",
       "    <tr style=\"text-align: right;\">\n",
       "      <th></th>\n",
       "      <th></th>\n",
       "      <th>file</th>\n",
       "    </tr>\n",
       "    <tr>\n",
       "      <th>item</th>\n",
       "      <th>itemcode</th>\n",
       "      <th></th>\n",
       "    </tr>\n",
       "  </thead>\n",
       "  <tbody>\n",
       "    <tr>\n",
       "      <th rowspan=\"2\" valign=\"top\">Cattle</th>\n",
       "      <th>866</th>\n",
       "      <td>{data/production/Production_Livestock_E_All_Da...</td>\n",
       "    </tr>\n",
       "    <tr>\n",
       "      <th>1757</th>\n",
       "      <td>{data/environment/Environment_LivestockManure_...</td>\n",
       "    </tr>\n",
       "    <tr>\n",
       "      <th rowspan=\"2\" valign=\"top\">Chickens</th>\n",
       "      <th>1054</th>\n",
       "      <td>{data/emissions_agriculture/Emissions_Agricult...</td>\n",
       "    </tr>\n",
       "    <tr>\n",
       "      <th>1057</th>\n",
       "      <td>{data/production/Production_Livestock_E_All_Da...</td>\n",
       "    </tr>\n",
       "  </tbody>\n",
       "</table>\n",
       "</div>"
      ],
      "text/plain": [
       "                                                                file\n",
       "item     itemcode                                                   \n",
       "Cattle   866       {data/production/Production_Livestock_E_All_Da...\n",
       "         1757      {data/environment/Environment_LivestockManure_...\n",
       "Chickens 1054      {data/emissions_agriculture/Emissions_Agricult...\n",
       "         1057      {data/production/Production_Livestock_E_All_Da..."
      ]
     },
     "execution_count": 27,
     "metadata": {},
     "output_type": "execute_result"
    }
   ],
   "source": [
    "livestock_items = [\"Cattle\", \"Chickens\"]\n",
    "item_values[item_values.item.isin(livestock_items)].groupby(['item', 'itemcode']).agg(set)"
   ]
  },
  {
   "cell_type": "markdown",
   "metadata": {},
   "source": [
    "The `itemcode` -> `item` seems one-to-one in each csv file, but we see that there are two distinct `itemcode` for \"Cattle\" and \"Chickens\" accross all csv files."
   ]
  },
  {
   "cell_type": "code",
   "execution_count": 28,
   "metadata": {},
   "outputs": [
    {
     "data": {
      "text/plain": [
       "array([['data/production/Production_Livestock_E_All_Data_(Normalized).csv',\n",
       "        866, 'Cattle'],\n",
       "       ['data/production/Production_Livestock_E_All_Data_(Normalized).csv',\n",
       "        1057, 'Chickens'],\n",
       "       ['data/environment/Environment_LivestockPatterns_E_All_Data_(Normalized).csv',\n",
       "        866, 'Cattle'],\n",
       "       ['data/environment/Environment_LivestockPatterns_E_All_Data_(Normalized).csv',\n",
       "        1057, 'Chickens'],\n",
       "       ['data/environment/Environment_LivestockManure_E_All_Data_(Normalized).csv',\n",
       "        1757, 'Cattle'],\n",
       "       ['data/environment/Environment_LivestockManure_E_All_Data_(Normalized).csv',\n",
       "        1054, 'Chickens'],\n",
       "       ['data/emissions_agriculture/Emissions_Agriculture_Enteric_Fermentation_E_All_Data_(Normalized).csv',\n",
       "        1757, 'Cattle'],\n",
       "       ['data/emissions_agriculture/Emissions_Agriculture_Manure_Management_E_All_Data_(Normalized).csv',\n",
       "        1757, 'Cattle'],\n",
       "       ['data/emissions_agriculture/Emissions_Agriculture_Manure_Management_E_All_Data_(Normalized).csv',\n",
       "        1054, 'Chickens'],\n",
       "       ['data/emissions_agriculture/Emissions_Agriculture_Manure_left_on_pasture_E_All_Data_(Normalized).csv',\n",
       "        1757, 'Cattle'],\n",
       "       ['data/emissions_agriculture/Emissions_Agriculture_Manure_left_on_pasture_E_All_Data_(Normalized).csv',\n",
       "        1054, 'Chickens'],\n",
       "       ['data/emissions_agriculture/Emissions_Agriculture_Manure_applied_to_soils_E_All_Data_(Normalized).csv',\n",
       "        1757, 'Cattle'],\n",
       "       ['data/emissions_agriculture/Emissions_Agriculture_Manure_applied_to_soils_E_All_Data_(Normalized).csv',\n",
       "        1054, 'Chickens']], dtype=object)"
      ]
     },
     "execution_count": 28,
     "metadata": {},
     "output_type": "execute_result"
    }
   ],
   "source": [
    "item_values[item_values.item.isin(livestock_items)][['file', 'itemcode', 'item']].drop_duplicates().values"
   ]
  },
  {
   "cell_type": "markdown",
   "metadata": {},
   "source": [
    "It seems that different values for `itemcode` for both \"Chickens\" and \"Cattles\" differ when the measured quantity is realted to Manure. Thus, this might be a discrepancy in the data as it does not appear for other items. However, since the two different item codes appear in un-related csv files, we can keep them that way, and have two itemcodes that map to \"Chickens\" and \"Cattle\""
   ]
  },
  {
   "cell_type": "markdown",
   "metadata": {},
   "source": [
    "**d.** And finally, land related items"
   ]
  },
  {
   "cell_type": "code",
   "execution_count": 29,
   "metadata": {},
   "outputs": [
    {
     "data": {
      "text/plain": [
       "array(['data/emissions_land/Emissions_Land_Use_Forest_Land_E_All_Data_(Normalized).csv',\n",
       "       'data/emissions_land/Emissions_Land_Use_Forest_Land_E_All_Data_(Normalized).csv',\n",
       "       'data/emissions_land/Emissions_Land_Use_Land_Use_Total_E_All_Data_(Normalized).csv',\n",
       "       'data/environment/Environment_LandUse_E_All_Data_(Normalized).csv',\n",
       "       'data/inputs/Inputs_LandUse_E_All_Data_(Normalized).csv'],\n",
       "      dtype=object)"
      ]
     },
     "execution_count": 29,
     "metadata": {},
     "output_type": "execute_result"
    }
   ],
   "source": [
    "land_items = [\"Forest land\"]\n",
    "item_values[item_values.item.isin(land_items)].sort_values(['item', 'file']).file.values"
   ]
  },
  {
   "cell_type": "markdown",
   "metadata": {},
   "source": [
    "After looking into the description of each csv file, we have found the following explanations:\n",
    "- For `Burning - all categories`:\n",
    "    - for \"Emissions_Agriculture_Burning_Savanna_E_All_Data_(Normalized).csv\", it represents the emissions due to burning of Savanna (all categories) i.e. aggregated over all items\n",
    "    - for \"Emissions_Land_Use_Burning_Biomass_E_All_Data_(Normalized).csv\", it represents the emissions due to the burning of Biomass.\n",
    "- For `Grassland`: \n",
    "    - for \"Emissions_Agriculture_Burning_Savanna_E_All_Data_(Normalized).csv\", it represents the emissions burning of grassland\n",
    "    - for \"Emissions_Land_Use_Land_Use_Total_E_All_Data_(Normalized).csv\" it represents the Green house gass emissions and removals from grasslands\n",
    "    - for \"Environment_LandCover_E_All_Data_(Normalized).csv\" it represents the area of grassland\n",
    "- For `Cropland`:\n",
    "    - for \"Emissions_Land_Use_Land_Use_Total_E_All_Data_(Normalized).csv\" it represents the Green house gass emissions and removals from Croplands\n",
    "    - for \"Environment_LandUse_E_All_Data_(Normalized).csv\" it represents the area of Cropland\n",
    "    - for \"Inputs_LandUse_E_All_Data_(Normalized).csv\" it represents the usage of Cropland\n",
    "    \n",
    "TODO : Add Forest Land, "
   ]
  },
  {
   "cell_type": "markdown",
   "metadata": {},
   "source": [
    "#### 4. Flag Columns\n",
    "---\n",
    "\n",
    "According to FAOSTAT, not all the data points are official figures reported by individual countries. Some are estimates, others are aggregates done by external entities. In order to understand the meaning of those flagas, they provide a csv file containing the description of each."
   ]
  },
  {
   "cell_type": "code",
   "execution_count": 30,
   "metadata": {},
   "outputs": [
    {
     "data": {
      "text/html": [
       "<div>\n",
       "<style scoped>\n",
       "    .dataframe tbody tr th:only-of-type {\n",
       "        vertical-align: middle;\n",
       "    }\n",
       "\n",
       "    .dataframe tbody tr th {\n",
       "        vertical-align: top;\n",
       "    }\n",
       "\n",
       "    .dataframe thead th {\n",
       "        text-align: right;\n",
       "    }\n",
       "</style>\n",
       "<table border=\"1\" class=\"dataframe\">\n",
       "  <thead>\n",
       "    <tr style=\"text-align: right;\">\n",
       "      <th></th>\n",
       "      <th>flag</th>\n",
       "      <th>flags</th>\n",
       "    </tr>\n",
       "  </thead>\n",
       "  <tbody>\n",
       "    <tr>\n",
       "      <th>0</th>\n",
       "      <td>NaN</td>\n",
       "      <td>Official data</td>\n",
       "    </tr>\n",
       "    <tr>\n",
       "      <th>1</th>\n",
       "      <td>*</td>\n",
       "      <td>Unofficial figure</td>\n",
       "    </tr>\n",
       "    <tr>\n",
       "      <th>2</th>\n",
       "      <td>A</td>\n",
       "      <td>Aggregate, may include official, semi-official...</td>\n",
       "    </tr>\n",
       "    <tr>\n",
       "      <th>3</th>\n",
       "      <td>B</td>\n",
       "      <td>Balance</td>\n",
       "    </tr>\n",
       "    <tr>\n",
       "      <th>4</th>\n",
       "      <td>Bk</td>\n",
       "      <td>Break in series</td>\n",
       "    </tr>\n",
       "  </tbody>\n",
       "</table>\n",
       "</div>"
      ],
      "text/plain": [
       "  flag                                              flags\n",
       "0  NaN                                      Official data\n",
       "1    *                                  Unofficial figure\n",
       "2    A  Aggregate, may include official, semi-official...\n",
       "3    B                                            Balance\n",
       "4   Bk                                    Break in series"
      ]
     },
     "execution_count": 30,
     "metadata": {},
     "output_type": "execute_result"
    }
   ],
   "source": [
    "flags = load_dataframe(\"data/flags.csv\")\n",
    "flags.head()"
   ]
  },
  {
   "cell_type": "code",
   "execution_count": 31,
   "metadata": {},
   "outputs": [
    {
     "name": "stdout",
     "output_type": "stream",
     "text": [
      "There are 41 flags\n"
     ]
    }
   ],
   "source": [
    "print(f\"There are {len(flags)} flags\")"
   ]
  },
  {
   "cell_type": "markdown",
   "metadata": {},
   "source": [
    "---\n",
    "### A.3 Conclusion about Schemas\n",
    "\n",
    "---\n",
    "\n",
    "After having applied some analysis on the initially different schemas of the dataframes, we are now able to obtain identitcal schemas for 41 of them, and left two of them where we believe they should not be changed as some information could be lost.\n",
    "\n",
    "The common schema has the following columns:\n",
    "\n",
    "`['area', 'areacode', 'element', 'elementcode', 'flag', 'item', 'itemcode', 'unit', 'value', 'year']`\n",
    "\n",
    "For now, we have come up with a few steps that should be applied when loading a dataframe:\n",
    " - Rename columns to remove spaces and captial letters\n",
    " - Rename \"Country\" to \"Area\" and \"CountryCode\" to \"Areacode\"\n",
    " - Drop columns that are either duplicates or NaN values\n",
    " - Rename \"gigagrams\" to \"Gigagrams\", as otherwise we would have a non one-to-one mapping for `elementcode`\n",
    " - Check for items if they have duplicate rows.\n",
    "\n",
    "The function that does the first 4 cleaning steps is `data_processing/load_dataframe`, and the one that puts everything together is `data_processing/load_clean_dataframe`.\n",
    "\n",
    "Also, we have decided to only work with codes (i.e. `areacode` and `elementcode`) and drop `area`, `element` and `unit`. Of course, we will need a mapping from `code` -> `value`. Additionally, in order to keep track of `countrygroup` and do know how values are aggregated, we will also create a mapping that tells us which countries form a group, by codes.\n",
    "\n",
    "Hence, to load a dataframe, we simply call :\n",
    "```\n",
    "df = load_clean_dataframe(<filename>, column_rename, check_columns, drop_columns)\n",
    "```\n",
    "\n",
    "with  `column_rename = {'country': 'area', 'countrycode': 'areacode'}` and `check_columns = [\"note\", \"yearcode\", \"elementgroup\"]` and `drop_columns = [\"area\", \"item\", \"element\", \"unit\"]`"
   ]
  },
  {
   "cell_type": "code",
   "execution_count": 4,
   "metadata": {},
   "outputs": [],
   "source": [
    "column_rename = {'country': 'area', 'countrycode': 'areacode'}\n",
    "check_columns = [\"note\", \"yearcode\", \"elementgroup\"]\n",
    "drop_columns = [\"area\", \"item\", \"element\", \"unit\"]"
   ]
  },
  {
   "cell_type": "markdown",
   "metadata": {},
   "source": [
    "Now we need to get the mappings for :\n",
    "- `elementcode` -> (`element`, `unit`) (unique in both ways)\n",
    "- `itemcode` -> `item` (unique in that way, but not the other way around)\n",
    "- `areacode` -> `area` (unique in both ways)"
   ]
  },
  {
   "cell_type": "code",
   "execution_count": 5,
   "metadata": {},
   "outputs": [],
   "source": [
    "from mappings import get_mapping, get_area_mapping, get_country_groups\n",
    "item_mapping = get_mapping(csv_files, column_rename, check_columns, ['itemcode','item'])\n",
    "element_mapping = get_mapping(csv_files, column_rename, check_columns, ['elementcode', 'element', 'unit'])\n",
    "area_mapping = get_area_mapping(\"data/countries.csv\")\n",
    "country_groups = get_country_groups(\"data/country_groups.csv\")"
   ]
  },
  {
   "cell_type": "markdown",
   "metadata": {},
   "source": [
    "---\n",
    "---\n",
    "## B. Reshaping the Database"
   ]
  },
  {
   "cell_type": "markdown",
   "metadata": {},
   "source": [
    "For now everything was stored in database format (i.e. Row format), but we would like to have elements in columns, so that we can reduce drastically the number of rows, and so we can have all the measurements for a single (`itemcode`, `areacode`, `year`) pair."
   ]
  },
  {
   "cell_type": "markdown",
   "metadata": {},
   "source": [
    "---\n",
    "### B.1 Merging all files with same schema\n",
    "\n",
    "---\n",
    "\n",
    "Before reshaping, we know that 41 csv files have the same schema. Thus, it would be good to have them all in a single dataframe in order to facilitate access to values. We will then create a single dataframe from all those 41 (over 43 in total). This dataframe will then have potentially duplicate rows, which we will drop."
   ]
  },
  {
   "cell_type": "code",
   "execution_count": 6,
   "metadata": {},
   "outputs": [],
   "source": [
    "from data_processing import load_clean_dataframe\n",
    "def load_all_df_with_schema(files, schema):\n",
    "    dfs = []\n",
    "    for f in csv_files:\n",
    "        df = load_clean_dataframe(f, column_rename, check_columns, drop_columns) # Load the DF\n",
    "        if all(x in schema for x in df.columns):  # Check if schema corresponds\n",
    "            df = df.assign(file=f)\n",
    "            dfs.append(df)\n",
    "    df = pd.concat(dfs).reset_index(drop=True)\n",
    "    shape = df.shape[0]\n",
    "    \n",
    "    to_keep = df.drop(columns=['file']).drop_duplicates().index # Drop all duplicated row, after removing `file`\n",
    "    df = df.loc[to_keep].reset_index(drop=True)\n",
    "    print(f\"Dropped {shape - df.shape[0]} duplicate rows\")\n",
    "    return df"
   ]
  },
  {
   "cell_type": "code",
   "execution_count": 7,
   "metadata": {},
   "outputs": [
    {
     "name": "stdout",
     "output_type": "stream",
     "text": [
      "Dropped duplicate item Disinfectants with codes [1358, 1351] (Dropped 1351)\n",
      "Dropped duplicate item Mineral Oils with codes [1354, 1316] (Dropped 1316)\n",
      "Dropped duplicate item Other Pesticides nes with codes [1359, 1355] (Dropped 1355)\n",
      "Dropped duplicate item Plant Growth Regulators with codes [1356, 1341] (Dropped 1341)\n",
      "Dropped 1919040 duplicate rows\n"
     ]
    }
   ],
   "source": [
    "df = load_all_df_with_schema(csv_files, ['area', 'areacode', 'element', 'elementcode', 'flag', 'item', 'itemcode', 'unit', 'value', 'year'])"
   ]
  },
  {
   "cell_type": "code",
   "execution_count": 8,
   "metadata": {},
   "outputs": [
    {
     "data": {
      "text/html": [
       "<div>\n",
       "<style scoped>\n",
       "    .dataframe tbody tr th:only-of-type {\n",
       "        vertical-align: middle;\n",
       "    }\n",
       "\n",
       "    .dataframe tbody tr th {\n",
       "        vertical-align: top;\n",
       "    }\n",
       "\n",
       "    .dataframe thead th {\n",
       "        text-align: right;\n",
       "    }\n",
       "</style>\n",
       "<table border=\"1\" class=\"dataframe\">\n",
       "  <thead>\n",
       "    <tr style=\"text-align: right;\">\n",
       "      <th></th>\n",
       "      <th>areacode</th>\n",
       "      <th>itemcode</th>\n",
       "      <th>elementcode</th>\n",
       "      <th>year</th>\n",
       "      <th>value</th>\n",
       "      <th>flag</th>\n",
       "      <th>file</th>\n",
       "    </tr>\n",
       "  </thead>\n",
       "  <tbody>\n",
       "    <tr>\n",
       "      <th>0</th>\n",
       "      <td>2</td>\n",
       "      <td>1107</td>\n",
       "      <td>5111</td>\n",
       "      <td>1961</td>\n",
       "      <td>1300000.0</td>\n",
       "      <td>NaN</td>\n",
       "      <td>data/production/Production_Livestock_E_All_Dat...</td>\n",
       "    </tr>\n",
       "    <tr>\n",
       "      <th>1</th>\n",
       "      <td>2</td>\n",
       "      <td>1107</td>\n",
       "      <td>5111</td>\n",
       "      <td>1962</td>\n",
       "      <td>851850.0</td>\n",
       "      <td>NaN</td>\n",
       "      <td>data/production/Production_Livestock_E_All_Dat...</td>\n",
       "    </tr>\n",
       "    <tr>\n",
       "      <th>2</th>\n",
       "      <td>2</td>\n",
       "      <td>1107</td>\n",
       "      <td>5111</td>\n",
       "      <td>1963</td>\n",
       "      <td>1001112.0</td>\n",
       "      <td>NaN</td>\n",
       "      <td>data/production/Production_Livestock_E_All_Dat...</td>\n",
       "    </tr>\n",
       "    <tr>\n",
       "      <th>3</th>\n",
       "      <td>2</td>\n",
       "      <td>1107</td>\n",
       "      <td>5111</td>\n",
       "      <td>1964</td>\n",
       "      <td>1150000.0</td>\n",
       "      <td>F</td>\n",
       "      <td>data/production/Production_Livestock_E_All_Dat...</td>\n",
       "    </tr>\n",
       "    <tr>\n",
       "      <th>4</th>\n",
       "      <td>2</td>\n",
       "      <td>1107</td>\n",
       "      <td>5111</td>\n",
       "      <td>1965</td>\n",
       "      <td>1300000.0</td>\n",
       "      <td>NaN</td>\n",
       "      <td>data/production/Production_Livestock_E_All_Dat...</td>\n",
       "    </tr>\n",
       "  </tbody>\n",
       "</table>\n",
       "</div>"
      ],
      "text/plain": [
       "   areacode  itemcode  elementcode  year      value flag  \\\n",
       "0         2      1107         5111  1961  1300000.0  NaN   \n",
       "1         2      1107         5111  1962   851850.0  NaN   \n",
       "2         2      1107         5111  1963  1001112.0  NaN   \n",
       "3         2      1107         5111  1964  1150000.0    F   \n",
       "4         2      1107         5111  1965  1300000.0  NaN   \n",
       "\n",
       "                                                file  \n",
       "0  data/production/Production_Livestock_E_All_Dat...  \n",
       "1  data/production/Production_Livestock_E_All_Dat...  \n",
       "2  data/production/Production_Livestock_E_All_Dat...  \n",
       "3  data/production/Production_Livestock_E_All_Dat...  \n",
       "4  data/production/Production_Livestock_E_All_Dat...  "
      ]
     },
     "execution_count": 8,
     "metadata": {},
     "output_type": "execute_result"
    }
   ],
   "source": [
    "df.head()"
   ]
  },
  {
   "cell_type": "code",
   "execution_count": 9,
   "metadata": {},
   "outputs": [],
   "source": [
    "group_codes = set(country_groups.keys())\n",
    "df = df[~df.areacode.isin(group_codes)]#.reset_index(drop=True)  # Drop all country groups"
   ]
  },
  {
   "cell_type": "code",
   "execution_count": 87,
   "metadata": {},
   "outputs": [
    {
     "data": {
      "text/plain": [
       "65"
      ]
     },
     "execution_count": 87,
     "metadata": {},
     "output_type": "execute_result"
    }
   ],
   "source": [
    "import gc\n",
    "gc.collect()"
   ]
  },
  {
   "cell_type": "markdown",
   "metadata": {},
   "source": [
    "---\n",
    "### B.2 Checking for duplicate measurements\n",
    "\n",
    "---\n",
    "\n",
    "Ideally, we would like to have a single row for each (`areacode`, `itemcode`, `elementcode` and `year`), i.e one measurement. Let's check if it is the case:"
   ]
  },
  {
   "cell_type": "code",
   "execution_count": 11,
   "metadata": {},
   "outputs": [],
   "source": [
    "grouped = df.groupby(['areacode', 'itemcode', 'elementcode', 'year'])[['value', 'flag']].nunique(dropna=False).reset_index()\n"
   ]
  },
  {
   "cell_type": "code",
   "execution_count": 12,
   "metadata": {},
   "outputs": [
    {
     "data": {
      "text/plain": [
       "1    0.964959\n",
       "2    0.035041\n",
       "Name: value, dtype: float64"
      ]
     },
     "execution_count": 12,
     "metadata": {},
     "output_type": "execute_result"
    }
   ],
   "source": [
    "grouped['value'].value_counts(dropna=False) / grouped.shape[0]"
   ]
  },
  {
   "cell_type": "markdown",
   "metadata": {},
   "source": [
    "As we can see, it is not the case:\n",
    "    - Most of the time there is one measurement (~96%)\n",
    "    - Some have two measurements (~4%)\n",
    "This could be due to different `value` and/or different `flag`\n",
    "\n",
    "Let's look at those values"
   ]
  },
  {
   "cell_type": "markdown",
   "metadata": {},
   "source": [
    "#### 1. Duplicated Measurements\n",
    "\n",
    "To study the differences, we will look at both flags and values. A `NaN` flag means \"Official Figure\""
   ]
  },
  {
   "cell_type": "code",
   "execution_count": 13,
   "metadata": {},
   "outputs": [],
   "source": [
    "indexed = df.set_index(['areacode', 'itemcode', 'elementcode', 'year']) # Set the index to what what should be unique\n",
    "duplicated_1 = indexed.index.duplicated(keep='first')  # Take the first duplicate\n",
    "duplicated_2 = indexed.index.duplicated(keep='last')  # Take the second one\n",
    "joined = indexed.loc[duplicated_1].join(indexed.loc[duplicated_2], rsuffix='_2')  # Join on the index to have both values and indices"
   ]
  },
  {
   "cell_type": "code",
   "execution_count": 92,
   "metadata": {},
   "outputs": [
    {
     "data": {
      "text/html": [
       "<div>\n",
       "<style scoped>\n",
       "    .dataframe tbody tr th:only-of-type {\n",
       "        vertical-align: middle;\n",
       "    }\n",
       "\n",
       "    .dataframe tbody tr th {\n",
       "        vertical-align: top;\n",
       "    }\n",
       "\n",
       "    .dataframe thead th {\n",
       "        text-align: right;\n",
       "    }\n",
       "</style>\n",
       "<table border=\"1\" class=\"dataframe\">\n",
       "  <thead>\n",
       "    <tr style=\"text-align: right;\">\n",
       "      <th></th>\n",
       "      <th></th>\n",
       "      <th>mean_diff</th>\n",
       "      <th>std</th>\n",
       "      <th>num</th>\n",
       "    </tr>\n",
       "    <tr>\n",
       "      <th>file</th>\n",
       "      <th>file_2</th>\n",
       "      <th></th>\n",
       "      <th></th>\n",
       "      <th></th>\n",
       "    </tr>\n",
       "  </thead>\n",
       "  <tbody>\n",
       "    <tr>\n",
       "      <th>data/environment/Environment_Emissions_intensities_E_All_Data_(Normalized).csv</th>\n",
       "      <th>data/production/Production_Crops_E_All_Data_(Normalized).csv</th>\n",
       "      <td>-1.266076e+05</td>\n",
       "      <td>710051.507911</td>\n",
       "      <td>212.0</td>\n",
       "    </tr>\n",
       "    <tr>\n",
       "      <th>data/environment/Environment_LivestockManure_E_All_Data_(Normalized).csv</th>\n",
       "      <th>data/production/Production_Livestock_E_All_Data_(Normalized).csv</th>\n",
       "      <td>-5.714286e-02</td>\n",
       "      <td>0.998366</td>\n",
       "      <td>70.0</td>\n",
       "    </tr>\n",
       "    <tr>\n",
       "      <th>data/emissions_agriculture/Emissions_Agriculture_Cultivated_Organic_Soils_E_All_Data_(Normalized).csv</th>\n",
       "      <th>data/emissions_land/Emissions_Land_Use_Grassland_E_All_Data_(Normalized).csv</th>\n",
       "      <td>0.000000e+00</td>\n",
       "      <td>0.000000</td>\n",
       "      <td>21.0</td>\n",
       "    </tr>\n",
       "    <tr>\n",
       "      <th>data/inputs/Inputs_LandUse_E_All_Data_(Normalized).csv</th>\n",
       "      <th>data/emissions_land/Emissions_Land_Use_Forest_Land_E_All_Data_(Normalized).csv</th>\n",
       "      <td>0.000000e+00</td>\n",
       "      <td>0.000000</td>\n",
       "      <td>6290.0</td>\n",
       "    </tr>\n",
       "    <tr>\n",
       "      <th>data/emissions_agriculture/Emissions_Agriculture_Manure_left_on_pasture_E_All_Data_(Normalized).csv</th>\n",
       "      <th>data/environment/Environment_LivestockManure_E_All_Data_(Normalized).csv</th>\n",
       "      <td>1.437313e-07</td>\n",
       "      <td>0.000032</td>\n",
       "      <td>221474.0</td>\n",
       "    </tr>\n",
       "    <tr>\n",
       "      <th>data/emissions_agriculture/Emissions_Agriculture_Manure_applied_to_soils_E_All_Data_(Normalized).csv</th>\n",
       "      <th>data/environment/Environment_LivestockManure_E_All_Data_(Normalized).csv</th>\n",
       "      <td>4.364877e-07</td>\n",
       "      <td>0.000031</td>\n",
       "      <td>345685.0</td>\n",
       "    </tr>\n",
       "    <tr>\n",
       "      <th>data/emissions_agriculture/Emissions_Agriculture_Manure_Management_E_All_Data_(Normalized).csv</th>\n",
       "      <th>data/environment/Environment_LivestockManure_E_All_Data_(Normalized).csv</th>\n",
       "      <td>8.953654e-07</td>\n",
       "      <td>0.000033</td>\n",
       "      <td>49992.0</td>\n",
       "    </tr>\n",
       "    <tr>\n",
       "      <th>data/emissions_agriculture/Emissions_Agriculture_Cultivated_Organic_Soils_E_All_Data_(Normalized).csv</th>\n",
       "      <th>data/emissions_land/Emissions_Land_Use_Cropland_E_All_Data_(Normalized).csv</th>\n",
       "      <td>5.588237e-05</td>\n",
       "      <td>0.000259</td>\n",
       "      <td>136.0</td>\n",
       "    </tr>\n",
       "    <tr>\n",
       "      <th>data/emissions_agriculture/Emissions_Agriculture_Agriculture_total_E_All_Data_(Normalized).csv</th>\n",
       "      <th>data/environment/Environment_Emissions_by_Sector_E_All_Data_(Normalized).csv</th>\n",
       "      <td>8.761786e+01</td>\n",
       "      <td>2234.692735</td>\n",
       "      <td>11964.0</td>\n",
       "    </tr>\n",
       "    <tr>\n",
       "      <th>data/emissions_land/Emissions_Land_Use_Land_Use_Total_E_All_Data_(Normalized).csv</th>\n",
       "      <th>data/environment/Environment_Emissions_by_Sector_E_All_Data_(Normalized).csv</th>\n",
       "      <td>5.096307e+02</td>\n",
       "      <td>2397.669300</td>\n",
       "      <td>4008.0</td>\n",
       "    </tr>\n",
       "    <tr>\n",
       "      <th>data/environment/Environment_Emissions_intensities_E_All_Data_(Normalized).csv</th>\n",
       "      <th>data/production/Production_LivestockPrimary_E_All_Data_(Normalized).csv</th>\n",
       "      <td>8.190980e+02</td>\n",
       "      <td>236247.990596</td>\n",
       "      <td>5478.0</td>\n",
       "    </tr>\n",
       "    <tr>\n",
       "      <th>data/production/Production_Crops_E_All_Data_(Normalized).csv</th>\n",
       "      <th>data/production/Production_CropsProcessed_E_All_Data_(Normalized).csv</th>\n",
       "      <td>1.232630e+04</td>\n",
       "      <td>105397.130473</td>\n",
       "      <td>312.0</td>\n",
       "    </tr>\n",
       "  </tbody>\n",
       "</table>\n",
       "</div>"
      ],
      "text/plain": [
       "                                                                                                          mean_diff  \\\n",
       "file                                               file_2                                                             \n",
       "data/environment/Environment_Emissions_intensit... data/production/Production_Crops_E_All_Data_(No... -1.266076e+05   \n",
       "data/environment/Environment_LivestockManure_E_... data/production/Production_Livestock_E_All_Data... -5.714286e-02   \n",
       "data/emissions_agriculture/Emissions_Agricultur... data/emissions_land/Emissions_Land_Use_Grasslan...  0.000000e+00   \n",
       "data/inputs/Inputs_LandUse_E_All_Data_(Normaliz... data/emissions_land/Emissions_Land_Use_Forest_L...  0.000000e+00   \n",
       "data/emissions_agriculture/Emissions_Agricultur... data/environment/Environment_LivestockManure_E_...  1.437313e-07   \n",
       "data/emissions_agriculture/Emissions_Agricultur... data/environment/Environment_LivestockManure_E_...  4.364877e-07   \n",
       "data/emissions_agriculture/Emissions_Agricultur... data/environment/Environment_LivestockManure_E_...  8.953654e-07   \n",
       "data/emissions_agriculture/Emissions_Agricultur... data/emissions_land/Emissions_Land_Use_Cropland...  5.588237e-05   \n",
       "data/emissions_agriculture/Emissions_Agricultur... data/environment/Environment_Emissions_by_Secto...  8.761786e+01   \n",
       "data/emissions_land/Emissions_Land_Use_Land_Use... data/environment/Environment_Emissions_by_Secto...  5.096307e+02   \n",
       "data/environment/Environment_Emissions_intensit... data/production/Production_LivestockPrimary_E_A...  8.190980e+02   \n",
       "data/production/Production_Crops_E_All_Data_(No... data/production/Production_CropsProcessed_E_All...  1.232630e+04   \n",
       "\n",
       "                                                                                                                 std  \\\n",
       "file                                               file_2                                                              \n",
       "data/environment/Environment_Emissions_intensit... data/production/Production_Crops_E_All_Data_(No...  710051.507911   \n",
       "data/environment/Environment_LivestockManure_E_... data/production/Production_Livestock_E_All_Data...       0.998366   \n",
       "data/emissions_agriculture/Emissions_Agricultur... data/emissions_land/Emissions_Land_Use_Grasslan...       0.000000   \n",
       "data/inputs/Inputs_LandUse_E_All_Data_(Normaliz... data/emissions_land/Emissions_Land_Use_Forest_L...       0.000000   \n",
       "data/emissions_agriculture/Emissions_Agricultur... data/environment/Environment_LivestockManure_E_...       0.000032   \n",
       "data/emissions_agriculture/Emissions_Agricultur... data/environment/Environment_LivestockManure_E_...       0.000031   \n",
       "data/emissions_agriculture/Emissions_Agricultur... data/environment/Environment_LivestockManure_E_...       0.000033   \n",
       "data/emissions_agriculture/Emissions_Agricultur... data/emissions_land/Emissions_Land_Use_Cropland...       0.000259   \n",
       "data/emissions_agriculture/Emissions_Agricultur... data/environment/Environment_Emissions_by_Secto...    2234.692735   \n",
       "data/emissions_land/Emissions_Land_Use_Land_Use... data/environment/Environment_Emissions_by_Secto...    2397.669300   \n",
       "data/environment/Environment_Emissions_intensit... data/production/Production_LivestockPrimary_E_A...  236247.990596   \n",
       "data/production/Production_Crops_E_All_Data_(No... data/production/Production_CropsProcessed_E_All...  105397.130473   \n",
       "\n",
       "                                                                                                            num  \n",
       "file                                               file_2                                                        \n",
       "data/environment/Environment_Emissions_intensit... data/production/Production_Crops_E_All_Data_(No...     212.0  \n",
       "data/environment/Environment_LivestockManure_E_... data/production/Production_Livestock_E_All_Data...      70.0  \n",
       "data/emissions_agriculture/Emissions_Agricultur... data/emissions_land/Emissions_Land_Use_Grasslan...      21.0  \n",
       "data/inputs/Inputs_LandUse_E_All_Data_(Normaliz... data/emissions_land/Emissions_Land_Use_Forest_L...    6290.0  \n",
       "data/emissions_agriculture/Emissions_Agricultur... data/environment/Environment_LivestockManure_E_...  221474.0  \n",
       "data/emissions_agriculture/Emissions_Agricultur... data/environment/Environment_LivestockManure_E_...  345685.0  \n",
       "data/emissions_agriculture/Emissions_Agricultur... data/environment/Environment_LivestockManure_E_...   49992.0  \n",
       "data/emissions_agriculture/Emissions_Agricultur... data/emissions_land/Emissions_Land_Use_Cropland...     136.0  \n",
       "data/emissions_agriculture/Emissions_Agricultur... data/environment/Environment_Emissions_by_Secto...   11964.0  \n",
       "data/emissions_land/Emissions_Land_Use_Land_Use... data/environment/Environment_Emissions_by_Secto...    4008.0  \n",
       "data/environment/Environment_Emissions_intensit... data/production/Production_LivestockPrimary_E_A...    5478.0  \n",
       "data/production/Production_Crops_E_All_Data_(No... data/production/Production_CropsProcessed_E_All...     312.0  "
      ]
     },
     "execution_count": 92,
     "metadata": {},
     "output_type": "execute_result"
    }
   ],
   "source": [
    "joined.groupby(['file', 'file_2']).apply(lambda x: pd.Series({'mean_diff': np.mean(x['value'] - x['value_2']), 'std': np.std(x['value'] - x['value_2']), 'num': x.shape[0]})).sort_values('mean_diff')"
   ]
  },
  {
   "cell_type": "code",
   "execution_count": 98,
   "metadata": {},
   "outputs": [],
   "source": [
    "def get_percentage_diff(value_1, value_2):\n",
    "    diff = np.abs(value_1 - value_2)\n",
    "    sum_ = (value_1 + value_2) / 2.0\n",
    "    diff = diff / sum_\n",
    "    return diff\n",
    "\n",
    "def is_close(value_1, value_2, threshold=0.01):\n",
    "    diff = get_percentage_diff(value_1, value_2)\n",
    "    return (value_1 == value_2) | (diff < threshold) | (value_1.isna() & value_2.isna())\n",
    "\n",
    "def is_same_flag(flag_1, flag_2):\n",
    "    return (flag_1 == flag_2) | (flag_1.isna() & flag_2.isna())"
   ]
  },
  {
   "cell_type": "markdown",
   "metadata": {},
   "source": [
    "In order to remove thos duplicates, we will first compute the difference between the two values. \n",
    "- If it is lower than a certain percentage (~1%) we return the mean of both values.\n",
    "- If it is higher than 1%, then we need to look at the flags and determine a hierarchy that will choose a value based on its flag"
   ]
  },
  {
   "cell_type": "code",
   "execution_count": 93,
   "metadata": {},
   "outputs": [
    {
     "name": "stdout",
     "output_type": "stream",
     "text": [
      "97.22% of duplicated rows have a difference less than 1% and the same flag\n"
     ]
    }
   ],
   "source": [
    "less_than_thresh = joined[(is_close(joined.value, joined.value_2)) & is_same_flag(joined.flag, joined.flag_2)].shape[0] / joined.shape[0]\n",
    "print(\"{:.2f}% of duplicated rows have a difference less than 1% and the same flag\".format(less_than_thresh*100))"
   ]
  },
  {
   "cell_type": "code",
   "execution_count": 100,
   "metadata": {},
   "outputs": [
    {
     "data": {
      "text/html": [
       "<div>\n",
       "<style scoped>\n",
       "    .dataframe tbody tr th:only-of-type {\n",
       "        vertical-align: middle;\n",
       "    }\n",
       "\n",
       "    .dataframe tbody tr th {\n",
       "        vertical-align: top;\n",
       "    }\n",
       "\n",
       "    .dataframe thead th {\n",
       "        text-align: right;\n",
       "    }\n",
       "</style>\n",
       "<table border=\"1\" class=\"dataframe\">\n",
       "  <thead>\n",
       "    <tr style=\"text-align: right;\">\n",
       "      <th></th>\n",
       "      <th></th>\n",
       "      <th>mean_diff</th>\n",
       "      <th>std</th>\n",
       "      <th>num</th>\n",
       "    </tr>\n",
       "    <tr>\n",
       "      <th>file</th>\n",
       "      <th>file_2</th>\n",
       "      <th></th>\n",
       "      <th></th>\n",
       "      <th></th>\n",
       "    </tr>\n",
       "  </thead>\n",
       "  <tbody>\n",
       "    <tr>\n",
       "      <th>data/emissions_agriculture/Emissions_Agriculture_Cultivated_Organic_Soils_E_All_Data_(Normalized).csv</th>\n",
       "      <th>data/emissions_land/Emissions_Land_Use_Cropland_E_All_Data_(Normalized).csv</th>\n",
       "      <td>1.858688e-07</td>\n",
       "      <td>0.000280</td>\n",
       "      <td>115.0</td>\n",
       "    </tr>\n",
       "    <tr>\n",
       "      <th>data/emissions_agriculture/Emissions_Agriculture_Manure_left_on_pasture_E_All_Data_(Normalized).csv</th>\n",
       "      <th>data/environment/Environment_LivestockManure_E_All_Data_(Normalized).csv</th>\n",
       "      <td>6.152365e-06</td>\n",
       "      <td>0.000032</td>\n",
       "      <td>221474.0</td>\n",
       "    </tr>\n",
       "    <tr>\n",
       "      <th>data/emissions_agriculture/Emissions_Agriculture_Manure_Management_E_All_Data_(Normalized).csv</th>\n",
       "      <th>data/environment/Environment_LivestockManure_E_All_Data_(Normalized).csv</th>\n",
       "      <td>9.461075e-06</td>\n",
       "      <td>0.000033</td>\n",
       "      <td>49992.0</td>\n",
       "    </tr>\n",
       "    <tr>\n",
       "      <th>data/emissions_agriculture/Emissions_Agriculture_Manure_applied_to_soils_E_All_Data_(Normalized).csv</th>\n",
       "      <th>data/environment/Environment_LivestockManure_E_All_Data_(Normalized).csv</th>\n",
       "      <td>1.978741e-05</td>\n",
       "      <td>0.000031</td>\n",
       "      <td>345685.0</td>\n",
       "    </tr>\n",
       "    <tr>\n",
       "      <th>data/environment/Environment_LivestockManure_E_All_Data_(Normalized).csv</th>\n",
       "      <th>data/production/Production_Livestock_E_All_Data_(Normalized).csv</th>\n",
       "      <td>5.809386e-03</td>\n",
       "      <td>0.998366</td>\n",
       "      <td>70.0</td>\n",
       "    </tr>\n",
       "    <tr>\n",
       "      <th>data/production/Production_Crops_E_All_Data_(Normalized).csv</th>\n",
       "      <th>data/production/Production_CropsProcessed_E_All_Data_(Normalized).csv</th>\n",
       "      <td>6.328335e-02</td>\n",
       "      <td>2956.769172</td>\n",
       "      <td>95.0</td>\n",
       "    </tr>\n",
       "    <tr>\n",
       "      <th>data/emissions_agriculture/Emissions_Agriculture_Agriculture_total_E_All_Data_(Normalized).csv</th>\n",
       "      <th>data/environment/Environment_Emissions_by_Sector_E_All_Data_(Normalized).csv</th>\n",
       "      <td>2.321725e-01</td>\n",
       "      <td>278.670721</td>\n",
       "      <td>6846.0</td>\n",
       "    </tr>\n",
       "    <tr>\n",
       "      <th rowspan=\"2\" valign=\"top\">data/environment/Environment_Emissions_intensities_E_All_Data_(Normalized).csv</th>\n",
       "      <th>data/production/Production_Crops_E_All_Data_(Normalized).csv</th>\n",
       "      <td>2.750057e-01</td>\n",
       "      <td>182584.427695</td>\n",
       "      <td>87.0</td>\n",
       "    </tr>\n",
       "    <tr>\n",
       "      <th>data/production/Production_LivestockPrimary_E_All_Data_(Normalized).csv</th>\n",
       "      <td>3.226978e-01</td>\n",
       "      <td>12503.126488</td>\n",
       "      <td>3314.0</td>\n",
       "    </tr>\n",
       "    <tr>\n",
       "      <th>data/emissions_land/Emissions_Land_Use_Land_Use_Total_E_All_Data_(Normalized).csv</th>\n",
       "      <th>data/environment/Environment_Emissions_by_Sector_E_All_Data_(Normalized).csv</th>\n",
       "      <td>5.266895e-01</td>\n",
       "      <td>26.556543</td>\n",
       "      <td>4.0</td>\n",
       "    </tr>\n",
       "  </tbody>\n",
       "</table>\n",
       "</div>"
      ],
      "text/plain": [
       "                                                                                                          mean_diff  \\\n",
       "file                                               file_2                                                             \n",
       "data/emissions_agriculture/Emissions_Agricultur... data/emissions_land/Emissions_Land_Use_Cropland...  1.858688e-07   \n",
       "data/emissions_agriculture/Emissions_Agricultur... data/environment/Environment_LivestockManure_E_...  6.152365e-06   \n",
       "data/emissions_agriculture/Emissions_Agricultur... data/environment/Environment_LivestockManure_E_...  9.461075e-06   \n",
       "data/emissions_agriculture/Emissions_Agricultur... data/environment/Environment_LivestockManure_E_...  1.978741e-05   \n",
       "data/environment/Environment_LivestockManure_E_... data/production/Production_Livestock_E_All_Data...  5.809386e-03   \n",
       "data/production/Production_Crops_E_All_Data_(No... data/production/Production_CropsProcessed_E_All...  6.328335e-02   \n",
       "data/emissions_agriculture/Emissions_Agricultur... data/environment/Environment_Emissions_by_Secto...  2.321725e-01   \n",
       "data/environment/Environment_Emissions_intensit... data/production/Production_Crops_E_All_Data_(No...  2.750057e-01   \n",
       "                                                   data/production/Production_LivestockPrimary_E_A...  3.226978e-01   \n",
       "data/emissions_land/Emissions_Land_Use_Land_Use... data/environment/Environment_Emissions_by_Secto...  5.266895e-01   \n",
       "\n",
       "                                                                                                                 std  \\\n",
       "file                                               file_2                                                              \n",
       "data/emissions_agriculture/Emissions_Agricultur... data/emissions_land/Emissions_Land_Use_Cropland...       0.000280   \n",
       "data/emissions_agriculture/Emissions_Agricultur... data/environment/Environment_LivestockManure_E_...       0.000032   \n",
       "data/emissions_agriculture/Emissions_Agricultur... data/environment/Environment_LivestockManure_E_...       0.000033   \n",
       "data/emissions_agriculture/Emissions_Agricultur... data/environment/Environment_LivestockManure_E_...       0.000031   \n",
       "data/environment/Environment_LivestockManure_E_... data/production/Production_Livestock_E_All_Data...       0.998366   \n",
       "data/production/Production_Crops_E_All_Data_(No... data/production/Production_CropsProcessed_E_All...    2956.769172   \n",
       "data/emissions_agriculture/Emissions_Agricultur... data/environment/Environment_Emissions_by_Secto...     278.670721   \n",
       "data/environment/Environment_Emissions_intensit... data/production/Production_Crops_E_All_Data_(No...  182584.427695   \n",
       "                                                   data/production/Production_LivestockPrimary_E_A...   12503.126488   \n",
       "data/emissions_land/Emissions_Land_Use_Land_Use... data/environment/Environment_Emissions_by_Secto...      26.556543   \n",
       "\n",
       "                                                                                                            num  \n",
       "file                                               file_2                                                        \n",
       "data/emissions_agriculture/Emissions_Agricultur... data/emissions_land/Emissions_Land_Use_Cropland...     115.0  \n",
       "data/emissions_agriculture/Emissions_Agricultur... data/environment/Environment_LivestockManure_E_...  221474.0  \n",
       "data/emissions_agriculture/Emissions_Agricultur... data/environment/Environment_LivestockManure_E_...   49992.0  \n",
       "data/emissions_agriculture/Emissions_Agricultur... data/environment/Environment_LivestockManure_E_...  345685.0  \n",
       "data/environment/Environment_LivestockManure_E_... data/production/Production_Livestock_E_All_Data...      70.0  \n",
       "data/production/Production_Crops_E_All_Data_(No... data/production/Production_CropsProcessed_E_All...      95.0  \n",
       "data/emissions_agriculture/Emissions_Agricultur... data/environment/Environment_Emissions_by_Secto...    6846.0  \n",
       "data/environment/Environment_Emissions_intensit... data/production/Production_Crops_E_All_Data_(No...      87.0  \n",
       "                                                   data/production/Production_LivestockPrimary_E_A...    3314.0  \n",
       "data/emissions_land/Emissions_Land_Use_Land_Use... data/environment/Environment_Emissions_by_Secto...       4.0  "
      ]
     },
     "execution_count": 100,
     "metadata": {},
     "output_type": "execute_result"
    }
   ],
   "source": [
    "close_same_flag = joined[is_close(joined.value, joined.value_2) & is_same_flag(joined.flag, joined.flag_2)]\n",
    "close_same_flag.groupby(['file', 'file_2']).apply(lambda x: pd.Series({'mean_diff': np.mean(get_percentage_diff(x['value'], x['value_2'])*100), 'std': np.std(x['value'] - x['value_2']), 'num': x.shape[0]})).sort_values('mean_diff')"
   ]
  },
  {
   "cell_type": "code",
   "execution_count": 103,
   "metadata": {},
   "outputs": [
    {
     "data": {
      "text/html": [
       "<div>\n",
       "<style scoped>\n",
       "    .dataframe tbody tr th:only-of-type {\n",
       "        vertical-align: middle;\n",
       "    }\n",
       "\n",
       "    .dataframe tbody tr th {\n",
       "        vertical-align: top;\n",
       "    }\n",
       "\n",
       "    .dataframe thead th {\n",
       "        text-align: right;\n",
       "    }\n",
       "</style>\n",
       "<table border=\"1\" class=\"dataframe\">\n",
       "  <thead>\n",
       "    <tr style=\"text-align: right;\">\n",
       "      <th></th>\n",
       "      <th></th>\n",
       "      <th></th>\n",
       "      <th></th>\n",
       "      <th>value</th>\n",
       "      <th>flag</th>\n",
       "      <th>file</th>\n",
       "      <th>value_2</th>\n",
       "      <th>flag_2</th>\n",
       "      <th>file_2</th>\n",
       "    </tr>\n",
       "    <tr>\n",
       "      <th>areacode</th>\n",
       "      <th>itemcode</th>\n",
       "      <th>elementcode</th>\n",
       "      <th>year</th>\n",
       "      <th></th>\n",
       "      <th></th>\n",
       "      <th></th>\n",
       "      <th></th>\n",
       "      <th></th>\n",
       "      <th></th>\n",
       "    </tr>\n",
       "  </thead>\n",
       "  <tbody>\n",
       "    <tr>\n",
       "      <th rowspan=\"2\" valign=\"top\">144</th>\n",
       "      <th rowspan=\"2\" valign=\"top\">1707</th>\n",
       "      <th>7243</th>\n",
       "      <th>2007</th>\n",
       "      <td>545.0</td>\n",
       "      <td>A</td>\n",
       "      <td>data/emissions_land/Emissions_Land_Use_Land_Us...</td>\n",
       "      <td>548.0</td>\n",
       "      <td>A</td>\n",
       "      <td>data/environment/Environment_Emissions_by_Sect...</td>\n",
       "    </tr>\n",
       "    <tr>\n",
       "      <th>7244</th>\n",
       "      <th>2007</th>\n",
       "      <td>1250.0</td>\n",
       "      <td>A</td>\n",
       "      <td>data/emissions_land/Emissions_Land_Use_Land_Us...</td>\n",
       "      <td>1262.0</td>\n",
       "      <td>A</td>\n",
       "      <td>data/environment/Environment_Emissions_by_Sect...</td>\n",
       "    </tr>\n",
       "    <tr>\n",
       "      <th>168</th>\n",
       "      <th>1707</th>\n",
       "      <th>7243</th>\n",
       "      <th>2002</th>\n",
       "      <td>1016.0</td>\n",
       "      <td>A</td>\n",
       "      <td>data/emissions_land/Emissions_Land_Use_Land_Us...</td>\n",
       "      <td>1018.0</td>\n",
       "      <td>A</td>\n",
       "      <td>data/environment/Environment_Emissions_by_Sect...</td>\n",
       "    </tr>\n",
       "    <tr>\n",
       "      <th>251</th>\n",
       "      <th>1707</th>\n",
       "      <th>7243</th>\n",
       "      <th>2005</th>\n",
       "      <td>13583.0</td>\n",
       "      <td>A</td>\n",
       "      <td>data/emissions_land/Emissions_Land_Use_Land_Us...</td>\n",
       "      <td>13528.0</td>\n",
       "      <td>A</td>\n",
       "      <td>data/environment/Environment_Emissions_by_Sect...</td>\n",
       "    </tr>\n",
       "  </tbody>\n",
       "</table>\n",
       "</div>"
      ],
      "text/plain": [
       "                                      value flag  \\\n",
       "areacode itemcode elementcode year                 \n",
       "144      1707     7243        2007    545.0    A   \n",
       "                  7244        2007   1250.0    A   \n",
       "168      1707     7243        2002   1016.0    A   \n",
       "251      1707     7243        2005  13583.0    A   \n",
       "\n",
       "                                                                                 file  \\\n",
       "areacode itemcode elementcode year                                                      \n",
       "144      1707     7243        2007  data/emissions_land/Emissions_Land_Use_Land_Us...   \n",
       "                  7244        2007  data/emissions_land/Emissions_Land_Use_Land_Us...   \n",
       "168      1707     7243        2002  data/emissions_land/Emissions_Land_Use_Land_Us...   \n",
       "251      1707     7243        2005  data/emissions_land/Emissions_Land_Use_Land_Us...   \n",
       "\n",
       "                                    value_2 flag_2  \\\n",
       "areacode itemcode elementcode year                   \n",
       "144      1707     7243        2007    548.0      A   \n",
       "                  7244        2007   1262.0      A   \n",
       "168      1707     7243        2002   1018.0      A   \n",
       "251      1707     7243        2005  13528.0      A   \n",
       "\n",
       "                                                                               file_2  \n",
       "areacode itemcode elementcode year                                                     \n",
       "144      1707     7243        2007  data/environment/Environment_Emissions_by_Sect...  \n",
       "                  7244        2007  data/environment/Environment_Emissions_by_Sect...  \n",
       "168      1707     7243        2002  data/environment/Environment_Emissions_by_Sect...  \n",
       "251      1707     7243        2005  data/environment/Environment_Emissions_by_Sect...  "
      ]
     },
     "execution_count": 103,
     "metadata": {},
     "output_type": "execute_result"
    }
   ],
   "source": [
    "close_same_flag[close_same_flag.file == \"data/emissions_land/Emissions_Land_Use_Land_Use_Total_E_All_Data_(Normalized).csv\"]"
   ]
  },
  {
   "cell_type": "code",
   "execution_count": 111,
   "metadata": {},
   "outputs": [
    {
     "data": {
      "text/plain": [
       "'Land Use total'"
      ]
     },
     "execution_count": 111,
     "metadata": {},
     "output_type": "execute_result"
    }
   ],
   "source": [
    "item_mapping[1707]"
   ]
  },
  {
   "cell_type": "code",
   "execution_count": 101,
   "metadata": {},
   "outputs": [
    {
     "data": {
      "text/html": [
       "<div>\n",
       "<style scoped>\n",
       "    .dataframe tbody tr th:only-of-type {\n",
       "        vertical-align: middle;\n",
       "    }\n",
       "\n",
       "    .dataframe tbody tr th {\n",
       "        vertical-align: top;\n",
       "    }\n",
       "\n",
       "    .dataframe thead th {\n",
       "        text-align: right;\n",
       "    }\n",
       "</style>\n",
       "<table border=\"1\" class=\"dataframe\">\n",
       "  <thead>\n",
       "    <tr style=\"text-align: right;\">\n",
       "      <th></th>\n",
       "      <th></th>\n",
       "      <th>mean_diff</th>\n",
       "      <th>num</th>\n",
       "    </tr>\n",
       "    <tr>\n",
       "      <th>file</th>\n",
       "      <th>file_2</th>\n",
       "      <th></th>\n",
       "      <th></th>\n",
       "    </tr>\n",
       "  </thead>\n",
       "  <tbody>\n",
       "    <tr>\n",
       "      <th>data/emissions_agriculture/Emissions_Agriculture_Cultivated_Organic_Soils_E_All_Data_(Normalized).csv</th>\n",
       "      <th>data/emissions_land/Emissions_Land_Use_Grassland_E_All_Data_(Normalized).csv</th>\n",
       "      <td>0.000000e+00</td>\n",
       "      <td>21.0</td>\n",
       "    </tr>\n",
       "    <tr>\n",
       "      <th>data/inputs/Inputs_LandUse_E_All_Data_(Normalized).csv</th>\n",
       "      <th>data/emissions_land/Emissions_Land_Use_Forest_Land_E_All_Data_(Normalized).csv</th>\n",
       "      <td>0.000000e+00</td>\n",
       "      <td>6290.0</td>\n",
       "    </tr>\n",
       "    <tr>\n",
       "      <th>data/emissions_agriculture/Emissions_Agriculture_Cultivated_Organic_Soils_E_All_Data_(Normalized).csv</th>\n",
       "      <th>data/emissions_land/Emissions_Land_Use_Cropland_E_All_Data_(Normalized).csv</th>\n",
       "      <td>4.931485e-10</td>\n",
       "      <td>21.0</td>\n",
       "    </tr>\n",
       "    <tr>\n",
       "      <th>data/environment/Environment_Emissions_intensities_E_All_Data_(Normalized).csv</th>\n",
       "      <th>data/production/Production_LivestockPrimary_E_All_Data_(Normalized).csv</th>\n",
       "      <td>1.604230e-01</td>\n",
       "      <td>119.0</td>\n",
       "    </tr>\n",
       "    <tr>\n",
       "      <th>data/production/Production_Crops_E_All_Data_(Normalized).csv</th>\n",
       "      <th>data/production/Production_CropsProcessed_E_All_Data_(Normalized).csv</th>\n",
       "      <td>3.619859e-01</td>\n",
       "      <td>20.0</td>\n",
       "    </tr>\n",
       "    <tr>\n",
       "      <th>data/environment/Environment_Emissions_intensities_E_All_Data_(Normalized).csv</th>\n",
       "      <th>data/production/Production_Crops_E_All_Data_(Normalized).csv</th>\n",
       "      <td>3.905679e-01</td>\n",
       "      <td>2.0</td>\n",
       "    </tr>\n",
       "  </tbody>\n",
       "</table>\n",
       "</div>"
      ],
      "text/plain": [
       "                                                                                                          mean_diff  \\\n",
       "file                                               file_2                                                             \n",
       "data/emissions_agriculture/Emissions_Agricultur... data/emissions_land/Emissions_Land_Use_Grasslan...  0.000000e+00   \n",
       "data/inputs/Inputs_LandUse_E_All_Data_(Normaliz... data/emissions_land/Emissions_Land_Use_Forest_L...  0.000000e+00   \n",
       "data/emissions_agriculture/Emissions_Agricultur... data/emissions_land/Emissions_Land_Use_Cropland...  4.931485e-10   \n",
       "data/environment/Environment_Emissions_intensit... data/production/Production_LivestockPrimary_E_A...  1.604230e-01   \n",
       "data/production/Production_Crops_E_All_Data_(No... data/production/Production_CropsProcessed_E_All...  3.619859e-01   \n",
       "data/environment/Environment_Emissions_intensit... data/production/Production_Crops_E_All_Data_(No...  3.905679e-01   \n",
       "\n",
       "                                                                                                          num  \n",
       "file                                               file_2                                                      \n",
       "data/emissions_agriculture/Emissions_Agricultur... data/emissions_land/Emissions_Land_Use_Grasslan...    21.0  \n",
       "data/inputs/Inputs_LandUse_E_All_Data_(Normaliz... data/emissions_land/Emissions_Land_Use_Forest_L...  6290.0  \n",
       "data/emissions_agriculture/Emissions_Agricultur... data/emissions_land/Emissions_Land_Use_Cropland...    21.0  \n",
       "data/environment/Environment_Emissions_intensit... data/production/Production_LivestockPrimary_E_A...   119.0  \n",
       "data/production/Production_Crops_E_All_Data_(No... data/production/Production_CropsProcessed_E_All...    20.0  \n",
       "data/environment/Environment_Emissions_intensit... data/production/Production_Crops_E_All_Data_(No...     2.0  "
      ]
     },
     "execution_count": 101,
     "metadata": {},
     "output_type": "execute_result"
    }
   ],
   "source": [
    "close_diff_flag = joined[is_close(joined.value, joined.value_2) & ~ is_same_flag(joined.flag, joined.flag_2)]\n",
    "close_diff_flag.groupby(['file', 'file_2']).apply(lambda x: pd.Series({'mean_diff': np.mean(get_percentage_diff(x['value'], x['value_2'])*100), 'num': x.shape[0]})).sort_values('mean_diff')"
   ]
  },
  {
   "cell_type": "code",
   "execution_count": 102,
   "metadata": {},
   "outputs": [
    {
     "data": {
      "text/html": [
       "<div>\n",
       "<style scoped>\n",
       "    .dataframe tbody tr th:only-of-type {\n",
       "        vertical-align: middle;\n",
       "    }\n",
       "\n",
       "    .dataframe tbody tr th {\n",
       "        vertical-align: top;\n",
       "    }\n",
       "\n",
       "    .dataframe thead th {\n",
       "        text-align: right;\n",
       "    }\n",
       "</style>\n",
       "<table border=\"1\" class=\"dataframe\">\n",
       "  <thead>\n",
       "    <tr style=\"text-align: right;\">\n",
       "      <th></th>\n",
       "      <th></th>\n",
       "      <th>mean_diff</th>\n",
       "      <th>num</th>\n",
       "    </tr>\n",
       "    <tr>\n",
       "      <th>file</th>\n",
       "      <th>file_2</th>\n",
       "      <th></th>\n",
       "      <th></th>\n",
       "    </tr>\n",
       "  </thead>\n",
       "  <tbody>\n",
       "    <tr>\n",
       "      <th>data/environment/Environment_Emissions_intensities_E_All_Data_(Normalized).csv</th>\n",
       "      <th>data/production/Production_Crops_E_All_Data_(Normalized).csv</th>\n",
       "      <td>10.585788</td>\n",
       "      <td>93.0</td>\n",
       "    </tr>\n",
       "    <tr>\n",
       "      <th>data/emissions_agriculture/Emissions_Agriculture_Agriculture_total_E_All_Data_(Normalized).csv</th>\n",
       "      <th>data/environment/Environment_Emissions_by_Sector_E_All_Data_(Normalized).csv</th>\n",
       "      <td>13.550441</td>\n",
       "      <td>5118.0</td>\n",
       "    </tr>\n",
       "    <tr>\n",
       "      <th>data/environment/Environment_Emissions_intensities_E_All_Data_(Normalized).csv</th>\n",
       "      <th>data/production/Production_LivestockPrimary_E_All_Data_(Normalized).csv</th>\n",
       "      <td>16.292990</td>\n",
       "      <td>1525.0</td>\n",
       "    </tr>\n",
       "    <tr>\n",
       "      <th>data/production/Production_Crops_E_All_Data_(Normalized).csv</th>\n",
       "      <th>data/production/Production_CropsProcessed_E_All_Data_(Normalized).csv</th>\n",
       "      <td>17.697286</td>\n",
       "      <td>86.0</td>\n",
       "    </tr>\n",
       "    <tr>\n",
       "      <th>data/emissions_land/Emissions_Land_Use_Land_Use_Total_E_All_Data_(Normalized).csv</th>\n",
       "      <th>data/environment/Environment_Emissions_by_Sector_E_All_Data_(Normalized).csv</th>\n",
       "      <td>100.608908</td>\n",
       "      <td>4004.0</td>\n",
       "    </tr>\n",
       "  </tbody>\n",
       "</table>\n",
       "</div>"
      ],
      "text/plain": [
       "                                                                                                        mean_diff  \\\n",
       "file                                               file_2                                                           \n",
       "data/environment/Environment_Emissions_intensit... data/production/Production_Crops_E_All_Data_(No...   10.585788   \n",
       "data/emissions_agriculture/Emissions_Agricultur... data/environment/Environment_Emissions_by_Secto...   13.550441   \n",
       "data/environment/Environment_Emissions_intensit... data/production/Production_LivestockPrimary_E_A...   16.292990   \n",
       "data/production/Production_Crops_E_All_Data_(No... data/production/Production_CropsProcessed_E_All...   17.697286   \n",
       "data/emissions_land/Emissions_Land_Use_Land_Use... data/environment/Environment_Emissions_by_Secto...  100.608908   \n",
       "\n",
       "                                                                                                          num  \n",
       "file                                               file_2                                                      \n",
       "data/environment/Environment_Emissions_intensit... data/production/Production_Crops_E_All_Data_(No...    93.0  \n",
       "data/emissions_agriculture/Emissions_Agricultur... data/environment/Environment_Emissions_by_Secto...  5118.0  \n",
       "data/environment/Environment_Emissions_intensit... data/production/Production_LivestockPrimary_E_A...  1525.0  \n",
       "data/production/Production_Crops_E_All_Data_(No... data/production/Production_CropsProcessed_E_All...    86.0  \n",
       "data/emissions_land/Emissions_Land_Use_Land_Use... data/environment/Environment_Emissions_by_Secto...  4004.0  "
      ]
     },
     "execution_count": 102,
     "metadata": {},
     "output_type": "execute_result"
    }
   ],
   "source": [
    "far_same_flag = joined[~is_close(joined.value, joined.value_2) & is_same_flag(joined.flag, joined.flag_2)].reset_index()\n",
    "far_same_flag.groupby(['file', 'file_2']).apply(lambda x: pd.Series({'mean_diff': np.mean(get_percentage_diff(x['value'], x['value_2'])*100), 'num': x.shape[0]})).sort_values('mean_diff')"
   ]
  },
  {
   "cell_type": "code",
   "execution_count": 112,
   "metadata": {},
   "outputs": [
    {
     "data": {
      "text/html": [
       "<div>\n",
       "<style scoped>\n",
       "    .dataframe tbody tr th:only-of-type {\n",
       "        vertical-align: middle;\n",
       "    }\n",
       "\n",
       "    .dataframe tbody tr th {\n",
       "        vertical-align: top;\n",
       "    }\n",
       "\n",
       "    .dataframe thead th {\n",
       "        text-align: right;\n",
       "    }\n",
       "</style>\n",
       "<table border=\"1\" class=\"dataframe\">\n",
       "  <thead>\n",
       "    <tr style=\"text-align: right;\">\n",
       "      <th></th>\n",
       "      <th>areacode</th>\n",
       "      <th>itemcode</th>\n",
       "      <th>elementcode</th>\n",
       "      <th>year</th>\n",
       "      <th>value</th>\n",
       "      <th>flag</th>\n",
       "      <th>file</th>\n",
       "    </tr>\n",
       "  </thead>\n",
       "  <tbody>\n",
       "    <tr>\n",
       "      <th>7581180</th>\n",
       "      <td>2</td>\n",
       "      <td>6814</td>\n",
       "      <td>7231</td>\n",
       "      <td>1990</td>\n",
       "      <td>943.2945</td>\n",
       "      <td>A</td>\n",
       "      <td>data/environment/Environment_Emissions_by_Sect...</td>\n",
       "    </tr>\n",
       "    <tr>\n",
       "      <th>7581181</th>\n",
       "      <td>2</td>\n",
       "      <td>6814</td>\n",
       "      <td>7231</td>\n",
       "      <td>1991</td>\n",
       "      <td>1022.1110</td>\n",
       "      <td>A</td>\n",
       "      <td>data/environment/Environment_Emissions_by_Sect...</td>\n",
       "    </tr>\n",
       "    <tr>\n",
       "      <th>7581182</th>\n",
       "      <td>2</td>\n",
       "      <td>6814</td>\n",
       "      <td>7231</td>\n",
       "      <td>1992</td>\n",
       "      <td>542.7868</td>\n",
       "      <td>A</td>\n",
       "      <td>data/environment/Environment_Emissions_by_Sect...</td>\n",
       "    </tr>\n",
       "    <tr>\n",
       "      <th>7581183</th>\n",
       "      <td>2</td>\n",
       "      <td>6814</td>\n",
       "      <td>7231</td>\n",
       "      <td>1993</td>\n",
       "      <td>548.8871</td>\n",
       "      <td>A</td>\n",
       "      <td>data/environment/Environment_Emissions_by_Sect...</td>\n",
       "    </tr>\n",
       "    <tr>\n",
       "      <th>7581184</th>\n",
       "      <td>2</td>\n",
       "      <td>6814</td>\n",
       "      <td>7231</td>\n",
       "      <td>1994</td>\n",
       "      <td>537.9067</td>\n",
       "      <td>A</td>\n",
       "      <td>data/environment/Environment_Emissions_by_Sect...</td>\n",
       "    </tr>\n",
       "    <tr>\n",
       "      <th>...</th>\n",
       "      <td>...</td>\n",
       "      <td>...</td>\n",
       "      <td>...</td>\n",
       "      <td>...</td>\n",
       "      <td>...</td>\n",
       "      <td>...</td>\n",
       "      <td>...</td>\n",
       "    </tr>\n",
       "    <tr>\n",
       "      <th>8276414</th>\n",
       "      <td>181</td>\n",
       "      <td>6825</td>\n",
       "      <td>7180</td>\n",
       "      <td>2006</td>\n",
       "      <td>0.0000</td>\n",
       "      <td>Fc</td>\n",
       "      <td>data/environment/Environment_Emissions_by_Sect...</td>\n",
       "    </tr>\n",
       "    <tr>\n",
       "      <th>8276415</th>\n",
       "      <td>181</td>\n",
       "      <td>6825</td>\n",
       "      <td>7180</td>\n",
       "      <td>2007</td>\n",
       "      <td>0.0000</td>\n",
       "      <td>Fc</td>\n",
       "      <td>data/environment/Environment_Emissions_by_Sect...</td>\n",
       "    </tr>\n",
       "    <tr>\n",
       "      <th>8276416</th>\n",
       "      <td>181</td>\n",
       "      <td>6825</td>\n",
       "      <td>7180</td>\n",
       "      <td>2008</td>\n",
       "      <td>0.0000</td>\n",
       "      <td>Fc</td>\n",
       "      <td>data/environment/Environment_Emissions_by_Sect...</td>\n",
       "    </tr>\n",
       "    <tr>\n",
       "      <th>8276417</th>\n",
       "      <td>181</td>\n",
       "      <td>6825</td>\n",
       "      <td>7180</td>\n",
       "      <td>2009</td>\n",
       "      <td>0.0000</td>\n",
       "      <td>Fc</td>\n",
       "      <td>data/environment/Environment_Emissions_by_Sect...</td>\n",
       "    </tr>\n",
       "    <tr>\n",
       "      <th>8276418</th>\n",
       "      <td>181</td>\n",
       "      <td>6825</td>\n",
       "      <td>7180</td>\n",
       "      <td>2010</td>\n",
       "      <td>0.0000</td>\n",
       "      <td>Fc</td>\n",
       "      <td>data/environment/Environment_Emissions_by_Sect...</td>\n",
       "    </tr>\n",
       "  </tbody>\n",
       "</table>\n",
       "<p>695239 rows × 7 columns</p>\n",
       "</div>"
      ],
      "text/plain": [
       "         areacode  itemcode  elementcode  year      value flag  \\\n",
       "7581180         2      6814         7231  1990   943.2945    A   \n",
       "7581181         2      6814         7231  1991  1022.1110    A   \n",
       "7581182         2      6814         7231  1992   542.7868    A   \n",
       "7581183         2      6814         7231  1993   548.8871    A   \n",
       "7581184         2      6814         7231  1994   537.9067    A   \n",
       "...           ...       ...          ...   ...        ...  ...   \n",
       "8276414       181      6825         7180  2006     0.0000   Fc   \n",
       "8276415       181      6825         7180  2007     0.0000   Fc   \n",
       "8276416       181      6825         7180  2008     0.0000   Fc   \n",
       "8276417       181      6825         7180  2009     0.0000   Fc   \n",
       "8276418       181      6825         7180  2010     0.0000   Fc   \n",
       "\n",
       "                                                      file  \n",
       "7581180  data/environment/Environment_Emissions_by_Sect...  \n",
       "7581181  data/environment/Environment_Emissions_by_Sect...  \n",
       "7581182  data/environment/Environment_Emissions_by_Sect...  \n",
       "7581183  data/environment/Environment_Emissions_by_Sect...  \n",
       "7581184  data/environment/Environment_Emissions_by_Sect...  \n",
       "...                                                    ...  \n",
       "8276414  data/environment/Environment_Emissions_by_Sect...  \n",
       "8276415  data/environment/Environment_Emissions_by_Sect...  \n",
       "8276416  data/environment/Environment_Emissions_by_Sect...  \n",
       "8276417  data/environment/Environment_Emissions_by_Sect...  \n",
       "8276418  data/environment/Environment_Emissions_by_Sect...  \n",
       "\n",
       "[695239 rows x 7 columns]"
      ]
     },
     "execution_count": 112,
     "metadata": {},
     "output_type": "execute_result"
    }
   ],
   "source": [
    "df[df.file == \"data/environment/Environment_Emissions_by_Sector_E_All_Data_(Normalized).csv\"]"
   ]
  },
  {
   "cell_type": "code",
   "execution_count": null,
   "metadata": {},
   "outputs": [],
   "source": [
    "joined[(joined.file == \"data/environment/Environment_Emissions_by_Sector_E_All_Data_(Normalized).csv\")]"
   ]
  },
  {
   "cell_type": "code",
   "execution_count": 37,
   "metadata": {},
   "outputs": [
    {
     "data": {
      "text/html": [
       "<div>\n",
       "<style scoped>\n",
       "    .dataframe tbody tr th:only-of-type {\n",
       "        vertical-align: middle;\n",
       "    }\n",
       "\n",
       "    .dataframe tbody tr th {\n",
       "        vertical-align: top;\n",
       "    }\n",
       "\n",
       "    .dataframe thead th {\n",
       "        text-align: right;\n",
       "    }\n",
       "</style>\n",
       "<table border=\"1\" class=\"dataframe\">\n",
       "  <thead>\n",
       "    <tr style=\"text-align: right;\">\n",
       "      <th></th>\n",
       "      <th></th>\n",
       "      <th>mean_diff</th>\n",
       "      <th>num</th>\n",
       "    </tr>\n",
       "    <tr>\n",
       "      <th>file</th>\n",
       "      <th>file_2</th>\n",
       "      <th></th>\n",
       "      <th></th>\n",
       "    </tr>\n",
       "  </thead>\n",
       "  <tbody>\n",
       "    <tr>\n",
       "      <th>data/production/Production_Crops_E_All_Data_(Normalized).csv</th>\n",
       "      <th>data/production/Production_CropsProcessed_E_All_Data_(Normalized).csv</th>\n",
       "      <td>23287.963636</td>\n",
       "      <td>111.0</td>\n",
       "    </tr>\n",
       "    <tr>\n",
       "      <th rowspan=\"2\" valign=\"top\">data/environment/Environment_Emissions_intensities_E_All_Data_(Normalized).csv</th>\n",
       "      <th>data/production/Production_LivestockPrimary_E_All_Data_(Normalized).csv</th>\n",
       "      <td>94892.984615</td>\n",
       "      <td>520.0</td>\n",
       "    </tr>\n",
       "    <tr>\n",
       "      <th>data/production/Production_Crops_E_All_Data_(Normalized).csv</th>\n",
       "      <td>604781.933333</td>\n",
       "      <td>30.0</td>\n",
       "    </tr>\n",
       "  </tbody>\n",
       "</table>\n",
       "</div>"
      ],
      "text/plain": [
       "                                                                                                           mean_diff  \\\n",
       "file                                               file_2                                                              \n",
       "data/production/Production_Crops_E_All_Data_(No... data/production/Production_CropsProcessed_E_All...   23287.963636   \n",
       "data/environment/Environment_Emissions_intensit... data/production/Production_LivestockPrimary_E_A...   94892.984615   \n",
       "                                                   data/production/Production_Crops_E_All_Data_(No...  604781.933333   \n",
       "\n",
       "                                                                                                         num  \n",
       "file                                               file_2                                                     \n",
       "data/production/Production_Crops_E_All_Data_(No... data/production/Production_CropsProcessed_E_All...  111.0  \n",
       "data/environment/Environment_Emissions_intensit... data/production/Production_LivestockPrimary_E_A...  520.0  \n",
       "                                                   data/production/Production_Crops_E_All_Data_(No...   30.0  "
      ]
     },
     "execution_count": 37,
     "metadata": {},
     "output_type": "execute_result"
    }
   ],
   "source": [
    "far_diff_flag = joined[~is_close(joined.value, joined.value_2) & ~is_same_flag(joined.flag, joined.flag_2)]\n",
    "far_diff_flag.groupby(['file', 'file_2']).apply(lambda x: pd.Series({'mean_diff': np.mean(np.abs(x['value'] - x['value_2'])), 'num': x.shape[0]})).sort_values('mean_diff')"
   ]
  },
  {
   "cell_type": "code",
   "execution_count": null,
   "metadata": {},
   "outputs": [],
   "source": []
  }
 ],
 "metadata": {
  "kernelspec": {
   "display_name": "Python (ADA)",
   "language": "python",
   "name": "ada"
  },
  "language_info": {
   "codemirror_mode": {
    "name": "ipython",
    "version": 3
   },
   "file_extension": ".py",
   "mimetype": "text/x-python",
   "name": "python",
   "nbconvert_exporter": "python",
   "pygments_lexer": "ipython3",
   "version": "3.7.4"
  }
 },
 "nbformat": 4,
 "nbformat_minor": 2
}
