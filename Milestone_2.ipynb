{
 "cells": [
  {
   "cell_type": "markdown",
   "metadata": {},
   "source": [
    "# Environmental Impact of Agricultural Practices in the World\n",
    "\n",
    "**ADA Project Milestone 2**\n",
    "\n",
    "This notebook consists of our initial Data Analysis of the FAOSTAT dataset on Food an agriculture. We will first study the contents of the data and its strucuture, before restructuring it in order to start our analysis. Also, some research questions initially asked will be answered by the end of this notebook."
   ]
  },
  {
   "cell_type": "markdown",
   "metadata": {},
   "source": [
    "## A. Initial Analysis"
   ]
  },
  {
   "cell_type": "markdown",
   "metadata": {},
   "source": [
    "The dataset initially contained 78 csv files, but some of them were discarded as they will not be useful for our analysis. We have selected 25 CSVs that would help us with our analysis."
   ]
  },
  {
   "cell_type": "code",
   "execution_count": 1,
   "metadata": {},
   "outputs": [],
   "source": [
    "from glob import glob\n",
    "import pandas as pd\n",
    "import numpy as np\n",
    "\n",
    "%load_ext autoreload\n",
    "%autoreload 2"
   ]
  },
  {
   "cell_type": "code",
   "execution_count": 2,
   "metadata": {},
   "outputs": [
    {
     "data": {
      "text/plain": [
       "25"
      ]
     },
     "execution_count": 2,
     "metadata": {},
     "output_type": "execute_result"
    }
   ],
   "source": [
    "csv_files = glob('data/**/*.csv')\n",
    "len(csv_files)"
   ]
  },
  {
   "cell_type": "markdown",
   "metadata": {},
   "source": [
    "We split those 25 csv into different directories, one for each group of csv. Each group corresponds to one category:\n",
    "```.\n",
    "+-- data/\n",
    "|   +-- emissions_agriculture/\n",
    "|      +-- ...\n",
    "|   +-- emissions_land/\n",
    "|      +-- ...\n",
    "|   +-- environment/\n",
    "|      +-- ...\n",
    "|   +-- inputs/\n",
    "|      +-- ...\n",
    "|   +-- population/\n",
    "|      +-- ...\n",
    "|   +-- production/\n",
    "|      +-- ...\n",
    "```"
   ]
  },
  {
   "cell_type": "markdown",
   "metadata": {},
   "source": [
    "---\n",
    "### A.1 Schema consistency\n",
    "---\n",
    "\n",
    "We will first study the schemas of all the csv files we have in order to see if they are consistent or require changes"
   ]
  },
  {
   "cell_type": "markdown",
   "metadata": {},
   "source": [
    "#### 1. Checking column names across whole dataset\n",
    "---"
   ]
  },
  {
   "cell_type": "markdown",
   "metadata": {},
   "source": [
    "Now, let's scan all the csv files and check their schemas."
   ]
  },
  {
   "cell_type": "code",
   "execution_count": 3,
   "metadata": {},
   "outputs": [
    {
     "name": "stdout",
     "output_type": "stream",
     "text": [
      "The found columns, grouped, are:\n",
      "\n",
      "['area', 'areacode', 'element', 'elementcode', 'flag', 'item', 'itemcode', 'unit', 'value', 'year', 'yearcode'] Num files 17\n",
      "['country', 'countrycode', 'element', 'elementcode', 'elementgroup', 'flag', 'item', 'itemcode', 'unit', 'value', 'year'] Num files 2\n",
      "['area', 'areacode', 'element', 'elementcode', 'flag', 'months', 'monthscode', 'unit', 'value', 'year', 'yearcode'] Num files 1\n",
      "['area', 'areacode', 'element', 'elementcode', 'flag', 'item', 'itemcode', 'note', 'unit', 'value', 'year', 'yearcode'] Num files 4\n",
      "['country', 'countrycode', 'element', 'elementcode', 'flag', 'item', 'itemcode', 'unit', 'value', 'year', 'yearcode'] Num files 1\n"
     ]
    }
   ],
   "source": [
    "from data_processing import scan_columns\n",
    "all_columns = scan_columns(csv_files)\n",
    "print(\"The found columns, grouped, are:\\n\")\n",
    "for cols, f in all_columns:\n",
    "    print(list(sorted(cols)), f\"Num files {len(f)}\")"
   ]
  },
  {
   "cell_type": "markdown",
   "metadata": {},
   "source": [
    "As we can see, sometimes the columns `area` and `areacode` are named `country` and `countrycode`, only because some csv files only contain country data, without country groups. We will rename those as to have a unified schema. Also, some files have the `note`, `elementgroup` and `months` columns. We will look into those in subsequent steps as we are now simply checking whether column naming is consistent.\n",
    "\n",
    "In order to obtain a more consistent column naming, we will rename `country` to `area` and `countrycode` to `areacode`."
   ]
  },
  {
   "cell_type": "code",
   "execution_count": 4,
   "metadata": {},
   "outputs": [],
   "source": [
    "column_rename = {'country': 'area', 'countrycode': 'areacode'}"
   ]
  },
  {
   "cell_type": "code",
   "execution_count": 5,
   "metadata": {},
   "outputs": [
    {
     "name": "stdout",
     "output_type": "stream",
     "text": [
      "After renaming, we obtain the following columns:\n",
      "\n",
      "['area', 'areacode', 'element', 'elementcode', 'flag', 'item', 'itemcode', 'unit', 'value', 'year', 'yearcode'] Num files 18\n",
      "['area', 'areacode', 'element', 'elementcode', 'elementgroup', 'flag', 'item', 'itemcode', 'unit', 'value', 'year'] Num files 2\n",
      "['area', 'areacode', 'element', 'elementcode', 'flag', 'months', 'monthscode', 'unit', 'value', 'year', 'yearcode'] Num files 1\n",
      "['area', 'areacode', 'element', 'elementcode', 'flag', 'item', 'itemcode', 'note', 'unit', 'value', 'year', 'yearcode'] Num files 4\n"
     ]
    }
   ],
   "source": [
    "all_columns_2 = scan_columns(csv_files, column_rename)\n",
    "print(f\"After renaming, we obtain the following columns:\\n\")\n",
    "for cols, f in all_columns_2:\n",
    "    print(list(sorted(cols)), f\"Num files {len(f)}\")"
   ]
  },
  {
   "cell_type": "markdown",
   "metadata": {},
   "source": [
    "#### 2. Checking which columns to drop\n",
    "---"
   ]
  },
  {
   "cell_type": "markdown",
   "metadata": {},
   "source": [
    "1. Column labeled \"`note`\""
   ]
  },
  {
   "cell_type": "markdown",
   "metadata": {},
   "source": [
    "Now we have a few files that have different schemas. One column that we should look into before continuing is `note`, as it is in 4 files."
   ]
  },
  {
   "cell_type": "code",
   "execution_count": 6,
   "metadata": {},
   "outputs": [
    {
     "data": {
      "text/html": [
       "<div>\n",
       "<style scoped>\n",
       "    .dataframe tbody tr th:only-of-type {\n",
       "        vertical-align: middle;\n",
       "    }\n",
       "\n",
       "    .dataframe tbody tr th {\n",
       "        vertical-align: top;\n",
       "    }\n",
       "\n",
       "    .dataframe thead th {\n",
       "        text-align: right;\n",
       "    }\n",
       "</style>\n",
       "<table border=\"1\" class=\"dataframe\">\n",
       "  <thead>\n",
       "    <tr style=\"text-align: right;\">\n",
       "      <th></th>\n",
       "      <th>note</th>\n",
       "    </tr>\n",
       "  </thead>\n",
       "  <tbody>\n",
       "    <tr>\n",
       "      <th>0</th>\n",
       "      <td>NaN</td>\n",
       "    </tr>\n",
       "  </tbody>\n",
       "</table>\n",
       "</div>"
      ],
      "text/plain": [
       "   note\n",
       "0   NaN"
      ]
     },
     "execution_count": 6,
     "metadata": {},
     "output_type": "execute_result"
    }
   ],
   "source": [
    "from data_processing import get_column_unique_values\n",
    "\n",
    "files_with_note = all_columns_2[-1][1]\n",
    "note_values = get_column_unique_values(files_with_note, column_rename, None,['note'])\n",
    "note_values"
   ]
  },
  {
   "cell_type": "markdown",
   "metadata": {},
   "source": [
    "As we can see, all values for this column are NaN, so we can safely drop the column."
   ]
  },
  {
   "cell_type": "markdown",
   "metadata": {},
   "source": [
    "2. Columns \"`yearcode`\" and \"`elementgroup`\"\n",
    "\n",
    "We figured it would be useful to scan for duplicate columns in each dataframe (i.e. columns with different names but same values)"
   ]
  },
  {
   "cell_type": "code",
   "execution_count": 7,
   "metadata": {},
   "outputs": [
    {
     "name": "stdout",
     "output_type": "stream",
     "text": [
      "Duplicates for [('yearcode', 'year')] in 23 files\n",
      "Duplicates for [('elementgroup', 'elementcode')] in 1 files\n"
     ]
    }
   ],
   "source": [
    "from data_processing import scan_column_duplicates\n",
    "duplicates = scan_column_duplicates(csv_files, column_rename)\n",
    "for c, f in duplicates:\n",
    "    print(f\"Duplicates for {c} in {len(f)} files\")"
   ]
  },
  {
   "cell_type": "markdown",
   "metadata": {},
   "source": [
    "As we can see, most files have `year` and `yearcode` columns which are equal. Hence, we can safely drop this column. However, for `elementgroup` and `elementcode`, they are equal in almost all CSV where they appear (1/2), but not all, so we cannot safely drop it without checking. We choose to keep `elementcode` when those two are equal, and keep them both when they are not.\n",
    "\n",
    "Hence, we can define a list of columns to be checked and dropped; We drop them if they fulfill any of the following conditions:\n",
    " - NaN in all rows\n",
    " - Duplicate with another column"
   ]
  },
  {
   "cell_type": "code",
   "execution_count": 8,
   "metadata": {},
   "outputs": [
    {
     "name": "stdout",
     "output_type": "stream",
     "text": [
      "After renaming and dropping columns, we obtain the following columns:\n",
      "\n",
      "['area', 'areacode', 'element', 'elementcode', 'flag', 'item', 'itemcode', 'unit', 'value', 'year'] Num files 23\n",
      "['area', 'areacode', 'element', 'elementcode', 'elementgroup', 'flag', 'item', 'itemcode', 'unit', 'value', 'year'] Num files 1\n",
      "['area', 'areacode', 'element', 'elementcode', 'flag', 'months', 'monthscode', 'unit', 'value', 'year'] Num files 1\n"
     ]
    }
   ],
   "source": [
    "check_columns = [\"note\", \"yearcode\", \"elementgroup\"]\n",
    "all_columns_3 = scan_columns(csv_files, column_rename, check_columns)\n",
    "print(f\"After renaming and dropping columns, we obtain the following columns:\\n\")\n",
    "for cols, f in all_columns_3:\n",
    "    print(list(sorted(cols)), f\"Num files {len(f)}\")"
   ]
  },
  {
   "cell_type": "markdown",
   "metadata": {},
   "source": [
    "We now have 41 files with identical schemas, and 2 files that have a different one:\n",
    " - The file containing the `elementgroup` additional column, which refers to groups of `elements`\n",
    " - The file with monthly data and no `item` and `itemcode` columns\n",
    " \n",
    "To obtain the desired format, we can now call `load_dataframe(<file>, column_rename, drop_columns)` with `column_rename = {'country': 'area', 'countrycode': 'areacode'}` and `drop_columns = [\"note\", \"yearcode\", \"elementgroup\"]`"
   ]
  },
  {
   "cell_type": "markdown",
   "metadata": {},
   "source": [
    "The only remaining csv with different schema are:\n",
    "- `data/environment/Environment_Temperature_change_E_All_Data_(Normalized).csv` (which contains monthly data)\n",
    "- `data/environment/Environment_Energy_E_All_Data.csv`, which contains `elementgroup` column"
   ]
  },
  {
   "cell_type": "markdown",
   "metadata": {},
   "source": [
    "---\n",
    "### A.2 Schema description\n",
    "\n",
    "---\n",
    "Now that we have a unified schema for (almost) all csv files, we can start looking into the meaning of each column and their possible value. "
   ]
  },
  {
   "cell_type": "markdown",
   "metadata": {},
   "source": [
    "#### 1. Area columns\n",
    "---\n",
    "We will first look into the columns `area` and `areacode`. According to FAOSTAT's website, each area is defined by a unique areacode, however some areas include other ones, i.e. there are grouped areas in the datasets. We would expect a one-to-one mapping between those two columns. Let's see how this looks like"
   ]
  },
  {
   "cell_type": "markdown",
   "metadata": {},
   "source": [
    "To verify that it is indeed a one-to-one mapping, we will append all values from all csv files, and drop duplicates. Then we group by area and see if the length of the group is 1."
   ]
  },
  {
   "cell_type": "code",
   "execution_count": 9,
   "metadata": {},
   "outputs": [
    {
     "data": {
      "text/plain": [
       "False"
      ]
     },
     "execution_count": 9,
     "metadata": {},
     "output_type": "execute_result"
    }
   ],
   "source": [
    "from utils import is_unique_mapping\n",
    "\n",
    "area_values = get_column_unique_values(csv_files, column_rename, check_columns, ['area', 'areacode'])\n",
    "is_unique_mapping(area_values, 'area', ['areacode'])"
   ]
  },
  {
   "cell_type": "markdown",
   "metadata": {},
   "source": [
    "It seems that the mapping is not one-to-one. Let's look into why that is. First we group by `areacode` and aggregate to a list of `area` and then we do the inverse. This way, we can see how the mapping is."
   ]
  },
  {
   "cell_type": "code",
   "execution_count": 10,
   "metadata": {},
   "outputs": [
    {
     "data": {
      "text/plain": [
       "Series([], Name: areacode, dtype: object)"
      ]
     },
     "execution_count": 10,
     "metadata": {},
     "output_type": "execute_result"
    }
   ],
   "source": [
    "grpd = area_values.groupby('area')['areacode'].apply(list)\n",
    "grpd[grpd.apply(lambda x: len(x) > 1)]"
   ]
  },
  {
   "cell_type": "markdown",
   "metadata": {},
   "source": [
    "The mapping `area` -> `areacode` is unique, now for the opposite:"
   ]
  },
  {
   "cell_type": "code",
   "execution_count": 11,
   "metadata": {},
   "outputs": [
    {
     "data": {
      "text/plain": [
       "areacode\n",
       "154     [The former Yugoslav Republic of Macedonia, No...\n",
       "167                             [Czechia, Czech Republic]\n",
       "209                                 [Eswatini, Swaziland]\n",
       "299           [Occupied Palestinian Territory, Palestine]\n",
       "5000                             [World, World + (Total)]\n",
       "5100                           [Africa, Africa + (Total)]\n",
       "5101           [Eastern Africa, Eastern Africa + (Total)]\n",
       "5102             [Middle Africa, Middle Africa + (Total)]\n",
       "5103         [Northern Africa, Northern Africa + (Total)]\n",
       "5104         [Southern Africa, Southern Africa + (Total)]\n",
       "5105           [Western Africa, Western Africa + (Total)]\n",
       "5200                       [Americas, Americas + (Total)]\n",
       "5203       [Northern America, Northern America + (Total)]\n",
       "5204         [Central America, Central America + (Total)]\n",
       "5206                     [Caribbean, Caribbean + (Total)]\n",
       "5207             [South America, South America + (Total)]\n",
       "5300                               [Asia, Asia + (Total)]\n",
       "5301               [Central Asia, Central Asia + (Total)]\n",
       "5302               [Eastern Asia, Eastern Asia + (Total)]\n",
       "5303             [Southern Asia, Southern Asia + (Total)]\n",
       "5304    [South-Eastern Asia, South-Eastern Asia + (Tot...\n",
       "5305               [Western Asia, Western Asia + (Total)]\n",
       "5400                           [Europe, Europe + (Total)]\n",
       "5401           [Eastern Europe, Eastern Europe + (Total)]\n",
       "5402         [Northern Europe, Northern Europe + (Total)]\n",
       "5403         [Southern Europe, Southern Europe + (Total)]\n",
       "5404           [Western Europe, Western Europe + (Total)]\n",
       "5500                         [Oceania, Oceania + (Total)]\n",
       "5501    [Australia & New Zealand, Australia and New Ze...\n",
       "5706           [European Union, European Union + (Total)]\n",
       "5801    [Least Developed Countries, Least Developed Co...\n",
       "5802    [Land Locked Developing Countries, LandLocked ...\n",
       "5803    [Small Island Developing States, Small Island ...\n",
       "5815    [Low Income Food Deficit Countries, Low Income...\n",
       "5817    [Net Food Importing Developing Countries, Net ...\n",
       "Name: area, dtype: object"
      ]
     },
     "execution_count": 11,
     "metadata": {},
     "output_type": "execute_result"
    }
   ],
   "source": [
    "grpd = area_values.groupby('areacode')['area'].apply(list)\n",
    "grpd[grpd.apply(lambda x: len(x) > 1)]"
   ]
  },
  {
   "cell_type": "markdown",
   "metadata": {},
   "source": [
    "It seems that the same `areacode` is sometimes mapped to multiple `area`, most of the time by adding \"+ (Total)\". For that, we could drop the `area` column and keep working with `areacode`.\n",
    "\n",
    "However, we still need a fixed database that maps the `areacode` to `area`, and for this, FAOSTAT provides one CSV file containing the mapping, as well as another one containing a description of country groups (i.e. \"Asia\") and which contries they contain."
   ]
  },
  {
   "cell_type": "code",
   "execution_count": 12,
   "metadata": {},
   "outputs": [
    {
     "data": {
      "text/html": [
       "<div>\n",
       "<style scoped>\n",
       "    .dataframe tbody tr th:only-of-type {\n",
       "        vertical-align: middle;\n",
       "    }\n",
       "\n",
       "    .dataframe tbody tr th {\n",
       "        vertical-align: top;\n",
       "    }\n",
       "\n",
       "    .dataframe thead th {\n",
       "        text-align: right;\n",
       "    }\n",
       "</style>\n",
       "<table border=\"1\" class=\"dataframe\">\n",
       "  <thead>\n",
       "    <tr style=\"text-align: right;\">\n",
       "      <th></th>\n",
       "      <th>countrycode</th>\n",
       "      <th>country</th>\n",
       "      <th>m49code</th>\n",
       "      <th>iso2code</th>\n",
       "      <th>iso3code</th>\n",
       "      <th>startyear</th>\n",
       "      <th>endyear</th>\n",
       "    </tr>\n",
       "  </thead>\n",
       "  <tbody>\n",
       "    <tr>\n",
       "      <th>0</th>\n",
       "      <td>2</td>\n",
       "      <td>Afghanistan</td>\n",
       "      <td>4.0</td>\n",
       "      <td>AF</td>\n",
       "      <td>AFG</td>\n",
       "      <td>NaN</td>\n",
       "      <td>NaN</td>\n",
       "    </tr>\n",
       "    <tr>\n",
       "      <th>1</th>\n",
       "      <td>5100</td>\n",
       "      <td>Africa</td>\n",
       "      <td>2.0</td>\n",
       "      <td>NaN</td>\n",
       "      <td>X06</td>\n",
       "      <td>NaN</td>\n",
       "      <td>NaN</td>\n",
       "    </tr>\n",
       "    <tr>\n",
       "      <th>2</th>\n",
       "      <td>284</td>\n",
       "      <td>Ã",
       "land Islands</td>\n",
       "      <td>248.0</td>\n",
       "      <td>NaN</td>\n",
       "      <td>ALA</td>\n",
       "      <td>NaN</td>\n",
       "      <td>NaN</td>\n",
       "    </tr>\n",
       "    <tr>\n",
       "      <th>3</th>\n",
       "      <td>3</td>\n",
       "      <td>Albania</td>\n",
       "      <td>8.0</td>\n",
       "      <td>AL</td>\n",
       "      <td>ALB</td>\n",
       "      <td>NaN</td>\n",
       "      <td>NaN</td>\n",
       "    </tr>\n",
       "    <tr>\n",
       "      <th>4</th>\n",
       "      <td>4</td>\n",
       "      <td>Algeria</td>\n",
       "      <td>12.0</td>\n",
       "      <td>DZ</td>\n",
       "      <td>DZA</td>\n",
       "      <td>NaN</td>\n",
       "      <td>NaN</td>\n",
       "    </tr>\n",
       "  </tbody>\n",
       "</table>\n",
       "</div>"
      ],
      "text/plain": [
       "   countrycode         country  m49code iso2code iso3code  startyear  endyear\n",
       "0            2     Afghanistan      4.0       AF      AFG        NaN      NaN\n",
       "1         5100          Africa      2.0      NaN      X06        NaN      NaN\n",
       "2          284  Ã\n",
       "land Islands    248.0      NaN      ALA        NaN      NaN\n",
       "3            3         Albania      8.0       AL      ALB        NaN      NaN\n",
       "4            4         Algeria     12.0       DZ      DZA        NaN      NaN"
      ]
     },
     "execution_count": 12,
     "metadata": {},
     "output_type": "execute_result"
    }
   ],
   "source": [
    "from data_processing import load_dataframe\n",
    "area_codes = load_dataframe('data/countries.csv')\n",
    "area_codes.head()"
   ]
  },
  {
   "cell_type": "code",
   "execution_count": 13,
   "metadata": {},
   "outputs": [
    {
     "data": {
      "text/html": [
       "<div>\n",
       "<style scoped>\n",
       "    .dataframe tbody tr th:only-of-type {\n",
       "        vertical-align: middle;\n",
       "    }\n",
       "\n",
       "    .dataframe tbody tr th {\n",
       "        vertical-align: top;\n",
       "    }\n",
       "\n",
       "    .dataframe thead th {\n",
       "        text-align: right;\n",
       "    }\n",
       "</style>\n",
       "<table border=\"1\" class=\"dataframe\">\n",
       "  <thead>\n",
       "    <tr style=\"text-align: right;\">\n",
       "      <th></th>\n",
       "      <th>countrygroupcode</th>\n",
       "      <th>countrygroup</th>\n",
       "      <th>countrycode</th>\n",
       "      <th>country</th>\n",
       "      <th>m49code</th>\n",
       "      <th>iso2code</th>\n",
       "      <th>iso3code</th>\n",
       "    </tr>\n",
       "  </thead>\n",
       "  <tbody>\n",
       "    <tr>\n",
       "      <th>0</th>\n",
       "      <td>5100</td>\n",
       "      <td>Africa</td>\n",
       "      <td>4</td>\n",
       "      <td>Algeria</td>\n",
       "      <td>12.0</td>\n",
       "      <td>DZ</td>\n",
       "      <td>DZA</td>\n",
       "    </tr>\n",
       "    <tr>\n",
       "      <th>1</th>\n",
       "      <td>5100</td>\n",
       "      <td>Africa</td>\n",
       "      <td>7</td>\n",
       "      <td>Angola</td>\n",
       "      <td>24.0</td>\n",
       "      <td>AO</td>\n",
       "      <td>AGO</td>\n",
       "    </tr>\n",
       "    <tr>\n",
       "      <th>2</th>\n",
       "      <td>5100</td>\n",
       "      <td>Africa</td>\n",
       "      <td>53</td>\n",
       "      <td>Benin</td>\n",
       "      <td>204.0</td>\n",
       "      <td>BJ</td>\n",
       "      <td>BEN</td>\n",
       "    </tr>\n",
       "    <tr>\n",
       "      <th>3</th>\n",
       "      <td>5100</td>\n",
       "      <td>Africa</td>\n",
       "      <td>20</td>\n",
       "      <td>Botswana</td>\n",
       "      <td>72.0</td>\n",
       "      <td>BW</td>\n",
       "      <td>BWA</td>\n",
       "    </tr>\n",
       "    <tr>\n",
       "      <th>4</th>\n",
       "      <td>5100</td>\n",
       "      <td>Africa</td>\n",
       "      <td>24</td>\n",
       "      <td>British Indian Ocean Territory</td>\n",
       "      <td>86.0</td>\n",
       "      <td>IO</td>\n",
       "      <td>IOT</td>\n",
       "    </tr>\n",
       "  </tbody>\n",
       "</table>\n",
       "</div>"
      ],
      "text/plain": [
       "   countrygroupcode countrygroup  countrycode                         country  \\\n",
       "0              5100       Africa            4                         Algeria   \n",
       "1              5100       Africa            7                          Angola   \n",
       "2              5100       Africa           53                           Benin   \n",
       "3              5100       Africa           20                        Botswana   \n",
       "4              5100       Africa           24  British Indian Ocean Territory   \n",
       "\n",
       "   m49code iso2code iso3code  \n",
       "0     12.0       DZ      DZA  \n",
       "1     24.0       AO      AGO  \n",
       "2    204.0       BJ      BEN  \n",
       "3     72.0       BW      BWA  \n",
       "4     86.0       IO      IOT  "
      ]
     },
     "execution_count": 13,
     "metadata": {},
     "output_type": "execute_result"
    }
   ],
   "source": [
    "country_groups = load_dataframe('data/country_groups.csv')\n",
    "country_groups.head()"
   ]
  },
  {
   "cell_type": "markdown",
   "metadata": {},
   "source": [
    "Here, countries are grouped into multiple `countrygroup`, so we know exactly of which countries each group is formed. These country groups are present in the dataset as `area`, meaning there are aggregated values in the dataset. For example: we can find the emissions for \"Algeria\" and for \"Africa\", where the latter is an aggregated value over the whole group. We will need to be careful when aggregating values in the future, as we could account multiple times for one country."
   ]
  },
  {
   "cell_type": "code",
   "execution_count": 14,
   "metadata": {},
   "outputs": [
    {
     "data": {
      "text/plain": [
       "True"
      ]
     },
     "execution_count": 14,
     "metadata": {},
     "output_type": "execute_result"
    }
   ],
   "source": [
    "is_unique_mapping(area_codes[['country', 'countrycode']].drop_duplicates(), 'country', ['countrycode'])"
   ]
  },
  {
   "cell_type": "code",
   "execution_count": 15,
   "metadata": {},
   "outputs": [
    {
     "data": {
      "text/plain": [
       "True"
      ]
     },
     "execution_count": 15,
     "metadata": {},
     "output_type": "execute_result"
    }
   ],
   "source": [
    "all(x in area_codes.countrycode.unique() for x in area_values.areacode.unique())"
   ]
  },
  {
   "cell_type": "markdown",
   "metadata": {},
   "source": [
    "Hence, we can use the dataframe `area_codes` to obtain the country's name from it's code, and `country_groups` to get which countries form a group. For this, we can now drop the `area` column in our dataset."
   ]
  },
  {
   "cell_type": "markdown",
   "metadata": {},
   "source": [
    "#### 2. Element Columns\n",
    "---\n",
    "\n",
    "The `element` and `elementcode` represent the measure quantity for a given `item`. A quantity has a name and a unit, which is why we believe these two columns should also have a one-to-one mapping accross the whole dataset. Also, since an `elementcode` potentially uniquely identifies (`element`, `unit`) pair, we might drop those two columns as to make the csv files smaller and easier to manipulate.\n",
    "\n",
    "First let's check if indeed this mapping is one-to-one:"
   ]
  },
  {
   "cell_type": "code",
   "execution_count": 16,
   "metadata": {},
   "outputs": [
    {
     "data": {
      "text/plain": [
       "True"
      ]
     },
     "execution_count": 16,
     "metadata": {},
     "output_type": "execute_result"
    }
   ],
   "source": [
    "element_values = get_column_unique_values(csv_files, column_rename, check_columns, ['elementcode', 'element', 'unit'])\n",
    "is_unique_mapping(element_values, 'elementcode', ['element', 'unit'])"
   ]
  },
  {
   "cell_type": "markdown",
   "metadata": {},
   "source": [
    "As we can see, `elementcode` uniquely identify (`element`, `unit`) pairs, so we can safely drop those two columns and only use `elementcode`. We will later pivot each csv as to obtain all the `elementcode`s as columns, so we can reduce de number of rows significantly. A mapping using a dictionnary will of course be necessary in order to have a nice GUI where users can select the (element, unit) pair instead of the code."
   ]
  },
  {
   "cell_type": "markdown",
   "metadata": {},
   "source": [
    "#### 3. Item columns\n",
    "---\n",
    "\n",
    "According to FAOSTAT, the `item` and `itemcode` columns represent item on which measurements were done. For example an item can be `cattle` and the measurement can be \"CH4 emissions in gigagrams\". \n",
    "Similarly to what we did above, we expect `item` and `itemcode` to have a one-to-one relationship. Let's verify this using the same functions"
   ]
  },
  {
   "cell_type": "code",
   "execution_count": 17,
   "metadata": {},
   "outputs": [
    {
     "data": {
      "text/plain": [
       "False"
      ]
     },
     "execution_count": 17,
     "metadata": {},
     "output_type": "execute_result"
    }
   ],
   "source": [
    "item_values = get_column_unique_values(csv_files, column_rename, check_columns, ['item', 'itemcode'], with_file=True)\n",
    "is_unique_mapping(item_values[['item', 'itemcode']], 'item', ['itemcode'])"
   ]
  },
  {
   "cell_type": "markdown",
   "metadata": {},
   "source": [
    "It seems that `item` to `itemcode` is not unique for a few items, let's check those and try to understand why it is the case."
   ]
  },
  {
   "cell_type": "code",
   "execution_count": 18,
   "metadata": {},
   "outputs": [
    {
     "data": {
      "text/plain": [
       "Series([], Name: item, dtype: object)"
      ]
     },
     "execution_count": 18,
     "metadata": {},
     "output_type": "execute_result"
    }
   ],
   "source": [
    "grpd = item_values.groupby('itemcode')['item'].agg(set)\n",
    "grpd[grpd.apply(len) > 1]"
   ]
  },
  {
   "cell_type": "markdown",
   "metadata": {},
   "source": [
    "The mapping `itemcode` -> `item` is unique, now let's check the other way around"
   ]
  },
  {
   "cell_type": "code",
   "execution_count": 20,
   "metadata": {},
   "outputs": [
    {
     "data": {
      "text/plain": [
       "item\n",
       "Ammonium nitrate (AN)                            {1362, 4003}\n",
       "Ammonium sulphate                                {1361, 4002}\n",
       "Cattle                                            {866, 1757}\n",
       "Chickens                                         {1057, 1054}\n",
       "Disinfectants                                    {1358, 1351}\n",
       "Mineral Oils                                     {1354, 1316}\n",
       "Other Pesticides nes                             {1355, 1359}\n",
       "Other nitrogenous fertilizers, n.e.c.            {4008, 1369}\n",
       "Other potassic fertilizers, n.e.c.               {4018, 1391}\n",
       "Plant Growth Regulators                          {1356, 1341}\n",
       "Potassium sulphate (sulphate of potash) (SOP)    {4017, 1387}\n",
       "Urea                                             {4001, 1367}\n",
       "Name: itemcode, dtype: object"
      ]
     },
     "execution_count": 20,
     "metadata": {},
     "output_type": "execute_result"
    }
   ],
   "source": [
    "grouped = item_values.groupby('item')['itemcode'].agg(set)\n",
    "grouped[grouped.apply(len) >1]"
   ]
  },
  {
   "cell_type": "markdown",
   "metadata": {},
   "source": [
    "Some items seem to have multiple different item codes, which doesn't seem very normal. \n",
    "\n",
    "**a.** It seems that some of those items correspond to nutrients provided throught fertilizers. Let's see in which files those appear. The items related to nutrients are the following :"
   ]
  },
  {
   "cell_type": "code",
   "execution_count": 21,
   "metadata": {},
   "outputs": [
    {
     "data": {
      "text/plain": [
       "array(['data/inputs/Inputs_FertilizersArchive_E_All_Data_(Normalized).csv',\n",
       "       'data/inputs/Inputs_FertilizersProduct_E_All_Data_(Normalized).csv'],\n",
       "      dtype=object)"
      ]
     },
     "execution_count": 21,
     "metadata": {},
     "output_type": "execute_result"
    }
   ],
   "source": [
    "nutrient_items = [\"Ammonium nitrate (AN)\", \"Ammonium sulphate\", \"Other nitrogenous fertilizers, n.e.c.\", \"Other potassic fertilizers, n.e.c.\", \"Potassium sulphate (sulphate of potash) (SOP)\", \"Urea\"]\n",
    "item_values[item_values.item.isin(nutrient_items)].file.unique()"
   ]
  },
  {
   "cell_type": "markdown",
   "metadata": {},
   "source": [
    "Those items are only present in two dataframes, related to Ferilizer use. If we look closely at the names of csv files, we can see that one of them is \"Archive\", \n",
    "while the other is product. After having looking and reading the documentation for this CSV http://www.fao.org/faostat/en/#data/RA, we understand that it is an archive document, that has not been updated since 2002. \n",
    "\n",
    "Before that date, all data on Fertilizer was put into one single dataframe (i.e. info about production, trade and consumption) both in total nutrients and amount of product. After 2002, it was split into nutrient and product, which is why we have two `itemcode` values for those `items`. \n",
    "\n",
    "Hence, we should be careful when studying the fertilizer use, as data collection has changed in 2002.\n"
   ]
  },
  {
   "cell_type": "markdown",
   "metadata": {},
   "source": [
    "**b.** Some items are related to pesticides. Let's in which csv files they appear"
   ]
  },
  {
   "cell_type": "code",
   "execution_count": 22,
   "metadata": {},
   "outputs": [
    {
     "data": {
      "text/plain": [
       "array(['data/inputs/Inputs_Pesticides_Use_E_All_Data_(Normalized).csv'],\n",
       "      dtype=object)"
      ]
     },
     "execution_count": 22,
     "metadata": {},
     "output_type": "execute_result"
    }
   ],
   "source": [
    "pesticide_items = [\"Disinfectants\", \"Mineral Oils\", \"Other Pesticides nes\", \"Plant Growth Regulators\"]\n",
    "item_values[item_values.item.isin(pesticide_items)].file.unique()"
   ]
  },
  {
   "cell_type": "markdown",
   "metadata": {},
   "source": [
    "Some duplicate items with the same name but different codes appear in only one csv file, which seems quite odd. We suspect having duplicate rows in that case. Let's check that out."
   ]
  },
  {
   "cell_type": "code",
   "execution_count": 23,
   "metadata": {},
   "outputs": [
    {
     "name": "stdout",
     "output_type": "stream",
     "text": [
      "Duplicate item for Disinfectants codes [1358 1351]\n",
      "Duplicate item for Mineral Oils codes [1354 1316]\n",
      "Duplicate item for Other Pesticides nes codes [1359 1355]\n",
      "Duplicate item for Plant Growth Regulators codes [1356 1341]\n"
     ]
    }
   ],
   "source": [
    "from data_processing import check_duplicate_items\n",
    "t = load_dataframe('data/inputs/Inputs_Pesticides_Use_E_All_Data_(Normalized).csv', column_rename, check_columns)\n",
    "check_duplicate_items(t, pesticide_items)"
   ]
  },
  {
   "cell_type": "markdown",
   "metadata": {},
   "source": [
    "We now know that there are potentially duplicate rows for the same `item` but a different `itemcode` (with the same measurements). Hence, we need to add a functionnality that checks for duplicated items in the dataframe."
   ]
  },
  {
   "cell_type": "markdown",
   "metadata": {},
   "source": [
    "**c.** Now let's look at livestock items"
   ]
  },
  {
   "cell_type": "code",
   "execution_count": 24,
   "metadata": {},
   "outputs": [
    {
     "name": "stdout",
     "output_type": "stream",
     "text": [
      "['Cattle' 866\n",
      " {'data/production/Production_Livestock_E_All_Data_(Normalized).csv'}]\n",
      "['Cattle' 1757\n",
      " {'data/emissions_agriculture/Emissions_Agriculture_Manure_applied_to_soils_E_All_Data_(Normalized).csv', 'data/emissions_agriculture/Emissions_Agriculture_Manure_left_on_pasture_E_All_Data_(Normalized).csv', 'data/emissions_agriculture/Emissions_Agriculture_Manure_Management_E_All_Data_(Normalized).csv', 'data/emissions_agriculture/Emissions_Agriculture_Enteric_Fermentation_E_All_Data_(Normalized).csv'}]\n",
      "['Chickens' 1054\n",
      " {'data/emissions_agriculture/Emissions_Agriculture_Manure_applied_to_soils_E_All_Data_(Normalized).csv', 'data/emissions_agriculture/Emissions_Agriculture_Manure_Management_E_All_Data_(Normalized).csv', 'data/emissions_agriculture/Emissions_Agriculture_Manure_left_on_pasture_E_All_Data_(Normalized).csv'}]\n",
      "['Chickens' 1057\n",
      " {'data/production/Production_Livestock_E_All_Data_(Normalized).csv'}]\n"
     ]
    }
   ],
   "source": [
    "livestock_items = [\"Cattle\", \"Chickens\"]\n",
    "for i in item_values[item_values.item.isin(livestock_items)].groupby(['item', 'itemcode']).agg(set).reset_index().values:\n",
    "    print(i)"
   ]
  },
  {
   "cell_type": "markdown",
   "metadata": {},
   "source": [
    "The `itemcode` -> `item` seems one-to-one in each csv file, but we see that there are two distinct `itemcode` for \"Cattle\" and \"Chickens\" accross all csv files."
   ]
  },
  {
   "cell_type": "markdown",
   "metadata": {},
   "source": [
    "It seems that different values for `itemcode` for both \"Chickens\" and \"Cattles\" differ when the measured quantity is realted to emissions. Thus, this might be a discrepancy in the data as it does not appear for other items. We will treat this discrepancy once all csv have been merged into one."
   ]
  },
  {
   "cell_type": "markdown",
   "metadata": {},
   "source": [
    "#### 4. Flag Columns\n",
    "---\n",
    "\n",
    "According to FAOSTAT, not all the data points are official figures reported by individual countries. Some are estimates, others are aggregates done by external entities. In order to understand the meaning of those flagas, they provide a csv file containing the description of each."
   ]
  },
  {
   "cell_type": "code",
   "execution_count": 25,
   "metadata": {},
   "outputs": [
    {
     "data": {
      "text/html": [
       "<div>\n",
       "<style scoped>\n",
       "    .dataframe tbody tr th:only-of-type {\n",
       "        vertical-align: middle;\n",
       "    }\n",
       "\n",
       "    .dataframe tbody tr th {\n",
       "        vertical-align: top;\n",
       "    }\n",
       "\n",
       "    .dataframe thead th {\n",
       "        text-align: right;\n",
       "    }\n",
       "</style>\n",
       "<table border=\"1\" class=\"dataframe\">\n",
       "  <thead>\n",
       "    <tr style=\"text-align: right;\">\n",
       "      <th></th>\n",
       "      <th>flag</th>\n",
       "      <th>flags</th>\n",
       "    </tr>\n",
       "  </thead>\n",
       "  <tbody>\n",
       "    <tr>\n",
       "      <th>0</th>\n",
       "      <td>NaN</td>\n",
       "      <td>Official data</td>\n",
       "    </tr>\n",
       "    <tr>\n",
       "      <th>1</th>\n",
       "      <td>*</td>\n",
       "      <td>Unofficial figure</td>\n",
       "    </tr>\n",
       "    <tr>\n",
       "      <th>2</th>\n",
       "      <td>A</td>\n",
       "      <td>Aggregate, may include official, semi-official...</td>\n",
       "    </tr>\n",
       "    <tr>\n",
       "      <th>3</th>\n",
       "      <td>B</td>\n",
       "      <td>Balance</td>\n",
       "    </tr>\n",
       "    <tr>\n",
       "      <th>4</th>\n",
       "      <td>Bk</td>\n",
       "      <td>Break in series</td>\n",
       "    </tr>\n",
       "  </tbody>\n",
       "</table>\n",
       "</div>"
      ],
      "text/plain": [
       "  flag                                              flags\n",
       "0  NaN                                      Official data\n",
       "1    *                                  Unofficial figure\n",
       "2    A  Aggregate, may include official, semi-official...\n",
       "3    B                                            Balance\n",
       "4   Bk                                    Break in series"
      ]
     },
     "execution_count": 25,
     "metadata": {},
     "output_type": "execute_result"
    }
   ],
   "source": [
    "flags = load_dataframe(\"data/flags.csv\")\n",
    "flags.head()"
   ]
  },
  {
   "cell_type": "code",
   "execution_count": 26,
   "metadata": {},
   "outputs": [
    {
     "name": "stdout",
     "output_type": "stream",
     "text": [
      "There are 41 flags\n"
     ]
    }
   ],
   "source": [
    "print(f\"There are {len(flags)} flags\")"
   ]
  },
  {
   "cell_type": "markdown",
   "metadata": {},
   "source": [
    "---\n",
    "### A.3 Conclusion about Schemas\n",
    "\n",
    "---\n",
    "\n",
    "After having applied some analysis on the initially different schemas of the dataframes, we are now able to obtain identitcal schemas for 41 of them, and left two of them where we believe they should not be changed as some information could be lost.\n",
    "\n",
    "The common schema has the following columns:\n",
    "\n",
    "`['area', 'areacode', 'element', 'elementcode', 'flag', 'item', 'itemcode', 'unit', 'value', 'year']`\n",
    "\n",
    "For now, we have come up with a few steps that should be applied when loading a dataframe:\n",
    " - Rename columns to remove spaces and captial letters\n",
    " - Rename \"Country\" to \"Area\" and \"CountryCode\" to \"Areacode\"\n",
    " - Drop columns that are either duplicates or NaN values\n",
    " - Rename \"gigagrams\" to \"Gigagrams\", as otherwise we would have a non one-to-one mapping for `elementcode`\n",
    " - Check for items if they have duplicate rows.\n",
    "\n",
    "The function that does the first 4 cleaning steps is `data_processing/load_dataframe`, and the one that puts everything together is `data_processing/load_clean_dataframe`.\n",
    "\n",
    "Also, we have decided to only work with codes (i.e. `areacode` and `elementcode`) and drop `area`, `element` and `unit`. Of course, we will need a mapping from `code` -> `value`. Additionally, in order to keep track of `countrygroup` and do know how values are aggregated, we will also create a mapping that tells us which countries form a group, by codes.\n",
    "\n",
    "Hence, to load a dataframe, we simply call :\n",
    "```\n",
    "df = load_clean_dataframe(<filename>, column_rename, check_columns, drop_columns)\n",
    "```\n",
    "\n",
    "with  `column_rename = {'country': 'area', 'countrycode': 'areacode'}` and `check_columns = [\"note\", \"yearcode\", \"elementgroup\"]` and `drop_columns = [\"area\", \"item\", \"element\", \"unit\"]`"
   ]
  },
  {
   "cell_type": "code",
   "execution_count": 36,
   "metadata": {},
   "outputs": [],
   "source": [
    "column_rename = {'country': 'area', 'countrycode': 'areacode'}\n",
    "check_columns = [\"note\", \"yearcode\", \"elementgroup\"]\n",
    "drop_columns = [\"area\", \"item\", \"element\", \"unit\"]"
   ]
  },
  {
   "cell_type": "markdown",
   "metadata": {},
   "source": [
    "Now we need to get the mappings for :\n",
    "- `elementcode` -> (`element`, `unit`) (unique in both ways)\n",
    "- `itemcode` -> `item` (unique in that way, but not the other way around)\n",
    "- `areacode` -> `area` (unique in both ways)"
   ]
  },
  {
   "cell_type": "code",
   "execution_count": 37,
   "metadata": {},
   "outputs": [],
   "source": [
    "from mappings import get_mapping, get_area_mapping, get_country_groups\n",
    "item_mapping = get_mapping(csv_files, column_rename, check_columns, ['itemcode','item'])\n",
    "element_mapping = get_mapping(csv_files, column_rename, check_columns, ['elementcode', 'element', 'unit'])\n"
   ]
  },
  {
   "cell_type": "code",
   "execution_count": 38,
   "metadata": {},
   "outputs": [],
   "source": [
    "from mappings import get_area_mapping, get_country_groups\n",
    "area_mapping = get_area_mapping(\"data/countries.csv\")\n",
    "country_groups = get_country_groups(\"data/country_groups.csv\")"
   ]
  },
  {
   "cell_type": "markdown",
   "metadata": {},
   "source": [
    "---\n",
    "---\n",
    "## B. Reshaping the Database"
   ]
  },
  {
   "cell_type": "markdown",
   "metadata": {},
   "source": [
    "For now everything was stored in database format (i.e. Row format), but we would like to have elements in columns, so that we can reduce drastically the number of rows, and so we can have all the measurements for a single (`itemcode`, `areacode`, `year`) pair."
   ]
  },
  {
   "cell_type": "markdown",
   "metadata": {},
   "source": [
    "---\n",
    "### B.1 Merging all files with same schema\n",
    "\n",
    "---\n",
    "\n",
    "Before reshaping, we know that 41 csv files have the same schema. Thus, it would be good to have them all in a single dataframe in order to facilitate access to values. We will then create a single dataframe from all those 41 (over 43 in total). This dataframe will then have potentially duplicate rows, which we will drop."
   ]
  },
  {
   "cell_type": "code",
   "execution_count": 39,
   "metadata": {},
   "outputs": [],
   "source": [
    "from data_processing import load_clean_dataframe\n",
    "def load_all_df_with_schema(files, schema):\n",
    "    dfs = []\n",
    "    for f in csv_files:\n",
    "        df = load_clean_dataframe(f, column_rename, check_columns, drop_columns) # Load the DF\n",
    "        if all(x in schema for x in df.columns):  # Check if schema corresponds\n",
    "            df = df.assign(file=f)\n",
    "            dfs.append(df)\n",
    "    df = pd.concat(dfs).reset_index(drop=True)\n",
    "    shape = df.shape[0]\n",
    "    \n",
    "    to_keep = df.drop(columns=['file']).drop_duplicates().index # Drop all duplicated row, after removing `file`\n",
    "    df = df.loc[to_keep].reset_index(drop=True)\n",
    "    print(f\"Dropped {shape - df.shape[0]} duplicate rows\")\n",
    "    return df"
   ]
  },
  {
   "cell_type": "code",
   "execution_count": 61,
   "metadata": {},
   "outputs": [
    {
     "name": "stdout",
     "output_type": "stream",
     "text": [
      "Dropped duplicate item Disinfectants with codes [1358, 1351] (Dropped 1351)\n",
      "Dropped duplicate item Mineral Oils with codes [1354, 1316] (Dropped 1316)\n",
      "Dropped duplicate item Other Pesticides nes with codes [1359, 1355] (Dropped 1355)\n",
      "Dropped duplicate item Plant Growth Regulators with codes [1356, 1341] (Dropped 1341)\n",
      "Dropped 725925 duplicate rows\n"
     ]
    }
   ],
   "source": [
    "df = load_all_df_with_schema(csv_files, ['area', 'areacode', 'element', 'elementcode', 'flag', 'item', 'itemcode', 'unit', 'value', 'year'])"
   ]
  },
  {
   "cell_type": "code",
   "execution_count": 62,
   "metadata": {},
   "outputs": [
    {
     "data": {
      "text/plain": [
       "1336"
      ]
     },
     "execution_count": 62,
     "metadata": {},
     "output_type": "execute_result"
    }
   ],
   "source": [
    "import gc\n",
    "gc.collect()"
   ]
  },
  {
   "cell_type": "markdown",
   "metadata": {},
   "source": [
    "---\n",
    "### B.2 Checking for duplicate measurements\n",
    "\n",
    "---\n",
    "\n",
    "Ideally, we would like to have a single row for each (`areacode`, `itemcode`, `elementcode` and `year`), i.e one measurement. Let's check if it is the case:"
   ]
  },
  {
   "cell_type": "code",
   "execution_count": 63,
   "metadata": {},
   "outputs": [
    {
     "data": {
      "text/plain": [
       "1    0.998824\n",
       "2    0.001176\n",
       "Name: value, dtype: float64"
      ]
     },
     "execution_count": 63,
     "metadata": {},
     "output_type": "execute_result"
    }
   ],
   "source": [
    "grouped = df.groupby(['areacode', 'itemcode', 'elementcode', 'year'])[['value', 'flag']].nunique(dropna=False).reset_index()\n",
    "grouped['value'].value_counts(dropna=False) / grouped.shape[0]"
   ]
  },
  {
   "cell_type": "markdown",
   "metadata": {},
   "source": [
    "As we can see, it is not the case:\n",
    "    - Most of the time there is one measurement (~99.9%)\n",
    "    - Some have two measurements (~0.1%)\n",
    "This could be due to different `value` and/or different `flag`\n",
    "\n",
    "Let's look at those values"
   ]
  },
  {
   "cell_type": "markdown",
   "metadata": {},
   "source": [
    "#### 1. Assessing Elements that have duplicates\n",
    "\n",
    "In order to remediate to this issue, we will look at the differences between the values, when there are multiple ones, and group by `elementcode`"
   ]
  },
  {
   "cell_type": "code",
   "execution_count": 66,
   "metadata": {},
   "outputs": [],
   "source": [
    "from utils import get_percentage_diff\n",
    "\n",
    "def get_discrepancies(df):\n",
    "    indexed = df.set_index(['areacode', 'itemcode', 'elementcode', 'year']) # Set the index to what what should be unique\n",
    "    duplicated_1 = indexed.index.duplicated(keep='first')  # Take the first duplicate\n",
    "    duplicated_2 = indexed.index.duplicated(keep='last')  # Take the second one\n",
    "    joined = indexed.loc[duplicated_1].join(indexed.loc[duplicated_2], rsuffix='_2')  # Join on the index to have both values and indices\n",
    "    return joined\n",
    "\n",
    "def get_discrepancies_by(df,by):\n",
    "    discrepancies_by = df.reset_index().groupby(by)\\\n",
    "                                 .apply(lambda x: pd.Series({'mean_diff': np.mean(x['value'] - x['value_2']), # Mean difference\n",
    "                                                             'std': np.std(x['value'] - x['value_2']),        # STD of difference\n",
    "                                                             'num': x.shape[0],                                 # Number of different values\n",
    "                                                             'mean_perc_diff': np.mean(get_percentage_diff(x['value'], x['value_2'])*100)})) # Average difference in percentage\n",
    "    return discrepancies_by.sort_values('mean_perc_diff')"
   ]
  },
  {
   "cell_type": "code",
   "execution_count": 68,
   "metadata": {},
   "outputs": [
    {
     "data": {
      "text/html": [
       "<div>\n",
       "<style scoped>\n",
       "    .dataframe tbody tr th:only-of-type {\n",
       "        vertical-align: middle;\n",
       "    }\n",
       "\n",
       "    .dataframe tbody tr th {\n",
       "        vertical-align: top;\n",
       "    }\n",
       "\n",
       "    .dataframe thead th {\n",
       "        text-align: right;\n",
       "    }\n",
       "</style>\n",
       "<table border=\"1\" class=\"dataframe\">\n",
       "  <thead>\n",
       "    <tr style=\"text-align: right;\">\n",
       "      <th></th>\n",
       "      <th>file</th>\n",
       "      <th>file_2</th>\n",
       "      <th>mean_diff</th>\n",
       "      <th>std</th>\n",
       "      <th>num</th>\n",
       "      <th>mean_perc_diff</th>\n",
       "    </tr>\n",
       "  </thead>\n",
       "  <tbody>\n",
       "    <tr>\n",
       "      <th>0</th>\n",
       "      <td>data/emissions_agriculture/Emissions_Agricultu...</td>\n",
       "      <td>data/production/Production_Crops_E_All_Data_(N...</td>\n",
       "      <td>2.754141e+06</td>\n",
       "      <td>7.064850e+05</td>\n",
       "      <td>57.0</td>\n",
       "      <td>4.526840</td>\n",
       "    </tr>\n",
       "    <tr>\n",
       "      <th>1</th>\n",
       "      <td>data/emissions_agriculture/Emissions_Agricultu...</td>\n",
       "      <td>data/environment/Environment_Emissions_by_Sect...</td>\n",
       "      <td>5.025583e+02</td>\n",
       "      <td>4.838841e+03</td>\n",
       "      <td>14287.0</td>\n",
       "      <td>5.326875</td>\n",
       "    </tr>\n",
       "    <tr>\n",
       "      <th>2</th>\n",
       "      <td>data/emissions_agriculture/Emissions_Agricultu...</td>\n",
       "      <td>data/production/Production_Livestock_E_All_Dat...</td>\n",
       "      <td>-1.117536e+07</td>\n",
       "      <td>3.105129e+07</td>\n",
       "      <td>1153.0</td>\n",
       "      <td>5.874584</td>\n",
       "    </tr>\n",
       "    <tr>\n",
       "      <th>3</th>\n",
       "      <td>data/emissions_land/Emissions_Land_Use_Land_Us...</td>\n",
       "      <td>data/environment/Environment_Emissions_by_Sect...</td>\n",
       "      <td>2.293806e+03</td>\n",
       "      <td>9.149522e+03</td>\n",
       "      <td>5177.0</td>\n",
       "      <td>88.779951</td>\n",
       "    </tr>\n",
       "  </tbody>\n",
       "</table>\n",
       "</div>"
      ],
      "text/plain": [
       "                                                file  \\\n",
       "0  data/emissions_agriculture/Emissions_Agricultu...   \n",
       "1  data/emissions_agriculture/Emissions_Agricultu...   \n",
       "2  data/emissions_agriculture/Emissions_Agricultu...   \n",
       "3  data/emissions_land/Emissions_Land_Use_Land_Us...   \n",
       "\n",
       "                                              file_2     mean_diff  \\\n",
       "0  data/production/Production_Crops_E_All_Data_(N...  2.754141e+06   \n",
       "1  data/environment/Environment_Emissions_by_Sect...  5.025583e+02   \n",
       "2  data/production/Production_Livestock_E_All_Dat... -1.117536e+07   \n",
       "3  data/environment/Environment_Emissions_by_Sect...  2.293806e+03   \n",
       "\n",
       "            std      num  mean_perc_diff  \n",
       "0  7.064850e+05     57.0        4.526840  \n",
       "1  4.838841e+03  14287.0        5.326875  \n",
       "2  3.105129e+07   1153.0        5.874584  \n",
       "3  9.149522e+03   5177.0       88.779951  "
      ]
     },
     "execution_count": 68,
     "metadata": {},
     "output_type": "execute_result"
    }
   ],
   "source": [
    "joined = get_discrepancies(df)\n",
    "get_discrepancies_by(joined, ['file', 'file_2']).reset_index()"
   ]
  },
  {
   "cell_type": "markdown",
   "metadata": {},
   "source": [
    "In the above DataFrame, we have the `mean_diff` (mean difference between values), `std` and `mean_perc_diff` (mean percentage difference), grouped by files.\n",
    "Hence, each line gives us a description of how much the same measurements differ on average.\n",
    "\n",
    "It seems that the csv file `data/environment/Environment_Emissions_by_Sector_E_All_Data_(Normalized).csv` introduces a lot of discrepancies, which might be due to different techniques of estimating measurements. We will drop this csv from the overall dataframe, but will maybe use it later.\n"
   ]
  },
  {
   "cell_type": "code",
   "execution_count": 69,
   "metadata": {},
   "outputs": [],
   "source": [
    "df = df[df.file != \"data/environment/Environment_Emissions_by_Sector_E_All_Data_(Normalized).csv\"]\n",
    "joined = get_discrepancies(df)"
   ]
  },
  {
   "cell_type": "markdown",
   "metadata": {},
   "source": [
    "Now that we have dropped the potentially problematic csv, we will print the same statistics, but grouped by areacode."
   ]
  },
  {
   "cell_type": "code",
   "execution_count": 87,
   "metadata": {},
   "outputs": [
    {
     "data": {
      "text/html": [
       "<div>\n",
       "<style scoped>\n",
       "    .dataframe tbody tr th:only-of-type {\n",
       "        vertical-align: middle;\n",
       "    }\n",
       "\n",
       "    .dataframe tbody tr th {\n",
       "        vertical-align: top;\n",
       "    }\n",
       "\n",
       "    .dataframe thead th {\n",
       "        text-align: right;\n",
       "    }\n",
       "</style>\n",
       "<table border=\"1\" class=\"dataframe\">\n",
       "  <thead>\n",
       "    <tr style=\"text-align: right;\">\n",
       "      <th></th>\n",
       "      <th>mean_diff</th>\n",
       "      <th>std</th>\n",
       "      <th>num</th>\n",
       "      <th>mean_perc_diff</th>\n",
       "    </tr>\n",
       "  </thead>\n",
       "  <tbody>\n",
       "    <tr>\n",
       "      <th>Northern Africa</th>\n",
       "      <td>8.000000e-01</td>\n",
       "      <td>6.000000e-01</td>\n",
       "      <td>10.0</td>\n",
       "      <td>2.542450e-05</td>\n",
       "    </tr>\n",
       "    <tr>\n",
       "      <th>Asia</th>\n",
       "      <td>-1.117647e+00</td>\n",
       "      <td>6.758309e-01</td>\n",
       "      <td>17.0</td>\n",
       "      <td>7.403882e-06</td>\n",
       "    </tr>\n",
       "    <tr>\n",
       "      <th>Western Asia</th>\n",
       "      <td>-6.666667e-01</td>\n",
       "      <td>7.453560e-01</td>\n",
       "      <td>6.0</td>\n",
       "      <td>9.504502e-05</td>\n",
       "    </tr>\n",
       "    <tr>\n",
       "      <th>Southern Africa</th>\n",
       "      <td>6.000000e-01</td>\n",
       "      <td>8.000000e-01</td>\n",
       "      <td>5.0</td>\n",
       "      <td>1.592143e-03</td>\n",
       "    </tr>\n",
       "    <tr>\n",
       "      <th>Oceania</th>\n",
       "      <td>-6.000000e-01</td>\n",
       "      <td>8.000000e-01</td>\n",
       "      <td>10.0</td>\n",
       "      <td>3.794671e-02</td>\n",
       "    </tr>\n",
       "    <tr>\n",
       "      <th>Southern Europe</th>\n",
       "      <td>-5.000000e-01</td>\n",
       "      <td>8.660254e-01</td>\n",
       "      <td>4.0</td>\n",
       "      <td>4.193061e-04</td>\n",
       "    </tr>\n",
       "    <tr>\n",
       "      <th>Europe</th>\n",
       "      <td>-5.000000e-01</td>\n",
       "      <td>8.660254e-01</td>\n",
       "      <td>8.0</td>\n",
       "      <td>2.039936e-04</td>\n",
       "    </tr>\n",
       "    <tr>\n",
       "      <th>Eastern Asia</th>\n",
       "      <td>-3.333333e-01</td>\n",
       "      <td>9.428090e-01</td>\n",
       "      <td>3.0</td>\n",
       "      <td>4.623518e-07</td>\n",
       "    </tr>\n",
       "    <tr>\n",
       "      <th>China</th>\n",
       "      <td>-3.333333e-01</td>\n",
       "      <td>9.428090e-01</td>\n",
       "      <td>6.0</td>\n",
       "      <td>3.446486e-06</td>\n",
       "    </tr>\n",
       "    <tr>\n",
       "      <th>Polynesia</th>\n",
       "      <td>-3.333333e-01</td>\n",
       "      <td>9.428090e-01</td>\n",
       "      <td>6.0</td>\n",
       "      <td>5.009245e-03</td>\n",
       "    </tr>\n",
       "    <tr>\n",
       "      <th>European Union</th>\n",
       "      <td>-3.333333e-01</td>\n",
       "      <td>9.428090e-01</td>\n",
       "      <td>6.0</td>\n",
       "      <td>2.661175e-04</td>\n",
       "    </tr>\n",
       "    <tr>\n",
       "      <th>Southern Asia</th>\n",
       "      <td>-2.000000e-01</td>\n",
       "      <td>9.797959e-01</td>\n",
       "      <td>5.0</td>\n",
       "      <td>3.257155e-05</td>\n",
       "    </tr>\n",
       "    <tr>\n",
       "      <th>South America</th>\n",
       "      <td>5.000000e-01</td>\n",
       "      <td>9.819805e-01</td>\n",
       "      <td>14.0</td>\n",
       "      <td>2.531298e-05</td>\n",
       "    </tr>\n",
       "    <tr>\n",
       "      <th>Melanesia</th>\n",
       "      <td>1.428571e-01</td>\n",
       "      <td>9.897433e-01</td>\n",
       "      <td>7.0</td>\n",
       "      <td>1.231823e-03</td>\n",
       "    </tr>\n",
       "    <tr>\n",
       "      <th>Equatorial Guinea</th>\n",
       "      <td>0.000000e+00</td>\n",
       "      <td>1.000000e+00</td>\n",
       "      <td>2.0</td>\n",
       "      <td>2.003421e-03</td>\n",
       "    </tr>\n",
       "    <tr>\n",
       "      <th>Netherlands Antilles (former)</th>\n",
       "      <td>0.000000e+00</td>\n",
       "      <td>1.000000e+00</td>\n",
       "      <td>2.0</td>\n",
       "      <td>4.201411e-03</td>\n",
       "    </tr>\n",
       "    <tr>\n",
       "      <th>Saint Lucia</th>\n",
       "      <td>0.000000e+00</td>\n",
       "      <td>1.000000e+00</td>\n",
       "      <td>2.0</td>\n",
       "      <td>5.088646e-03</td>\n",
       "    </tr>\n",
       "    <tr>\n",
       "      <th>Guadeloupe</th>\n",
       "      <td>0.000000e+00</td>\n",
       "      <td>1.000000e+00</td>\n",
       "      <td>2.0</td>\n",
       "      <td>8.735449e-03</td>\n",
       "    </tr>\n",
       "    <tr>\n",
       "      <th>Jamaica</th>\n",
       "      <td>0.000000e+00</td>\n",
       "      <td>1.000000e+00</td>\n",
       "      <td>2.0</td>\n",
       "      <td>1.788757e-04</td>\n",
       "    </tr>\n",
       "    <tr>\n",
       "      <th>Djibouti</th>\n",
       "      <td>0.000000e+00</td>\n",
       "      <td>1.000000e+00</td>\n",
       "      <td>2.0</td>\n",
       "      <td>1.016351e-04</td>\n",
       "    </tr>\n",
       "    <tr>\n",
       "      <th>Middle Africa</th>\n",
       "      <td>0.000000e+00</td>\n",
       "      <td>1.000000e+00</td>\n",
       "      <td>2.0</td>\n",
       "      <td>6.041242e-05</td>\n",
       "    </tr>\n",
       "    <tr>\n",
       "      <th>Zambia</th>\n",
       "      <td>0.000000e+00</td>\n",
       "      <td>1.000000e+00</td>\n",
       "      <td>2.0</td>\n",
       "      <td>3.387576e-05</td>\n",
       "    </tr>\n",
       "    <tr>\n",
       "      <th>Land Locked Developing Countries</th>\n",
       "      <td>3.636364e-01</td>\n",
       "      <td>1.067940e+00</td>\n",
       "      <td>11.0</td>\n",
       "      <td>3.725476e-05</td>\n",
       "    </tr>\n",
       "    <tr>\n",
       "      <th>Central America</th>\n",
       "      <td>2.000000e-01</td>\n",
       "      <td>1.249000e+00</td>\n",
       "      <td>10.0</td>\n",
       "      <td>1.752380e-05</td>\n",
       "    </tr>\n",
       "    <tr>\n",
       "      <th>Africa</th>\n",
       "      <td>4.666667e-01</td>\n",
       "      <td>1.257864e+00</td>\n",
       "      <td>15.0</td>\n",
       "      <td>4.288385e-06</td>\n",
       "    </tr>\n",
       "    <tr>\n",
       "      <th>Eastern Africa</th>\n",
       "      <td>-4.000000e-01</td>\n",
       "      <td>1.280625e+00</td>\n",
       "      <td>10.0</td>\n",
       "      <td>1.092567e-05</td>\n",
       "    </tr>\n",
       "    <tr>\n",
       "      <th>Western Africa</th>\n",
       "      <td>2.500000e-01</td>\n",
       "      <td>1.299038e+00</td>\n",
       "      <td>8.0</td>\n",
       "      <td>2.085972e-05</td>\n",
       "    </tr>\n",
       "    <tr>\n",
       "      <th>Caribbean</th>\n",
       "      <td>-6.428571e-01</td>\n",
       "      <td>1.493182e+00</td>\n",
       "      <td>14.0</td>\n",
       "      <td>1.307029e-04</td>\n",
       "    </tr>\n",
       "    <tr>\n",
       "      <th>Small Island Developing States</th>\n",
       "      <td>-6.400000e-01</td>\n",
       "      <td>1.546092e+00</td>\n",
       "      <td>25.0</td>\n",
       "      <td>1.296991e-04</td>\n",
       "    </tr>\n",
       "    <tr>\n",
       "      <th>World</th>\n",
       "      <td>-1.750000e-01</td>\n",
       "      <td>2.096276e+00</td>\n",
       "      <td>40.0</td>\n",
       "      <td>2.223875e-06</td>\n",
       "    </tr>\n",
       "    <tr>\n",
       "      <th>Americas</th>\n",
       "      <td>2.222222e-01</td>\n",
       "      <td>2.274388e+00</td>\n",
       "      <td>18.0</td>\n",
       "      <td>1.074982e-05</td>\n",
       "    </tr>\n",
       "    <tr>\n",
       "      <th>Least Developed Countries</th>\n",
       "      <td>-2.727602e+04</td>\n",
       "      <td>1.568308e+04</td>\n",
       "      <td>176.0</td>\n",
       "      <td>1.540619e-02</td>\n",
       "    </tr>\n",
       "    <tr>\n",
       "      <th>Net Food Importing Developing Countries</th>\n",
       "      <td>-2.681884e+04</td>\n",
       "      <td>1.594046e+04</td>\n",
       "      <td>179.0</td>\n",
       "      <td>9.207504e-03</td>\n",
       "    </tr>\n",
       "    <tr>\n",
       "      <th>Low Income Food Deficit Countries</th>\n",
       "      <td>-2.479260e+07</td>\n",
       "      <td>4.282501e+07</td>\n",
       "      <td>513.0</td>\n",
       "      <td>1.369534e+01</td>\n",
       "    </tr>\n",
       "  </tbody>\n",
       "</table>\n",
       "</div>"
      ],
      "text/plain": [
       "                                            mean_diff           std    num  \\\n",
       "Northern Africa                          8.000000e-01  6.000000e-01   10.0   \n",
       "Asia                                    -1.117647e+00  6.758309e-01   17.0   \n",
       "Western Asia                            -6.666667e-01  7.453560e-01    6.0   \n",
       "Southern Africa                          6.000000e-01  8.000000e-01    5.0   \n",
       "Oceania                                 -6.000000e-01  8.000000e-01   10.0   \n",
       "Southern Europe                         -5.000000e-01  8.660254e-01    4.0   \n",
       "Europe                                  -5.000000e-01  8.660254e-01    8.0   \n",
       "Eastern Asia                            -3.333333e-01  9.428090e-01    3.0   \n",
       "China                                   -3.333333e-01  9.428090e-01    6.0   \n",
       "Polynesia                               -3.333333e-01  9.428090e-01    6.0   \n",
       "European Union                          -3.333333e-01  9.428090e-01    6.0   \n",
       "Southern Asia                           -2.000000e-01  9.797959e-01    5.0   \n",
       "South America                            5.000000e-01  9.819805e-01   14.0   \n",
       "Melanesia                                1.428571e-01  9.897433e-01    7.0   \n",
       "Equatorial Guinea                        0.000000e+00  1.000000e+00    2.0   \n",
       "Netherlands Antilles (former)            0.000000e+00  1.000000e+00    2.0   \n",
       "Saint Lucia                              0.000000e+00  1.000000e+00    2.0   \n",
       "Guadeloupe                               0.000000e+00  1.000000e+00    2.0   \n",
       "Jamaica                                  0.000000e+00  1.000000e+00    2.0   \n",
       "Djibouti                                 0.000000e+00  1.000000e+00    2.0   \n",
       "Middle Africa                            0.000000e+00  1.000000e+00    2.0   \n",
       "Zambia                                   0.000000e+00  1.000000e+00    2.0   \n",
       "Land Locked Developing Countries         3.636364e-01  1.067940e+00   11.0   \n",
       "Central America                          2.000000e-01  1.249000e+00   10.0   \n",
       "Africa                                   4.666667e-01  1.257864e+00   15.0   \n",
       "Eastern Africa                          -4.000000e-01  1.280625e+00   10.0   \n",
       "Western Africa                           2.500000e-01  1.299038e+00    8.0   \n",
       "Caribbean                               -6.428571e-01  1.493182e+00   14.0   \n",
       "Small Island Developing States          -6.400000e-01  1.546092e+00   25.0   \n",
       "World                                   -1.750000e-01  2.096276e+00   40.0   \n",
       "Americas                                 2.222222e-01  2.274388e+00   18.0   \n",
       "Least Developed Countries               -2.727602e+04  1.568308e+04  176.0   \n",
       "Net Food Importing Developing Countries -2.681884e+04  1.594046e+04  179.0   \n",
       "Low Income Food Deficit Countries       -2.479260e+07  4.282501e+07  513.0   \n",
       "\n",
       "                                         mean_perc_diff  \n",
       "Northern Africa                            2.542450e-05  \n",
       "Asia                                       7.403882e-06  \n",
       "Western Asia                               9.504502e-05  \n",
       "Southern Africa                            1.592143e-03  \n",
       "Oceania                                    3.794671e-02  \n",
       "Southern Europe                            4.193061e-04  \n",
       "Europe                                     2.039936e-04  \n",
       "Eastern Asia                               4.623518e-07  \n",
       "China                                      3.446486e-06  \n",
       "Polynesia                                  5.009245e-03  \n",
       "European Union                             2.661175e-04  \n",
       "Southern Asia                              3.257155e-05  \n",
       "South America                              2.531298e-05  \n",
       "Melanesia                                  1.231823e-03  \n",
       "Equatorial Guinea                          2.003421e-03  \n",
       "Netherlands Antilles (former)              4.201411e-03  \n",
       "Saint Lucia                                5.088646e-03  \n",
       "Guadeloupe                                 8.735449e-03  \n",
       "Jamaica                                    1.788757e-04  \n",
       "Djibouti                                   1.016351e-04  \n",
       "Middle Africa                              6.041242e-05  \n",
       "Zambia                                     3.387576e-05  \n",
       "Land Locked Developing Countries           3.725476e-05  \n",
       "Central America                            1.752380e-05  \n",
       "Africa                                     4.288385e-06  \n",
       "Eastern Africa                             1.092567e-05  \n",
       "Western Africa                             2.085972e-05  \n",
       "Caribbean                                  1.307029e-04  \n",
       "Small Island Developing States             1.296991e-04  \n",
       "World                                      2.223875e-06  \n",
       "Americas                                   1.074982e-05  \n",
       "Least Developed Countries                  1.540619e-02  \n",
       "Net Food Importing Developing Countries    9.207504e-03  \n",
       "Low Income Food Deficit Countries          1.369534e+01  "
      ]
     },
     "execution_count": 87,
     "metadata": {},
     "output_type": "execute_result"
    }
   ],
   "source": [
    "by_area = get_discrepancies_by(joined, 'areacode')#.sort_values(['num', 'mean_perc_diff'])\n",
    "by_area.index = [area_mapping[i] for i in by_area.index]\n",
    "by_area[by_area['std'] > 0].sort_values('std')"
   ]
  },
  {
   "cell_type": "markdown",
   "metadata": {},
   "source": [
    "It seems that problematic areas are in area groups. Since we already know how area groups are formed, we can drop all values that are associated to a group and recompute them using `country_groups`"
   ]
  },
  {
   "cell_type": "code",
   "execution_count": 88,
   "metadata": {},
   "outputs": [],
   "source": [
    "group_codes = set(country_groups.keys())\n",
    "df = df[~df.areacode.isin(group_codes)]  # Drop all country groups"
   ]
  },
  {
   "cell_type": "code",
   "execution_count": 92,
   "metadata": {},
   "outputs": [
    {
     "data": {
      "text/plain": [
       "count    70.000000\n",
       "mean     -0.057143\n",
       "std       1.005575\n",
       "min      -1.000000\n",
       "25%      -1.000000\n",
       "50%      -1.000000\n",
       "75%       1.000000\n",
       "max       1.000000\n",
       "dtype: float64"
      ]
     },
     "execution_count": 92,
     "metadata": {},
     "output_type": "execute_result"
    }
   ],
   "source": [
    "joined = get_discrepancies(df)\n",
    "(joined.value - joined.value_2).describe()"
   ]
  },
  {
   "cell_type": "markdown",
   "metadata": {},
   "source": [
    "As we can see, now most differences have a very small mean and standard deviation. Also, there are only 70 duplicate measurements. In order to have unique ones, we will take the average of the two values"
   ]
  },
  {
   "cell_type": "markdown",
   "metadata": {},
   "source": [
    "#### 2. Taking care of duplicate measurements\n",
    "\n",
    "Now that we have understood where the big differences in duplicates appear, we focus on those that are still here, but are quite small. In order to get rid of duplicate measurements, we will work with a combination of the `value` and `flag` columns."
   ]
  },
  {
   "cell_type": "code",
   "execution_count": 94,
   "metadata": {},
   "outputs": [],
   "source": [
    "def is_close(value_1, value_2, threshold=0.01):\n",
    "    diff = get_percentage_diff(value_1, value_2)\n",
    "    return (value_1 == value_2) | (diff < threshold) | (value_1.isna() & value_2.isna())\n",
    "\n",
    "def is_same_flag(flag_1, flag_2):\n",
    "    return (flag_1 == flag_2) | (flag_1.isna() & flag_2.isna())"
   ]
  },
  {
   "cell_type": "code",
   "execution_count": 95,
   "metadata": {},
   "outputs": [
    {
     "name": "stdout",
     "output_type": "stream",
     "text": [
      "All duplicated measruements' difference are at less than 1%\n"
     ]
    }
   ],
   "source": [
    "if all(is_close(joined['value'], joined['value_2'])):\n",
    "    print(\"All duplicated measruements' difference are at less than 1%\")"
   ]
  },
  {
   "cell_type": "code",
   "execution_count": 96,
   "metadata": {},
   "outputs": [
    {
     "name": "stdout",
     "output_type": "stream",
     "text": [
      "100.00% of duplicated rows have the same flag\n"
     ]
    }
   ],
   "source": [
    "same_flag = joined[is_same_flag(joined.flag, joined.flag_2)]\n",
    "print(\"{:.2f}% of duplicated rows have the same flag\".format(same_flag.shape[0]/ joined.shape[0]*100))"
   ]
  },
  {
   "cell_type": "markdown",
   "metadata": {},
   "source": [
    "Since most duplicated measurements'values are really close, we will take the mean if there are two different values."
   ]
  },
  {
   "cell_type": "code",
   "execution_count": 97,
   "metadata": {},
   "outputs": [],
   "source": [
    "df = df.drop(columns=['file', 'flag']).drop_duplicates().groupby(['areacode', 'itemcode', 'elementcode', 'year'])['value'].mean().reset_index()"
   ]
  },
  {
   "cell_type": "markdown",
   "metadata": {},
   "source": [
    "---\n",
    "### B.3 Reshaping measurements as columns\n",
    "---\n",
    "\n",
    "Now that we have unique measurements, we will reshape the dataframe to put each measurement for an item as column, so that for each (`areacode`, `itemcode`, `year`) we have all the measurements as columns."
   ]
  },
  {
   "cell_type": "code",
   "execution_count": 98,
   "metadata": {},
   "outputs": [],
   "source": [
    "reshaped_df = df.set_index(['areacode', 'itemcode', 'elementcode', 'year'])['value'].unstack(level=2).reset_index()"
   ]
  },
  {
   "cell_type": "markdown",
   "metadata": {},
   "source": [
    "1. Treating the Cattle (codes 866 and 1757) and Chicken (codes 1054 and 1057) duplicate items "
   ]
  },
  {
   "cell_type": "code",
   "execution_count": 102,
   "metadata": {},
   "outputs": [],
   "source": [
    "cattle_1 = get_item(reshaped_df, 866)\n",
    "cattle_2 = get_item(reshaped_df, 1757)"
   ]
  },
  {
   "cell_type": "code",
   "execution_count": 133,
   "metadata": {},
   "outputs": [
    {
     "data": {
      "text/html": [
       "<div>\n",
       "<style scoped>\n",
       "    .dataframe tbody tr th:only-of-type {\n",
       "        vertical-align: middle;\n",
       "    }\n",
       "\n",
       "    .dataframe tbody tr th {\n",
       "        vertical-align: top;\n",
       "    }\n",
       "\n",
       "    .dataframe thead th {\n",
       "        text-align: right;\n",
       "    }\n",
       "</style>\n",
       "<table border=\"1\" class=\"dataframe\">\n",
       "  <thead>\n",
       "    <tr style=\"text-align: right;\">\n",
       "      <th>elementcode</th>\n",
       "      <th>areacode</th>\n",
       "      <th>itemcode</th>\n",
       "      <th>year</th>\n",
       "      <th>5111</th>\n",
       "    </tr>\n",
       "  </thead>\n",
       "  <tbody>\n",
       "    <tr>\n",
       "      <th>1080</th>\n",
       "      <td>1</td>\n",
       "      <td>866</td>\n",
       "      <td>1992</td>\n",
       "      <td>566452.0</td>\n",
       "    </tr>\n",
       "    <tr>\n",
       "      <th>1081</th>\n",
       "      <td>1</td>\n",
       "      <td>866</td>\n",
       "      <td>1993</td>\n",
       "      <td>498863.0</td>\n",
       "    </tr>\n",
       "    <tr>\n",
       "      <th>1082</th>\n",
       "      <td>1</td>\n",
       "      <td>866</td>\n",
       "      <td>1994</td>\n",
       "      <td>501635.0</td>\n",
       "    </tr>\n",
       "    <tr>\n",
       "      <th>1083</th>\n",
       "      <td>1</td>\n",
       "      <td>866</td>\n",
       "      <td>1995</td>\n",
       "      <td>503693.0</td>\n",
       "    </tr>\n",
       "    <tr>\n",
       "      <th>1084</th>\n",
       "      <td>1</td>\n",
       "      <td>866</td>\n",
       "      <td>1996</td>\n",
       "      <td>507512.0</td>\n",
       "    </tr>\n",
       "  </tbody>\n",
       "</table>\n",
       "</div>"
      ],
      "text/plain": [
       "elementcode  areacode  itemcode  year      5111\n",
       "1080                1       866  1992  566452.0\n",
       "1081                1       866  1993  498863.0\n",
       "1082                1       866  1994  501635.0\n",
       "1083                1       866  1995  503693.0\n",
       "1084                1       866  1996  507512.0"
      ]
     },
     "execution_count": 133,
     "metadata": {},
     "output_type": "execute_result"
    }
   ],
   "source": [
    "cattle_1.head()"
   ]
  },
  {
   "cell_type": "code",
   "execution_count": 134,
   "metadata": {},
   "outputs": [
    {
     "data": {
      "text/html": [
       "<div>\n",
       "<style scoped>\n",
       "    .dataframe tbody tr th:only-of-type {\n",
       "        vertical-align: middle;\n",
       "    }\n",
       "\n",
       "    .dataframe tbody tr th {\n",
       "        vertical-align: top;\n",
       "    }\n",
       "\n",
       "    .dataframe thead th {\n",
       "        text-align: right;\n",
       "    }\n",
       "</style>\n",
       "<table border=\"1\" class=\"dataframe\">\n",
       "  <thead>\n",
       "    <tr style=\"text-align: right;\">\n",
       "      <th>elementcode</th>\n",
       "      <th>areacode</th>\n",
       "      <th>itemcode</th>\n",
       "      <th>year</th>\n",
       "      <th>5111</th>\n",
       "      <th>72254</th>\n",
       "      <th>72256</th>\n",
       "      <th>72300</th>\n",
       "      <th>72301</th>\n",
       "      <th>72306</th>\n",
       "      <th>72310</th>\n",
       "      <th>...</th>\n",
       "      <th>72381</th>\n",
       "      <th>72386</th>\n",
       "      <th>72436</th>\n",
       "      <th>72446</th>\n",
       "      <th>723601</th>\n",
       "      <th>723602</th>\n",
       "      <th>723801</th>\n",
       "      <th>723802</th>\n",
       "      <th>723811</th>\n",
       "      <th>723812</th>\n",
       "    </tr>\n",
       "  </thead>\n",
       "  <tbody>\n",
       "    <tr>\n",
       "      <th>3138</th>\n",
       "      <td>1</td>\n",
       "      <td>1757</td>\n",
       "      <td>1992</td>\n",
       "      <td>566452.0</td>\n",
       "      <td>21.3271</td>\n",
       "      <td>0.8176</td>\n",
       "      <td>1.1196</td>\n",
       "      <td>0.0303</td>\n",
       "      <td>0.0155</td>\n",
       "      <td>347.0656</td>\n",
       "      <td>...</td>\n",
       "      <td>1.351598e+06</td>\n",
       "      <td>1.668742e+06</td>\n",
       "      <td>4.7979</td>\n",
       "      <td>17.1693</td>\n",
       "      <td>0.0923</td>\n",
       "      <td>0.1039</td>\n",
       "      <td>5.875888e+06</td>\n",
       "      <td>8.813832e+06</td>\n",
       "      <td>270319.6366</td>\n",
       "      <td>405479.4549</td>\n",
       "    </tr>\n",
       "    <tr>\n",
       "      <th>3139</th>\n",
       "      <td>1</td>\n",
       "      <td>1757</td>\n",
       "      <td>1993</td>\n",
       "      <td>498863.0</td>\n",
       "      <td>19.3270</td>\n",
       "      <td>0.7563</td>\n",
       "      <td>1.0116</td>\n",
       "      <td>0.0268</td>\n",
       "      <td>0.0137</td>\n",
       "      <td>313.6046</td>\n",
       "      <td>...</td>\n",
       "      <td>1.197811e+06</td>\n",
       "      <td>1.506630e+06</td>\n",
       "      <td>4.2624</td>\n",
       "      <td>15.8833</td>\n",
       "      <td>0.0834</td>\n",
       "      <td>0.0939</td>\n",
       "      <td>5.309387e+06</td>\n",
       "      <td>7.964081e+06</td>\n",
       "      <td>239562.2715</td>\n",
       "      <td>359343.4073</td>\n",
       "    </tr>\n",
       "    <tr>\n",
       "      <th>3140</th>\n",
       "      <td>1</td>\n",
       "      <td>1757</td>\n",
       "      <td>1994</td>\n",
       "      <td>501635.0</td>\n",
       "      <td>19.5984</td>\n",
       "      <td>0.7715</td>\n",
       "      <td>1.0250</td>\n",
       "      <td>0.0270</td>\n",
       "      <td>0.0139</td>\n",
       "      <td>317.7398</td>\n",
       "      <td>...</td>\n",
       "      <td>1.206720e+06</td>\n",
       "      <td>1.526136e+06</td>\n",
       "      <td>4.2972</td>\n",
       "      <td>16.2011</td>\n",
       "      <td>0.0845</td>\n",
       "      <td>0.0951</td>\n",
       "      <td>5.379397e+06</td>\n",
       "      <td>8.069095e+06</td>\n",
       "      <td>241343.9611</td>\n",
       "      <td>362015.9417</td>\n",
       "    </tr>\n",
       "    <tr>\n",
       "      <th>3141</th>\n",
       "      <td>1</td>\n",
       "      <td>1757</td>\n",
       "      <td>1995</td>\n",
       "      <td>503693.0</td>\n",
       "      <td>19.7545</td>\n",
       "      <td>0.7797</td>\n",
       "      <td>1.0327</td>\n",
       "      <td>0.0272</td>\n",
       "      <td>0.0139</td>\n",
       "      <td>320.1486</td>\n",
       "      <td>...</td>\n",
       "      <td>1.212711e+06</td>\n",
       "      <td>1.537541e+06</td>\n",
       "      <td>4.3199</td>\n",
       "      <td>16.3736</td>\n",
       "      <td>0.0852</td>\n",
       "      <td>0.0958</td>\n",
       "      <td>5.420177e+06</td>\n",
       "      <td>8.130266e+06</td>\n",
       "      <td>242542.2022</td>\n",
       "      <td>363813.3032</td>\n",
       "    </tr>\n",
       "    <tr>\n",
       "      <th>3142</th>\n",
       "      <td>1</td>\n",
       "      <td>1757</td>\n",
       "      <td>1996</td>\n",
       "      <td>507512.0</td>\n",
       "      <td>19.8849</td>\n",
       "      <td>0.7843</td>\n",
       "      <td>1.0397</td>\n",
       "      <td>0.0274</td>\n",
       "      <td>0.0140</td>\n",
       "      <td>322.2929</td>\n",
       "      <td>...</td>\n",
       "      <td>1.221639e+06</td>\n",
       "      <td>1.547881e+06</td>\n",
       "      <td>4.3514</td>\n",
       "      <td>16.4706</td>\n",
       "      <td>0.0857</td>\n",
       "      <td>0.0965</td>\n",
       "      <td>5.456482e+06</td>\n",
       "      <td>8.184722e+06</td>\n",
       "      <td>244327.8668</td>\n",
       "      <td>366491.8001</td>\n",
       "    </tr>\n",
       "  </tbody>\n",
       "</table>\n",
       "<p>5 rows × 36 columns</p>\n",
       "</div>"
      ],
      "text/plain": [
       "elementcode  areacode  itemcode  year      5111    72254   72256   72300  \\\n",
       "3138                1      1757  1992  566452.0  21.3271  0.8176  1.1196   \n",
       "3139                1      1757  1993  498863.0  19.3270  0.7563  1.0116   \n",
       "3140                1      1757  1994  501635.0  19.5984  0.7715  1.0250   \n",
       "3141                1      1757  1995  503693.0  19.7545  0.7797  1.0327   \n",
       "3142                1      1757  1996  507512.0  19.8849  0.7843  1.0397   \n",
       "\n",
       "elementcode   72301   72306     72310  ...         72381         72386  \\\n",
       "3138         0.0303  0.0155  347.0656  ...  1.351598e+06  1.668742e+06   \n",
       "3139         0.0268  0.0137  313.6046  ...  1.197811e+06  1.506630e+06   \n",
       "3140         0.0270  0.0139  317.7398  ...  1.206720e+06  1.526136e+06   \n",
       "3141         0.0272  0.0139  320.1486  ...  1.212711e+06  1.537541e+06   \n",
       "3142         0.0274  0.0140  322.2929  ...  1.221639e+06  1.547881e+06   \n",
       "\n",
       "elementcode   72436    72446  723601  723602        723801        723802  \\\n",
       "3138         4.7979  17.1693  0.0923  0.1039  5.875888e+06  8.813832e+06   \n",
       "3139         4.2624  15.8833  0.0834  0.0939  5.309387e+06  7.964081e+06   \n",
       "3140         4.2972  16.2011  0.0845  0.0951  5.379397e+06  8.069095e+06   \n",
       "3141         4.3199  16.3736  0.0852  0.0958  5.420177e+06  8.130266e+06   \n",
       "3142         4.3514  16.4706  0.0857  0.0965  5.456482e+06  8.184722e+06   \n",
       "\n",
       "elementcode       723811       723812  \n",
       "3138         270319.6366  405479.4549  \n",
       "3139         239562.2715  359343.4073  \n",
       "3140         241343.9611  362015.9417  \n",
       "3141         242542.2022  363813.3032  \n",
       "3142         244327.8668  366491.8001  \n",
       "\n",
       "[5 rows x 36 columns]"
      ]
     },
     "execution_count": 134,
     "metadata": {},
     "output_type": "execute_result"
    }
   ],
   "source": [
    "cattle_2.head()"
   ]
  },
  {
   "cell_type": "markdown",
   "metadata": {},
   "source": [
    "It seems that `cattle` with itemcode `866` is only associated to one `elementcode` (5111), while the other itemcode (1757) has much more. In order to see if we should drop the item code `1757`, let's check if all measurements for both item codes are equal."
   ]
  },
  {
   "cell_type": "code",
   "execution_count": 154,
   "metadata": {},
   "outputs": [
    {
     "name": "stdout",
     "output_type": "stream",
     "text": [
      "All present items are equal\n",
      "Some measurements exist in the first but not the second\n"
     ]
    }
   ],
   "source": [
    "from utils import all_present_values_equal\n",
    "dd1 = cattle_1.drop(columns=['itemcode']).set_index(['areacode', 'year'])\n",
    "dd2 = cattle_2[[\"areacode\", \"year\", 5111]].set_index(['areacode', 'year'])\n",
    "all_present_values_equal(dd1, dd2)"
   ]
  },
  {
   "cell_type": "markdown",
   "metadata": {},
   "source": [
    "Hence, we can replace the itemcode `866` by `1757`, and re-do the reshaping so that we keep the values of `866` that don't exist for `1757`, and then drop all duplicate rows."
   ]
  },
  {
   "cell_type": "code",
   "execution_count": 149,
   "metadata": {},
   "outputs": [],
   "source": [
    "df = df.assign(itemcode=df.itemcode.apply(lambda x: x if x != 866 else 1757))\n",
    "df = df.drop_duplicates()"
   ]
  },
  {
   "cell_type": "code",
   "execution_count": 150,
   "metadata": {},
   "outputs": [],
   "source": [
    "chickens_1 = get_item(reshaped_df, 1054)\n",
    "chickens_2 = get_item(reshaped_df, 1057)"
   ]
  },
  {
   "cell_type": "code",
   "execution_count": 155,
   "metadata": {},
   "outputs": [
    {
     "data": {
      "text/html": [
       "<div>\n",
       "<style scoped>\n",
       "    .dataframe tbody tr th:only-of-type {\n",
       "        vertical-align: middle;\n",
       "    }\n",
       "\n",
       "    .dataframe tbody tr th {\n",
       "        vertical-align: top;\n",
       "    }\n",
       "\n",
       "    .dataframe thead th {\n",
       "        text-align: right;\n",
       "    }\n",
       "</style>\n",
       "<table border=\"1\" class=\"dataframe\">\n",
       "  <thead>\n",
       "    <tr style=\"text-align: right;\">\n",
       "      <th>elementcode</th>\n",
       "      <th>areacode</th>\n",
       "      <th>itemcode</th>\n",
       "      <th>year</th>\n",
       "      <th>5111</th>\n",
       "      <th>72256</th>\n",
       "      <th>72300</th>\n",
       "      <th>72301</th>\n",
       "      <th>72306</th>\n",
       "      <th>72310</th>\n",
       "      <th>72311</th>\n",
       "      <th>...</th>\n",
       "      <th>72381</th>\n",
       "      <th>72386</th>\n",
       "      <th>72436</th>\n",
       "      <th>72446</th>\n",
       "      <th>723601</th>\n",
       "      <th>723602</th>\n",
       "      <th>723801</th>\n",
       "      <th>723802</th>\n",
       "      <th>723811</th>\n",
       "      <th>723812</th>\n",
       "    </tr>\n",
       "  </thead>\n",
       "  <tbody>\n",
       "    <tr>\n",
       "      <th>1770</th>\n",
       "      <td>1</td>\n",
       "      <td>1054</td>\n",
       "      <td>1992</td>\n",
       "      <td>8934000.0</td>\n",
       "      <td>0.0893</td>\n",
       "      <td>0.0979</td>\n",
       "      <td>0.0235</td>\n",
       "      <td>0.0082</td>\n",
       "      <td>30.3502</td>\n",
       "      <td>7.2846</td>\n",
       "      <td>...</td>\n",
       "      <td>1.049382e+06</td>\n",
       "      <td>1.049382e+06</td>\n",
       "      <td>2.5560</td>\n",
       "      <td>1.8761</td>\n",
       "      <td>0.0081</td>\n",
       "      <td>0.0091</td>\n",
       "      <td>513835.3638</td>\n",
       "      <td>770753.0457</td>\n",
       "      <td>209876.4162</td>\n",
       "      <td>314814.6243</td>\n",
       "    </tr>\n",
       "    <tr>\n",
       "      <th>1771</th>\n",
       "      <td>1</td>\n",
       "      <td>1054</td>\n",
       "      <td>1993</td>\n",
       "      <td>2655000.0</td>\n",
       "      <td>0.0266</td>\n",
       "      <td>0.0351</td>\n",
       "      <td>0.0084</td>\n",
       "      <td>0.0030</td>\n",
       "      <td>10.8736</td>\n",
       "      <td>2.6099</td>\n",
       "      <td>...</td>\n",
       "      <td>3.759633e+05</td>\n",
       "      <td>3.759633e+05</td>\n",
       "      <td>0.9157</td>\n",
       "      <td>0.5576</td>\n",
       "      <td>0.0029</td>\n",
       "      <td>0.0033</td>\n",
       "      <td>184092.3855</td>\n",
       "      <td>276138.5783</td>\n",
       "      <td>75192.6645</td>\n",
       "      <td>112788.9968</td>\n",
       "    </tr>\n",
       "    <tr>\n",
       "      <th>1772</th>\n",
       "      <td>1</td>\n",
       "      <td>1054</td>\n",
       "      <td>1994</td>\n",
       "      <td>2686000.0</td>\n",
       "      <td>0.0269</td>\n",
       "      <td>0.0354</td>\n",
       "      <td>0.0085</td>\n",
       "      <td>0.0030</td>\n",
       "      <td>10.9676</td>\n",
       "      <td>2.6324</td>\n",
       "      <td>...</td>\n",
       "      <td>3.792119e+05</td>\n",
       "      <td>3.792119e+05</td>\n",
       "      <td>0.9237</td>\n",
       "      <td>0.5641</td>\n",
       "      <td>0.0029</td>\n",
       "      <td>0.0033</td>\n",
       "      <td>185683.0482</td>\n",
       "      <td>278524.5723</td>\n",
       "      <td>75842.3718</td>\n",
       "      <td>113763.5577</td>\n",
       "    </tr>\n",
       "    <tr>\n",
       "      <th>1773</th>\n",
       "      <td>1</td>\n",
       "      <td>1054</td>\n",
       "      <td>1995</td>\n",
       "      <td>2713000.0</td>\n",
       "      <td>0.0271</td>\n",
       "      <td>0.0356</td>\n",
       "      <td>0.0086</td>\n",
       "      <td>0.0030</td>\n",
       "      <td>11.0494</td>\n",
       "      <td>2.6520</td>\n",
       "      <td>...</td>\n",
       "      <td>3.820412e+05</td>\n",
       "      <td>3.820412e+05</td>\n",
       "      <td>0.9305</td>\n",
       "      <td>0.5697</td>\n",
       "      <td>0.0029</td>\n",
       "      <td>0.0033</td>\n",
       "      <td>187068.4641</td>\n",
       "      <td>280602.6961</td>\n",
       "      <td>76408.2459</td>\n",
       "      <td>114612.3689</td>\n",
       "    </tr>\n",
       "    <tr>\n",
       "      <th>1774</th>\n",
       "      <td>1</td>\n",
       "      <td>1054</td>\n",
       "      <td>1996</td>\n",
       "      <td>2721000.0</td>\n",
       "      <td>0.0272</td>\n",
       "      <td>0.0357</td>\n",
       "      <td>0.0086</td>\n",
       "      <td>0.0030</td>\n",
       "      <td>11.0736</td>\n",
       "      <td>2.6579</td>\n",
       "      <td>...</td>\n",
       "      <td>3.828796e+05</td>\n",
       "      <td>3.828796e+05</td>\n",
       "      <td>0.9326</td>\n",
       "      <td>0.5714</td>\n",
       "      <td>0.0029</td>\n",
       "      <td>0.0033</td>\n",
       "      <td>187478.9577</td>\n",
       "      <td>281218.4365</td>\n",
       "      <td>76575.9123</td>\n",
       "      <td>114863.8685</td>\n",
       "    </tr>\n",
       "  </tbody>\n",
       "</table>\n",
       "<p>5 rows × 34 columns</p>\n",
       "</div>"
      ],
      "text/plain": [
       "elementcode  areacode  itemcode  year       5111   72256   72300   72301  \\\n",
       "1770                1      1054  1992  8934000.0  0.0893  0.0979  0.0235   \n",
       "1771                1      1054  1993  2655000.0  0.0266  0.0351  0.0084   \n",
       "1772                1      1054  1994  2686000.0  0.0269  0.0354  0.0085   \n",
       "1773                1      1054  1995  2713000.0  0.0271  0.0356  0.0086   \n",
       "1774                1      1054  1996  2721000.0  0.0272  0.0357  0.0086   \n",
       "\n",
       "elementcode   72306    72310   72311  ...         72381         72386   72436  \\\n",
       "1770         0.0082  30.3502  7.2846  ...  1.049382e+06  1.049382e+06  2.5560   \n",
       "1771         0.0030  10.8736  2.6099  ...  3.759633e+05  3.759633e+05  0.9157   \n",
       "1772         0.0030  10.9676  2.6324  ...  3.792119e+05  3.792119e+05  0.9237   \n",
       "1773         0.0030  11.0494  2.6520  ...  3.820412e+05  3.820412e+05  0.9305   \n",
       "1774         0.0030  11.0736  2.6579  ...  3.828796e+05  3.828796e+05  0.9326   \n",
       "\n",
       "elementcode   72446  723601  723602       723801       723802       723811  \\\n",
       "1770         1.8761  0.0081  0.0091  513835.3638  770753.0457  209876.4162   \n",
       "1771         0.5576  0.0029  0.0033  184092.3855  276138.5783   75192.6645   \n",
       "1772         0.5641  0.0029  0.0033  185683.0482  278524.5723   75842.3718   \n",
       "1773         0.5697  0.0029  0.0033  187068.4641  280602.6961   76408.2459   \n",
       "1774         0.5714  0.0029  0.0033  187478.9577  281218.4365   76575.9123   \n",
       "\n",
       "elementcode       723812  \n",
       "1770         314814.6243  \n",
       "1771         112788.9968  \n",
       "1772         113763.5577  \n",
       "1773         114612.3689  \n",
       "1774         114863.8685  \n",
       "\n",
       "[5 rows x 34 columns]"
      ]
     },
     "execution_count": 155,
     "metadata": {},
     "output_type": "execute_result"
    }
   ],
   "source": [
    "chickens_1.head()"
   ]
  },
  {
   "cell_type": "code",
   "execution_count": 156,
   "metadata": {},
   "outputs": [
    {
     "data": {
      "text/html": [
       "<div>\n",
       "<style scoped>\n",
       "    .dataframe tbody tr th:only-of-type {\n",
       "        vertical-align: middle;\n",
       "    }\n",
       "\n",
       "    .dataframe tbody tr th {\n",
       "        vertical-align: top;\n",
       "    }\n",
       "\n",
       "    .dataframe thead th {\n",
       "        text-align: right;\n",
       "    }\n",
       "</style>\n",
       "<table border=\"1\" class=\"dataframe\">\n",
       "  <thead>\n",
       "    <tr style=\"text-align: right;\">\n",
       "      <th>elementcode</th>\n",
       "      <th>areacode</th>\n",
       "      <th>itemcode</th>\n",
       "      <th>year</th>\n",
       "      <th>5112</th>\n",
       "    </tr>\n",
       "  </thead>\n",
       "  <tbody>\n",
       "    <tr>\n",
       "      <th>1820</th>\n",
       "      <td>1</td>\n",
       "      <td>1057</td>\n",
       "      <td>1992</td>\n",
       "      <td>8934.0</td>\n",
       "    </tr>\n",
       "    <tr>\n",
       "      <th>1821</th>\n",
       "      <td>1</td>\n",
       "      <td>1057</td>\n",
       "      <td>1993</td>\n",
       "      <td>2655.0</td>\n",
       "    </tr>\n",
       "    <tr>\n",
       "      <th>1822</th>\n",
       "      <td>1</td>\n",
       "      <td>1057</td>\n",
       "      <td>1994</td>\n",
       "      <td>2686.0</td>\n",
       "    </tr>\n",
       "    <tr>\n",
       "      <th>1823</th>\n",
       "      <td>1</td>\n",
       "      <td>1057</td>\n",
       "      <td>1995</td>\n",
       "      <td>2713.0</td>\n",
       "    </tr>\n",
       "    <tr>\n",
       "      <th>1824</th>\n",
       "      <td>1</td>\n",
       "      <td>1057</td>\n",
       "      <td>1996</td>\n",
       "      <td>2721.0</td>\n",
       "    </tr>\n",
       "  </tbody>\n",
       "</table>\n",
       "</div>"
      ],
      "text/plain": [
       "elementcode  areacode  itemcode  year    5112\n",
       "1820                1      1057  1992  8934.0\n",
       "1821                1      1057  1993  2655.0\n",
       "1822                1      1057  1994  2686.0\n",
       "1823                1      1057  1995  2713.0\n",
       "1824                1      1057  1996  2721.0"
      ]
     },
     "execution_count": 156,
     "metadata": {},
     "output_type": "execute_result"
    }
   ],
   "source": [
    "chickens_2.head()"
   ]
  },
  {
   "cell_type": "code",
   "execution_count": 163,
   "metadata": {},
   "outputs": [
    {
     "data": {
      "text/plain": [
       "(('Stocks', '1000 Head'), ('Stocks', 'Head'))"
      ]
     },
     "execution_count": 163,
     "metadata": {},
     "output_type": "execute_result"
    }
   ],
   "source": [
    "element_mapping[5112], element_mapping[5111]"
   ]
  },
  {
   "cell_type": "markdown",
   "metadata": {},
   "source": [
    "It seems that `chickens` with itemcode `1057` is only associated to one `elementcode` (5112) i.e. Stocks in 1000 Head, while the other itemcode (1054) has elementcode `5111` which is Stocks in Head, as well as other measurements. Hence, we decide to drop itemcode 1057."
   ]
  },
  {
   "cell_type": "code",
   "execution_count": 164,
   "metadata": {},
   "outputs": [],
   "source": [
    "df = df[df.itemcode != 1057]\n",
    "df = df.drop_duplicates()"
   ]
  },
  {
   "cell_type": "markdown",
   "metadata": {},
   "source": [
    "2. Final Reshaping and saving dataframe to file"
   ]
  },
  {
   "cell_type": "code",
   "execution_count": 165,
   "metadata": {},
   "outputs": [],
   "source": [
    "reshaped_df = df.set_index(['areacode', 'itemcode', 'elementcode', 'year'])['value'].unstack(level=2).reset_index()"
   ]
  },
  {
   "cell_type": "code",
   "execution_count": 166,
   "metadata": {},
   "outputs": [],
   "source": [
    "reshaped_df.to_pickle(\"reshaped_df.pkl\")"
   ]
  },
  {
   "cell_type": "code",
   "execution_count": 169,
   "metadata": {},
   "outputs": [
    {
     "name": "stdout",
     "output_type": "stream",
     "text": [
      "<class 'pandas.core.frame.DataFrame'>\n",
      "RangeIndex: 1820426 entries, 0 to 1820425\n",
      "Columns: 135 entries, areacode to 724410\n",
      "dtypes: float64(132), int64(3)\n",
      "memory usage: 1.8 GB\n"
     ]
    }
   ],
   "source": [
    "reshaped_df.info()"
   ]
  },
  {
   "cell_type": "markdown",
   "metadata": {},
   "source": [
    "The overall dataframe is 1.8 GB, so it easily fits in memory"
   ]
  },
  {
   "cell_type": "code",
   "execution_count": 170,
   "metadata": {},
   "outputs": [
    {
     "data": {
      "text/html": [
       "<div>\n",
       "<style scoped>\n",
       "    .dataframe tbody tr th:only-of-type {\n",
       "        vertical-align: middle;\n",
       "    }\n",
       "\n",
       "    .dataframe tbody tr th {\n",
       "        vertical-align: top;\n",
       "    }\n",
       "\n",
       "    .dataframe thead th {\n",
       "        text-align: right;\n",
       "    }\n",
       "</style>\n",
       "<table border=\"1\" class=\"dataframe\">\n",
       "  <thead>\n",
       "    <tr style=\"text-align: right;\">\n",
       "      <th>elementcode</th>\n",
       "      <th>areacode</th>\n",
       "      <th>itemcode</th>\n",
       "      <th>year</th>\n",
       "      <th>511</th>\n",
       "      <th>512</th>\n",
       "      <th>513</th>\n",
       "      <th>551</th>\n",
       "      <th>561</th>\n",
       "      <th>5026</th>\n",
       "      <th>5111</th>\n",
       "      <th>...</th>\n",
       "      <th>723601</th>\n",
       "      <th>723602</th>\n",
       "      <th>723631</th>\n",
       "      <th>723632</th>\n",
       "      <th>723801</th>\n",
       "      <th>723802</th>\n",
       "      <th>723811</th>\n",
       "      <th>723812</th>\n",
       "      <th>724310</th>\n",
       "      <th>724410</th>\n",
       "    </tr>\n",
       "  </thead>\n",
       "  <tbody>\n",
       "    <tr>\n",
       "      <th>count</th>\n",
       "      <td>1.820426e+06</td>\n",
       "      <td>1.820426e+06</td>\n",
       "      <td>1.820426e+06</td>\n",
       "      <td>3.434900e+04</td>\n",
       "      <td>29582.000000</td>\n",
       "      <td>29582.000000</td>\n",
       "      <td>22419.000000</td>\n",
       "      <td>2.241900e+04</td>\n",
       "      <td>9.286000e+03</td>\n",
       "      <td>2.135540e+05</td>\n",
       "      <td>...</td>\n",
       "      <td>203764.000000</td>\n",
       "      <td>203764.000000</td>\n",
       "      <td>10430.000000</td>\n",
       "      <td>10430.000000</td>\n",
       "      <td>2.037640e+05</td>\n",
       "      <td>2.037640e+05</td>\n",
       "      <td>2.037640e+05</td>\n",
       "      <td>2.037640e+05</td>\n",
       "      <td>43106.000000</td>\n",
       "      <td>43106.000000</td>\n",
       "    </tr>\n",
       "    <tr>\n",
       "      <th>mean</th>\n",
       "      <td>1.271487e+02</td>\n",
       "      <td>1.751123e+03</td>\n",
       "      <td>1.991963e+03</td>\n",
       "      <td>3.862612e+04</td>\n",
       "      <td>22587.315000</td>\n",
       "      <td>22257.645266</td>\n",
       "      <td>15938.502169</td>\n",
       "      <td>1.700318e+04</td>\n",
       "      <td>1.551183e+05</td>\n",
       "      <td>1.621639e+07</td>\n",
       "      <td>...</td>\n",
       "      <td>0.197304</td>\n",
       "      <td>0.221967</td>\n",
       "      <td>0.766110</td>\n",
       "      <td>1.723747</td>\n",
       "      <td>1.255575e+07</td>\n",
       "      <td>1.883363e+07</td>\n",
       "      <td>4.976118e+06</td>\n",
       "      <td>7.464177e+06</td>\n",
       "      <td>82.069813</td>\n",
       "      <td>28.434541</td>\n",
       "    </tr>\n",
       "    <tr>\n",
       "      <th>std</th>\n",
       "      <td>7.580728e+01</td>\n",
       "      <td>1.754910e+03</td>\n",
       "      <td>1.842096e+01</td>\n",
       "      <td>1.495703e+05</td>\n",
       "      <td>81963.956597</td>\n",
       "      <td>78356.101142</td>\n",
       "      <td>77669.105095</td>\n",
       "      <td>7.422375e+04</td>\n",
       "      <td>4.280476e+05</td>\n",
       "      <td>1.432449e+08</td>\n",
       "      <td>...</td>\n",
       "      <td>1.084348</td>\n",
       "      <td>1.219892</td>\n",
       "      <td>3.783892</td>\n",
       "      <td>8.513758</td>\n",
       "      <td>6.900399e+07</td>\n",
       "      <td>1.035060e+08</td>\n",
       "      <td>3.261376e+07</td>\n",
       "      <td>4.892064e+07</td>\n",
       "      <td>407.025155</td>\n",
       "      <td>244.364555</td>\n",
       "    </tr>\n",
       "    <tr>\n",
       "      <th>min</th>\n",
       "      <td>1.000000e+00</td>\n",
       "      <td>1.500000e+01</td>\n",
       "      <td>1.950000e+03</td>\n",
       "      <td>6.420000e-01</td>\n",
       "      <td>6.812000</td>\n",
       "      <td>6.889000</td>\n",
       "      <td>0.000000</td>\n",
       "      <td>0.000000e+00</td>\n",
       "      <td>8.604000e-01</td>\n",
       "      <td>0.000000e+00</td>\n",
       "      <td>...</td>\n",
       "      <td>0.000000</td>\n",
       "      <td>0.000000</td>\n",
       "      <td>0.000000</td>\n",
       "      <td>0.000000</td>\n",
       "      <td>0.000000e+00</td>\n",
       "      <td>0.000000e+00</td>\n",
       "      <td>0.000000e+00</td>\n",
       "      <td>0.000000e+00</td>\n",
       "      <td>-365.101000</td>\n",
       "      <td>-3.588800</td>\n",
       "    </tr>\n",
       "    <tr>\n",
       "      <th>25%</th>\n",
       "      <td>6.000000e+01</td>\n",
       "      <td>6.030000e+02</td>\n",
       "      <td>1.977000e+03</td>\n",
       "      <td>3.408740e+02</td>\n",
       "      <td>627.016750</td>\n",
       "      <td>631.188250</td>\n",
       "      <td>73.752000</td>\n",
       "      <td>1.240245e+02</td>\n",
       "      <td>2.331951e+03</td>\n",
       "      <td>2.209250e+04</td>\n",
       "      <td>...</td>\n",
       "      <td>0.000000</td>\n",
       "      <td>0.000100</td>\n",
       "      <td>0.001600</td>\n",
       "      <td>0.003500</td>\n",
       "      <td>2.964533e+03</td>\n",
       "      <td>4.446800e+03</td>\n",
       "      <td>4.144672e+03</td>\n",
       "      <td>6.217007e+03</td>\n",
       "      <td>0.000000</td>\n",
       "      <td>0.000000</td>\n",
       "    </tr>\n",
       "    <tr>\n",
       "      <th>50%</th>\n",
       "      <td>1.230000e+02</td>\n",
       "      <td>1.137000e+03</td>\n",
       "      <td>1.993000e+03</td>\n",
       "      <td>4.869609e+03</td>\n",
       "      <td>3598.241000</td>\n",
       "      <td>3591.666000</td>\n",
       "      <td>1305.746000</td>\n",
       "      <td>1.792539e+03</td>\n",
       "      <td>1.608944e+04</td>\n",
       "      <td>3.528000e+05</td>\n",
       "      <td>...</td>\n",
       "      <td>0.002300</td>\n",
       "      <td>0.002500</td>\n",
       "      <td>0.026500</td>\n",
       "      <td>0.059650</td>\n",
       "      <td>1.441363e+05</td>\n",
       "      <td>2.162044e+05</td>\n",
       "      <td>6.997996e+04</td>\n",
       "      <td>1.049699e+05</td>\n",
       "      <td>0.030500</td>\n",
       "      <td>0.048600</td>\n",
       "    </tr>\n",
       "    <tr>\n",
       "      <th>75%</th>\n",
       "      <td>1.890000e+02</td>\n",
       "      <td>1.765000e+03</td>\n",
       "      <td>2.005000e+03</td>\n",
       "      <td>2.165797e+04</td>\n",
       "      <td>14044.854250</td>\n",
       "      <td>14247.120000</td>\n",
       "      <td>7574.802500</td>\n",
       "      <td>8.159051e+03</td>\n",
       "      <td>1.036142e+05</td>\n",
       "      <td>3.500000e+06</td>\n",
       "      <td>...</td>\n",
       "      <td>0.039200</td>\n",
       "      <td>0.044100</td>\n",
       "      <td>0.258175</td>\n",
       "      <td>0.580875</td>\n",
       "      <td>2.494983e+06</td>\n",
       "      <td>3.742475e+06</td>\n",
       "      <td>8.790296e+05</td>\n",
       "      <td>1.318544e+06</td>\n",
       "      <td>3.812400</td>\n",
       "      <td>1.570900</td>\n",
       "    </tr>\n",
       "    <tr>\n",
       "      <th>max</th>\n",
       "      <td>3.510000e+02</td>\n",
       "      <td>6.813000e+03</td>\n",
       "      <td>2.100000e+03</td>\n",
       "      <td>1.651843e+06</td>\n",
       "      <td>847170.144000</td>\n",
       "      <td>805429.477000</td>\n",
       "      <td>909426.803000</td>\n",
       "      <td>1.122105e+06</td>\n",
       "      <td>4.775398e+06</td>\n",
       "      <td>8.759451e+09</td>\n",
       "      <td>...</td>\n",
       "      <td>35.531700</td>\n",
       "      <td>39.973100</td>\n",
       "      <td>49.102500</td>\n",
       "      <td>110.480500</td>\n",
       "      <td>2.261107e+09</td>\n",
       "      <td>3.391660e+09</td>\n",
       "      <td>1.479223e+09</td>\n",
       "      <td>2.218834e+09</td>\n",
       "      <td>6600.373500</td>\n",
       "      <td>5616.697600</td>\n",
       "    </tr>\n",
       "  </tbody>\n",
       "</table>\n",
       "<p>8 rows × 135 columns</p>\n",
       "</div>"
      ],
      "text/plain": [
       "elementcode      areacode      itemcode          year           511  \\\n",
       "count        1.820426e+06  1.820426e+06  1.820426e+06  3.434900e+04   \n",
       "mean         1.271487e+02  1.751123e+03  1.991963e+03  3.862612e+04   \n",
       "std          7.580728e+01  1.754910e+03  1.842096e+01  1.495703e+05   \n",
       "min          1.000000e+00  1.500000e+01  1.950000e+03  6.420000e-01   \n",
       "25%          6.000000e+01  6.030000e+02  1.977000e+03  3.408740e+02   \n",
       "50%          1.230000e+02  1.137000e+03  1.993000e+03  4.869609e+03   \n",
       "75%          1.890000e+02  1.765000e+03  2.005000e+03  2.165797e+04   \n",
       "max          3.510000e+02  6.813000e+03  2.100000e+03  1.651843e+06   \n",
       "\n",
       "elementcode            512            513            551           561  \\\n",
       "count         29582.000000   29582.000000   22419.000000  2.241900e+04   \n",
       "mean          22587.315000   22257.645266   15938.502169  1.700318e+04   \n",
       "std           81963.956597   78356.101142   77669.105095  7.422375e+04   \n",
       "min               6.812000       6.889000       0.000000  0.000000e+00   \n",
       "25%             627.016750     631.188250      73.752000  1.240245e+02   \n",
       "50%            3598.241000    3591.666000    1305.746000  1.792539e+03   \n",
       "75%           14044.854250   14247.120000    7574.802500  8.159051e+03   \n",
       "max          847170.144000  805429.477000  909426.803000  1.122105e+06   \n",
       "\n",
       "elementcode          5026          5111  ...         723601         723602  \\\n",
       "count        9.286000e+03  2.135540e+05  ...  203764.000000  203764.000000   \n",
       "mean         1.551183e+05  1.621639e+07  ...       0.197304       0.221967   \n",
       "std          4.280476e+05  1.432449e+08  ...       1.084348       1.219892   \n",
       "min          8.604000e-01  0.000000e+00  ...       0.000000       0.000000   \n",
       "25%          2.331951e+03  2.209250e+04  ...       0.000000       0.000100   \n",
       "50%          1.608944e+04  3.528000e+05  ...       0.002300       0.002500   \n",
       "75%          1.036142e+05  3.500000e+06  ...       0.039200       0.044100   \n",
       "max          4.775398e+06  8.759451e+09  ...      35.531700      39.973100   \n",
       "\n",
       "elementcode        723631        723632        723801        723802  \\\n",
       "count        10430.000000  10430.000000  2.037640e+05  2.037640e+05   \n",
       "mean             0.766110      1.723747  1.255575e+07  1.883363e+07   \n",
       "std              3.783892      8.513758  6.900399e+07  1.035060e+08   \n",
       "min              0.000000      0.000000  0.000000e+00  0.000000e+00   \n",
       "25%              0.001600      0.003500  2.964533e+03  4.446800e+03   \n",
       "50%              0.026500      0.059650  1.441363e+05  2.162044e+05   \n",
       "75%              0.258175      0.580875  2.494983e+06  3.742475e+06   \n",
       "max             49.102500    110.480500  2.261107e+09  3.391660e+09   \n",
       "\n",
       "elementcode        723811        723812        724310        724410  \n",
       "count        2.037640e+05  2.037640e+05  43106.000000  43106.000000  \n",
       "mean         4.976118e+06  7.464177e+06     82.069813     28.434541  \n",
       "std          3.261376e+07  4.892064e+07    407.025155    244.364555  \n",
       "min          0.000000e+00  0.000000e+00   -365.101000     -3.588800  \n",
       "25%          4.144672e+03  6.217007e+03      0.000000      0.000000  \n",
       "50%          6.997996e+04  1.049699e+05      0.030500      0.048600  \n",
       "75%          8.790296e+05  1.318544e+06      3.812400      1.570900  \n",
       "max          1.479223e+09  2.218834e+09   6600.373500   5616.697600  \n",
       "\n",
       "[8 rows x 135 columns]"
      ]
     },
     "execution_count": 170,
     "metadata": {},
     "output_type": "execute_result"
    }
   ],
   "source": [
    "reshaped_df.describe()"
   ]
  },
  {
   "cell_type": "code",
   "execution_count": 171,
   "metadata": {},
   "outputs": [
    {
     "data": {
      "text/html": [
       "<div>\n",
       "<style scoped>\n",
       "    .dataframe tbody tr th:only-of-type {\n",
       "        vertical-align: middle;\n",
       "    }\n",
       "\n",
       "    .dataframe tbody tr th {\n",
       "        vertical-align: top;\n",
       "    }\n",
       "\n",
       "    .dataframe thead th {\n",
       "        text-align: right;\n",
       "    }\n",
       "</style>\n",
       "<table border=\"1\" class=\"dataframe\">\n",
       "  <thead>\n",
       "    <tr style=\"text-align: right;\">\n",
       "      <th>elementcode</th>\n",
       "      <th>areacode</th>\n",
       "      <th>itemcode</th>\n",
       "      <th>year</th>\n",
       "      <th>511</th>\n",
       "      <th>512</th>\n",
       "      <th>513</th>\n",
       "      <th>551</th>\n",
       "      <th>561</th>\n",
       "      <th>5026</th>\n",
       "      <th>5111</th>\n",
       "      <th>...</th>\n",
       "      <th>723601</th>\n",
       "      <th>723602</th>\n",
       "      <th>723631</th>\n",
       "      <th>723632</th>\n",
       "      <th>723801</th>\n",
       "      <th>723802</th>\n",
       "      <th>723811</th>\n",
       "      <th>723812</th>\n",
       "      <th>724310</th>\n",
       "      <th>724410</th>\n",
       "    </tr>\n",
       "  </thead>\n",
       "  <tbody>\n",
       "    <tr>\n",
       "      <th>0</th>\n",
       "      <td>1</td>\n",
       "      <td>15</td>\n",
       "      <td>1992</td>\n",
       "      <td>NaN</td>\n",
       "      <td>NaN</td>\n",
       "      <td>NaN</td>\n",
       "      <td>NaN</td>\n",
       "      <td>NaN</td>\n",
       "      <td>NaN</td>\n",
       "      <td>NaN</td>\n",
       "      <td>...</td>\n",
       "      <td>NaN</td>\n",
       "      <td>NaN</td>\n",
       "      <td>NaN</td>\n",
       "      <td>NaN</td>\n",
       "      <td>NaN</td>\n",
       "      <td>NaN</td>\n",
       "      <td>NaN</td>\n",
       "      <td>NaN</td>\n",
       "      <td>NaN</td>\n",
       "      <td>NaN</td>\n",
       "    </tr>\n",
       "    <tr>\n",
       "      <th>1</th>\n",
       "      <td>1</td>\n",
       "      <td>15</td>\n",
       "      <td>1993</td>\n",
       "      <td>NaN</td>\n",
       "      <td>NaN</td>\n",
       "      <td>NaN</td>\n",
       "      <td>NaN</td>\n",
       "      <td>NaN</td>\n",
       "      <td>NaN</td>\n",
       "      <td>NaN</td>\n",
       "      <td>...</td>\n",
       "      <td>NaN</td>\n",
       "      <td>NaN</td>\n",
       "      <td>NaN</td>\n",
       "      <td>NaN</td>\n",
       "      <td>NaN</td>\n",
       "      <td>NaN</td>\n",
       "      <td>NaN</td>\n",
       "      <td>NaN</td>\n",
       "      <td>NaN</td>\n",
       "      <td>NaN</td>\n",
       "    </tr>\n",
       "    <tr>\n",
       "      <th>2</th>\n",
       "      <td>1</td>\n",
       "      <td>15</td>\n",
       "      <td>1994</td>\n",
       "      <td>NaN</td>\n",
       "      <td>NaN</td>\n",
       "      <td>NaN</td>\n",
       "      <td>NaN</td>\n",
       "      <td>NaN</td>\n",
       "      <td>NaN</td>\n",
       "      <td>NaN</td>\n",
       "      <td>...</td>\n",
       "      <td>NaN</td>\n",
       "      <td>NaN</td>\n",
       "      <td>NaN</td>\n",
       "      <td>NaN</td>\n",
       "      <td>NaN</td>\n",
       "      <td>NaN</td>\n",
       "      <td>NaN</td>\n",
       "      <td>NaN</td>\n",
       "      <td>NaN</td>\n",
       "      <td>NaN</td>\n",
       "    </tr>\n",
       "    <tr>\n",
       "      <th>3</th>\n",
       "      <td>1</td>\n",
       "      <td>15</td>\n",
       "      <td>1995</td>\n",
       "      <td>NaN</td>\n",
       "      <td>NaN</td>\n",
       "      <td>NaN</td>\n",
       "      <td>NaN</td>\n",
       "      <td>NaN</td>\n",
       "      <td>NaN</td>\n",
       "      <td>NaN</td>\n",
       "      <td>...</td>\n",
       "      <td>NaN</td>\n",
       "      <td>NaN</td>\n",
       "      <td>NaN</td>\n",
       "      <td>NaN</td>\n",
       "      <td>NaN</td>\n",
       "      <td>NaN</td>\n",
       "      <td>NaN</td>\n",
       "      <td>NaN</td>\n",
       "      <td>NaN</td>\n",
       "      <td>NaN</td>\n",
       "    </tr>\n",
       "    <tr>\n",
       "      <th>4</th>\n",
       "      <td>1</td>\n",
       "      <td>15</td>\n",
       "      <td>1996</td>\n",
       "      <td>NaN</td>\n",
       "      <td>NaN</td>\n",
       "      <td>NaN</td>\n",
       "      <td>NaN</td>\n",
       "      <td>NaN</td>\n",
       "      <td>NaN</td>\n",
       "      <td>NaN</td>\n",
       "      <td>...</td>\n",
       "      <td>NaN</td>\n",
       "      <td>NaN</td>\n",
       "      <td>NaN</td>\n",
       "      <td>NaN</td>\n",
       "      <td>NaN</td>\n",
       "      <td>NaN</td>\n",
       "      <td>NaN</td>\n",
       "      <td>NaN</td>\n",
       "      <td>NaN</td>\n",
       "      <td>NaN</td>\n",
       "    </tr>\n",
       "    <tr>\n",
       "      <th>...</th>\n",
       "      <td>...</td>\n",
       "      <td>...</td>\n",
       "      <td>...</td>\n",
       "      <td>...</td>\n",
       "      <td>...</td>\n",
       "      <td>...</td>\n",
       "      <td>...</td>\n",
       "      <td>...</td>\n",
       "      <td>...</td>\n",
       "      <td>...</td>\n",
       "      <td>...</td>\n",
       "      <td>...</td>\n",
       "      <td>...</td>\n",
       "      <td>...</td>\n",
       "      <td>...</td>\n",
       "      <td>...</td>\n",
       "      <td>...</td>\n",
       "      <td>...</td>\n",
       "      <td>...</td>\n",
       "      <td>...</td>\n",
       "      <td>...</td>\n",
       "    </tr>\n",
       "    <tr>\n",
       "      <th>1820421</th>\n",
       "      <td>351</td>\n",
       "      <td>6813</td>\n",
       "      <td>2008</td>\n",
       "      <td>NaN</td>\n",
       "      <td>NaN</td>\n",
       "      <td>NaN</td>\n",
       "      <td>NaN</td>\n",
       "      <td>NaN</td>\n",
       "      <td>NaN</td>\n",
       "      <td>NaN</td>\n",
       "      <td>...</td>\n",
       "      <td>NaN</td>\n",
       "      <td>NaN</td>\n",
       "      <td>NaN</td>\n",
       "      <td>NaN</td>\n",
       "      <td>NaN</td>\n",
       "      <td>NaN</td>\n",
       "      <td>NaN</td>\n",
       "      <td>NaN</td>\n",
       "      <td>4592.5074</td>\n",
       "      <td>4870.9685</td>\n",
       "    </tr>\n",
       "    <tr>\n",
       "      <th>1820422</th>\n",
       "      <td>351</td>\n",
       "      <td>6813</td>\n",
       "      <td>2009</td>\n",
       "      <td>NaN</td>\n",
       "      <td>NaN</td>\n",
       "      <td>NaN</td>\n",
       "      <td>NaN</td>\n",
       "      <td>NaN</td>\n",
       "      <td>NaN</td>\n",
       "      <td>NaN</td>\n",
       "      <td>...</td>\n",
       "      <td>NaN</td>\n",
       "      <td>NaN</td>\n",
       "      <td>NaN</td>\n",
       "      <td>NaN</td>\n",
       "      <td>NaN</td>\n",
       "      <td>NaN</td>\n",
       "      <td>NaN</td>\n",
       "      <td>NaN</td>\n",
       "      <td>4746.8109</td>\n",
       "      <td>5107.8953</td>\n",
       "    </tr>\n",
       "    <tr>\n",
       "      <th>1820423</th>\n",
       "      <td>351</td>\n",
       "      <td>6813</td>\n",
       "      <td>2010</td>\n",
       "      <td>NaN</td>\n",
       "      <td>NaN</td>\n",
       "      <td>NaN</td>\n",
       "      <td>NaN</td>\n",
       "      <td>NaN</td>\n",
       "      <td>NaN</td>\n",
       "      <td>NaN</td>\n",
       "      <td>...</td>\n",
       "      <td>NaN</td>\n",
       "      <td>NaN</td>\n",
       "      <td>NaN</td>\n",
       "      <td>NaN</td>\n",
       "      <td>NaN</td>\n",
       "      <td>NaN</td>\n",
       "      <td>NaN</td>\n",
       "      <td>NaN</td>\n",
       "      <td>5046.5824</td>\n",
       "      <td>5413.6568</td>\n",
       "    </tr>\n",
       "    <tr>\n",
       "      <th>1820424</th>\n",
       "      <td>351</td>\n",
       "      <td>6813</td>\n",
       "      <td>2011</td>\n",
       "      <td>NaN</td>\n",
       "      <td>NaN</td>\n",
       "      <td>NaN</td>\n",
       "      <td>NaN</td>\n",
       "      <td>NaN</td>\n",
       "      <td>NaN</td>\n",
       "      <td>NaN</td>\n",
       "      <td>...</td>\n",
       "      <td>NaN</td>\n",
       "      <td>NaN</td>\n",
       "      <td>NaN</td>\n",
       "      <td>NaN</td>\n",
       "      <td>NaN</td>\n",
       "      <td>NaN</td>\n",
       "      <td>NaN</td>\n",
       "      <td>NaN</td>\n",
       "      <td>5312.5243</td>\n",
       "      <td>5594.4166</td>\n",
       "    </tr>\n",
       "    <tr>\n",
       "      <th>1820425</th>\n",
       "      <td>351</td>\n",
       "      <td>6813</td>\n",
       "      <td>2012</td>\n",
       "      <td>NaN</td>\n",
       "      <td>NaN</td>\n",
       "      <td>NaN</td>\n",
       "      <td>NaN</td>\n",
       "      <td>NaN</td>\n",
       "      <td>NaN</td>\n",
       "      <td>NaN</td>\n",
       "      <td>...</td>\n",
       "      <td>NaN</td>\n",
       "      <td>NaN</td>\n",
       "      <td>NaN</td>\n",
       "      <td>NaN</td>\n",
       "      <td>NaN</td>\n",
       "      <td>NaN</td>\n",
       "      <td>NaN</td>\n",
       "      <td>NaN</td>\n",
       "      <td>5557.6948</td>\n",
       "      <td>5616.6976</td>\n",
       "    </tr>\n",
       "  </tbody>\n",
       "</table>\n",
       "<p>1820426 rows × 135 columns</p>\n",
       "</div>"
      ],
      "text/plain": [
       "elementcode  areacode  itemcode  year  511  512  513  551  561  5026  5111  \\\n",
       "0                   1        15  1992  NaN  NaN  NaN  NaN  NaN   NaN   NaN   \n",
       "1                   1        15  1993  NaN  NaN  NaN  NaN  NaN   NaN   NaN   \n",
       "2                   1        15  1994  NaN  NaN  NaN  NaN  NaN   NaN   NaN   \n",
       "3                   1        15  1995  NaN  NaN  NaN  NaN  NaN   NaN   NaN   \n",
       "4                   1        15  1996  NaN  NaN  NaN  NaN  NaN   NaN   NaN   \n",
       "...               ...       ...   ...  ...  ...  ...  ...  ...   ...   ...   \n",
       "1820421           351      6813  2008  NaN  NaN  NaN  NaN  NaN   NaN   NaN   \n",
       "1820422           351      6813  2009  NaN  NaN  NaN  NaN  NaN   NaN   NaN   \n",
       "1820423           351      6813  2010  NaN  NaN  NaN  NaN  NaN   NaN   NaN   \n",
       "1820424           351      6813  2011  NaN  NaN  NaN  NaN  NaN   NaN   NaN   \n",
       "1820425           351      6813  2012  NaN  NaN  NaN  NaN  NaN   NaN   NaN   \n",
       "\n",
       "elementcode  ...  723601  723602  723631  723632  723801  723802  723811  \\\n",
       "0            ...     NaN     NaN     NaN     NaN     NaN     NaN     NaN   \n",
       "1            ...     NaN     NaN     NaN     NaN     NaN     NaN     NaN   \n",
       "2            ...     NaN     NaN     NaN     NaN     NaN     NaN     NaN   \n",
       "3            ...     NaN     NaN     NaN     NaN     NaN     NaN     NaN   \n",
       "4            ...     NaN     NaN     NaN     NaN     NaN     NaN     NaN   \n",
       "...          ...     ...     ...     ...     ...     ...     ...     ...   \n",
       "1820421      ...     NaN     NaN     NaN     NaN     NaN     NaN     NaN   \n",
       "1820422      ...     NaN     NaN     NaN     NaN     NaN     NaN     NaN   \n",
       "1820423      ...     NaN     NaN     NaN     NaN     NaN     NaN     NaN   \n",
       "1820424      ...     NaN     NaN     NaN     NaN     NaN     NaN     NaN   \n",
       "1820425      ...     NaN     NaN     NaN     NaN     NaN     NaN     NaN   \n",
       "\n",
       "elementcode  723812     724310     724410  \n",
       "0               NaN        NaN        NaN  \n",
       "1               NaN        NaN        NaN  \n",
       "2               NaN        NaN        NaN  \n",
       "3               NaN        NaN        NaN  \n",
       "4               NaN        NaN        NaN  \n",
       "...             ...        ...        ...  \n",
       "1820421         NaN  4592.5074  4870.9685  \n",
       "1820422         NaN  4746.8109  5107.8953  \n",
       "1820423         NaN  5046.5824  5413.6568  \n",
       "1820424         NaN  5312.5243  5594.4166  \n",
       "1820425         NaN  5557.6948  5616.6976  \n",
       "\n",
       "[1820426 rows x 135 columns]"
      ]
     },
     "execution_count": 171,
     "metadata": {},
     "output_type": "execute_result"
    }
   ],
   "source": [
    "reshaped_df"
   ]
  },
  {
   "cell_type": "code",
   "execution_count": 188,
   "metadata": {},
   "outputs": [],
   "source": [
    "reshaped_df = reshaped_df[reshaped_df.year.apply(lambda x: x < 2020)]"
   ]
  },
  {
   "cell_type": "code",
   "execution_count": 198,
   "metadata": {},
   "outputs": [],
   "source": [
    "t = get_item(reshaped_df, [15]).drop('itemcode', axis=1)"
   ]
  },
  {
   "cell_type": "code",
   "execution_count": 201,
   "metadata": {},
   "outputs": [],
   "source": [
    "t = t.set_index(['areacode', 'year'])"
   ]
  },
  {
   "cell_type": "code",
   "execution_count": 202,
   "metadata": {},
   "outputs": [
    {
     "data": {
      "text/html": [
       "<div>\n",
       "<style scoped>\n",
       "    .dataframe tbody tr th:only-of-type {\n",
       "        vertical-align: middle;\n",
       "    }\n",
       "\n",
       "    .dataframe tbody tr th {\n",
       "        vertical-align: top;\n",
       "    }\n",
       "\n",
       "    .dataframe thead th {\n",
       "        text-align: right;\n",
       "    }\n",
       "</style>\n",
       "<table border=\"1\" class=\"dataframe\">\n",
       "  <thead>\n",
       "    <tr style=\"text-align: right;\">\n",
       "      <th></th>\n",
       "      <th>elementcode</th>\n",
       "      <th>5312</th>\n",
       "      <th>5419</th>\n",
       "      <th>5510</th>\n",
       "      <th>7245</th>\n",
       "      <th>72247</th>\n",
       "      <th>72257</th>\n",
       "      <th>72292</th>\n",
       "      <th>72297</th>\n",
       "      <th>72302</th>\n",
       "      <th>72307</th>\n",
       "      <th>72312</th>\n",
       "      <th>72317</th>\n",
       "      <th>72342</th>\n",
       "      <th>72352</th>\n",
       "      <th>72362</th>\n",
       "      <th>72372</th>\n",
       "      <th>72392</th>\n",
       "      <th>72437</th>\n",
       "      <th>72447</th>\n",
       "    </tr>\n",
       "    <tr>\n",
       "      <th>areacode</th>\n",
       "      <th>year</th>\n",
       "      <th></th>\n",
       "      <th></th>\n",
       "      <th></th>\n",
       "      <th></th>\n",
       "      <th></th>\n",
       "      <th></th>\n",
       "      <th></th>\n",
       "      <th></th>\n",
       "      <th></th>\n",
       "      <th></th>\n",
       "      <th></th>\n",
       "      <th></th>\n",
       "      <th></th>\n",
       "      <th></th>\n",
       "      <th></th>\n",
       "      <th></th>\n",
       "      <th></th>\n",
       "      <th></th>\n",
       "      <th></th>\n",
       "    </tr>\n",
       "  </thead>\n",
       "  <tbody>\n",
       "    <tr>\n",
       "      <th rowspan=\"5\" valign=\"top\">1</th>\n",
       "      <th>1992</th>\n",
       "      <td>65500.0</td>\n",
       "      <td>21600.0</td>\n",
       "      <td>141483.0</td>\n",
       "      <td>2.620000e+04</td>\n",
       "      <td>2.7</td>\n",
       "      <td>0.0707</td>\n",
       "      <td>0.0122</td>\n",
       "      <td>0.0001</td>\n",
       "      <td>0.0368</td>\n",
       "      <td>0.0018</td>\n",
       "      <td>11.4118</td>\n",
       "      <td>2.0541</td>\n",
       "      <td>0.0301</td>\n",
       "      <td>9.3157</td>\n",
       "      <td>0.0068</td>\n",
       "      <td>2.0960</td>\n",
       "      <td>1.912320e+06</td>\n",
       "      <td>0.5685</td>\n",
       "      <td>1.4855</td>\n",
       "    </tr>\n",
       "    <tr>\n",
       "      <th>1993</th>\n",
       "      <td>97900.0</td>\n",
       "      <td>22257.0</td>\n",
       "      <td>217900.0</td>\n",
       "      <td>3.916000e+04</td>\n",
       "      <td>2.7</td>\n",
       "      <td>0.1057</td>\n",
       "      <td>0.0123</td>\n",
       "      <td>0.0001</td>\n",
       "      <td>0.0565</td>\n",
       "      <td>0.0027</td>\n",
       "      <td>17.5068</td>\n",
       "      <td>3.0701</td>\n",
       "      <td>0.0461</td>\n",
       "      <td>14.2913</td>\n",
       "      <td>0.0104</td>\n",
       "      <td>3.2155</td>\n",
       "      <td>2.933695e+06</td>\n",
       "      <td>0.8498</td>\n",
       "      <td>2.2204</td>\n",
       "    </tr>\n",
       "    <tr>\n",
       "      <th>1994</th>\n",
       "      <td>85697.0</td>\n",
       "      <td>17842.0</td>\n",
       "      <td>152900.0</td>\n",
       "      <td>3.427880e+04</td>\n",
       "      <td>2.7</td>\n",
       "      <td>0.0926</td>\n",
       "      <td>0.0123</td>\n",
       "      <td>0.0001</td>\n",
       "      <td>0.0409</td>\n",
       "      <td>0.0024</td>\n",
       "      <td>12.6762</td>\n",
       "      <td>2.6875</td>\n",
       "      <td>0.0334</td>\n",
       "      <td>10.3480</td>\n",
       "      <td>0.0075</td>\n",
       "      <td>2.3283</td>\n",
       "      <td>2.124213e+06</td>\n",
       "      <td>0.7438</td>\n",
       "      <td>1.9436</td>\n",
       "    </tr>\n",
       "    <tr>\n",
       "      <th>1995</th>\n",
       "      <td>60362.0</td>\n",
       "      <td>25480.0</td>\n",
       "      <td>153800.0</td>\n",
       "      <td>2.414480e+04</td>\n",
       "      <td>2.7</td>\n",
       "      <td>0.0652</td>\n",
       "      <td>0.0123</td>\n",
       "      <td>0.0001</td>\n",
       "      <td>0.0392</td>\n",
       "      <td>0.0017</td>\n",
       "      <td>12.1555</td>\n",
       "      <td>1.8930</td>\n",
       "      <td>0.0320</td>\n",
       "      <td>9.9228</td>\n",
       "      <td>0.0072</td>\n",
       "      <td>2.2326</td>\n",
       "      <td>2.036943e+06</td>\n",
       "      <td>0.5239</td>\n",
       "      <td>1.3690</td>\n",
       "    </tr>\n",
       "    <tr>\n",
       "      <th>1996</th>\n",
       "      <td>85450.0</td>\n",
       "      <td>23569.0</td>\n",
       "      <td>201400.0</td>\n",
       "      <td>3.418000e+04</td>\n",
       "      <td>2.7</td>\n",
       "      <td>0.0923</td>\n",
       "      <td>0.0123</td>\n",
       "      <td>0.0001</td>\n",
       "      <td>0.0518</td>\n",
       "      <td>0.0024</td>\n",
       "      <td>16.0651</td>\n",
       "      <td>2.6797</td>\n",
       "      <td>0.0423</td>\n",
       "      <td>13.1144</td>\n",
       "      <td>0.0095</td>\n",
       "      <td>2.9507</td>\n",
       "      <td>2.692099e+06</td>\n",
       "      <td>0.7417</td>\n",
       "      <td>1.9380</td>\n",
       "    </tr>\n",
       "    <tr>\n",
       "      <th>...</th>\n",
       "      <th>...</th>\n",
       "      <td>...</td>\n",
       "      <td>...</td>\n",
       "      <td>...</td>\n",
       "      <td>...</td>\n",
       "      <td>...</td>\n",
       "      <td>...</td>\n",
       "      <td>...</td>\n",
       "      <td>...</td>\n",
       "      <td>...</td>\n",
       "      <td>...</td>\n",
       "      <td>...</td>\n",
       "      <td>...</td>\n",
       "      <td>...</td>\n",
       "      <td>...</td>\n",
       "      <td>...</td>\n",
       "      <td>...</td>\n",
       "      <td>...</td>\n",
       "      <td>...</td>\n",
       "      <td>...</td>\n",
       "    </tr>\n",
       "    <tr>\n",
       "      <th rowspan=\"5\" valign=\"top\">351</th>\n",
       "      <th>2013</th>\n",
       "      <td>24119335.0</td>\n",
       "      <td>50553.0</td>\n",
       "      <td>121930527.0</td>\n",
       "      <td>9.647734e+06</td>\n",
       "      <td>2.7</td>\n",
       "      <td>26.0489</td>\n",
       "      <td>0.0122</td>\n",
       "      <td>0.0001</td>\n",
       "      <td>29.3218</td>\n",
       "      <td>0.6753</td>\n",
       "      <td>9089.7705</td>\n",
       "      <td>756.3823</td>\n",
       "      <td>23.9362</td>\n",
       "      <td>7420.2208</td>\n",
       "      <td>5.3856</td>\n",
       "      <td>1669.5497</td>\n",
       "      <td>1.523212e+09</td>\n",
       "      <td>209.3558</td>\n",
       "      <td>547.0265</td>\n",
       "    </tr>\n",
       "    <tr>\n",
       "      <th>2014</th>\n",
       "      <td>24071629.0</td>\n",
       "      <td>52433.0</td>\n",
       "      <td>126215211.0</td>\n",
       "      <td>9.628652e+06</td>\n",
       "      <td>2.7</td>\n",
       "      <td>25.9974</td>\n",
       "      <td>0.0123</td>\n",
       "      <td>0.0001</td>\n",
       "      <td>30.2857</td>\n",
       "      <td>0.6740</td>\n",
       "      <td>9388.5593</td>\n",
       "      <td>754.8863</td>\n",
       "      <td>24.7230</td>\n",
       "      <td>7664.1301</td>\n",
       "      <td>5.5627</td>\n",
       "      <td>1724.4293</td>\n",
       "      <td>1.573282e+09</td>\n",
       "      <td>208.9417</td>\n",
       "      <td>545.9445</td>\n",
       "    </tr>\n",
       "    <tr>\n",
       "      <th>2015</th>\n",
       "      <td>24599116.0</td>\n",
       "      <td>53923.0</td>\n",
       "      <td>132646335.0</td>\n",
       "      <td>9.839646e+06</td>\n",
       "      <td>2.7</td>\n",
       "      <td>26.5670</td>\n",
       "      <td>0.0123</td>\n",
       "      <td>0.0001</td>\n",
       "      <td>31.7769</td>\n",
       "      <td>0.6888</td>\n",
       "      <td>9850.8328</td>\n",
       "      <td>771.4283</td>\n",
       "      <td>25.9403</td>\n",
       "      <td>8041.4962</td>\n",
       "      <td>5.8366</td>\n",
       "      <td>1809.3366</td>\n",
       "      <td>1.650747e+09</td>\n",
       "      <td>213.5203</td>\n",
       "      <td>557.9080</td>\n",
       "    </tr>\n",
       "    <tr>\n",
       "      <th>2016</th>\n",
       "      <td>24698641.0</td>\n",
       "      <td>53962.0</td>\n",
       "      <td>133278338.0</td>\n",
       "      <td>9.879456e+06</td>\n",
       "      <td>2.7</td>\n",
       "      <td>26.6745</td>\n",
       "      <td>0.0123</td>\n",
       "      <td>0.0001</td>\n",
       "      <td>31.9270</td>\n",
       "      <td>0.6916</td>\n",
       "      <td>9897.3604</td>\n",
       "      <td>774.5494</td>\n",
       "      <td>26.0628</td>\n",
       "      <td>8079.4779</td>\n",
       "      <td>5.8641</td>\n",
       "      <td>1817.8825</td>\n",
       "      <td>1.658544e+09</td>\n",
       "      <td>214.3842</td>\n",
       "      <td>560.1652</td>\n",
       "    </tr>\n",
       "    <tr>\n",
       "      <th>2017</th>\n",
       "      <td>24510393.0</td>\n",
       "      <td>54810.0</td>\n",
       "      <td>134340630.0</td>\n",
       "      <td>9.804157e+06</td>\n",
       "      <td>2.7</td>\n",
       "      <td>26.4712</td>\n",
       "      <td>0.0122</td>\n",
       "      <td>0.0001</td>\n",
       "      <td>32.1528</td>\n",
       "      <td>0.6863</td>\n",
       "      <td>9967.3733</td>\n",
       "      <td>768.6459</td>\n",
       "      <td>26.2472</td>\n",
       "      <td>8136.6313</td>\n",
       "      <td>5.9056</td>\n",
       "      <td>1830.7420</td>\n",
       "      <td>1.670276e+09</td>\n",
       "      <td>212.7502</td>\n",
       "      <td>555.8957</td>\n",
       "    </tr>\n",
       "  </tbody>\n",
       "</table>\n",
       "<p>6348 rows × 19 columns</p>\n",
       "</div>"
      ],
      "text/plain": [
       "elementcode         5312     5419         5510          7245   72247    72257  \\\n",
       "areacode year                                                                   \n",
       "1        1992     65500.0  21600.0     141483.0  2.620000e+04    2.7   0.0707   \n",
       "         1993     97900.0  22257.0     217900.0  3.916000e+04    2.7   0.1057   \n",
       "         1994     85697.0  17842.0     152900.0  3.427880e+04    2.7   0.0926   \n",
       "         1995     60362.0  25480.0     153800.0  2.414480e+04    2.7   0.0652   \n",
       "         1996     85450.0  23569.0     201400.0  3.418000e+04    2.7   0.0923   \n",
       "...                   ...      ...          ...           ...    ...      ...   \n",
       "351      2013  24119335.0  50553.0  121930527.0  9.647734e+06    2.7  26.0489   \n",
       "         2014  24071629.0  52433.0  126215211.0  9.628652e+06    2.7  25.9974   \n",
       "         2015  24599116.0  53923.0  132646335.0  9.839646e+06    2.7  26.5670   \n",
       "         2016  24698641.0  53962.0  133278338.0  9.879456e+06    2.7  26.6745   \n",
       "         2017  24510393.0  54810.0  134340630.0  9.804157e+06    2.7  26.4712   \n",
       "\n",
       "elementcode     72292   72297    72302   72307      72312     72317    72342  \\\n",
       "areacode year                                                                  \n",
       "1        1992  0.0122  0.0001   0.0368  0.0018    11.4118    2.0541   0.0301   \n",
       "         1993  0.0123  0.0001   0.0565  0.0027    17.5068    3.0701   0.0461   \n",
       "         1994  0.0123  0.0001   0.0409  0.0024    12.6762    2.6875   0.0334   \n",
       "         1995  0.0123  0.0001   0.0392  0.0017    12.1555    1.8930   0.0320   \n",
       "         1996  0.0123  0.0001   0.0518  0.0024    16.0651    2.6797   0.0423   \n",
       "...               ...     ...      ...     ...        ...       ...      ...   \n",
       "351      2013  0.0122  0.0001  29.3218  0.6753  9089.7705  756.3823  23.9362   \n",
       "         2014  0.0123  0.0001  30.2857  0.6740  9388.5593  754.8863  24.7230   \n",
       "         2015  0.0123  0.0001  31.7769  0.6888  9850.8328  771.4283  25.9403   \n",
       "         2016  0.0123  0.0001  31.9270  0.6916  9897.3604  774.5494  26.0628   \n",
       "         2017  0.0122  0.0001  32.1528  0.6863  9967.3733  768.6459  26.2472   \n",
       "\n",
       "elementcode        72352   72362      72372         72392     72437     72447  \n",
       "areacode year                                                                  \n",
       "1        1992     9.3157  0.0068     2.0960  1.912320e+06    0.5685    1.4855  \n",
       "         1993    14.2913  0.0104     3.2155  2.933695e+06    0.8498    2.2204  \n",
       "         1994    10.3480  0.0075     2.3283  2.124213e+06    0.7438    1.9436  \n",
       "         1995     9.9228  0.0072     2.2326  2.036943e+06    0.5239    1.3690  \n",
       "         1996    13.1144  0.0095     2.9507  2.692099e+06    0.7417    1.9380  \n",
       "...                  ...     ...        ...           ...       ...       ...  \n",
       "351      2013  7420.2208  5.3856  1669.5497  1.523212e+09  209.3558  547.0265  \n",
       "         2014  7664.1301  5.5627  1724.4293  1.573282e+09  208.9417  545.9445  \n",
       "         2015  8041.4962  5.8366  1809.3366  1.650747e+09  213.5203  557.9080  \n",
       "         2016  8079.4779  5.8641  1817.8825  1.658544e+09  214.3842  560.1652  \n",
       "         2017  8136.6313  5.9056  1830.7420  1.670276e+09  212.7502  555.8957  \n",
       "\n",
       "[6348 rows x 19 columns]"
      ]
     },
     "execution_count": 202,
     "metadata": {},
     "output_type": "execute_result"
    }
   ],
   "source": [
    "for i in t.index:\n",
    "    if t.loc[i]"
   ]
  },
  {
   "cell_type": "code",
   "execution_count": 204,
   "metadata": {},
   "outputs": [
    {
     "data": {
      "text/plain": [
       "False"
      ]
     },
     "execution_count": 204,
     "metadata": {},
     "output_type": "execute_result"
    }
   ],
   "source": [
    "any(reshaped_df.isna().all())"
   ]
  },
  {
   "cell_type": "code",
   "execution_count": 208,
   "metadata": {},
   "outputs": [
    {
     "name": "stdout",
     "output_type": "stream",
     "text": [
      "elementcode\n",
      "5312     6.550000e+04\n",
      "5419     2.160000e+04\n",
      "5510     1.414830e+05\n",
      "7245     2.620000e+04\n",
      "72247    2.700000e+00\n",
      "72257    7.070000e-02\n",
      "72292    1.220000e-02\n",
      "72297    1.000000e-04\n",
      "72302    3.680000e-02\n",
      "72307    1.800000e-03\n",
      "72312    1.141180e+01\n",
      "72317    2.054100e+00\n",
      "72342    3.010000e-02\n",
      "72352    9.315700e+00\n",
      "72362    6.800000e-03\n",
      "72372    2.096000e+00\n",
      "72392    1.912320e+06\n",
      "72437    5.685000e-01\n",
      "72447    1.485500e+00\n",
      "Name: (1, 1992), dtype: float64\n"
     ]
    }
   ],
   "source": [
    "for i in t.index:\n",
    "    print(t.loc[i])\n",
    "    break"
   ]
  },
  {
   "cell_type": "code",
   "execution_count": null,
   "metadata": {},
   "outputs": [],
   "source": []
  }
 ],
 "metadata": {
  "kernelspec": {
   "display_name": "Python (ADA)",
   "language": "python",
   "name": "ada"
  },
  "language_info": {
   "codemirror_mode": {
    "name": "ipython",
    "version": 3
   },
   "file_extension": ".py",
   "mimetype": "text/x-python",
   "name": "python",
   "nbconvert_exporter": "python",
   "pygments_lexer": "ipython3",
   "version": "3.7.4"
  }
 },
 "nbformat": 4,
 "nbformat_minor": 2
}
