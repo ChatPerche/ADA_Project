{
 "cells": [
  {
   "cell_type": "markdown",
   "metadata": {},
   "source": [
    "# Environmental Impact of Agricultural Practices in the World\n",
    "\n",
    "**ADA Project Milestone 2**\n",
    "\n",
    "This notebook consists of our initial Data Analysis of the FAOSTAT dataset on Food an agriculture. We will first study the contents of the data and its strucuture, before restructuring it in order to start our analysis. Also, some research questions initially asked will be answered by the end of this notebook."
   ]
  },
  {
   "cell_type": "markdown",
   "metadata": {},
   "source": [
    "## A. Initial Analysis"
   ]
  },
  {
   "cell_type": "markdown",
   "metadata": {},
   "source": [
    "The dataset initially contained 78 csv files, but some of them were discarded as they will not be useful for our analysis. We have selected 25 CSVs that would help us with our analysis."
   ]
  },
  {
   "cell_type": "code",
   "execution_count": 1,
   "metadata": {},
   "outputs": [],
   "source": [
    "from glob import glob\n",
    "import pandas as pd\n",
    "import numpy as np\n",
    "\n",
    "%load_ext autoreload\n",
    "%autoreload 2"
   ]
  },
  {
   "cell_type": "code",
   "execution_count": 2,
   "metadata": {},
   "outputs": [
    {
     "data": {
      "text/plain": [
       "25"
      ]
     },
     "execution_count": 2,
     "metadata": {},
     "output_type": "execute_result"
    }
   ],
   "source": [
    "csv_files = [x for x in glob('data/**/*.csv') if 'item_groups' not in x]\n",
    "len(csv_files)"
   ]
  },
  {
   "cell_type": "markdown",
   "metadata": {},
   "source": [
    "We split those 25 csv into different directories, one for each group of csv. Each group corresponds to one category:\n",
    "```.\n",
    "+-- data/\n",
    "|   +-- emissions_agriculture/\n",
    "|      +-- ...\n",
    "|   +-- emissions_land/\n",
    "|      +-- ...\n",
    "|   +-- environment/\n",
    "|      +-- ...\n",
    "|   +-- inputs/\n",
    "|      +-- ...\n",
    "|   +-- population/\n",
    "|      +-- ...\n",
    "|   +-- production/\n",
    "|      +-- ...\n",
    "```"
   ]
  },
  {
   "cell_type": "markdown",
   "metadata": {},
   "source": [
    "---\n",
    "### A.1 Schema consistency\n",
    "---\n",
    "\n",
    "We will first study the schemas of all the csv files we have in order to see if they are consistent or require changes"
   ]
  },
  {
   "cell_type": "markdown",
   "metadata": {},
   "source": [
    "#### 1. Checking column names across whole dataset\n",
    "---"
   ]
  },
  {
   "cell_type": "markdown",
   "metadata": {},
   "source": [
    "Now, let's scan all the csv files and check their schemas."
   ]
  },
  {
   "cell_type": "code",
   "execution_count": 3,
   "metadata": {},
   "outputs": [
    {
     "name": "stdout",
     "output_type": "stream",
     "text": [
      "The found columns, grouped, are:\n",
      "\n",
      "['area', 'areacode', 'element', 'elementcode', 'flag', 'item', 'itemcode', 'unit', 'value', 'year', 'yearcode'] Num files 17\n",
      "['country', 'countrycode', 'element', 'elementcode', 'elementgroup', 'flag', 'item', 'itemcode', 'unit', 'value', 'year'] Num files 2\n",
      "['area', 'areacode', 'element', 'elementcode', 'flag', 'months', 'monthscode', 'unit', 'value', 'year', 'yearcode'] Num files 1\n",
      "['area', 'areacode', 'element', 'elementcode', 'flag', 'item', 'itemcode', 'note', 'unit', 'value', 'year', 'yearcode'] Num files 4\n",
      "['country', 'countrycode', 'element', 'elementcode', 'flag', 'item', 'itemcode', 'unit', 'value', 'year', 'yearcode'] Num files 1\n"
     ]
    }
   ],
   "source": [
    "from data_processing import scan_columns\n",
    "all_columns = scan_columns(csv_files)\n",
    "print(\"The found columns, grouped, are:\\n\")\n",
    "for cols, f in all_columns:\n",
    "    print(list(sorted(cols)), f\"Num files {len(f)}\")"
   ]
  },
  {
   "cell_type": "markdown",
   "metadata": {},
   "source": [
    "As we can see, sometimes the columns `area` and `areacode` are named `country` and `countrycode`, only because some csv files only contain country data, without country groups. We will rename those as to have a unified schema. Also, some files have the `note`, `elementgroup` and `months` columns. We will look into those in subsequent steps as we are now simply checking whether column naming is consistent.\n",
    "\n",
    "In order to obtain a more consistent column naming, we will rename `country` to `area` and `countrycode` to `areacode`."
   ]
  },
  {
   "cell_type": "code",
   "execution_count": 4,
   "metadata": {},
   "outputs": [],
   "source": [
    "column_rename = {'country': 'area', 'countrycode': 'areacode'}"
   ]
  },
  {
   "cell_type": "code",
   "execution_count": 5,
   "metadata": {},
   "outputs": [
    {
     "name": "stdout",
     "output_type": "stream",
     "text": [
      "After renaming, we obtain the following columns:\n",
      "\n",
      "['area', 'areacode', 'element', 'elementcode', 'flag', 'item', 'itemcode', 'unit', 'value', 'year', 'yearcode'] Num files 18\n",
      "['area', 'areacode', 'element', 'elementcode', 'elementgroup', 'flag', 'item', 'itemcode', 'unit', 'value', 'year'] Num files 2\n",
      "['area', 'areacode', 'element', 'elementcode', 'flag', 'months', 'monthscode', 'unit', 'value', 'year', 'yearcode'] Num files 1\n",
      "['area', 'areacode', 'element', 'elementcode', 'flag', 'item', 'itemcode', 'note', 'unit', 'value', 'year', 'yearcode'] Num files 4\n"
     ]
    }
   ],
   "source": [
    "all_columns_2 = scan_columns(csv_files, column_rename)\n",
    "print(f\"After renaming, we obtain the following columns:\\n\")\n",
    "for cols, f in all_columns_2:\n",
    "    print(list(sorted(cols)), f\"Num files {len(f)}\")"
   ]
  },
  {
   "cell_type": "markdown",
   "metadata": {},
   "source": [
    "#### 2. Checking which columns to drop\n",
    "---"
   ]
  },
  {
   "cell_type": "markdown",
   "metadata": {},
   "source": [
    "1. Column labeled \"`note`\""
   ]
  },
  {
   "cell_type": "markdown",
   "metadata": {},
   "source": [
    "Now we have a few files that have different schemas. One column that we should look into before continuing is `note`, as it is in 4 files."
   ]
  },
  {
   "cell_type": "code",
   "execution_count": 6,
   "metadata": {},
   "outputs": [
    {
     "data": {
      "text/html": [
       "<div>\n",
       "<style scoped>\n",
       "    .dataframe tbody tr th:only-of-type {\n",
       "        vertical-align: middle;\n",
       "    }\n",
       "\n",
       "    .dataframe tbody tr th {\n",
       "        vertical-align: top;\n",
       "    }\n",
       "\n",
       "    .dataframe thead th {\n",
       "        text-align: right;\n",
       "    }\n",
       "</style>\n",
       "<table border=\"1\" class=\"dataframe\">\n",
       "  <thead>\n",
       "    <tr style=\"text-align: right;\">\n",
       "      <th></th>\n",
       "      <th>note</th>\n",
       "    </tr>\n",
       "  </thead>\n",
       "  <tbody>\n",
       "    <tr>\n",
       "      <th>0</th>\n",
       "      <td>NaN</td>\n",
       "    </tr>\n",
       "  </tbody>\n",
       "</table>\n",
       "</div>"
      ],
      "text/plain": [
       "   note\n",
       "0   NaN"
      ]
     },
     "execution_count": 6,
     "metadata": {},
     "output_type": "execute_result"
    }
   ],
   "source": [
    "from data_processing import get_column_unique_values\n",
    "\n",
    "files_with_note = all_columns_2[-1][1]\n",
    "note_values = get_column_unique_values(files_with_note, column_rename, None,['note'])\n",
    "note_values"
   ]
  },
  {
   "cell_type": "markdown",
   "metadata": {},
   "source": [
    "As we can see, all values for this column are NaN, so we can safely drop the column."
   ]
  },
  {
   "cell_type": "markdown",
   "metadata": {},
   "source": [
    "2. Columns \"`yearcode`\" and \"`elementgroup`\"\n",
    "\n",
    "We figured it would be useful to scan for duplicate columns in each dataframe (i.e. columns with different names but same values)"
   ]
  },
  {
   "cell_type": "code",
   "execution_count": 7,
   "metadata": {},
   "outputs": [
    {
     "name": "stdout",
     "output_type": "stream",
     "text": [
      "Duplicates for [('yearcode', 'year')] in 23 files\n",
      "Duplicates for [('elementgroup', 'elementcode')] in 1 files\n"
     ]
    }
   ],
   "source": [
    "from data_processing import scan_column_duplicates\n",
    "duplicates = scan_column_duplicates(csv_files, column_rename)\n",
    "for c, f in duplicates:\n",
    "    print(f\"Duplicates for {c} in {len(f)} files\")"
   ]
  },
  {
   "cell_type": "markdown",
   "metadata": {},
   "source": [
    "As we can see, most files have `year` and `yearcode` columns which are equal. Hence, we can safely drop this column. However, for `elementgroup` and `elementcode`, they are equal in almost all CSV where they appear (1/2), but not all, so we cannot safely drop it without checking. We choose to keep `elementcode` when those two are equal, and keep them both when they are not.\n",
    "\n",
    "Hence, we can define a list of columns to be checked and dropped; We drop them if they fulfill any of the following conditions:\n",
    " - NaN in all rows\n",
    " - Duplicate with another column"
   ]
  },
  {
   "cell_type": "code",
   "execution_count": 8,
   "metadata": {},
   "outputs": [
    {
     "name": "stdout",
     "output_type": "stream",
     "text": [
      "After renaming and dropping columns, we obtain the following columns:\n",
      "\n",
      "['area', 'areacode', 'element', 'elementcode', 'flag', 'item', 'itemcode', 'unit', 'value', 'year'] Num files 23\n",
      "['area', 'areacode', 'element', 'elementcode', 'elementgroup', 'flag', 'item', 'itemcode', 'unit', 'value', 'year'] Num files 1\n",
      "['area', 'areacode', 'element', 'elementcode', 'flag', 'months', 'monthscode', 'unit', 'value', 'year'] Num files 1\n"
     ]
    }
   ],
   "source": [
    "check_columns = [\"note\", \"yearcode\", \"elementgroup\"]\n",
    "all_columns_3 = scan_columns(csv_files, column_rename, check_columns)\n",
    "print(f\"After renaming and dropping columns, we obtain the following columns:\\n\")\n",
    "for cols, f in all_columns_3:\n",
    "    print(list(sorted(cols)), f\"Num files {len(f)}\")"
   ]
  },
  {
   "cell_type": "markdown",
   "metadata": {},
   "source": [
    "We now have 41 files with identical schemas, and 2 files that have a different one:\n",
    " - The file containing the `elementgroup` additional column, which refers to groups of `elements`\n",
    " - The file with monthly data and no `item` and `itemcode` columns\n",
    " \n",
    "To obtain the desired format, we can now call `load_dataframe(<file>, column_rename, drop_columns)` with `column_rename = {'country': 'area', 'countrycode': 'areacode'}` and `drop_columns = [\"note\", \"yearcode\", \"elementgroup\"]`"
   ]
  },
  {
   "cell_type": "markdown",
   "metadata": {},
   "source": [
    "The only remaining csv with different schema are:\n",
    "- `data/environment/Environment_Temperature_change_E_All_Data_(Normalized).csv` (which contains monthly data)\n",
    "- `data/environment/Environment_Energy_E_All_Data.csv`, which contains `elementgroup` column"
   ]
  },
  {
   "cell_type": "markdown",
   "metadata": {},
   "source": [
    "---\n",
    "### A.2 Schema description\n",
    "\n",
    "---\n",
    "Now that we have a unified schema for (almost) all csv files, we can start looking into the meaning of each column and their possible value. "
   ]
  },
  {
   "cell_type": "markdown",
   "metadata": {},
   "source": [
    "#### 1. Area columns\n",
    "---\n",
    "We will first look into the columns `area` and `areacode`. According to FAOSTAT's website, each area is defined by a unique areacode, however some areas include other ones, i.e. there are grouped areas in the datasets. We would expect a one-to-one mapping between those two columns. Let's see how this looks like"
   ]
  },
  {
   "cell_type": "markdown",
   "metadata": {},
   "source": [
    "To verify that it is indeed a one-to-one mapping, we will append all values from all csv files, and drop duplicates. Then we group by area and see if the length of the group is 1."
   ]
  },
  {
   "cell_type": "code",
   "execution_count": 9,
   "metadata": {},
   "outputs": [
    {
     "data": {
      "text/plain": [
       "False"
      ]
     },
     "execution_count": 9,
     "metadata": {},
     "output_type": "execute_result"
    }
   ],
   "source": [
    "from utils import is_unique_mapping\n",
    "\n",
    "area_values = get_column_unique_values(csv_files, column_rename, check_columns, ['area', 'areacode'])\n",
    "is_unique_mapping(area_values, 'area', ['areacode'])"
   ]
  },
  {
   "cell_type": "markdown",
   "metadata": {},
   "source": [
    "It seems that the mapping is not one-to-one. Let's look into why that is. First we group by `areacode` and aggregate to a list of `area` and then we do the inverse. This way, we can see how the mapping is."
   ]
  },
  {
   "cell_type": "code",
   "execution_count": 10,
   "metadata": {},
   "outputs": [
    {
     "data": {
      "text/plain": [
       "Series([], Name: areacode, dtype: object)"
      ]
     },
     "execution_count": 10,
     "metadata": {},
     "output_type": "execute_result"
    }
   ],
   "source": [
    "grpd = area_values.groupby('area')['areacode'].apply(list)\n",
    "grpd[grpd.apply(lambda x: len(x) > 1)]"
   ]
  },
  {
   "cell_type": "markdown",
   "metadata": {},
   "source": [
    "The mapping `area` -> `areacode` is unique, now for the opposite:"
   ]
  },
  {
   "cell_type": "code",
   "execution_count": 11,
   "metadata": {},
   "outputs": [
    {
     "data": {
      "text/plain": [
       "areacode\n",
       "154     [The former Yugoslav Republic of Macedonia, No...\n",
       "167                             [Czechia, Czech Republic]\n",
       "209                                 [Eswatini, Swaziland]\n",
       "299           [Occupied Palestinian Territory, Palestine]\n",
       "5000                             [World, World + (Total)]\n",
       "5100                           [Africa, Africa + (Total)]\n",
       "5101           [Eastern Africa, Eastern Africa + (Total)]\n",
       "5102             [Middle Africa, Middle Africa + (Total)]\n",
       "5103         [Northern Africa, Northern Africa + (Total)]\n",
       "5104         [Southern Africa, Southern Africa + (Total)]\n",
       "5105           [Western Africa, Western Africa + (Total)]\n",
       "5200                       [Americas, Americas + (Total)]\n",
       "5203       [Northern America, Northern America + (Total)]\n",
       "5204         [Central America, Central America + (Total)]\n",
       "5206                     [Caribbean, Caribbean + (Total)]\n",
       "5207             [South America, South America + (Total)]\n",
       "5300                               [Asia, Asia + (Total)]\n",
       "5301               [Central Asia, Central Asia + (Total)]\n",
       "5302               [Eastern Asia, Eastern Asia + (Total)]\n",
       "5303             [Southern Asia, Southern Asia + (Total)]\n",
       "5304    [South-Eastern Asia, South-Eastern Asia + (Tot...\n",
       "5305               [Western Asia, Western Asia + (Total)]\n",
       "5400                           [Europe, Europe + (Total)]\n",
       "5401           [Eastern Europe, Eastern Europe + (Total)]\n",
       "5402         [Northern Europe, Northern Europe + (Total)]\n",
       "5403         [Southern Europe, Southern Europe + (Total)]\n",
       "5404           [Western Europe, Western Europe + (Total)]\n",
       "5500                         [Oceania, Oceania + (Total)]\n",
       "5501    [Australia & New Zealand, Australia and New Ze...\n",
       "5706           [European Union, European Union + (Total)]\n",
       "5801    [Least Developed Countries, Least Developed Co...\n",
       "5802    [Land Locked Developing Countries, LandLocked ...\n",
       "5803    [Small Island Developing States, Small Island ...\n",
       "5815    [Low Income Food Deficit Countries, Low Income...\n",
       "5817    [Net Food Importing Developing Countries, Net ...\n",
       "Name: area, dtype: object"
      ]
     },
     "execution_count": 11,
     "metadata": {},
     "output_type": "execute_result"
    }
   ],
   "source": [
    "grpd = area_values.groupby('areacode')['area'].apply(list)\n",
    "grpd[grpd.apply(lambda x: len(x) > 1)]"
   ]
  },
  {
   "cell_type": "markdown",
   "metadata": {},
   "source": [
    "It seems that the same `areacode` is sometimes mapped to multiple `area`, most of the time by adding \"+ (Total)\". For that, we could drop the `area` column and keep working with `areacode`.\n",
    "\n",
    "However, we still need a fixed database that maps the `areacode` to `area`, and for this, FAOSTAT provides one CSV file containing the mapping, as well as another one containing a description of country groups (i.e. \"Asia\") and which contries they contain."
   ]
  },
  {
   "cell_type": "code",
   "execution_count": 12,
   "metadata": {},
   "outputs": [
    {
     "data": {
      "text/html": [
       "<div>\n",
       "<style scoped>\n",
       "    .dataframe tbody tr th:only-of-type {\n",
       "        vertical-align: middle;\n",
       "    }\n",
       "\n",
       "    .dataframe tbody tr th {\n",
       "        vertical-align: top;\n",
       "    }\n",
       "\n",
       "    .dataframe thead th {\n",
       "        text-align: right;\n",
       "    }\n",
       "</style>\n",
       "<table border=\"1\" class=\"dataframe\">\n",
       "  <thead>\n",
       "    <tr style=\"text-align: right;\">\n",
       "      <th></th>\n",
       "      <th>countrycode</th>\n",
       "      <th>country</th>\n",
       "      <th>m49code</th>\n",
       "      <th>iso2code</th>\n",
       "      <th>iso3code</th>\n",
       "      <th>startyear</th>\n",
       "      <th>endyear</th>\n",
       "    </tr>\n",
       "  </thead>\n",
       "  <tbody>\n",
       "    <tr>\n",
       "      <th>0</th>\n",
       "      <td>2</td>\n",
       "      <td>Afghanistan</td>\n",
       "      <td>4.0</td>\n",
       "      <td>AF</td>\n",
       "      <td>AFG</td>\n",
       "      <td>NaN</td>\n",
       "      <td>NaN</td>\n",
       "    </tr>\n",
       "    <tr>\n",
       "      <th>1</th>\n",
       "      <td>5100</td>\n",
       "      <td>Africa</td>\n",
       "      <td>2.0</td>\n",
       "      <td>NaN</td>\n",
       "      <td>X06</td>\n",
       "      <td>NaN</td>\n",
       "      <td>NaN</td>\n",
       "    </tr>\n",
       "    <tr>\n",
       "      <th>2</th>\n",
       "      <td>284</td>\n",
       "      <td>Ã",
       "land Islands</td>\n",
       "      <td>248.0</td>\n",
       "      <td>NaN</td>\n",
       "      <td>ALA</td>\n",
       "      <td>NaN</td>\n",
       "      <td>NaN</td>\n",
       "    </tr>\n",
       "    <tr>\n",
       "      <th>3</th>\n",
       "      <td>3</td>\n",
       "      <td>Albania</td>\n",
       "      <td>8.0</td>\n",
       "      <td>AL</td>\n",
       "      <td>ALB</td>\n",
       "      <td>NaN</td>\n",
       "      <td>NaN</td>\n",
       "    </tr>\n",
       "    <tr>\n",
       "      <th>4</th>\n",
       "      <td>4</td>\n",
       "      <td>Algeria</td>\n",
       "      <td>12.0</td>\n",
       "      <td>DZ</td>\n",
       "      <td>DZA</td>\n",
       "      <td>NaN</td>\n",
       "      <td>NaN</td>\n",
       "    </tr>\n",
       "  </tbody>\n",
       "</table>\n",
       "</div>"
      ],
      "text/plain": [
       "   countrycode         country  m49code iso2code iso3code  startyear  endyear\n",
       "0            2     Afghanistan      4.0       AF      AFG        NaN      NaN\n",
       "1         5100          Africa      2.0      NaN      X06        NaN      NaN\n",
       "2          284  Ã\n",
       "land Islands    248.0      NaN      ALA        NaN      NaN\n",
       "3            3         Albania      8.0       AL      ALB        NaN      NaN\n",
       "4            4         Algeria     12.0       DZ      DZA        NaN      NaN"
      ]
     },
     "execution_count": 12,
     "metadata": {},
     "output_type": "execute_result"
    }
   ],
   "source": [
    "from data_processing import load_dataframe\n",
    "area_codes = load_dataframe('data/countries.csv')\n",
    "area_codes.head()"
   ]
  },
  {
   "cell_type": "code",
   "execution_count": 13,
   "metadata": {},
   "outputs": [
    {
     "data": {
      "text/html": [
       "<div>\n",
       "<style scoped>\n",
       "    .dataframe tbody tr th:only-of-type {\n",
       "        vertical-align: middle;\n",
       "    }\n",
       "\n",
       "    .dataframe tbody tr th {\n",
       "        vertical-align: top;\n",
       "    }\n",
       "\n",
       "    .dataframe thead th {\n",
       "        text-align: right;\n",
       "    }\n",
       "</style>\n",
       "<table border=\"1\" class=\"dataframe\">\n",
       "  <thead>\n",
       "    <tr style=\"text-align: right;\">\n",
       "      <th></th>\n",
       "      <th>countrygroupcode</th>\n",
       "      <th>countrygroup</th>\n",
       "      <th>countrycode</th>\n",
       "      <th>country</th>\n",
       "      <th>m49code</th>\n",
       "      <th>iso2code</th>\n",
       "      <th>iso3code</th>\n",
       "    </tr>\n",
       "  </thead>\n",
       "  <tbody>\n",
       "    <tr>\n",
       "      <th>0</th>\n",
       "      <td>5100</td>\n",
       "      <td>Africa</td>\n",
       "      <td>4</td>\n",
       "      <td>Algeria</td>\n",
       "      <td>12.0</td>\n",
       "      <td>DZ</td>\n",
       "      <td>DZA</td>\n",
       "    </tr>\n",
       "    <tr>\n",
       "      <th>1</th>\n",
       "      <td>5100</td>\n",
       "      <td>Africa</td>\n",
       "      <td>7</td>\n",
       "      <td>Angola</td>\n",
       "      <td>24.0</td>\n",
       "      <td>AO</td>\n",
       "      <td>AGO</td>\n",
       "    </tr>\n",
       "    <tr>\n",
       "      <th>2</th>\n",
       "      <td>5100</td>\n",
       "      <td>Africa</td>\n",
       "      <td>53</td>\n",
       "      <td>Benin</td>\n",
       "      <td>204.0</td>\n",
       "      <td>BJ</td>\n",
       "      <td>BEN</td>\n",
       "    </tr>\n",
       "    <tr>\n",
       "      <th>3</th>\n",
       "      <td>5100</td>\n",
       "      <td>Africa</td>\n",
       "      <td>20</td>\n",
       "      <td>Botswana</td>\n",
       "      <td>72.0</td>\n",
       "      <td>BW</td>\n",
       "      <td>BWA</td>\n",
       "    </tr>\n",
       "    <tr>\n",
       "      <th>4</th>\n",
       "      <td>5100</td>\n",
       "      <td>Africa</td>\n",
       "      <td>24</td>\n",
       "      <td>British Indian Ocean Territory</td>\n",
       "      <td>86.0</td>\n",
       "      <td>IO</td>\n",
       "      <td>IOT</td>\n",
       "    </tr>\n",
       "  </tbody>\n",
       "</table>\n",
       "</div>"
      ],
      "text/plain": [
       "   countrygroupcode countrygroup  countrycode                         country  \\\n",
       "0              5100       Africa            4                         Algeria   \n",
       "1              5100       Africa            7                          Angola   \n",
       "2              5100       Africa           53                           Benin   \n",
       "3              5100       Africa           20                        Botswana   \n",
       "4              5100       Africa           24  British Indian Ocean Territory   \n",
       "\n",
       "   m49code iso2code iso3code  \n",
       "0     12.0       DZ      DZA  \n",
       "1     24.0       AO      AGO  \n",
       "2    204.0       BJ      BEN  \n",
       "3     72.0       BW      BWA  \n",
       "4     86.0       IO      IOT  "
      ]
     },
     "execution_count": 13,
     "metadata": {},
     "output_type": "execute_result"
    }
   ],
   "source": [
    "country_groups = load_dataframe('data/country_groups.csv')\n",
    "country_groups.head()"
   ]
  },
  {
   "cell_type": "markdown",
   "metadata": {},
   "source": [
    "Here, countries are grouped into multiple `countrygroup`, so we know exactly of which countries each group is formed. These country groups are present in the dataset as `area`, meaning there are aggregated values in the dataset. For example: we can find the emissions for \"Algeria\" and for \"Africa\", where the latter is an aggregated value over the whole group. We will need to be careful when aggregating values in the future, as we could account multiple times for one country."
   ]
  },
  {
   "cell_type": "code",
   "execution_count": 14,
   "metadata": {},
   "outputs": [
    {
     "data": {
      "text/plain": [
       "True"
      ]
     },
     "execution_count": 14,
     "metadata": {},
     "output_type": "execute_result"
    }
   ],
   "source": [
    "is_unique_mapping(area_codes[['country', 'countrycode']].drop_duplicates(), 'country', ['countrycode'])"
   ]
  },
  {
   "cell_type": "code",
   "execution_count": 15,
   "metadata": {},
   "outputs": [
    {
     "data": {
      "text/plain": [
       "True"
      ]
     },
     "execution_count": 15,
     "metadata": {},
     "output_type": "execute_result"
    }
   ],
   "source": [
    "all(x in area_codes.countrycode.unique() for x in area_values.areacode.unique())"
   ]
  },
  {
   "cell_type": "markdown",
   "metadata": {},
   "source": [
    "Hence, we can use the dataframe `area_codes` to obtain the country's name from it's code, and `country_groups` to get which countries form a group. For this, we can now drop the `area` column in our dataset."
   ]
  },
  {
   "cell_type": "markdown",
   "metadata": {},
   "source": [
    "#### 2. Element Columns\n",
    "---\n",
    "\n",
    "The `element` and `elementcode` represent the measure quantity for a given `item`. A quantity has a name and a unit, which is why we believe these two columns should also have a one-to-one mapping accross the whole dataset. Also, since an `elementcode` potentially uniquely identifies (`element`, `unit`) pair, we might drop those two columns as to make the csv files smaller and easier to manipulate.\n",
    "\n",
    "First let's check if indeed this mapping is one-to-one:"
   ]
  },
  {
   "cell_type": "code",
   "execution_count": 16,
   "metadata": {},
   "outputs": [
    {
     "data": {
      "text/plain": [
       "True"
      ]
     },
     "execution_count": 16,
     "metadata": {},
     "output_type": "execute_result"
    }
   ],
   "source": [
    "element_values = get_column_unique_values(csv_files, column_rename, check_columns, ['elementcode', 'element', 'unit'])\n",
    "is_unique_mapping(element_values, 'elementcode', ['element', 'unit'])"
   ]
  },
  {
   "cell_type": "markdown",
   "metadata": {},
   "source": [
    "As we can see, `elementcode` uniquely identify (`element`, `unit`) pairs, so we can safely drop those two columns and only use `elementcode`. We will later pivot each csv as to obtain all the `elementcode`s as columns, so we can reduce de number of rows significantly. A mapping using a dictionnary will of course be necessary in order to have a nice GUI where users can select the (element, unit) pair instead of the code."
   ]
  },
  {
   "cell_type": "markdown",
   "metadata": {},
   "source": [
    "#### 3. Item columns\n",
    "---\n",
    "\n",
    "According to FAOSTAT, the `item` and `itemcode` columns represent item on which measurements were done. For example an item can be `cattle` and the measurement can be \"CH4 emissions in gigagrams\". \n",
    "Similarly to what we did above, we expect `item` and `itemcode` to have a one-to-one relationship. Let's verify this using the same functions"
   ]
  },
  {
   "cell_type": "code",
   "execution_count": 17,
   "metadata": {},
   "outputs": [
    {
     "data": {
      "text/plain": [
       "False"
      ]
     },
     "execution_count": 17,
     "metadata": {},
     "output_type": "execute_result"
    }
   ],
   "source": [
    "item_values = get_column_unique_values(csv_files, column_rename, check_columns, ['item', 'itemcode'], with_file=True)\n",
    "is_unique_mapping(item_values[['item', 'itemcode']], 'item', ['itemcode'])"
   ]
  },
  {
   "cell_type": "markdown",
   "metadata": {},
   "source": [
    "It seems that `item` to `itemcode` is not unique for a few items, let's check those and try to understand why it is the case."
   ]
  },
  {
   "cell_type": "code",
   "execution_count": 18,
   "metadata": {},
   "outputs": [
    {
     "data": {
      "text/plain": [
       "Series([], Name: item, dtype: object)"
      ]
     },
     "execution_count": 18,
     "metadata": {},
     "output_type": "execute_result"
    }
   ],
   "source": [
    "grpd = item_values.groupby('itemcode')['item'].agg(set)\n",
    "grpd[grpd.apply(len) > 1]"
   ]
  },
  {
   "cell_type": "markdown",
   "metadata": {},
   "source": [
    "The mapping `itemcode` -> `item` is unique, now let's check the other way around"
   ]
  },
  {
   "cell_type": "code",
   "execution_count": 19,
   "metadata": {},
   "outputs": [
    {
     "data": {
      "text/plain": [
       "item\n",
       "Ammonium nitrate (AN)                            {1362, 4003}\n",
       "Ammonium sulphate                                {1361, 4002}\n",
       "Cattle                                            {866, 1757}\n",
       "Chickens                                         {1057, 1054}\n",
       "Disinfectants                                    {1358, 1351}\n",
       "Mineral Oils                                     {1354, 1316}\n",
       "Other Pesticides nes                             {1355, 1359}\n",
       "Other nitrogenous fertilizers, n.e.c.            {4008, 1369}\n",
       "Other potassic fertilizers, n.e.c.               {4018, 1391}\n",
       "Plant Growth Regulators                          {1356, 1341}\n",
       "Potassium sulphate (sulphate of potash) (SOP)    {4017, 1387}\n",
       "Urea                                             {4001, 1367}\n",
       "Name: itemcode, dtype: object"
      ]
     },
     "execution_count": 19,
     "metadata": {},
     "output_type": "execute_result"
    }
   ],
   "source": [
    "grouped = item_values.groupby('item')['itemcode'].agg(set)\n",
    "grouped[grouped.apply(len) >1]"
   ]
  },
  {
   "cell_type": "markdown",
   "metadata": {},
   "source": [
    "Some items seem to have multiple different item codes, which doesn't seem very normal. \n",
    "\n",
    "**a.** It seems that some of those items correspond to nutrients provided throught fertilizers. Let's see in which files those appear. The items related to nutrients are the following :"
   ]
  },
  {
   "cell_type": "code",
   "execution_count": 20,
   "metadata": {},
   "outputs": [
    {
     "data": {
      "text/plain": [
       "array(['data/inputs/Inputs_FertilizersArchive_E_All_Data_(Normalized).csv',\n",
       "       'data/inputs/Inputs_FertilizersProduct_E_All_Data_(Normalized).csv'],\n",
       "      dtype=object)"
      ]
     },
     "execution_count": 20,
     "metadata": {},
     "output_type": "execute_result"
    }
   ],
   "source": [
    "nutrient_items = [\"Ammonium nitrate (AN)\", \"Ammonium sulphate\", \"Other nitrogenous fertilizers, n.e.c.\", \"Other potassic fertilizers, n.e.c.\", \"Potassium sulphate (sulphate of potash) (SOP)\", \"Urea\"]\n",
    "item_values[item_values.item.isin(nutrient_items)].file.unique()"
   ]
  },
  {
   "cell_type": "markdown",
   "metadata": {},
   "source": [
    "Those items are only present in two dataframes, related to Ferilizer use. If we look closely at the names of csv files, we can see that one of them is \"Archive\", \n",
    "while the other is product. After having looking and reading the documentation for this CSV http://www.fao.org/faostat/en/#data/RA, we understand that it is an archive document, that has not been updated since 2002. \n",
    "\n",
    "Before that date, all data on Fertilizer was put into one single dataframe (i.e. info about production, trade and consumption) both in total nutrients and amount of product. After 2002, it was split into nutrient and product, which is why we have two `itemcode` values for those `items`. \n",
    "\n",
    "Hence, we should be careful when studying the fertilizer use, as data collection has changed in 2002.\n"
   ]
  },
  {
   "cell_type": "markdown",
   "metadata": {},
   "source": [
    "**b.** Some items are related to pesticides. Let's in which csv files they appear"
   ]
  },
  {
   "cell_type": "code",
   "execution_count": 21,
   "metadata": {},
   "outputs": [
    {
     "data": {
      "text/plain": [
       "array(['data/inputs/Inputs_Pesticides_Use_E_All_Data_(Normalized).csv'],\n",
       "      dtype=object)"
      ]
     },
     "execution_count": 21,
     "metadata": {},
     "output_type": "execute_result"
    }
   ],
   "source": [
    "pesticide_items = [\"Disinfectants\", \"Mineral Oils\", \"Other Pesticides nes\", \"Plant Growth Regulators\"]\n",
    "item_values[item_values.item.isin(pesticide_items)].file.unique()"
   ]
  },
  {
   "cell_type": "markdown",
   "metadata": {},
   "source": [
    "Some duplicate items with the same name but different codes appear in only one csv file, which seems quite odd. We suspect having duplicate rows in that case. Let's check that out."
   ]
  },
  {
   "cell_type": "code",
   "execution_count": 22,
   "metadata": {},
   "outputs": [
    {
     "name": "stdout",
     "output_type": "stream",
     "text": [
      "Duplicate item for Disinfectants codes [1358 1351]\n",
      "Duplicate item for Mineral Oils codes [1354 1316]\n",
      "Duplicate item for Other Pesticides nes codes [1359 1355]\n",
      "Duplicate item for Plant Growth Regulators codes [1356 1341]\n"
     ]
    }
   ],
   "source": [
    "from data_processing import check_duplicate_items\n",
    "t = load_dataframe('data/inputs/Inputs_Pesticides_Use_E_All_Data_(Normalized).csv', column_rename, check_columns)\n",
    "check_duplicate_items(t, pesticide_items)"
   ]
  },
  {
   "cell_type": "markdown",
   "metadata": {},
   "source": [
    "We now know that there are potentially duplicate rows for the same `item` but a different `itemcode` (with the same measurements). Hence, we need to add a functionnality that checks for duplicated items in the dataframe."
   ]
  },
  {
   "cell_type": "markdown",
   "metadata": {},
   "source": [
    "**c.** Now let's look at livestock items"
   ]
  },
  {
   "cell_type": "code",
   "execution_count": 23,
   "metadata": {},
   "outputs": [
    {
     "name": "stdout",
     "output_type": "stream",
     "text": [
      "['Cattle' 866\n",
      " {'data/production/Production_Livestock_E_All_Data_(Normalized).csv'}]\n",
      "['Cattle' 1757\n",
      " {'data/emissions_agriculture/Emissions_Agriculture_Manure_left_on_pasture_E_All_Data_(Normalized).csv', 'data/emissions_agriculture/Emissions_Agriculture_Enteric_Fermentation_E_All_Data_(Normalized).csv', 'data/emissions_agriculture/Emissions_Agriculture_Manure_applied_to_soils_E_All_Data_(Normalized).csv', 'data/emissions_agriculture/Emissions_Agriculture_Manure_Management_E_All_Data_(Normalized).csv'}]\n",
      "['Chickens' 1054\n",
      " {'data/emissions_agriculture/Emissions_Agriculture_Manure_left_on_pasture_E_All_Data_(Normalized).csv', 'data/emissions_agriculture/Emissions_Agriculture_Manure_applied_to_soils_E_All_Data_(Normalized).csv', 'data/emissions_agriculture/Emissions_Agriculture_Manure_Management_E_All_Data_(Normalized).csv'}]\n",
      "['Chickens' 1057\n",
      " {'data/production/Production_Livestock_E_All_Data_(Normalized).csv'}]\n"
     ]
    }
   ],
   "source": [
    "livestock_items = [\"Cattle\", \"Chickens\"]\n",
    "for i in item_values[item_values.item.isin(livestock_items)].groupby(['item', 'itemcode']).agg(set).reset_index().values:\n",
    "    print(i)"
   ]
  },
  {
   "cell_type": "markdown",
   "metadata": {},
   "source": [
    "The `itemcode` -> `item` seems one-to-one in each csv file, but we see that there are two distinct `itemcode` for \"Cattle\" and \"Chickens\" accross all csv files."
   ]
  },
  {
   "cell_type": "markdown",
   "metadata": {},
   "source": [
    "It seems that different values for `itemcode` for both \"Chickens\" and \"Cattles\" differ when the measured quantity is realted to emissions. Thus, this might be a discrepancy in the data as it does not appear for other items. We will treat this discrepancy once all csv have been merged into one."
   ]
  },
  {
   "cell_type": "markdown",
   "metadata": {},
   "source": [
    "#### 4. Flag Columns\n",
    "---\n",
    "\n",
    "According to FAOSTAT, not all the data points are official figures reported by individual countries. Some are estimates, others are aggregates done by external entities. In order to understand the meaning of those flagas, they provide a csv file containing the description of each."
   ]
  },
  {
   "cell_type": "code",
   "execution_count": 24,
   "metadata": {},
   "outputs": [
    {
     "data": {
      "text/html": [
       "<div>\n",
       "<style scoped>\n",
       "    .dataframe tbody tr th:only-of-type {\n",
       "        vertical-align: middle;\n",
       "    }\n",
       "\n",
       "    .dataframe tbody tr th {\n",
       "        vertical-align: top;\n",
       "    }\n",
       "\n",
       "    .dataframe thead th {\n",
       "        text-align: right;\n",
       "    }\n",
       "</style>\n",
       "<table border=\"1\" class=\"dataframe\">\n",
       "  <thead>\n",
       "    <tr style=\"text-align: right;\">\n",
       "      <th></th>\n",
       "      <th>flag</th>\n",
       "      <th>flags</th>\n",
       "    </tr>\n",
       "  </thead>\n",
       "  <tbody>\n",
       "    <tr>\n",
       "      <th>0</th>\n",
       "      <td>NaN</td>\n",
       "      <td>Official data</td>\n",
       "    </tr>\n",
       "    <tr>\n",
       "      <th>1</th>\n",
       "      <td>*</td>\n",
       "      <td>Unofficial figure</td>\n",
       "    </tr>\n",
       "    <tr>\n",
       "      <th>2</th>\n",
       "      <td>A</td>\n",
       "      <td>Aggregate, may include official, semi-official...</td>\n",
       "    </tr>\n",
       "    <tr>\n",
       "      <th>3</th>\n",
       "      <td>B</td>\n",
       "      <td>Balance</td>\n",
       "    </tr>\n",
       "    <tr>\n",
       "      <th>4</th>\n",
       "      <td>Bk</td>\n",
       "      <td>Break in series</td>\n",
       "    </tr>\n",
       "  </tbody>\n",
       "</table>\n",
       "</div>"
      ],
      "text/plain": [
       "  flag                                              flags\n",
       "0  NaN                                      Official data\n",
       "1    *                                  Unofficial figure\n",
       "2    A  Aggregate, may include official, semi-official...\n",
       "3    B                                            Balance\n",
       "4   Bk                                    Break in series"
      ]
     },
     "execution_count": 24,
     "metadata": {},
     "output_type": "execute_result"
    }
   ],
   "source": [
    "flags = load_dataframe(\"data/flags.csv\")\n",
    "flags.head()"
   ]
  },
  {
   "cell_type": "code",
   "execution_count": 25,
   "metadata": {},
   "outputs": [
    {
     "name": "stdout",
     "output_type": "stream",
     "text": [
      "There are 41 flags\n"
     ]
    }
   ],
   "source": [
    "print(f\"There are {len(flags)} flags\")"
   ]
  },
  {
   "cell_type": "markdown",
   "metadata": {},
   "source": [
    "---\n",
    "### A.3 Conclusion about Schemas\n",
    "\n",
    "---\n",
    "\n",
    "After having applied some analysis on the initially different schemas of the dataframes, we are now able to obtain identitcal schemas for 41 of them, and left two of them where we believe they should not be changed as some information could be lost.\n",
    "\n",
    "The common schema has the following columns:\n",
    "\n",
    "`['area', 'areacode', 'element', 'elementcode', 'flag', 'item', 'itemcode', 'unit', 'value', 'year']`\n",
    "\n",
    "For now, we have come up with a few steps that should be applied when loading a dataframe:\n",
    " - Rename columns to remove spaces and captial letters\n",
    " - Rename \"Country\" to \"Area\" and \"CountryCode\" to \"Areacode\"\n",
    " - Drop columns that are either duplicates or NaN values\n",
    " - Rename \"gigagrams\" to \"Gigagrams\", as otherwise we would have a non one-to-one mapping for `elementcode`\n",
    " - Check for items if they have duplicate rows.\n",
    "\n",
    "The function that does the first 4 cleaning steps is `data_processing/load_dataframe`, and the one that puts everything together is `data_processing/load_clean_dataframe`.\n",
    "\n",
    "Also, we have decided to only work with codes (i.e. `areacode` and `elementcode`) and drop `area`, `element` and `unit`. Of course, we will need a mapping from `code` -> `value`. Additionally, in order to keep track of `countrygroup` and do know how values are aggregated, we will also create a mapping that tells us which countries form a group, by codes.\n",
    "\n",
    "Hence, to load a dataframe, we simply call :\n",
    "```\n",
    "df = load_clean_dataframe(<filename>, column_rename, check_columns, drop_columns)\n",
    "```\n",
    "\n",
    "with  `column_rename = {'country': 'area', 'countrycode': 'areacode'}` and `check_columns = [\"note\", \"yearcode\", \"elementgroup\"]` and `drop_columns = [\"area\", \"item\", \"element\", \"unit\"]`"
   ]
  },
  {
   "cell_type": "code",
   "execution_count": 26,
   "metadata": {},
   "outputs": [],
   "source": [
    "column_rename = {'country': 'area', 'countrycode': 'areacode'}\n",
    "check_columns = [\"note\", \"yearcode\", \"elementgroup\"]\n",
    "drop_columns = [\"area\", \"item\", \"element\", \"unit\"]"
   ]
  },
  {
   "cell_type": "markdown",
   "metadata": {},
   "source": [
    "Now we need to get the mappings for :\n",
    "- `elementcode` -> (`element`, `unit`) (unique in both ways)\n",
    "- `itemcode` -> `item` (unique in that way, but not the other way around)\n",
    "- `areacode` -> `area` (unique in both ways)"
   ]
  },
  {
   "cell_type": "code",
   "execution_count": 27,
   "metadata": {},
   "outputs": [],
   "source": [
    "from mappings import get_mapping, get_area_mapping, get_country_groups\n",
    "item_mapping = get_mapping(csv_files, column_rename, check_columns, ['itemcode','item'])\n",
    "element_mapping = get_mapping(csv_files, column_rename, check_columns, ['elementcode', 'element', 'unit'])\n"
   ]
  },
  {
   "cell_type": "code",
   "execution_count": 28,
   "metadata": {},
   "outputs": [],
   "source": [
    "from mappings import get_area_mapping, get_country_groups\n",
    "area_mapping = get_area_mapping(\"data/countries.csv\")\n",
    "country_groups = get_country_groups(\"data/country_groups.csv\")"
   ]
  },
  {
   "cell_type": "markdown",
   "metadata": {},
   "source": [
    "---\n",
    "---\n",
    "## B. Diving into the data\n",
    "\n",
    "For now everything was stored in database format (i.e. Row format), but we would like to have elements in columns, so that we can reduce drastically the number of rows, and so we can have all the measurements for a single (`itemcode`, `areacode`, `year`) pair."
   ]
  },
  {
   "cell_type": "markdown",
   "metadata": {},
   "source": [
    "---\n",
    "### B.1 Merging all files with same schema\n",
    "\n",
    "---\n",
    "\n",
    "Before reshaping, we know that 41 csv files have the same schema. Thus, it would be good to have them all in a single dataframe in order to facilitate access to values. We will then create a single dataframe from all those 41 (over 43 in total). This dataframe will then have potentially duplicate rows, which we will drop."
   ]
  },
  {
   "cell_type": "code",
   "execution_count": 30,
   "metadata": {},
   "outputs": [
    {
     "name": "stdout",
     "output_type": "stream",
     "text": [
      "Dropped duplicate item Disinfectants with codes [1358, 1351] (Dropped 1351)\n",
      "Dropped duplicate item Mineral Oils with codes [1354, 1316] (Dropped 1316)\n",
      "Dropped duplicate item Other Pesticides nes with codes [1359, 1355] (Dropped 1355)\n",
      "Dropped duplicate item Plant Growth Regulators with codes [1356, 1341] (Dropped 1341)\n",
      "Dropped 725925 duplicate rows\n"
     ]
    }
   ],
   "source": [
    "from data_processing import load_clean_dataframe, load_all_df_with_schema\n",
    "schema = ['area', 'areacode', 'element', 'elementcode', 'flag', 'item', 'itemcode', 'unit', 'value', 'year']\n",
    "df = load_all_df_with_schema(csv_files, schema, column_rename, check_columns, drop_columns)"
   ]
  },
  {
   "cell_type": "code",
   "execution_count": 31,
   "metadata": {},
   "outputs": [
    {
     "data": {
      "text/plain": [
       "2736"
      ]
     },
     "execution_count": 31,
     "metadata": {},
     "output_type": "execute_result"
    }
   ],
   "source": [
    "import gc\n",
    "gc.collect()"
   ]
  },
  {
   "cell_type": "markdown",
   "metadata": {},
   "source": [
    "---\n",
    "### B.2 Selecting subsets of items for our study\n",
    "---\n",
    "\n",
    "We currenlty have around 450 items in our dataframe. This number is quite large and we could not select items arbitrarily to do our study. For this we have decided to used `itemgroups`, which are simply groups of items defined by FAOSTAT. \n",
    "\n",
    "For some provided csv file, FAOSTAT provides another csv containing `itemgroup` and from which items they are formed. Those values are already present in our dataset, hence we only need to filter out `itemcode` values that are not an `itemgroup`."
   ]
  },
  {
   "cell_type": "code",
   "execution_count": 64,
   "metadata": {},
   "outputs": [],
   "source": [
    "from data_processing import load_item_groups\n",
    "files = glob(\"data/item_groups/*.csv\")\n",
    "item_groups = load_item_groups(files)"
   ]
  },
  {
   "cell_type": "code",
   "execution_count": 66,
   "metadata": {},
   "outputs": [
    {
     "name": "stdout",
     "output_type": "stream",
     "text": [
      "We can group 257 items into 39 item groups\n"
     ]
    }
   ],
   "source": [
    "print(\"We can group {} items into {} item groups\".format(item_groups.itemcode.nunique(), item_groups.itemgroupcode.nunique()))"
   ]
  },
  {
   "cell_type": "markdown",
   "metadata": {},
   "source": [
    "Now let's check that all `itemcode` present in the database are in the `item_groups`"
   ]
  },
  {
   "cell_type": "code",
   "execution_count": 67,
   "metadata": {},
   "outputs": [
    {
     "data": {
      "text/plain": [
       "set()"
      ]
     },
     "execution_count": 67,
     "metadata": {},
     "output_type": "execute_result"
    }
   ],
   "source": [
    "set(item_groups.itemcode.unique()).difference(set(df.itemcode.unique()))"
   ]
  },
  {
   "cell_type": "markdown",
   "metadata": {},
   "source": [
    "And now item groups:"
   ]
  },
  {
   "cell_type": "code",
   "execution_count": 71,
   "metadata": {},
   "outputs": [
    {
     "name": "stdout",
     "output_type": "stream",
     "text": [
      "['Hides and skins, primary']\n",
      "['Crops Primary']\n",
      "['Live Animals']\n"
     ]
    }
   ],
   "source": [
    "for i in set(item_groups.itemgroupcode.unique()).difference(set(df.itemcode.unique())):\n",
    "    print(item_groups[item_groups.itemgroupcode == i].itemgroup.unique())"
   ]
  },
  {
   "cell_type": "markdown",
   "metadata": {},
   "source": [
    "It seems that only 3 item groups are not present in the dataframe. We don't really need \"Hides and skins\", as they are taken into consideration in other groups. As for \"Crops Primary\" and \"Live Animals\", they consider all groups so we don't really need them and can recompute them when needed."
   ]
  },
  {
   "cell_type": "code",
   "execution_count": 77,
   "metadata": {},
   "outputs": [],
   "source": [
    "itemcode_to_drop = set(item_groups.itemcode.unique())\n",
    "df = df[~df.itemcode.isin(itemcode_to_drop)]"
   ]
  },
  {
   "cell_type": "markdown",
   "metadata": {},
   "source": [
    "---\n",
    "### B.3 Checking for duplicate measurements\n",
    "\n",
    "---\n",
    "\n",
    "Ideally, we would like to have a single row for each (`areacode`, `itemcode`, `elementcode` and `year`), i.e one measurement. Let's check if it is the case:"
   ]
  },
  {
   "cell_type": "code",
   "execution_count": 78,
   "metadata": {},
   "outputs": [
    {
     "data": {
      "text/plain": [
       "1    0.997305\n",
       "2    0.002695\n",
       "Name: value, dtype: float64"
      ]
     },
     "execution_count": 78,
     "metadata": {},
     "output_type": "execute_result"
    }
   ],
   "source": [
    "grouped = df.groupby(['areacode', 'itemcode', 'elementcode', 'year'])[['value', 'flag']].nunique(dropna=False).reset_index()\n",
    "grouped['value'].value_counts(dropna=False) / grouped.shape[0]"
   ]
  },
  {
   "cell_type": "markdown",
   "metadata": {},
   "source": [
    "As we can see, it is not the case:\n",
    "    - Most of the time there is one measurement (~99.9%)\n",
    "    - Some have two measurements (~0.1%)\n",
    "This could be due to different `value` and/or different `flag`\n",
    "\n",
    "Let's look at those values"
   ]
  },
  {
   "cell_type": "markdown",
   "metadata": {},
   "source": [
    "#### 1. Assessing Elements that have duplicates\n",
    "---\n",
    "\n",
    "In order to remediate to this issue, we will look at the differences between the values, when there are multiple ones, and group by `elementcode`"
   ]
  },
  {
   "cell_type": "code",
   "execution_count": 79,
   "metadata": {},
   "outputs": [],
   "source": [
    "from utils import get_percentage_diff\n",
    "\n",
    "def get_discrepancies(df):\n",
    "    indexed = df.set_index(['areacode', 'itemcode', 'elementcode', 'year']) # Set the index to what what should be unique\n",
    "    duplicated_1 = indexed.index.duplicated(keep='first')  # Take the first duplicate\n",
    "    duplicated_2 = indexed.index.duplicated(keep='last')  # Take the second one\n",
    "    joined = indexed.loc[duplicated_1].join(indexed.loc[duplicated_2], rsuffix='_2')  # Join on the index to have both values and indices\n",
    "    return joined\n",
    "\n",
    "def get_discrepancies_by(df,by):\n",
    "    discrepancies_by = df.reset_index().groupby(by)\\\n",
    "                                 .apply(lambda x: pd.Series({'mean_diff': np.mean(x['value'] - x['value_2']), # Mean difference\n",
    "                                                             'std': np.std(x['value'] - x['value_2']),        # STD of difference\n",
    "                                                             'num': x.shape[0],                                 # Number of different values\n",
    "                                                             'mean_perc_diff': np.mean(get_percentage_diff(x['value'], x['value_2'])*100)})) # Average difference in percentage\n",
    "    return discrepancies_by.sort_values('mean_perc_diff')"
   ]
  },
  {
   "cell_type": "code",
   "execution_count": 80,
   "metadata": {},
   "outputs": [
    {
     "data": {
      "text/html": [
       "<div>\n",
       "<style scoped>\n",
       "    .dataframe tbody tr th:only-of-type {\n",
       "        vertical-align: middle;\n",
       "    }\n",
       "\n",
       "    .dataframe tbody tr th {\n",
       "        vertical-align: top;\n",
       "    }\n",
       "\n",
       "    .dataframe thead th {\n",
       "        text-align: right;\n",
       "    }\n",
       "</style>\n",
       "<table border=\"1\" class=\"dataframe\">\n",
       "  <thead>\n",
       "    <tr style=\"text-align: right;\">\n",
       "      <th></th>\n",
       "      <th>file</th>\n",
       "      <th>file_2</th>\n",
       "      <th>mean_diff</th>\n",
       "      <th>std</th>\n",
       "      <th>num</th>\n",
       "      <th>mean_perc_diff</th>\n",
       "    </tr>\n",
       "  </thead>\n",
       "  <tbody>\n",
       "    <tr>\n",
       "      <th>0</th>\n",
       "      <td>data/emissions_agriculture/Emissions_Agricultu...</td>\n",
       "      <td>data/production/Production_Livestock_E_All_Dat...</td>\n",
       "      <td>-2.012377e+07</td>\n",
       "      <td>4.860929e+07</td>\n",
       "      <td>290.0</td>\n",
       "      <td>3.250796</td>\n",
       "    </tr>\n",
       "    <tr>\n",
       "      <th>1</th>\n",
       "      <td>data/emissions_agriculture/Emissions_Agricultu...</td>\n",
       "      <td>data/environment/Environment_Emissions_by_Sect...</td>\n",
       "      <td>5.025583e+02</td>\n",
       "      <td>4.838841e+03</td>\n",
       "      <td>14287.0</td>\n",
       "      <td>5.326875</td>\n",
       "    </tr>\n",
       "    <tr>\n",
       "      <th>2</th>\n",
       "      <td>data/emissions_land/Emissions_Land_Use_Land_Us...</td>\n",
       "      <td>data/environment/Environment_Emissions_by_Sect...</td>\n",
       "      <td>2.293806e+03</td>\n",
       "      <td>9.149522e+03</td>\n",
       "      <td>5177.0</td>\n",
       "      <td>88.779951</td>\n",
       "    </tr>\n",
       "  </tbody>\n",
       "</table>\n",
       "</div>"
      ],
      "text/plain": [
       "                                                file  \\\n",
       "0  data/emissions_agriculture/Emissions_Agricultu...   \n",
       "1  data/emissions_agriculture/Emissions_Agricultu...   \n",
       "2  data/emissions_land/Emissions_Land_Use_Land_Us...   \n",
       "\n",
       "                                              file_2     mean_diff  \\\n",
       "0  data/production/Production_Livestock_E_All_Dat... -2.012377e+07   \n",
       "1  data/environment/Environment_Emissions_by_Sect...  5.025583e+02   \n",
       "2  data/environment/Environment_Emissions_by_Sect...  2.293806e+03   \n",
       "\n",
       "            std      num  mean_perc_diff  \n",
       "0  4.860929e+07    290.0        3.250796  \n",
       "1  4.838841e+03  14287.0        5.326875  \n",
       "2  9.149522e+03   5177.0       88.779951  "
      ]
     },
     "execution_count": 80,
     "metadata": {},
     "output_type": "execute_result"
    }
   ],
   "source": [
    "joined = get_discrepancies(df)\n",
    "get_discrepancies_by(joined, ['file', 'file_2']).reset_index()"
   ]
  },
  {
   "cell_type": "markdown",
   "metadata": {},
   "source": [
    "In the above DataFrame, we have the `mean_diff` (mean difference between values), `std` and `mean_perc_diff` (mean percentage difference), grouped by files.\n",
    "Hence, each line gives us a description of how much the same measurements differ on average, between the two files where they are present.\n",
    "\n",
    "It seems that the csv file `data/environment/Environment_Emissions_by_Sector_E_All_Data_(Normalized).csv` introduces a lot of discrepancies, which might be due to different techniques of estimating measurements. Let's see which (`itemcode`, `elementcode`) pairs are affected by this discrepancy\n"
   ]
  },
  {
   "cell_type": "code",
   "execution_count": 81,
   "metadata": {},
   "outputs": [
    {
     "name": "stdout",
     "output_type": "stream",
     "text": [
      "98.53 % of discrepancies come from Emissions by sector\n",
      "\n",
      " Discrepancies are in the item/element pairs :\n"
     ]
    },
    {
     "data": {
      "text/html": [
       "<div>\n",
       "<style scoped>\n",
       "    .dataframe tbody tr th:only-of-type {\n",
       "        vertical-align: middle;\n",
       "    }\n",
       "\n",
       "    .dataframe tbody tr th {\n",
       "        vertical-align: top;\n",
       "    }\n",
       "\n",
       "    .dataframe thead th {\n",
       "        text-align: right;\n",
       "    }\n",
       "</style>\n",
       "<table border=\"1\" class=\"dataframe\">\n",
       "  <thead>\n",
       "    <tr style=\"text-align: right;\">\n",
       "      <th></th>\n",
       "      <th>itemcode</th>\n",
       "      <th>elementcode</th>\n",
       "    </tr>\n",
       "  </thead>\n",
       "  <tbody>\n",
       "    <tr>\n",
       "      <th>0</th>\n",
       "      <td>1707</td>\n",
       "      <td>7243</td>\n",
       "    </tr>\n",
       "    <tr>\n",
       "      <th>11</th>\n",
       "      <td>1707</td>\n",
       "      <td>7244</td>\n",
       "    </tr>\n",
       "    <tr>\n",
       "      <th>5177</th>\n",
       "      <td>1711</td>\n",
       "      <td>7231</td>\n",
       "    </tr>\n",
       "    <tr>\n",
       "      <th>5197</th>\n",
       "      <td>1711</td>\n",
       "      <td>7244</td>\n",
       "    </tr>\n",
       "    <tr>\n",
       "      <th>5213</th>\n",
       "      <td>1711</td>\n",
       "      <td>7243</td>\n",
       "    </tr>\n",
       "  </tbody>\n",
       "</table>\n",
       "</div>"
      ],
      "text/plain": [
       "      itemcode  elementcode\n",
       "0         1707         7243\n",
       "11        1707         7244\n",
       "5177      1711         7231\n",
       "5197      1711         7244\n",
       "5213      1711         7243"
      ]
     },
     "execution_count": 81,
     "metadata": {},
     "output_type": "execute_result"
    }
   ],
   "source": [
    "tmp = joined[joined.file_2 == \"data/environment/Environment_Emissions_by_Sector_E_All_Data_(Normalized).csv\"].reset_index()\n",
    "print(\"{:.2f} % of discrepancies come from Emissions by sector\\n\\n Discrepancies are in the item/element pairs :\".format((tmp.shape[0] / joined.shape[0]) * 100))\n",
    "tmp[['itemcode', 'elementcode']].drop_duplicates()#.apply(lambda x: pd.Series({'item': item_mapping[x['itemcode']], 'element': element_mapping[x['elementcode']]}), axis=1)"
   ]
  },
  {
   "cell_type": "markdown",
   "metadata": {},
   "source": [
    "Thus, since we know that for all these pairs we have duplicate values, we choose to drop those who come from `data/environment/Environment_Emissions_by_Sector_E_All_Data_(Normalized).csv`. The reason we choose to drop those is because we want to stay consistent and rely on one method of measurement, which is the `emissions_land` and `emissions_agriculture`"
   ]
  },
  {
   "cell_type": "code",
   "execution_count": 82,
   "metadata": {},
   "outputs": [],
   "source": [
    "dup = df.set_index(['areacode', 'itemcode', 'elementcode', 'year']).index.duplicated(keep=False)\n",
    "from_emissions_by_sector = df[dup & (df.file == \"data/environment/Environment_Emissions_by_Sector_E_All_Data_(Normalized).csv\")]\n",
    "df = df.drop(from_emissions_by_sector.index)"
   ]
  },
  {
   "cell_type": "code",
   "execution_count": 83,
   "metadata": {},
   "outputs": [],
   "source": [
    "joined = get_discrepancies(df)"
   ]
  },
  {
   "cell_type": "markdown",
   "metadata": {},
   "source": [
    "Now that we have dropped the potentially problematic rows, we will print the same statistics, but grouped by areacode."
   ]
  },
  {
   "cell_type": "code",
   "execution_count": 84,
   "metadata": {},
   "outputs": [
    {
     "data": {
      "text/html": [
       "<div>\n",
       "<style scoped>\n",
       "    .dataframe tbody tr th:only-of-type {\n",
       "        vertical-align: middle;\n",
       "    }\n",
       "\n",
       "    .dataframe tbody tr th {\n",
       "        vertical-align: top;\n",
       "    }\n",
       "\n",
       "    .dataframe thead th {\n",
       "        text-align: right;\n",
       "    }\n",
       "</style>\n",
       "<table border=\"1\" class=\"dataframe\">\n",
       "  <thead>\n",
       "    <tr style=\"text-align: right;\">\n",
       "      <th></th>\n",
       "      <th>mean_diff</th>\n",
       "      <th>std</th>\n",
       "      <th>num</th>\n",
       "      <th>mean_perc_diff</th>\n",
       "    </tr>\n",
       "  </thead>\n",
       "  <tbody>\n",
       "    <tr>\n",
       "      <th>Asia</th>\n",
       "      <td>-1.666667e+00</td>\n",
       "      <td>4.714045e-01</td>\n",
       "      <td>3.0</td>\n",
       "      <td>1.584453e-07</td>\n",
       "    </tr>\n",
       "    <tr>\n",
       "      <th>Zambia</th>\n",
       "      <td>0.000000e+00</td>\n",
       "      <td>1.000000e+00</td>\n",
       "      <td>2.0</td>\n",
       "      <td>3.387576e-05</td>\n",
       "    </tr>\n",
       "    <tr>\n",
       "      <th>Eastern Africa</th>\n",
       "      <td>0.000000e+00</td>\n",
       "      <td>1.000000e+00</td>\n",
       "      <td>2.0</td>\n",
       "      <td>4.247949e-07</td>\n",
       "    </tr>\n",
       "    <tr>\n",
       "      <th>Guadeloupe</th>\n",
       "      <td>0.000000e+00</td>\n",
       "      <td>1.000000e+00</td>\n",
       "      <td>2.0</td>\n",
       "      <td>8.735449e-03</td>\n",
       "    </tr>\n",
       "    <tr>\n",
       "      <th>Djibouti</th>\n",
       "      <td>0.000000e+00</td>\n",
       "      <td>1.000000e+00</td>\n",
       "      <td>2.0</td>\n",
       "      <td>1.016351e-04</td>\n",
       "    </tr>\n",
       "    <tr>\n",
       "      <th>Jamaica</th>\n",
       "      <td>0.000000e+00</td>\n",
       "      <td>1.000000e+00</td>\n",
       "      <td>2.0</td>\n",
       "      <td>1.788757e-04</td>\n",
       "    </tr>\n",
       "    <tr>\n",
       "      <th>Equatorial Guinea</th>\n",
       "      <td>0.000000e+00</td>\n",
       "      <td>1.000000e+00</td>\n",
       "      <td>2.0</td>\n",
       "      <td>2.003421e-03</td>\n",
       "    </tr>\n",
       "    <tr>\n",
       "      <th>Netherlands Antilles (former)</th>\n",
       "      <td>0.000000e+00</td>\n",
       "      <td>1.000000e+00</td>\n",
       "      <td>2.0</td>\n",
       "      <td>4.201411e-03</td>\n",
       "    </tr>\n",
       "    <tr>\n",
       "      <th>Saint Lucia</th>\n",
       "      <td>0.000000e+00</td>\n",
       "      <td>1.000000e+00</td>\n",
       "      <td>2.0</td>\n",
       "      <td>5.088646e-03</td>\n",
       "    </tr>\n",
       "    <tr>\n",
       "      <th>Central America</th>\n",
       "      <td>5.000000e-01</td>\n",
       "      <td>1.500000e+00</td>\n",
       "      <td>2.0</td>\n",
       "      <td>8.140472e-06</td>\n",
       "    </tr>\n",
       "    <tr>\n",
       "      <th>Africa</th>\n",
       "      <td>3.333333e-01</td>\n",
       "      <td>1.699673e+00</td>\n",
       "      <td>3.0</td>\n",
       "      <td>2.111769e-07</td>\n",
       "    </tr>\n",
       "    <tr>\n",
       "      <th>Caribbean</th>\n",
       "      <td>-1.333333e+00</td>\n",
       "      <td>1.699673e+00</td>\n",
       "      <td>3.0</td>\n",
       "      <td>3.211428e-05</td>\n",
       "    </tr>\n",
       "    <tr>\n",
       "      <th>Small Island Developing States</th>\n",
       "      <td>-8.571429e-01</td>\n",
       "      <td>1.884415e+00</td>\n",
       "      <td>7.0</td>\n",
       "      <td>1.955084e-05</td>\n",
       "    </tr>\n",
       "    <tr>\n",
       "      <th>Americas</th>\n",
       "      <td>-2.500000e-01</td>\n",
       "      <td>2.947457e+00</td>\n",
       "      <td>4.0</td>\n",
       "      <td>2.306365e-06</td>\n",
       "    </tr>\n",
       "    <tr>\n",
       "      <th>World</th>\n",
       "      <td>-7.142857e-01</td>\n",
       "      <td>3.149344e+00</td>\n",
       "      <td>7.0</td>\n",
       "      <td>1.137297e-07</td>\n",
       "    </tr>\n",
       "    <tr>\n",
       "      <th>Net Food Importing Developing Countries</th>\n",
       "      <td>-4.211033e+04</td>\n",
       "      <td>5.456379e+03</td>\n",
       "      <td>57.0</td>\n",
       "      <td>9.580626e-03</td>\n",
       "    </tr>\n",
       "    <tr>\n",
       "      <th>Least Developed Countries</th>\n",
       "      <td>-4.211035e+04</td>\n",
       "      <td>5.456396e+03</td>\n",
       "      <td>57.0</td>\n",
       "      <td>1.511938e-02</td>\n",
       "    </tr>\n",
       "    <tr>\n",
       "      <th>Low Income Food Deficit Countries</th>\n",
       "      <td>-1.022999e+08</td>\n",
       "      <td>6.013878e+07</td>\n",
       "      <td>57.0</td>\n",
       "      <td>1.650693e+01</td>\n",
       "    </tr>\n",
       "  </tbody>\n",
       "</table>\n",
       "</div>"
      ],
      "text/plain": [
       "                                            mean_diff           std   num  \\\n",
       "Asia                                    -1.666667e+00  4.714045e-01   3.0   \n",
       "Zambia                                   0.000000e+00  1.000000e+00   2.0   \n",
       "Eastern Africa                           0.000000e+00  1.000000e+00   2.0   \n",
       "Guadeloupe                               0.000000e+00  1.000000e+00   2.0   \n",
       "Djibouti                                 0.000000e+00  1.000000e+00   2.0   \n",
       "Jamaica                                  0.000000e+00  1.000000e+00   2.0   \n",
       "Equatorial Guinea                        0.000000e+00  1.000000e+00   2.0   \n",
       "Netherlands Antilles (former)            0.000000e+00  1.000000e+00   2.0   \n",
       "Saint Lucia                              0.000000e+00  1.000000e+00   2.0   \n",
       "Central America                          5.000000e-01  1.500000e+00   2.0   \n",
       "Africa                                   3.333333e-01  1.699673e+00   3.0   \n",
       "Caribbean                               -1.333333e+00  1.699673e+00   3.0   \n",
       "Small Island Developing States          -8.571429e-01  1.884415e+00   7.0   \n",
       "Americas                                -2.500000e-01  2.947457e+00   4.0   \n",
       "World                                   -7.142857e-01  3.149344e+00   7.0   \n",
       "Net Food Importing Developing Countries -4.211033e+04  5.456379e+03  57.0   \n",
       "Least Developed Countries               -4.211035e+04  5.456396e+03  57.0   \n",
       "Low Income Food Deficit Countries       -1.022999e+08  6.013878e+07  57.0   \n",
       "\n",
       "                                         mean_perc_diff  \n",
       "Asia                                       1.584453e-07  \n",
       "Zambia                                     3.387576e-05  \n",
       "Eastern Africa                             4.247949e-07  \n",
       "Guadeloupe                                 8.735449e-03  \n",
       "Djibouti                                   1.016351e-04  \n",
       "Jamaica                                    1.788757e-04  \n",
       "Equatorial Guinea                          2.003421e-03  \n",
       "Netherlands Antilles (former)              4.201411e-03  \n",
       "Saint Lucia                                5.088646e-03  \n",
       "Central America                            8.140472e-06  \n",
       "Africa                                     2.111769e-07  \n",
       "Caribbean                                  3.211428e-05  \n",
       "Small Island Developing States             1.955084e-05  \n",
       "Americas                                   2.306365e-06  \n",
       "World                                      1.137297e-07  \n",
       "Net Food Importing Developing Countries    9.580626e-03  \n",
       "Least Developed Countries                  1.511938e-02  \n",
       "Low Income Food Deficit Countries          1.650693e+01  "
      ]
     },
     "execution_count": 84,
     "metadata": {},
     "output_type": "execute_result"
    }
   ],
   "source": [
    "by_area = get_discrepancies_by(joined, 'areacode')#.sort_values(['num', 'mean_perc_diff'])\n",
    "by_area.index = [area_mapping[i] for i in by_area.index]\n",
    "by_area[by_area['std'] > 0].sort_values('std')"
   ]
  },
  {
   "cell_type": "markdown",
   "metadata": {},
   "source": [
    "It seems that problematic areas are in area groups. Since we already know how area groups are formed, we can drop all values that are associated to a group and recompute them using `country_groups`"
   ]
  },
  {
   "cell_type": "code",
   "execution_count": 85,
   "metadata": {},
   "outputs": [],
   "source": [
    "group_codes = set(country_groups.keys())\n",
    "df = df[~df.areacode.isin(group_codes)]  # Drop all country groups"
   ]
  },
  {
   "cell_type": "code",
   "execution_count": 86,
   "metadata": {},
   "outputs": [
    {
     "data": {
      "text/plain": [
       "count    66.000000\n",
       "mean     -0.060606\n",
       "std       1.005811\n",
       "min      -1.000000\n",
       "25%      -1.000000\n",
       "50%      -1.000000\n",
       "75%       1.000000\n",
       "max       1.000000\n",
       "dtype: float64"
      ]
     },
     "execution_count": 86,
     "metadata": {},
     "output_type": "execute_result"
    }
   ],
   "source": [
    "joined = get_discrepancies(df)\n",
    "(joined.value - joined.value_2).describe()"
   ]
  },
  {
   "cell_type": "markdown",
   "metadata": {},
   "source": [
    "As we can see, now most differences have a very small mean and standard deviation. Also, there are only 70 duplicate measurements. In order to have unique ones, we will take the average of the two values"
   ]
  },
  {
   "cell_type": "markdown",
   "metadata": {},
   "source": [
    "#### 2. Taking care of duplicate measurements\n",
    "---\n",
    "\n",
    "Now that we have understood where the big differences in duplicates appear, we focus on those that are still here, but are quite small. In order to get rid of duplicate measurements, we will work with a combination of the `value` and `flag` columns."
   ]
  },
  {
   "cell_type": "code",
   "execution_count": 87,
   "metadata": {},
   "outputs": [],
   "source": [
    "def is_close(value_1, value_2, threshold=0.01):\n",
    "    diff = get_percentage_diff(value_1, value_2)\n",
    "    return (value_1 == value_2) | (diff < threshold) | (value_1.isna() & value_2.isna())\n",
    "\n",
    "def is_same_flag(flag_1, flag_2):\n",
    "    return (flag_1 == flag_2) | (flag_1.isna() & flag_2.isna())"
   ]
  },
  {
   "cell_type": "code",
   "execution_count": 88,
   "metadata": {},
   "outputs": [
    {
     "name": "stdout",
     "output_type": "stream",
     "text": [
      "100.00% of duplicated rows have a difference less than 1%\n",
      "100.00% of duplicated rows have the same flag\n"
     ]
    }
   ],
   "source": [
    "close = joined[is_close(joined.value, joined.value_2)]\n",
    "same_flag = joined[is_same_flag(joined.flag, joined.flag_2)]\n",
    "\n",
    "print(\"{:.2f}% of duplicated rows have a difference less than 1%\".format(close.shape[0] / joined.shape[0] * 100))\n",
    "print(\"{:.2f}% of duplicated rows have the same flag\".format(same_flag.shape[0]/ joined.shape[0]*100))"
   ]
  },
  {
   "cell_type": "markdown",
   "metadata": {},
   "source": [
    "Since most duplicated measurements'values are really close, we will take the mean if there are two different values."
   ]
  },
  {
   "cell_type": "code",
   "execution_count": 89,
   "metadata": {},
   "outputs": [],
   "source": [
    "df = df.drop(columns=['file', 'flag']).drop_duplicates().groupby(['areacode', 'itemcode', 'elementcode', 'year'])['value'].mean().reset_index()"
   ]
  },
  {
   "cell_type": "code",
   "execution_count": 106,
   "metadata": {},
   "outputs": [],
   "source": [
    "df.to_pickle(\"data/df_cleaned.pkl\")"
   ]
  },
  {
   "cell_type": "markdown",
   "metadata": {},
   "source": [
    "---\n",
    "### B.4 Reshaping measurements as columns\n",
    "---\n",
    "\n",
    "Now that we have unique measurements, we will reshape the dataframe to put each measurement for an item as column, so that for each (`areacode`, `itemcode`, `year`) we have all the measurements as columns."
   ]
  },
  {
   "cell_type": "code",
   "execution_count": 107,
   "metadata": {},
   "outputs": [],
   "source": [
    "reshaped_df = df.set_index(['areacode', 'itemcode', 'elementcode', 'year'])['value'].unstack(level=2).reset_index()"
   ]
  },
  {
   "cell_type": "code",
   "execution_count": 108,
   "metadata": {},
   "outputs": [],
   "source": [
    "reshaped_df.to_pickle(\"data/reshaped_df.pkl\")"
   ]
  },
  {
   "cell_type": "code",
   "execution_count": 109,
   "metadata": {},
   "outputs": [
    {
     "name": "stdout",
     "output_type": "stream",
     "text": [
      "<class 'pandas.core.frame.DataFrame'>\n",
      "RangeIndex: 841606 entries, 0 to 841605\n",
      "Columns: 130 entries, areacode to 724410\n",
      "dtypes: float64(127), int64(3)\n",
      "memory usage: 834.7 MB\n"
     ]
    }
   ],
   "source": [
    "reshaped_df.info()"
   ]
  },
  {
   "cell_type": "code",
   "execution_count": 112,
   "metadata": {},
   "outputs": [
    {
     "data": {
      "text/plain": [
       "(127, 181, 249)"
      ]
     },
     "execution_count": 112,
     "metadata": {},
     "output_type": "execute_result"
    }
   ],
   "source": [
    "df.elementcode.nunique(), df.itemcode.nunique(), df.areacode.nunique()"
   ]
  },
  {
   "cell_type": "markdown",
   "metadata": {},
   "source": [
    "The overall dataframe is 2 GB, so it easily fits in memory.\n",
    "\n",
    "We have 127 elements, 181 items and 249 area codes"
   ]
  },
  {
   "cell_type": "markdown",
   "metadata": {},
   "source": [
    "---\n",
    "---\n",
    "## C. Studying the \n",
    "\n",
    "For now everything was stored in database format (i.e. Row format), but we would like to have elements in columns, so that we can reduce drastically the number of rows, and so we can have all the measurements for a single (`itemcode`, `areacode`, `year`) pair.\n",
    "\n",
    "---\n",
    "### B.4 Studying the time series\n",
    "---\n",
    "\n",
    "Now that the data has been reshaped, we will start studying the different time series we have. For this, we will start by analyzing the lengths, as well as the number of measurements."
   ]
  },
  {
   "cell_type": "code",
   "execution_count": 34,
   "metadata": {},
   "outputs": [],
   "source": [
    "reshaped_df = pd.read_pickle(\"data/reshaped_df.pkl\")"
   ]
  },
  {
   "cell_type": "markdown",
   "metadata": {},
   "source": [
    "Our database contains estimates for future years, but we do not want to take those into account as we only want factual (almost) data, and not forecasted."
   ]
  },
  {
   "cell_type": "code",
   "execution_count": 35,
   "metadata": {},
   "outputs": [],
   "source": [
    "reshaped_df = reshaped_df[reshaped_df.year.apply(lambda x: x < 2020)]"
   ]
  },
  {
   "cell_type": "markdown",
   "metadata": {},
   "source": [
    "#### 1. Studying the lengths of time series\n",
    "---\n",
    "\n",
    "As a first step, we would like to look at how much data we have for each (`areacode`, `itemcode`), and potentially drop ones where we do not have enough data"
   ]
  },
  {
   "cell_type": "code",
   "execution_count": 36,
   "metadata": {},
   "outputs": [],
   "source": [
    "import seaborn as sns\n",
    "import matplotlib.pyplot as plt\n",
    "from utils import get_ts_stats"
   ]
  },
  {
   "cell_type": "code",
   "execution_count": 37,
   "metadata": {},
   "outputs": [],
   "source": [
    "ts_stats = get_ts_stats(reshaped_df)"
   ]
  },
  {
   "cell_type": "code",
   "execution_count": 38,
   "metadata": {},
   "outputs": [
    {
     "data": {
      "text/html": [
       "<div>\n",
       "<style scoped>\n",
       "    .dataframe tbody tr th:only-of-type {\n",
       "        vertical-align: middle;\n",
       "    }\n",
       "\n",
       "    .dataframe tbody tr th {\n",
       "        vertical-align: top;\n",
       "    }\n",
       "\n",
       "    .dataframe thead th {\n",
       "        text-align: right;\n",
       "    }\n",
       "</style>\n",
       "<table border=\"1\" class=\"dataframe\">\n",
       "  <thead>\n",
       "    <tr style=\"text-align: right;\">\n",
       "      <th></th>\n",
       "      <th></th>\n",
       "      <th>years</th>\n",
       "      <th>cols</th>\n",
       "    </tr>\n",
       "    <tr>\n",
       "      <th>itemcode</th>\n",
       "      <th>areacode</th>\n",
       "      <th></th>\n",
       "      <th></th>\n",
       "    </tr>\n",
       "  </thead>\n",
       "  <tbody>\n",
       "    <tr>\n",
       "      <th>15</th>\n",
       "      <th>1</th>\n",
       "      <td>[1992, 1993, 1994, 1995, 1996, 1997, 1998, 199...</td>\n",
       "      <td>[5312, 5419, 5510, 7245, 72247, 72257, 72292, ...</td>\n",
       "    </tr>\n",
       "  </tbody>\n",
       "</table>\n",
       "</div>"
      ],
      "text/plain": [
       "                                                               years  \\\n",
       "itemcode areacode                                                      \n",
       "15       1         [1992, 1993, 1994, 1995, 1996, 1997, 1998, 199...   \n",
       "\n",
       "                                                                cols  \n",
       "itemcode areacode                                                     \n",
       "15       1         [5312, 5419, 5510, 7245, 72247, 72257, 72292, ...  "
      ]
     },
     "execution_count": 38,
     "metadata": {},
     "output_type": "execute_result"
    }
   ],
   "source": [
    "ts_stats.head(1)"
   ]
  },
  {
   "cell_type": "markdown",
   "metadata": {},
   "source": [
    "Now this dataframe contains the following information, for each (`itemcode`, `areacode`) pair:\n",
    "- The available years where we have datapoints\n",
    "- The available columns (i.e. measurements) we have for this pair"
   ]
  },
  {
   "cell_type": "code",
   "execution_count": 39,
   "metadata": {},
   "outputs": [
    {
     "data": {
      "text/plain": [
       "<matplotlib.axes._subplots.AxesSubplot at 0x7f76f108ec10>"
      ]
     },
     "execution_count": 39,
     "metadata": {},
     "output_type": "execute_result"
    },
    {
     "data": {
      "image/png": "[encoded data removed]",
      "text/plain": [
       "<Figure size 1080x360 with 2 Axes>"
      ]
     },
     "metadata": {
      "needs_background": "light"
     },
     "output_type": "display_data"
    }
   ],
   "source": [
    "length_df = ts_stats.years.apply(len)\n",
    "\n",
    "fig, ax = plt.subplots(figsize=(15, 5), ncols=2)\n",
    "sns.distplot(length_df.values, ax=ax[0])\n",
    "sns.boxplot(length_df.values, ax=ax[1])"
   ]
  },
  {
   "cell_type": "code",
   "execution_count": 40,
   "metadata": {},
   "outputs": [
    {
     "data": {
      "text/plain": [
       "count    48106.000000\n",
       "mean        38.085727\n",
       "std         18.698550\n",
       "min          1.000000\n",
       "25%         21.000000\n",
       "50%         42.000000\n",
       "75%         57.000000\n",
       "max         70.000000\n",
       "Name: years, dtype: float64"
      ]
     },
     "execution_count": 40,
     "metadata": {},
     "output_type": "execute_result"
    }
   ],
   "source": [
    "length_df.describe()"
   ]
  },
  {
   "cell_type": "markdown",
   "metadata": {},
   "source": [
    "As we can see, the mean length of a time series is `39`, with a standard deviation of 18, and a minimum of 1. It makes sense to drop time series that have less than an arbitrary number of points as they will not be useful for conducting an analysis or training a model. We will drop all time series with less than 10 observations."
   ]
  },
  {
   "cell_type": "code",
   "execution_count": 41,
   "metadata": {},
   "outputs": [],
   "source": [
    "to_drop = set(length_df[length_df < 10].index.values)  # Get the (areacode, itemcode) where there are less than 10 observations\n",
    "reshaped_df = reshaped_df[reshaped_df.apply(lambda x: (x['itemcode'], x['areacode']) not in to_drop, axis=1)]  # Remove them from dataframe"
   ]
  },
  {
   "cell_type": "markdown",
   "metadata": {},
   "source": [
    "#### 2. Checking all itemcodes have the same elementcode columns\n",
    "---\n",
    "\n",
    "As a second step, we would like to know whether `itemcodes` have the same `elementcode` columns for all `areacodes`."
   ]
  },
  {
   "cell_type": "code",
   "execution_count": 79,
   "metadata": {},
   "outputs": [],
   "source": [
    "from data_processing import load_dataframe\n",
    "item_groups_crops = load_dataframe(\"data/item_groups/Livestock_Primary_All_data.csv\")"
   ]
  },
  {
   "cell_type": "code",
   "execution_count": 80,
   "metadata": {},
   "outputs": [
    {
     "data": {
      "text/plain": [
       "[1765, 1770, 1775, 1780, 1783, 1806, 1807, 1808]"
      ]
     },
     "execution_count": 80,
     "metadata": {},
     "output_type": "execute_result"
    }
   ],
   "source": [
    "sorted(reshaped_df[reshaped_df.itemcode.isin(item_groups_crops.itemgroupcode.unique())].itemcode.unique())"
   ]
  },
  {
   "cell_type": "code",
   "execution_count": 81,
   "metadata": {},
   "outputs": [
    {
     "data": {
      "text/plain": [
       "[1765, 1770, 1775, 1777, 1780, 1783, 1806, 1807, 1808]"
      ]
     },
     "execution_count": 81,
     "metadata": {},
     "output_type": "execute_result"
    }
   ],
   "source": [
    "sorted(item_groups_crops.itemgroupcode.unique())"
   ]
  },
  {
   "cell_type": "code",
   "execution_count": 84,
   "metadata": {},
   "outputs": [
    {
     "data": {
      "text/html": [
       "<div>\n",
       "<style scoped>\n",
       "    .dataframe tbody tr th:only-of-type {\n",
       "        vertical-align: middle;\n",
       "    }\n",
       "\n",
       "    .dataframe tbody tr th {\n",
       "        vertical-align: top;\n",
       "    }\n",
       "\n",
       "    .dataframe thead th {\n",
       "        text-align: right;\n",
       "    }\n",
       "</style>\n",
       "<table border=\"1\" class=\"dataframe\">\n",
       "  <thead>\n",
       "    <tr style=\"text-align: right;\">\n",
       "      <th></th>\n",
       "      <th>itemgroupcode</th>\n",
       "      <th>itemgroup</th>\n",
       "    </tr>\n",
       "  </thead>\n",
       "  <tbody>\n",
       "    <tr>\n",
       "      <th>39</th>\n",
       "      <td>1765</td>\n",
       "      <td>Meat, Total</td>\n",
       "    </tr>\n",
       "    <tr>\n",
       "      <th>14</th>\n",
       "      <td>1770</td>\n",
       "      <td>Meat indigenous, total</td>\n",
       "    </tr>\n",
       "    <tr>\n",
       "      <th>9</th>\n",
       "      <td>1775</td>\n",
       "      <td>Meat indigenous, poultry</td>\n",
       "    </tr>\n",
       "    <tr>\n",
       "      <th>4</th>\n",
       "      <td>1777</td>\n",
       "      <td>Hides and skins, primary</td>\n",
       "    </tr>\n",
       "    <tr>\n",
       "      <th>60</th>\n",
       "      <td>1780</td>\n",
       "      <td>Milk, Total</td>\n",
       "    </tr>\n",
       "    <tr>\n",
       "      <th>2</th>\n",
       "      <td>1783</td>\n",
       "      <td>Eggs Primary</td>\n",
       "    </tr>\n",
       "    <tr>\n",
       "      <th>0</th>\n",
       "      <td>1806</td>\n",
       "      <td>Beef and Buffalo Meat</td>\n",
       "    </tr>\n",
       "    <tr>\n",
       "      <th>65</th>\n",
       "      <td>1807</td>\n",
       "      <td>Sheep and Goat Meat</td>\n",
       "    </tr>\n",
       "    <tr>\n",
       "      <th>34</th>\n",
       "      <td>1808</td>\n",
       "      <td>Meat, Poultry</td>\n",
       "    </tr>\n",
       "  </tbody>\n",
       "</table>\n",
       "</div>"
      ],
      "text/plain": [
       "    itemgroupcode                 itemgroup\n",
       "39           1765               Meat, Total\n",
       "14           1770    Meat indigenous, total\n",
       "9            1775  Meat indigenous, poultry\n",
       "4            1777  Hides and skins, primary\n",
       "60           1780               Milk, Total\n",
       "2            1783              Eggs Primary\n",
       "0            1806     Beef and Buffalo Meat\n",
       "65           1807       Sheep and Goat Meat\n",
       "34           1808             Meat, Poultry"
      ]
     },
     "execution_count": 84,
     "metadata": {},
     "output_type": "execute_result"
    }
   ],
   "source": [
    "item_groups_crops[['itemgroupcode', 'itemgroup']].drop_duplicates().sort_values('itemgroupcode')"
   ]
  },
  {
   "cell_type": "code",
   "execution_count": 78,
   "metadata": {},
   "outputs": [
    {
     "data": {
      "text/plain": [
       "19"
      ]
     },
     "execution_count": 78,
     "metadata": {},
     "output_type": "execute_result"
    }
   ],
   "source": [
    "len(item_groups_crops.itemcode.unique())"
   ]
  },
  {
   "cell_type": "code",
   "execution_count": 55,
   "metadata": {},
   "outputs": [
    {
     "data": {
      "text/html": [
       "<div>\n",
       "<style scoped>\n",
       "    .dataframe tbody tr th:only-of-type {\n",
       "        vertical-align: middle;\n",
       "    }\n",
       "\n",
       "    .dataframe tbody tr th {\n",
       "        vertical-align: top;\n",
       "    }\n",
       "\n",
       "    .dataframe thead th {\n",
       "        text-align: right;\n",
       "    }\n",
       "</style>\n",
       "<table border=\"1\" class=\"dataframe\">\n",
       "  <thead>\n",
       "    <tr style=\"text-align: right;\">\n",
       "      <th></th>\n",
       "      <th>itemgroup</th>\n",
       "      <th>itemgroupcode</th>\n",
       "    </tr>\n",
       "  </thead>\n",
       "  <tbody>\n",
       "    <tr>\n",
       "      <th>0</th>\n",
       "      <td>Cereals (Rice Milled Eqv)</td>\n",
       "      <td>1817</td>\n",
       "    </tr>\n",
       "    <tr>\n",
       "      <th>15</th>\n",
       "      <td>Cereals, Total</td>\n",
       "      <td>1717</td>\n",
       "    </tr>\n",
       "    <tr>\n",
       "      <th>30</th>\n",
       "      <td>Citrus Fruit, Total</td>\n",
       "      <td>1804</td>\n",
       "    </tr>\n",
       "    <tr>\n",
       "      <th>35</th>\n",
       "      <td>Coarse Grain, Total</td>\n",
       "      <td>1814</td>\n",
       "    </tr>\n",
       "    <tr>\n",
       "      <th>48</th>\n",
       "      <td>Crops Primary</td>\n",
       "      <td>1714</td>\n",
       "    </tr>\n",
       "    <tr>\n",
       "      <th>208</th>\n",
       "      <td>Fibre Crops Primary</td>\n",
       "      <td>1753</td>\n",
       "    </tr>\n",
       "    <tr>\n",
       "      <th>219</th>\n",
       "      <td>Fruit Primary</td>\n",
       "      <td>1738</td>\n",
       "    </tr>\n",
       "    <tr>\n",
       "      <th>258</th>\n",
       "      <td>Oilcrops, Cake Equivalent</td>\n",
       "      <td>1841</td>\n",
       "    </tr>\n",
       "    <tr>\n",
       "      <th>274</th>\n",
       "      <td>Oilcrops, Oil Equivalent</td>\n",
       "      <td>1732</td>\n",
       "    </tr>\n",
       "    <tr>\n",
       "      <th>297</th>\n",
       "      <td>Pulses, Total</td>\n",
       "      <td>1726</td>\n",
       "    </tr>\n",
       "    <tr>\n",
       "      <th>308</th>\n",
       "      <td>Roots and Tubers, Total</td>\n",
       "      <td>1720</td>\n",
       "    </tr>\n",
       "    <tr>\n",
       "      <th>315</th>\n",
       "      <td>Treenuts, Total</td>\n",
       "      <td>1729</td>\n",
       "    </tr>\n",
       "    <tr>\n",
       "      <th>323</th>\n",
       "      <td>Vegetables Primary</td>\n",
       "      <td>1735</td>\n",
       "    </tr>\n",
       "  </tbody>\n",
       "</table>\n",
       "</div>"
      ],
      "text/plain": [
       "                     itemgroup  itemgroupcode\n",
       "0    Cereals (Rice Milled Eqv)           1817\n",
       "15              Cereals, Total           1717\n",
       "30         Citrus Fruit, Total           1804\n",
       "35         Coarse Grain, Total           1814\n",
       "48               Crops Primary           1714\n",
       "208        Fibre Crops Primary           1753\n",
       "219              Fruit Primary           1738\n",
       "258  Oilcrops, Cake Equivalent           1841\n",
       "274   Oilcrops, Oil Equivalent           1732\n",
       "297              Pulses, Total           1726\n",
       "308    Roots and Tubers, Total           1720\n",
       "315            Treenuts, Total           1729\n",
       "323         Vegetables Primary           1735"
      ]
     },
     "execution_count": 55,
     "metadata": {},
     "output_type": "execute_result"
    }
   ],
   "source": [
    "item_groups_crops[['itemgroup', 'itemgroupcode']].drop_duplicates()"
   ]
  },
  {
   "cell_type": "code",
   "execution_count": null,
   "metadata": {},
   "outputs": [],
   "source": [
    "reshaped_df[reshaped_df.itemcode == ]"
   ]
  },
  {
   "cell_type": "code",
   "execution_count": 192,
   "metadata": {},
   "outputs": [
    {
     "data": {
      "text/plain": [
       "itemcode  item                     \n",
       "89        Buckwheat                    {data/production/Production_Crops_E_All_Data_(...\n",
       "92        Quinoa                       {data/production/Production_Crops_E_All_Data_(...\n",
       "94        Fonio                        {data/production/Production_Crops_E_All_Data_(...\n",
       "97        Triticale                    {data/production/Production_Crops_E_All_Data_(...\n",
       "101       Canary seed                  {data/production/Production_Crops_E_All_Data_(...\n",
       "                                                             ...                        \n",
       "6819      Other sources                {data/environment/Environment_Emissions_by_Sec...\n",
       "6821      Energy total                 {data/environment/Environment_Emissions_by_Sec...\n",
       "6822      Land use sources             {data/environment/Environment_Emissions_by_Sec...\n",
       "6823      Sources total                {data/environment/Environment_Emissions_by_Sec...\n",
       "6825      Sources total excl. AFOLU    {data/environment/Environment_Emissions_by_Sec...\n",
       "Name: file, Length: 396, dtype: object"
      ]
     },
     "execution_count": 192,
     "metadata": {},
     "output_type": "execute_result"
    }
   ],
   "source": [
    "items_grouped[items_grouped.apply(len) == 1]"
   ]
  },
  {
   "cell_type": "code",
   "execution_count": 82,
   "metadata": {},
   "outputs": [],
   "source": [
    "ts_stats = get_ts_stats(reshaped_df).reset_index()"
   ]
  },
  {
   "cell_type": "code",
   "execution_count": 83,
   "metadata": {},
   "outputs": [],
   "source": [
    "ts_stats['cols'] = ts_stats.cols.apply(lambda x: tuple(list(sorted(x))))"
   ]
  },
  {
   "cell_type": "code",
   "execution_count": 85,
   "metadata": {},
   "outputs": [],
   "source": [
    "ts_stats = ts_stats.drop('years', axis=1)\n"
   ]
  },
  {
   "cell_type": "code",
   "execution_count": 90,
   "metadata": {},
   "outputs": [],
   "source": [
    "element_stats = ts_stats.groupby(['itemcode', 'cols'])['areacode'].apply(list).reset_index()"
   ]
  },
  {
   "cell_type": "code",
   "execution_count": 119,
   "metadata": {},
   "outputs": [],
   "source": [
    "tmp = element_stats.set_index('itemcode')\n",
    "different_elements = tmp.index[tmp.index.duplicated(keep=\"first\")]\n",
    "different_elements = element_stats[element_stats.itemcode.isin(different_elements)]"
   ]
  },
  {
   "cell_type": "code",
   "execution_count": 122,
   "metadata": {},
   "outputs": [
    {
     "data": {
      "text/plain": [
       "296.0"
      ]
     },
     "execution_count": 122,
     "metadata": {},
     "output_type": "execute_result"
    }
   ],
   "source": [
    "different_elements.shape[0] / 2"
   ]
  },
  {
   "cell_type": "code",
   "execution_count": 123,
   "metadata": {},
   "outputs": [
    {
     "data": {
      "text/html": [
       "<div>\n",
       "<style scoped>\n",
       "    .dataframe tbody tr th:only-of-type {\n",
       "        vertical-align: middle;\n",
       "    }\n",
       "\n",
       "    .dataframe tbody tr th {\n",
       "        vertical-align: top;\n",
       "    }\n",
       "\n",
       "    .dataframe thead th {\n",
       "        text-align: right;\n",
       "    }\n",
       "</style>\n",
       "<table border=\"1\" class=\"dataframe\">\n",
       "  <thead>\n",
       "    <tr style=\"text-align: right;\">\n",
       "      <th></th>\n",
       "      <th>itemcode</th>\n",
       "      <th>cols</th>\n",
       "      <th>areacode</th>\n",
       "    </tr>\n",
       "  </thead>\n",
       "  <tbody>\n",
       "    <tr>\n",
       "      <th>1</th>\n",
       "      <td>27</td>\n",
       "      <td>(5312, 5419, 5510, 7245, 72245, 72247, 72255, ...</td>\n",
       "      <td>[2, 3, 4, 7, 9, 10, 16, 18, 19, 21, 23, 25, 26...</td>\n",
       "    </tr>\n",
       "    <tr>\n",
       "      <th>2</th>\n",
       "      <td>27</td>\n",
       "      <td>(5312, 5419, 5510, 7245, 72247, 72257, 72292, ...</td>\n",
       "      <td>[191]</td>\n",
       "    </tr>\n",
       "    <tr>\n",
       "      <th>3</th>\n",
       "      <td>44</td>\n",
       "      <td>(5312, 5419, 5510, 72292, 72302, 72312, 72342,...</td>\n",
       "      <td>[1, 2, 3, 4, 9, 10, 11, 15, 16, 18, 19, 21, 27...</td>\n",
       "    </tr>\n",
       "    <tr>\n",
       "      <th>4</th>\n",
       "      <td>44</td>\n",
       "      <td>(5510,)</td>\n",
       "      <td>[99]</td>\n",
       "    </tr>\n",
       "    <tr>\n",
       "      <th>9</th>\n",
       "      <td>83</td>\n",
       "      <td>(5312, 5419, 5510, 72292, 72302, 72312, 72342,...</td>\n",
       "      <td>[3, 4, 7, 9, 10, 11, 16, 19, 20, 21, 23, 27, 2...</td>\n",
       "    </tr>\n",
       "    <tr>\n",
       "      <th>...</th>\n",
       "      <td>...</td>\n",
       "      <td>...</td>\n",
       "      <td>...</td>\n",
       "    </tr>\n",
       "    <tr>\n",
       "      <th>777</th>\n",
       "      <td>6794</td>\n",
       "      <td>(7245, 7246, 72259, 72309, 72319, 72439, 72449)</td>\n",
       "      <td>[5, 6, 8, 13, 14, 17, 22, 25, 35, 36, 47, 55, ...</td>\n",
       "    </tr>\n",
       "    <tr>\n",
       "      <th>786</th>\n",
       "      <td>6807</td>\n",
       "      <td>(72182, 72184, 719410, 719509, 719610, 719710,...</td>\n",
       "      <td>[1, 2, 3, 4, 9, 10, 11, 13, 14, 16, 19, 20, 21...</td>\n",
       "    </tr>\n",
       "    <tr>\n",
       "      <th>787</th>\n",
       "      <td>6807</td>\n",
       "      <td>(72182, 72184, 719610, 719710, 722510, 723010,...</td>\n",
       "      <td>[51, 62, 228, 248, 351]</td>\n",
       "    </tr>\n",
       "    <tr>\n",
       "      <th>788</th>\n",
       "      <td>6808</td>\n",
       "      <td>(72184, 719410, 719509, 719610, 719710, 722510...</td>\n",
       "      <td>[2, 3, 4, 8, 9, 10, 11, 13, 16, 18, 20, 21, 26...</td>\n",
       "    </tr>\n",
       "    <tr>\n",
       "      <th>789</th>\n",
       "      <td>6808</td>\n",
       "      <td>(72184, 719610, 719710, 722510, 723010, 723110...</td>\n",
       "      <td>[351]</td>\n",
       "    </tr>\n",
       "  </tbody>\n",
       "</table>\n",
       "<p>592 rows × 3 columns</p>\n",
       "</div>"
      ],
      "text/plain": [
       "     itemcode                                               cols  \\\n",
       "1          27  (5312, 5419, 5510, 7245, 72245, 72247, 72255, ...   \n",
       "2          27  (5312, 5419, 5510, 7245, 72247, 72257, 72292, ...   \n",
       "3          44  (5312, 5419, 5510, 72292, 72302, 72312, 72342,...   \n",
       "4          44                                            (5510,)   \n",
       "9          83  (5312, 5419, 5510, 72292, 72302, 72312, 72342,...   \n",
       "..        ...                                                ...   \n",
       "777      6794    (7245, 7246, 72259, 72309, 72319, 72439, 72449)   \n",
       "786      6807  (72182, 72184, 719410, 719509, 719610, 719710,...   \n",
       "787      6807  (72182, 72184, 719610, 719710, 722510, 723010,...   \n",
       "788      6808  (72184, 719410, 719509, 719610, 719710, 722510...   \n",
       "789      6808  (72184, 719610, 719710, 722510, 723010, 723110...   \n",
       "\n",
       "                                              areacode  \n",
       "1    [2, 3, 4, 7, 9, 10, 16, 18, 19, 21, 23, 25, 26...  \n",
       "2                                                [191]  \n",
       "3    [1, 2, 3, 4, 9, 10, 11, 15, 16, 18, 19, 21, 27...  \n",
       "4                                                 [99]  \n",
       "9    [3, 4, 7, 9, 10, 11, 16, 19, 20, 21, 23, 27, 2...  \n",
       "..                                                 ...  \n",
       "777  [5, 6, 8, 13, 14, 17, 22, 25, 35, 36, 47, 55, ...  \n",
       "786  [1, 2, 3, 4, 9, 10, 11, 13, 14, 16, 19, 20, 21...  \n",
       "787                            [51, 62, 228, 248, 351]  \n",
       "788  [2, 3, 4, 8, 9, 10, 11, 13, 16, 18, 20, 21, 26...  \n",
       "789                                              [351]  \n",
       "\n",
       "[592 rows x 3 columns]"
      ]
     },
     "execution_count": 123,
     "metadata": {},
     "output_type": "execute_result"
    }
   ],
   "source": [
    "different_elements"
   ]
  },
  {
   "cell_type": "code",
   "execution_count": 133,
   "metadata": {},
   "outputs": [
    {
     "data": {
      "text/plain": [
       "445"
      ]
     },
     "execution_count": 133,
     "metadata": {},
     "output_type": "execute_result"
    }
   ],
   "source": [
    "len(item_mapping)"
   ]
  },
  {
   "cell_type": "code",
   "execution_count": 130,
   "metadata": {},
   "outputs": [
    {
     "data": {
      "text/plain": [
       "count    6580.000000\n",
       "mean       17.745114\n",
       "std        11.355734\n",
       "min         1.120000\n",
       "25%         7.000000\n",
       "50%        17.563000\n",
       "75%        27.440000\n",
       "max        50.400000\n",
       "Name: 72245, dtype: float64"
      ]
     },
     "execution_count": 130,
     "metadata": {},
     "output_type": "execute_result"
    }
   ],
   "source": [
    "reshaped_df[72245].dropna().describe()"
   ]
  },
  {
   "cell_type": "code",
   "execution_count": 125,
   "metadata": {},
   "outputs": [
    {
     "data": {
      "text/html": [
       "<div>\n",
       "<style scoped>\n",
       "    .dataframe tbody tr th:only-of-type {\n",
       "        vertical-align: middle;\n",
       "    }\n",
       "\n",
       "    .dataframe tbody tr th {\n",
       "        vertical-align: top;\n",
       "    }\n",
       "\n",
       "    .dataframe thead th {\n",
       "        text-align: right;\n",
       "    }\n",
       "</style>\n",
       "<table border=\"1\" class=\"dataframe\">\n",
       "  <thead>\n",
       "    <tr style=\"text-align: right;\">\n",
       "      <th>elementcode</th>\n",
       "      <th>areacode</th>\n",
       "      <th>itemcode</th>\n",
       "      <th>year</th>\n",
       "      <th>5312</th>\n",
       "      <th>5419</th>\n",
       "      <th>5510</th>\n",
       "      <th>7245</th>\n",
       "      <th>72247</th>\n",
       "      <th>72257</th>\n",
       "      <th>72292</th>\n",
       "      <th>...</th>\n",
       "      <th>72307</th>\n",
       "      <th>72312</th>\n",
       "      <th>72317</th>\n",
       "      <th>72342</th>\n",
       "      <th>72352</th>\n",
       "      <th>72362</th>\n",
       "      <th>72372</th>\n",
       "      <th>72392</th>\n",
       "      <th>72437</th>\n",
       "      <th>72447</th>\n",
       "    </tr>\n",
       "  </thead>\n",
       "  <tbody>\n",
       "    <tr>\n",
       "      <th>1386242</th>\n",
       "      <td>191</td>\n",
       "      <td>27</td>\n",
       "      <td>1988</td>\n",
       "      <td>5.0</td>\n",
       "      <td>28000.0</td>\n",
       "      <td>14.0</td>\n",
       "      <td>2.75</td>\n",
       "      <td>2.7</td>\n",
       "      <td>0.0</td>\n",
       "      <td>0.0123</td>\n",
       "      <td>...</td>\n",
       "      <td>0.0</td>\n",
       "      <td>0.0012</td>\n",
       "      <td>0.0002</td>\n",
       "      <td>0.0</td>\n",
       "      <td>0.0010</td>\n",
       "      <td>0.0</td>\n",
       "      <td>0.0002</td>\n",
       "      <td>203.9260</td>\n",
       "      <td>0.0001</td>\n",
       "      <td>0.0002</td>\n",
       "    </tr>\n",
       "    <tr>\n",
       "      <th>1386243</th>\n",
       "      <td>191</td>\n",
       "      <td>27</td>\n",
       "      <td>1989</td>\n",
       "      <td>5.0</td>\n",
       "      <td>24000.0</td>\n",
       "      <td>12.0</td>\n",
       "      <td>2.75</td>\n",
       "      <td>2.7</td>\n",
       "      <td>0.0</td>\n",
       "      <td>0.0123</td>\n",
       "      <td>...</td>\n",
       "      <td>0.0</td>\n",
       "      <td>0.0011</td>\n",
       "      <td>0.0002</td>\n",
       "      <td>0.0</td>\n",
       "      <td>0.0009</td>\n",
       "      <td>0.0</td>\n",
       "      <td>0.0002</td>\n",
       "      <td>188.4376</td>\n",
       "      <td>0.0001</td>\n",
       "      <td>0.0002</td>\n",
       "    </tr>\n",
       "    <tr>\n",
       "      <th>1386244</th>\n",
       "      <td>191</td>\n",
       "      <td>27</td>\n",
       "      <td>1990</td>\n",
       "      <td>4.0</td>\n",
       "      <td>27500.0</td>\n",
       "      <td>11.0</td>\n",
       "      <td>2.20</td>\n",
       "      <td>2.7</td>\n",
       "      <td>0.0</td>\n",
       "      <td>0.0123</td>\n",
       "      <td>...</td>\n",
       "      <td>0.0</td>\n",
       "      <td>0.0010</td>\n",
       "      <td>0.0002</td>\n",
       "      <td>0.0</td>\n",
       "      <td>0.0008</td>\n",
       "      <td>0.0</td>\n",
       "      <td>0.0002</td>\n",
       "      <td>161.5919</td>\n",
       "      <td>0.0000</td>\n",
       "      <td>0.0001</td>\n",
       "    </tr>\n",
       "    <tr>\n",
       "      <th>1386245</th>\n",
       "      <td>191</td>\n",
       "      <td>27</td>\n",
       "      <td>1991</td>\n",
       "      <td>0.0</td>\n",
       "      <td>NaN</td>\n",
       "      <td>0.0</td>\n",
       "      <td>0.00</td>\n",
       "      <td>NaN</td>\n",
       "      <td>0.0</td>\n",
       "      <td>NaN</td>\n",
       "      <td>...</td>\n",
       "      <td>0.0</td>\n",
       "      <td>NaN</td>\n",
       "      <td>0.0000</td>\n",
       "      <td>NaN</td>\n",
       "      <td>NaN</td>\n",
       "      <td>NaN</td>\n",
       "      <td>NaN</td>\n",
       "      <td>NaN</td>\n",
       "      <td>0.0000</td>\n",
       "      <td>0.0000</td>\n",
       "    </tr>\n",
       "    <tr>\n",
       "      <th>1386246</th>\n",
       "      <td>191</td>\n",
       "      <td>27</td>\n",
       "      <td>1992</td>\n",
       "      <td>NaN</td>\n",
       "      <td>NaN</td>\n",
       "      <td>NaN</td>\n",
       "      <td>NaN</td>\n",
       "      <td>NaN</td>\n",
       "      <td>NaN</td>\n",
       "      <td>NaN</td>\n",
       "      <td>...</td>\n",
       "      <td>NaN</td>\n",
       "      <td>NaN</td>\n",
       "      <td>NaN</td>\n",
       "      <td>NaN</td>\n",
       "      <td>NaN</td>\n",
       "      <td>NaN</td>\n",
       "      <td>NaN</td>\n",
       "      <td>NaN</td>\n",
       "      <td>NaN</td>\n",
       "      <td>NaN</td>\n",
       "    </tr>\n",
       "    <tr>\n",
       "      <th>1386247</th>\n",
       "      <td>191</td>\n",
       "      <td>27</td>\n",
       "      <td>1993</td>\n",
       "      <td>NaN</td>\n",
       "      <td>NaN</td>\n",
       "      <td>NaN</td>\n",
       "      <td>NaN</td>\n",
       "      <td>NaN</td>\n",
       "      <td>NaN</td>\n",
       "      <td>NaN</td>\n",
       "      <td>...</td>\n",
       "      <td>NaN</td>\n",
       "      <td>NaN</td>\n",
       "      <td>NaN</td>\n",
       "      <td>NaN</td>\n",
       "      <td>NaN</td>\n",
       "      <td>NaN</td>\n",
       "      <td>NaN</td>\n",
       "      <td>NaN</td>\n",
       "      <td>NaN</td>\n",
       "      <td>NaN</td>\n",
       "    </tr>\n",
       "    <tr>\n",
       "      <th>1386248</th>\n",
       "      <td>191</td>\n",
       "      <td>27</td>\n",
       "      <td>1994</td>\n",
       "      <td>NaN</td>\n",
       "      <td>NaN</td>\n",
       "      <td>NaN</td>\n",
       "      <td>NaN</td>\n",
       "      <td>NaN</td>\n",
       "      <td>NaN</td>\n",
       "      <td>NaN</td>\n",
       "      <td>...</td>\n",
       "      <td>NaN</td>\n",
       "      <td>NaN</td>\n",
       "      <td>NaN</td>\n",
       "      <td>NaN</td>\n",
       "      <td>NaN</td>\n",
       "      <td>NaN</td>\n",
       "      <td>NaN</td>\n",
       "      <td>NaN</td>\n",
       "      <td>NaN</td>\n",
       "      <td>NaN</td>\n",
       "    </tr>\n",
       "    <tr>\n",
       "      <th>1386249</th>\n",
       "      <td>191</td>\n",
       "      <td>27</td>\n",
       "      <td>1995</td>\n",
       "      <td>NaN</td>\n",
       "      <td>NaN</td>\n",
       "      <td>NaN</td>\n",
       "      <td>NaN</td>\n",
       "      <td>NaN</td>\n",
       "      <td>NaN</td>\n",
       "      <td>NaN</td>\n",
       "      <td>...</td>\n",
       "      <td>NaN</td>\n",
       "      <td>NaN</td>\n",
       "      <td>NaN</td>\n",
       "      <td>NaN</td>\n",
       "      <td>NaN</td>\n",
       "      <td>NaN</td>\n",
       "      <td>NaN</td>\n",
       "      <td>NaN</td>\n",
       "      <td>NaN</td>\n",
       "      <td>NaN</td>\n",
       "    </tr>\n",
       "    <tr>\n",
       "      <th>1386250</th>\n",
       "      <td>191</td>\n",
       "      <td>27</td>\n",
       "      <td>1996</td>\n",
       "      <td>NaN</td>\n",
       "      <td>NaN</td>\n",
       "      <td>NaN</td>\n",
       "      <td>NaN</td>\n",
       "      <td>NaN</td>\n",
       "      <td>NaN</td>\n",
       "      <td>NaN</td>\n",
       "      <td>...</td>\n",
       "      <td>NaN</td>\n",
       "      <td>NaN</td>\n",
       "      <td>NaN</td>\n",
       "      <td>NaN</td>\n",
       "      <td>NaN</td>\n",
       "      <td>NaN</td>\n",
       "      <td>NaN</td>\n",
       "      <td>NaN</td>\n",
       "      <td>NaN</td>\n",
       "      <td>NaN</td>\n",
       "    </tr>\n",
       "    <tr>\n",
       "      <th>1386251</th>\n",
       "      <td>191</td>\n",
       "      <td>27</td>\n",
       "      <td>1997</td>\n",
       "      <td>NaN</td>\n",
       "      <td>NaN</td>\n",
       "      <td>NaN</td>\n",
       "      <td>NaN</td>\n",
       "      <td>NaN</td>\n",
       "      <td>NaN</td>\n",
       "      <td>NaN</td>\n",
       "      <td>...</td>\n",
       "      <td>NaN</td>\n",
       "      <td>NaN</td>\n",
       "      <td>NaN</td>\n",
       "      <td>NaN</td>\n",
       "      <td>NaN</td>\n",
       "      <td>NaN</td>\n",
       "      <td>NaN</td>\n",
       "      <td>NaN</td>\n",
       "      <td>NaN</td>\n",
       "      <td>NaN</td>\n",
       "    </tr>\n",
       "    <tr>\n",
       "      <th>1386252</th>\n",
       "      <td>191</td>\n",
       "      <td>27</td>\n",
       "      <td>1998</td>\n",
       "      <td>NaN</td>\n",
       "      <td>NaN</td>\n",
       "      <td>NaN</td>\n",
       "      <td>NaN</td>\n",
       "      <td>NaN</td>\n",
       "      <td>NaN</td>\n",
       "      <td>NaN</td>\n",
       "      <td>...</td>\n",
       "      <td>NaN</td>\n",
       "      <td>NaN</td>\n",
       "      <td>NaN</td>\n",
       "      <td>NaN</td>\n",
       "      <td>NaN</td>\n",
       "      <td>NaN</td>\n",
       "      <td>NaN</td>\n",
       "      <td>NaN</td>\n",
       "      <td>NaN</td>\n",
       "      <td>NaN</td>\n",
       "    </tr>\n",
       "    <tr>\n",
       "      <th>1386253</th>\n",
       "      <td>191</td>\n",
       "      <td>27</td>\n",
       "      <td>1999</td>\n",
       "      <td>NaN</td>\n",
       "      <td>NaN</td>\n",
       "      <td>NaN</td>\n",
       "      <td>NaN</td>\n",
       "      <td>NaN</td>\n",
       "      <td>NaN</td>\n",
       "      <td>NaN</td>\n",
       "      <td>...</td>\n",
       "      <td>NaN</td>\n",
       "      <td>NaN</td>\n",
       "      <td>NaN</td>\n",
       "      <td>NaN</td>\n",
       "      <td>NaN</td>\n",
       "      <td>NaN</td>\n",
       "      <td>NaN</td>\n",
       "      <td>NaN</td>\n",
       "      <td>NaN</td>\n",
       "      <td>NaN</td>\n",
       "    </tr>\n",
       "    <tr>\n",
       "      <th>1386254</th>\n",
       "      <td>191</td>\n",
       "      <td>27</td>\n",
       "      <td>2000</td>\n",
       "      <td>NaN</td>\n",
       "      <td>NaN</td>\n",
       "      <td>NaN</td>\n",
       "      <td>NaN</td>\n",
       "      <td>NaN</td>\n",
       "      <td>NaN</td>\n",
       "      <td>NaN</td>\n",
       "      <td>...</td>\n",
       "      <td>NaN</td>\n",
       "      <td>NaN</td>\n",
       "      <td>NaN</td>\n",
       "      <td>NaN</td>\n",
       "      <td>NaN</td>\n",
       "      <td>NaN</td>\n",
       "      <td>NaN</td>\n",
       "      <td>NaN</td>\n",
       "      <td>NaN</td>\n",
       "      <td>NaN</td>\n",
       "    </tr>\n",
       "    <tr>\n",
       "      <th>1386255</th>\n",
       "      <td>191</td>\n",
       "      <td>27</td>\n",
       "      <td>2001</td>\n",
       "      <td>NaN</td>\n",
       "      <td>NaN</td>\n",
       "      <td>NaN</td>\n",
       "      <td>NaN</td>\n",
       "      <td>NaN</td>\n",
       "      <td>NaN</td>\n",
       "      <td>NaN</td>\n",
       "      <td>...</td>\n",
       "      <td>NaN</td>\n",
       "      <td>NaN</td>\n",
       "      <td>NaN</td>\n",
       "      <td>NaN</td>\n",
       "      <td>NaN</td>\n",
       "      <td>NaN</td>\n",
       "      <td>NaN</td>\n",
       "      <td>NaN</td>\n",
       "      <td>NaN</td>\n",
       "      <td>NaN</td>\n",
       "    </tr>\n",
       "    <tr>\n",
       "      <th>1386256</th>\n",
       "      <td>191</td>\n",
       "      <td>27</td>\n",
       "      <td>2002</td>\n",
       "      <td>NaN</td>\n",
       "      <td>NaN</td>\n",
       "      <td>NaN</td>\n",
       "      <td>NaN</td>\n",
       "      <td>NaN</td>\n",
       "      <td>NaN</td>\n",
       "      <td>NaN</td>\n",
       "      <td>...</td>\n",
       "      <td>NaN</td>\n",
       "      <td>NaN</td>\n",
       "      <td>NaN</td>\n",
       "      <td>NaN</td>\n",
       "      <td>NaN</td>\n",
       "      <td>NaN</td>\n",
       "      <td>NaN</td>\n",
       "      <td>NaN</td>\n",
       "      <td>NaN</td>\n",
       "      <td>NaN</td>\n",
       "    </tr>\n",
       "    <tr>\n",
       "      <th>1386257</th>\n",
       "      <td>191</td>\n",
       "      <td>27</td>\n",
       "      <td>2003</td>\n",
       "      <td>NaN</td>\n",
       "      <td>NaN</td>\n",
       "      <td>NaN</td>\n",
       "      <td>NaN</td>\n",
       "      <td>NaN</td>\n",
       "      <td>NaN</td>\n",
       "      <td>NaN</td>\n",
       "      <td>...</td>\n",
       "      <td>NaN</td>\n",
       "      <td>NaN</td>\n",
       "      <td>NaN</td>\n",
       "      <td>NaN</td>\n",
       "      <td>NaN</td>\n",
       "      <td>NaN</td>\n",
       "      <td>NaN</td>\n",
       "      <td>NaN</td>\n",
       "      <td>NaN</td>\n",
       "      <td>NaN</td>\n",
       "    </tr>\n",
       "    <tr>\n",
       "      <th>1386258</th>\n",
       "      <td>191</td>\n",
       "      <td>27</td>\n",
       "      <td>2004</td>\n",
       "      <td>NaN</td>\n",
       "      <td>NaN</td>\n",
       "      <td>NaN</td>\n",
       "      <td>NaN</td>\n",
       "      <td>NaN</td>\n",
       "      <td>NaN</td>\n",
       "      <td>NaN</td>\n",
       "      <td>...</td>\n",
       "      <td>NaN</td>\n",
       "      <td>NaN</td>\n",
       "      <td>NaN</td>\n",
       "      <td>NaN</td>\n",
       "      <td>NaN</td>\n",
       "      <td>NaN</td>\n",
       "      <td>NaN</td>\n",
       "      <td>NaN</td>\n",
       "      <td>NaN</td>\n",
       "      <td>NaN</td>\n",
       "    </tr>\n",
       "    <tr>\n",
       "      <th>1386259</th>\n",
       "      <td>191</td>\n",
       "      <td>27</td>\n",
       "      <td>2005</td>\n",
       "      <td>NaN</td>\n",
       "      <td>NaN</td>\n",
       "      <td>NaN</td>\n",
       "      <td>NaN</td>\n",
       "      <td>NaN</td>\n",
       "      <td>NaN</td>\n",
       "      <td>NaN</td>\n",
       "      <td>...</td>\n",
       "      <td>NaN</td>\n",
       "      <td>NaN</td>\n",
       "      <td>NaN</td>\n",
       "      <td>NaN</td>\n",
       "      <td>NaN</td>\n",
       "      <td>NaN</td>\n",
       "      <td>NaN</td>\n",
       "      <td>NaN</td>\n",
       "      <td>NaN</td>\n",
       "      <td>NaN</td>\n",
       "    </tr>\n",
       "    <tr>\n",
       "      <th>1386260</th>\n",
       "      <td>191</td>\n",
       "      <td>27</td>\n",
       "      <td>2006</td>\n",
       "      <td>NaN</td>\n",
       "      <td>NaN</td>\n",
       "      <td>NaN</td>\n",
       "      <td>NaN</td>\n",
       "      <td>NaN</td>\n",
       "      <td>NaN</td>\n",
       "      <td>NaN</td>\n",
       "      <td>...</td>\n",
       "      <td>NaN</td>\n",
       "      <td>NaN</td>\n",
       "      <td>NaN</td>\n",
       "      <td>NaN</td>\n",
       "      <td>NaN</td>\n",
       "      <td>NaN</td>\n",
       "      <td>NaN</td>\n",
       "      <td>NaN</td>\n",
       "      <td>NaN</td>\n",
       "      <td>NaN</td>\n",
       "    </tr>\n",
       "    <tr>\n",
       "      <th>1386261</th>\n",
       "      <td>191</td>\n",
       "      <td>27</td>\n",
       "      <td>2007</td>\n",
       "      <td>NaN</td>\n",
       "      <td>NaN</td>\n",
       "      <td>NaN</td>\n",
       "      <td>NaN</td>\n",
       "      <td>NaN</td>\n",
       "      <td>NaN</td>\n",
       "      <td>NaN</td>\n",
       "      <td>...</td>\n",
       "      <td>NaN</td>\n",
       "      <td>NaN</td>\n",
       "      <td>NaN</td>\n",
       "      <td>NaN</td>\n",
       "      <td>NaN</td>\n",
       "      <td>NaN</td>\n",
       "      <td>NaN</td>\n",
       "      <td>NaN</td>\n",
       "      <td>NaN</td>\n",
       "      <td>NaN</td>\n",
       "    </tr>\n",
       "    <tr>\n",
       "      <th>1386262</th>\n",
       "      <td>191</td>\n",
       "      <td>27</td>\n",
       "      <td>2008</td>\n",
       "      <td>NaN</td>\n",
       "      <td>NaN</td>\n",
       "      <td>NaN</td>\n",
       "      <td>NaN</td>\n",
       "      <td>NaN</td>\n",
       "      <td>NaN</td>\n",
       "      <td>NaN</td>\n",
       "      <td>...</td>\n",
       "      <td>NaN</td>\n",
       "      <td>NaN</td>\n",
       "      <td>NaN</td>\n",
       "      <td>NaN</td>\n",
       "      <td>NaN</td>\n",
       "      <td>NaN</td>\n",
       "      <td>NaN</td>\n",
       "      <td>NaN</td>\n",
       "      <td>NaN</td>\n",
       "      <td>NaN</td>\n",
       "    </tr>\n",
       "    <tr>\n",
       "      <th>1386263</th>\n",
       "      <td>191</td>\n",
       "      <td>27</td>\n",
       "      <td>2009</td>\n",
       "      <td>NaN</td>\n",
       "      <td>NaN</td>\n",
       "      <td>NaN</td>\n",
       "      <td>NaN</td>\n",
       "      <td>NaN</td>\n",
       "      <td>NaN</td>\n",
       "      <td>NaN</td>\n",
       "      <td>...</td>\n",
       "      <td>NaN</td>\n",
       "      <td>NaN</td>\n",
       "      <td>NaN</td>\n",
       "      <td>NaN</td>\n",
       "      <td>NaN</td>\n",
       "      <td>NaN</td>\n",
       "      <td>NaN</td>\n",
       "      <td>NaN</td>\n",
       "      <td>NaN</td>\n",
       "      <td>NaN</td>\n",
       "    </tr>\n",
       "    <tr>\n",
       "      <th>1386264</th>\n",
       "      <td>191</td>\n",
       "      <td>27</td>\n",
       "      <td>2010</td>\n",
       "      <td>NaN</td>\n",
       "      <td>NaN</td>\n",
       "      <td>NaN</td>\n",
       "      <td>NaN</td>\n",
       "      <td>NaN</td>\n",
       "      <td>NaN</td>\n",
       "      <td>NaN</td>\n",
       "      <td>...</td>\n",
       "      <td>NaN</td>\n",
       "      <td>NaN</td>\n",
       "      <td>NaN</td>\n",
       "      <td>NaN</td>\n",
       "      <td>NaN</td>\n",
       "      <td>NaN</td>\n",
       "      <td>NaN</td>\n",
       "      <td>NaN</td>\n",
       "      <td>NaN</td>\n",
       "      <td>NaN</td>\n",
       "    </tr>\n",
       "    <tr>\n",
       "      <th>1386265</th>\n",
       "      <td>191</td>\n",
       "      <td>27</td>\n",
       "      <td>2011</td>\n",
       "      <td>NaN</td>\n",
       "      <td>NaN</td>\n",
       "      <td>NaN</td>\n",
       "      <td>NaN</td>\n",
       "      <td>NaN</td>\n",
       "      <td>NaN</td>\n",
       "      <td>NaN</td>\n",
       "      <td>...</td>\n",
       "      <td>NaN</td>\n",
       "      <td>NaN</td>\n",
       "      <td>NaN</td>\n",
       "      <td>NaN</td>\n",
       "      <td>NaN</td>\n",
       "      <td>NaN</td>\n",
       "      <td>NaN</td>\n",
       "      <td>NaN</td>\n",
       "      <td>NaN</td>\n",
       "      <td>NaN</td>\n",
       "    </tr>\n",
       "    <tr>\n",
       "      <th>1386266</th>\n",
       "      <td>191</td>\n",
       "      <td>27</td>\n",
       "      <td>2012</td>\n",
       "      <td>NaN</td>\n",
       "      <td>NaN</td>\n",
       "      <td>NaN</td>\n",
       "      <td>NaN</td>\n",
       "      <td>NaN</td>\n",
       "      <td>NaN</td>\n",
       "      <td>NaN</td>\n",
       "      <td>...</td>\n",
       "      <td>NaN</td>\n",
       "      <td>NaN</td>\n",
       "      <td>NaN</td>\n",
       "      <td>NaN</td>\n",
       "      <td>NaN</td>\n",
       "      <td>NaN</td>\n",
       "      <td>NaN</td>\n",
       "      <td>NaN</td>\n",
       "      <td>NaN</td>\n",
       "      <td>NaN</td>\n",
       "    </tr>\n",
       "    <tr>\n",
       "      <th>1386267</th>\n",
       "      <td>191</td>\n",
       "      <td>27</td>\n",
       "      <td>2013</td>\n",
       "      <td>NaN</td>\n",
       "      <td>NaN</td>\n",
       "      <td>NaN</td>\n",
       "      <td>NaN</td>\n",
       "      <td>NaN</td>\n",
       "      <td>NaN</td>\n",
       "      <td>NaN</td>\n",
       "      <td>...</td>\n",
       "      <td>NaN</td>\n",
       "      <td>NaN</td>\n",
       "      <td>NaN</td>\n",
       "      <td>NaN</td>\n",
       "      <td>NaN</td>\n",
       "      <td>NaN</td>\n",
       "      <td>NaN</td>\n",
       "      <td>NaN</td>\n",
       "      <td>NaN</td>\n",
       "      <td>NaN</td>\n",
       "    </tr>\n",
       "    <tr>\n",
       "      <th>1386268</th>\n",
       "      <td>191</td>\n",
       "      <td>27</td>\n",
       "      <td>2014</td>\n",
       "      <td>NaN</td>\n",
       "      <td>NaN</td>\n",
       "      <td>NaN</td>\n",
       "      <td>NaN</td>\n",
       "      <td>NaN</td>\n",
       "      <td>NaN</td>\n",
       "      <td>NaN</td>\n",
       "      <td>...</td>\n",
       "      <td>NaN</td>\n",
       "      <td>NaN</td>\n",
       "      <td>NaN</td>\n",
       "      <td>NaN</td>\n",
       "      <td>NaN</td>\n",
       "      <td>NaN</td>\n",
       "      <td>NaN</td>\n",
       "      <td>NaN</td>\n",
       "      <td>NaN</td>\n",
       "      <td>NaN</td>\n",
       "    </tr>\n",
       "    <tr>\n",
       "      <th>1386269</th>\n",
       "      <td>191</td>\n",
       "      <td>27</td>\n",
       "      <td>2015</td>\n",
       "      <td>NaN</td>\n",
       "      <td>NaN</td>\n",
       "      <td>NaN</td>\n",
       "      <td>NaN</td>\n",
       "      <td>NaN</td>\n",
       "      <td>NaN</td>\n",
       "      <td>NaN</td>\n",
       "      <td>...</td>\n",
       "      <td>NaN</td>\n",
       "      <td>NaN</td>\n",
       "      <td>NaN</td>\n",
       "      <td>NaN</td>\n",
       "      <td>NaN</td>\n",
       "      <td>NaN</td>\n",
       "      <td>NaN</td>\n",
       "      <td>NaN</td>\n",
       "      <td>NaN</td>\n",
       "      <td>NaN</td>\n",
       "    </tr>\n",
       "    <tr>\n",
       "      <th>1386270</th>\n",
       "      <td>191</td>\n",
       "      <td>27</td>\n",
       "      <td>2016</td>\n",
       "      <td>NaN</td>\n",
       "      <td>NaN</td>\n",
       "      <td>NaN</td>\n",
       "      <td>NaN</td>\n",
       "      <td>NaN</td>\n",
       "      <td>NaN</td>\n",
       "      <td>NaN</td>\n",
       "      <td>...</td>\n",
       "      <td>NaN</td>\n",
       "      <td>NaN</td>\n",
       "      <td>NaN</td>\n",
       "      <td>NaN</td>\n",
       "      <td>NaN</td>\n",
       "      <td>NaN</td>\n",
       "      <td>NaN</td>\n",
       "      <td>NaN</td>\n",
       "      <td>NaN</td>\n",
       "      <td>NaN</td>\n",
       "    </tr>\n",
       "    <tr>\n",
       "      <th>1386271</th>\n",
       "      <td>191</td>\n",
       "      <td>27</td>\n",
       "      <td>2017</td>\n",
       "      <td>NaN</td>\n",
       "      <td>NaN</td>\n",
       "      <td>NaN</td>\n",
       "      <td>NaN</td>\n",
       "      <td>NaN</td>\n",
       "      <td>NaN</td>\n",
       "      <td>NaN</td>\n",
       "      <td>...</td>\n",
       "      <td>NaN</td>\n",
       "      <td>NaN</td>\n",
       "      <td>NaN</td>\n",
       "      <td>NaN</td>\n",
       "      <td>NaN</td>\n",
       "      <td>NaN</td>\n",
       "      <td>NaN</td>\n",
       "      <td>NaN</td>\n",
       "      <td>NaN</td>\n",
       "      <td>NaN</td>\n",
       "    </tr>\n",
       "  </tbody>\n",
       "</table>\n",
       "<p>30 rows × 22 columns</p>\n",
       "</div>"
      ],
      "text/plain": [
       "elementcode  areacode  itemcode  year  5312     5419  5510  7245  72247  \\\n",
       "1386242           191        27  1988   5.0  28000.0  14.0  2.75    2.7   \n",
       "1386243           191        27  1989   5.0  24000.0  12.0  2.75    2.7   \n",
       "1386244           191        27  1990   4.0  27500.0  11.0  2.20    2.7   \n",
       "1386245           191        27  1991   0.0      NaN   0.0  0.00    NaN   \n",
       "1386246           191        27  1992   NaN      NaN   NaN   NaN    NaN   \n",
       "1386247           191        27  1993   NaN      NaN   NaN   NaN    NaN   \n",
       "1386248           191        27  1994   NaN      NaN   NaN   NaN    NaN   \n",
       "1386249           191        27  1995   NaN      NaN   NaN   NaN    NaN   \n",
       "1386250           191        27  1996   NaN      NaN   NaN   NaN    NaN   \n",
       "1386251           191        27  1997   NaN      NaN   NaN   NaN    NaN   \n",
       "1386252           191        27  1998   NaN      NaN   NaN   NaN    NaN   \n",
       "1386253           191        27  1999   NaN      NaN   NaN   NaN    NaN   \n",
       "1386254           191        27  2000   NaN      NaN   NaN   NaN    NaN   \n",
       "1386255           191        27  2001   NaN      NaN   NaN   NaN    NaN   \n",
       "1386256           191        27  2002   NaN      NaN   NaN   NaN    NaN   \n",
       "1386257           191        27  2003   NaN      NaN   NaN   NaN    NaN   \n",
       "1386258           191        27  2004   NaN      NaN   NaN   NaN    NaN   \n",
       "1386259           191        27  2005   NaN      NaN   NaN   NaN    NaN   \n",
       "1386260           191        27  2006   NaN      NaN   NaN   NaN    NaN   \n",
       "1386261           191        27  2007   NaN      NaN   NaN   NaN    NaN   \n",
       "1386262           191        27  2008   NaN      NaN   NaN   NaN    NaN   \n",
       "1386263           191        27  2009   NaN      NaN   NaN   NaN    NaN   \n",
       "1386264           191        27  2010   NaN      NaN   NaN   NaN    NaN   \n",
       "1386265           191        27  2011   NaN      NaN   NaN   NaN    NaN   \n",
       "1386266           191        27  2012   NaN      NaN   NaN   NaN    NaN   \n",
       "1386267           191        27  2013   NaN      NaN   NaN   NaN    NaN   \n",
       "1386268           191        27  2014   NaN      NaN   NaN   NaN    NaN   \n",
       "1386269           191        27  2015   NaN      NaN   NaN   NaN    NaN   \n",
       "1386270           191        27  2016   NaN      NaN   NaN   NaN    NaN   \n",
       "1386271           191        27  2017   NaN      NaN   NaN   NaN    NaN   \n",
       "\n",
       "elementcode  72257   72292  ...  72307   72312   72317  72342   72352  72362  \\\n",
       "1386242        0.0  0.0123  ...    0.0  0.0012  0.0002    0.0  0.0010    0.0   \n",
       "1386243        0.0  0.0123  ...    0.0  0.0011  0.0002    0.0  0.0009    0.0   \n",
       "1386244        0.0  0.0123  ...    0.0  0.0010  0.0002    0.0  0.0008    0.0   \n",
       "1386245        0.0     NaN  ...    0.0     NaN  0.0000    NaN     NaN    NaN   \n",
       "1386246        NaN     NaN  ...    NaN     NaN     NaN    NaN     NaN    NaN   \n",
       "1386247        NaN     NaN  ...    NaN     NaN     NaN    NaN     NaN    NaN   \n",
       "1386248        NaN     NaN  ...    NaN     NaN     NaN    NaN     NaN    NaN   \n",
       "1386249        NaN     NaN  ...    NaN     NaN     NaN    NaN     NaN    NaN   \n",
       "1386250        NaN     NaN  ...    NaN     NaN     NaN    NaN     NaN    NaN   \n",
       "1386251        NaN     NaN  ...    NaN     NaN     NaN    NaN     NaN    NaN   \n",
       "1386252        NaN     NaN  ...    NaN     NaN     NaN    NaN     NaN    NaN   \n",
       "1386253        NaN     NaN  ...    NaN     NaN     NaN    NaN     NaN    NaN   \n",
       "1386254        NaN     NaN  ...    NaN     NaN     NaN    NaN     NaN    NaN   \n",
       "1386255        NaN     NaN  ...    NaN     NaN     NaN    NaN     NaN    NaN   \n",
       "1386256        NaN     NaN  ...    NaN     NaN     NaN    NaN     NaN    NaN   \n",
       "1386257        NaN     NaN  ...    NaN     NaN     NaN    NaN     NaN    NaN   \n",
       "1386258        NaN     NaN  ...    NaN     NaN     NaN    NaN     NaN    NaN   \n",
       "1386259        NaN     NaN  ...    NaN     NaN     NaN    NaN     NaN    NaN   \n",
       "1386260        NaN     NaN  ...    NaN     NaN     NaN    NaN     NaN    NaN   \n",
       "1386261        NaN     NaN  ...    NaN     NaN     NaN    NaN     NaN    NaN   \n",
       "1386262        NaN     NaN  ...    NaN     NaN     NaN    NaN     NaN    NaN   \n",
       "1386263        NaN     NaN  ...    NaN     NaN     NaN    NaN     NaN    NaN   \n",
       "1386264        NaN     NaN  ...    NaN     NaN     NaN    NaN     NaN    NaN   \n",
       "1386265        NaN     NaN  ...    NaN     NaN     NaN    NaN     NaN    NaN   \n",
       "1386266        NaN     NaN  ...    NaN     NaN     NaN    NaN     NaN    NaN   \n",
       "1386267        NaN     NaN  ...    NaN     NaN     NaN    NaN     NaN    NaN   \n",
       "1386268        NaN     NaN  ...    NaN     NaN     NaN    NaN     NaN    NaN   \n",
       "1386269        NaN     NaN  ...    NaN     NaN     NaN    NaN     NaN    NaN   \n",
       "1386270        NaN     NaN  ...    NaN     NaN     NaN    NaN     NaN    NaN   \n",
       "1386271        NaN     NaN  ...    NaN     NaN     NaN    NaN     NaN    NaN   \n",
       "\n",
       "elementcode   72372     72392   72437   72447  \n",
       "1386242      0.0002  203.9260  0.0001  0.0002  \n",
       "1386243      0.0002  188.4376  0.0001  0.0002  \n",
       "1386244      0.0002  161.5919  0.0000  0.0001  \n",
       "1386245         NaN       NaN  0.0000  0.0000  \n",
       "1386246         NaN       NaN     NaN     NaN  \n",
       "1386247         NaN       NaN     NaN     NaN  \n",
       "1386248         NaN       NaN     NaN     NaN  \n",
       "1386249         NaN       NaN     NaN     NaN  \n",
       "1386250         NaN       NaN     NaN     NaN  \n",
       "1386251         NaN       NaN     NaN     NaN  \n",
       "1386252         NaN       NaN     NaN     NaN  \n",
       "1386253         NaN       NaN     NaN     NaN  \n",
       "1386254         NaN       NaN     NaN     NaN  \n",
       "1386255         NaN       NaN     NaN     NaN  \n",
       "1386256         NaN       NaN     NaN     NaN  \n",
       "1386257         NaN       NaN     NaN     NaN  \n",
       "1386258         NaN       NaN     NaN     NaN  \n",
       "1386259         NaN       NaN     NaN     NaN  \n",
       "1386260         NaN       NaN     NaN     NaN  \n",
       "1386261         NaN       NaN     NaN     NaN  \n",
       "1386262         NaN       NaN     NaN     NaN  \n",
       "1386263         NaN       NaN     NaN     NaN  \n",
       "1386264         NaN       NaN     NaN     NaN  \n",
       "1386265         NaN       NaN     NaN     NaN  \n",
       "1386266         NaN       NaN     NaN     NaN  \n",
       "1386267         NaN       NaN     NaN     NaN  \n",
       "1386268         NaN       NaN     NaN     NaN  \n",
       "1386269         NaN       NaN     NaN     NaN  \n",
       "1386270         NaN       NaN     NaN     NaN  \n",
       "1386271         NaN       NaN     NaN     NaN  \n",
       "\n",
       "[30 rows x 22 columns]"
      ]
     },
     "execution_count": 125,
     "metadata": {},
     "output_type": "execute_result"
    }
   ],
   "source": [
    "from utils import get_item\n",
    "get_item(reshaped_df, [27], [191])"
   ]
  },
  {
   "cell_type": "code",
   "execution_count": null,
   "metadata": {},
   "outputs": [],
   "source": []
  },
  {
   "cell_type": "markdown",
   "metadata": {},
   "source": [
    "#### 2. Identifying Missing values\n",
    "---"
   ]
  },
  {
   "cell_type": "code",
   "execution_count": 120,
   "metadata": {},
   "outputs": [],
   "source": [
    "reshaped_df.to_pickle(\"reshaped_df_2.pkl\")"
   ]
  },
  {
   "cell_type": "code",
   "execution_count": 121,
   "metadata": {},
   "outputs": [],
   "source": [
    "items = reshaped_df.itemcode.unique()"
   ]
  },
  {
   "cell_type": "code",
   "execution_count": 122,
   "metadata": {},
   "outputs": [],
   "source": [
    "holes = []"
   ]
  },
  {
   "cell_type": "code",
   "execution_count": 125,
   "metadata": {},
   "outputs": [],
   "source": [
    "from utils import get_item\n",
    "for item in items:\n",
    "    t = get_item(reshaped_df, [item]).set_index(['areacode'])\n",
    "    for area in t.index.unique():\n",
    "        a = t.loc[area]\n",
    "        x = a.isna().any() # Check if each of the columns has any NaN\n",
    "        if x.any():\n",
    "            try:\n",
    "                cols = a.columns[x]\n",
    "                for c in cols.values:\n",
    "                    holes.append((item, area, c))\n",
    "            except Exception as e:\n",
    "                print(e)\n",
    "                print(item, area, )\n",
    "                break"
   ]
  },
  {
   "cell_type": "code",
   "execution_count": 126,
   "metadata": {},
   "outputs": [],
   "source": [
    "holes_df = pd.DataFrame(data=holes, columns=['itemcode', 'areacode', 'elementcode'])"
   ]
  },
  {
   "cell_type": "code",
   "execution_count": 144,
   "metadata": {},
   "outputs": [],
   "source": [
    "item_stats = []\n",
    "for item in items:\n",
    "    t = get_item(reshaped_df, [item]).set_index(['areacode']).drop('itemcode', axis=1)\n",
    "    for area in t.index.unique():\n",
    "        a = t.loc[area]\n",
    "        years = a.year.unique()\n",
    "        num_cols = len(a.drop('year', axis=1).columns)\n",
    "        item_stats.append((item, area, years, num_cols))"
   ]
  },
  {
   "cell_type": "code",
   "execution_count": 146,
   "metadata": {},
   "outputs": [
    {
     "data": {
      "text/html": [
       "<div>\n",
       "<style scoped>\n",
       "    .dataframe tbody tr th:only-of-type {\n",
       "        vertical-align: middle;\n",
       "    }\n",
       "\n",
       "    .dataframe tbody tr th {\n",
       "        vertical-align: top;\n",
       "    }\n",
       "\n",
       "    .dataframe thead th {\n",
       "        text-align: right;\n",
       "    }\n",
       "</style>\n",
       "<table border=\"1\" class=\"dataframe\">\n",
       "  <thead>\n",
       "    <tr style=\"text-align: right;\">\n",
       "      <th>elementcode</th>\n",
       "      <th>areacode</th>\n",
       "      <th>itemcode</th>\n",
       "      <th>year</th>\n",
       "      <th>511</th>\n",
       "      <th>512</th>\n",
       "      <th>513</th>\n",
       "      <th>551</th>\n",
       "      <th>561</th>\n",
       "      <th>5026</th>\n",
       "      <th>5111</th>\n",
       "      <th>...</th>\n",
       "      <th>723601</th>\n",
       "      <th>723602</th>\n",
       "      <th>723631</th>\n",
       "      <th>723632</th>\n",
       "      <th>723801</th>\n",
       "      <th>723802</th>\n",
       "      <th>723811</th>\n",
       "      <th>723812</th>\n",
       "      <th>724310</th>\n",
       "      <th>724410</th>\n",
       "    </tr>\n",
       "  </thead>\n",
       "  <tbody>\n",
       "    <tr>\n",
       "      <th>0</th>\n",
       "      <td>1</td>\n",
       "      <td>15</td>\n",
       "      <td>1992</td>\n",
       "      <td>NaN</td>\n",
       "      <td>NaN</td>\n",
       "      <td>NaN</td>\n",
       "      <td>NaN</td>\n",
       "      <td>NaN</td>\n",
       "      <td>NaN</td>\n",
       "      <td>NaN</td>\n",
       "      <td>...</td>\n",
       "      <td>NaN</td>\n",
       "      <td>NaN</td>\n",
       "      <td>NaN</td>\n",
       "      <td>NaN</td>\n",
       "      <td>NaN</td>\n",
       "      <td>NaN</td>\n",
       "      <td>NaN</td>\n",
       "      <td>NaN</td>\n",
       "      <td>NaN</td>\n",
       "      <td>NaN</td>\n",
       "    </tr>\n",
       "  </tbody>\n",
       "</table>\n",
       "<p>1 rows × 135 columns</p>\n",
       "</div>"
      ],
      "text/plain": [
       "elementcode  areacode  itemcode  year  511  512  513  551  561  5026  5111  \\\n",
       "0                   1        15  1992  NaN  NaN  NaN  NaN  NaN   NaN   NaN   \n",
       "\n",
       "elementcode  ...  723601  723602  723631  723632  723801  723802  723811  \\\n",
       "0            ...     NaN     NaN     NaN     NaN     NaN     NaN     NaN   \n",
       "\n",
       "elementcode  723812  724310  724410  \n",
       "0               NaN     NaN     NaN  \n",
       "\n",
       "[1 rows x 135 columns]"
      ]
     },
     "execution_count": 146,
     "metadata": {},
     "output_type": "execute_result"
    }
   ],
   "source": [
    "reshaped_df.head(1)"
   ]
  },
  {
   "cell_type": "code",
   "execution_count": 148,
   "metadata": {},
   "outputs": [
    {
     "data": {
      "text/html": [
       "<div>\n",
       "<style scoped>\n",
       "    .dataframe tbody tr th:only-of-type {\n",
       "        vertical-align: middle;\n",
       "    }\n",
       "\n",
       "    .dataframe tbody tr th {\n",
       "        vertical-align: top;\n",
       "    }\n",
       "\n",
       "    .dataframe thead th {\n",
       "        text-align: right;\n",
       "    }\n",
       "</style>\n",
       "<table border=\"1\" class=\"dataframe\">\n",
       "  <thead>\n",
       "    <tr style=\"text-align: right;\">\n",
       "      <th>elementcode</th>\n",
       "      <th>areacode</th>\n",
       "      <th>itemcode</th>\n",
       "      <th>year</th>\n",
       "      <th>5312</th>\n",
       "      <th>5419</th>\n",
       "      <th>5510</th>\n",
       "      <th>7245</th>\n",
       "      <th>72247</th>\n",
       "      <th>72257</th>\n",
       "      <th>72292</th>\n",
       "      <th>...</th>\n",
       "      <th>72307</th>\n",
       "      <th>72312</th>\n",
       "      <th>72317</th>\n",
       "      <th>72342</th>\n",
       "      <th>72352</th>\n",
       "      <th>72362</th>\n",
       "      <th>72372</th>\n",
       "      <th>72392</th>\n",
       "      <th>72437</th>\n",
       "      <th>72447</th>\n",
       "    </tr>\n",
       "  </thead>\n",
       "  <tbody>\n",
       "    <tr>\n",
       "      <th>0</th>\n",
       "      <td>1</td>\n",
       "      <td>15</td>\n",
       "      <td>1992</td>\n",
       "      <td>65500.0</td>\n",
       "      <td>21600.0</td>\n",
       "      <td>141483.0</td>\n",
       "      <td>26200.0</td>\n",
       "      <td>2.7</td>\n",
       "      <td>0.0707</td>\n",
       "      <td>0.0122</td>\n",
       "      <td>...</td>\n",
       "      <td>0.0018</td>\n",
       "      <td>11.4118</td>\n",
       "      <td>2.0541</td>\n",
       "      <td>0.0301</td>\n",
       "      <td>9.3157</td>\n",
       "      <td>0.0068</td>\n",
       "      <td>2.0960</td>\n",
       "      <td>1.912320e+06</td>\n",
       "      <td>0.5685</td>\n",
       "      <td>1.4855</td>\n",
       "    </tr>\n",
       "    <tr>\n",
       "      <th>1</th>\n",
       "      <td>1</td>\n",
       "      <td>15</td>\n",
       "      <td>1993</td>\n",
       "      <td>97900.0</td>\n",
       "      <td>22257.0</td>\n",
       "      <td>217900.0</td>\n",
       "      <td>39160.0</td>\n",
       "      <td>2.7</td>\n",
       "      <td>0.1057</td>\n",
       "      <td>0.0123</td>\n",
       "      <td>...</td>\n",
       "      <td>0.0027</td>\n",
       "      <td>17.5068</td>\n",
       "      <td>3.0701</td>\n",
       "      <td>0.0461</td>\n",
       "      <td>14.2913</td>\n",
       "      <td>0.0104</td>\n",
       "      <td>3.2155</td>\n",
       "      <td>2.933695e+06</td>\n",
       "      <td>0.8498</td>\n",
       "      <td>2.2204</td>\n",
       "    </tr>\n",
       "    <tr>\n",
       "      <th>2</th>\n",
       "      <td>1</td>\n",
       "      <td>15</td>\n",
       "      <td>1994</td>\n",
       "      <td>85697.0</td>\n",
       "      <td>17842.0</td>\n",
       "      <td>152900.0</td>\n",
       "      <td>34278.8</td>\n",
       "      <td>2.7</td>\n",
       "      <td>0.0926</td>\n",
       "      <td>0.0123</td>\n",
       "      <td>...</td>\n",
       "      <td>0.0024</td>\n",
       "      <td>12.6762</td>\n",
       "      <td>2.6875</td>\n",
       "      <td>0.0334</td>\n",
       "      <td>10.3480</td>\n",
       "      <td>0.0075</td>\n",
       "      <td>2.3283</td>\n",
       "      <td>2.124213e+06</td>\n",
       "      <td>0.7438</td>\n",
       "      <td>1.9436</td>\n",
       "    </tr>\n",
       "    <tr>\n",
       "      <th>3</th>\n",
       "      <td>1</td>\n",
       "      <td>15</td>\n",
       "      <td>1995</td>\n",
       "      <td>60362.0</td>\n",
       "      <td>25480.0</td>\n",
       "      <td>153800.0</td>\n",
       "      <td>24144.8</td>\n",
       "      <td>2.7</td>\n",
       "      <td>0.0652</td>\n",
       "      <td>0.0123</td>\n",
       "      <td>...</td>\n",
       "      <td>0.0017</td>\n",
       "      <td>12.1555</td>\n",
       "      <td>1.8930</td>\n",
       "      <td>0.0320</td>\n",
       "      <td>9.9228</td>\n",
       "      <td>0.0072</td>\n",
       "      <td>2.2326</td>\n",
       "      <td>2.036943e+06</td>\n",
       "      <td>0.5239</td>\n",
       "      <td>1.3690</td>\n",
       "    </tr>\n",
       "    <tr>\n",
       "      <th>4</th>\n",
       "      <td>1</td>\n",
       "      <td>15</td>\n",
       "      <td>1996</td>\n",
       "      <td>85450.0</td>\n",
       "      <td>23569.0</td>\n",
       "      <td>201400.0</td>\n",
       "      <td>34180.0</td>\n",
       "      <td>2.7</td>\n",
       "      <td>0.0923</td>\n",
       "      <td>0.0123</td>\n",
       "      <td>...</td>\n",
       "      <td>0.0024</td>\n",
       "      <td>16.0651</td>\n",
       "      <td>2.6797</td>\n",
       "      <td>0.0423</td>\n",
       "      <td>13.1144</td>\n",
       "      <td>0.0095</td>\n",
       "      <td>2.9507</td>\n",
       "      <td>2.692099e+06</td>\n",
       "      <td>0.7417</td>\n",
       "      <td>1.9380</td>\n",
       "    </tr>\n",
       "    <tr>\n",
       "      <th>5</th>\n",
       "      <td>1</td>\n",
       "      <td>15</td>\n",
       "      <td>1997</td>\n",
       "      <td>108000.0</td>\n",
       "      <td>17009.0</td>\n",
       "      <td>183700.0</td>\n",
       "      <td>43200.0</td>\n",
       "      <td>2.7</td>\n",
       "      <td>0.1166</td>\n",
       "      <td>0.0123</td>\n",
       "      <td>...</td>\n",
       "      <td>0.0030</td>\n",
       "      <td>15.3459</td>\n",
       "      <td>3.3869</td>\n",
       "      <td>0.0404</td>\n",
       "      <td>12.5272</td>\n",
       "      <td>0.0091</td>\n",
       "      <td>2.8186</td>\n",
       "      <td>2.571574e+06</td>\n",
       "      <td>0.9374</td>\n",
       "      <td>2.4494</td>\n",
       "    </tr>\n",
       "    <tr>\n",
       "      <th>6</th>\n",
       "      <td>1</td>\n",
       "      <td>15</td>\n",
       "      <td>1998</td>\n",
       "      <td>118300.0</td>\n",
       "      <td>20651.0</td>\n",
       "      <td>244300.0</td>\n",
       "      <td>47320.0</td>\n",
       "      <td>2.7</td>\n",
       "      <td>0.1278</td>\n",
       "      <td>0.0123</td>\n",
       "      <td>...</td>\n",
       "      <td>0.0033</td>\n",
       "      <td>19.8246</td>\n",
       "      <td>3.7099</td>\n",
       "      <td>0.0522</td>\n",
       "      <td>16.1834</td>\n",
       "      <td>0.0117</td>\n",
       "      <td>3.6413</td>\n",
       "      <td>3.322102e+06</td>\n",
       "      <td>1.0268</td>\n",
       "      <td>2.6830</td>\n",
       "    </tr>\n",
       "    <tr>\n",
       "      <th>7</th>\n",
       "      <td>1</td>\n",
       "      <td>15</td>\n",
       "      <td>1999</td>\n",
       "      <td>110129.0</td>\n",
       "      <td>19466.0</td>\n",
       "      <td>214380.0</td>\n",
       "      <td>44051.6</td>\n",
       "      <td>2.7</td>\n",
       "      <td>0.1189</td>\n",
       "      <td>0.0123</td>\n",
       "      <td>...</td>\n",
       "      <td>0.0031</td>\n",
       "      <td>17.5422</td>\n",
       "      <td>3.4536</td>\n",
       "      <td>0.0462</td>\n",
       "      <td>14.3202</td>\n",
       "      <td>0.0104</td>\n",
       "      <td>3.2220</td>\n",
       "      <td>2.939630e+06</td>\n",
       "      <td>0.9559</td>\n",
       "      <td>2.4977</td>\n",
       "    </tr>\n",
       "    <tr>\n",
       "      <th>8</th>\n",
       "      <td>1</td>\n",
       "      <td>15</td>\n",
       "      <td>2000</td>\n",
       "      <td>106581.0</td>\n",
       "      <td>16679.0</td>\n",
       "      <td>177762.0</td>\n",
       "      <td>42632.4</td>\n",
       "      <td>2.7</td>\n",
       "      <td>0.1151</td>\n",
       "      <td>0.0123</td>\n",
       "      <td>...</td>\n",
       "      <td>0.0030</td>\n",
       "      <td>14.8976</td>\n",
       "      <td>3.3424</td>\n",
       "      <td>0.0392</td>\n",
       "      <td>12.1613</td>\n",
       "      <td>0.0088</td>\n",
       "      <td>2.7363</td>\n",
       "      <td>2.496450e+06</td>\n",
       "      <td>0.9251</td>\n",
       "      <td>2.4173</td>\n",
       "    </tr>\n",
       "    <tr>\n",
       "      <th>9</th>\n",
       "      <td>1</td>\n",
       "      <td>15</td>\n",
       "      <td>2001</td>\n",
       "      <td>108554.0</td>\n",
       "      <td>22263.0</td>\n",
       "      <td>241679.0</td>\n",
       "      <td>43421.6</td>\n",
       "      <td>2.7</td>\n",
       "      <td>0.1172</td>\n",
       "      <td>0.0123</td>\n",
       "      <td>...</td>\n",
       "      <td>0.0030</td>\n",
       "      <td>19.4166</td>\n",
       "      <td>3.4043</td>\n",
       "      <td>0.0511</td>\n",
       "      <td>15.8503</td>\n",
       "      <td>0.0115</td>\n",
       "      <td>3.5663</td>\n",
       "      <td>3.253729e+06</td>\n",
       "      <td>0.9422</td>\n",
       "      <td>2.4620</td>\n",
       "    </tr>\n",
       "    <tr>\n",
       "      <th>10</th>\n",
       "      <td>1</td>\n",
       "      <td>15</td>\n",
       "      <td>2002</td>\n",
       "      <td>119224.0</td>\n",
       "      <td>23877.0</td>\n",
       "      <td>284670.0</td>\n",
       "      <td>47689.6</td>\n",
       "      <td>2.7</td>\n",
       "      <td>0.1288</td>\n",
       "      <td>0.0123</td>\n",
       "      <td>...</td>\n",
       "      <td>0.0033</td>\n",
       "      <td>22.6715</td>\n",
       "      <td>3.7389</td>\n",
       "      <td>0.0597</td>\n",
       "      <td>18.5073</td>\n",
       "      <td>0.0134</td>\n",
       "      <td>4.1641</td>\n",
       "      <td>3.799155e+06</td>\n",
       "      <td>1.0349</td>\n",
       "      <td>2.7040</td>\n",
       "    </tr>\n",
       "    <tr>\n",
       "      <th>11</th>\n",
       "      <td>1</td>\n",
       "      <td>15</td>\n",
       "      <td>2003</td>\n",
       "      <td>126112.0</td>\n",
       "      <td>17183.0</td>\n",
       "      <td>216698.0</td>\n",
       "      <td>50444.8</td>\n",
       "      <td>2.7</td>\n",
       "      <td>0.1362</td>\n",
       "      <td>0.0122</td>\n",
       "      <td>...</td>\n",
       "      <td>0.0035</td>\n",
       "      <td>18.0728</td>\n",
       "      <td>3.9549</td>\n",
       "      <td>0.0476</td>\n",
       "      <td>14.7533</td>\n",
       "      <td>0.0107</td>\n",
       "      <td>3.3195</td>\n",
       "      <td>3.028532e+06</td>\n",
       "      <td>1.0947</td>\n",
       "      <td>2.8602</td>\n",
       "    </tr>\n",
       "    <tr>\n",
       "      <th>12</th>\n",
       "      <td>1</td>\n",
       "      <td>15</td>\n",
       "      <td>2004</td>\n",
       "      <td>124511.0</td>\n",
       "      <td>23416.0</td>\n",
       "      <td>291556.0</td>\n",
       "      <td>49804.4</td>\n",
       "      <td>2.7</td>\n",
       "      <td>0.1345</td>\n",
       "      <td>0.0123</td>\n",
       "      <td>...</td>\n",
       "      <td>0.0035</td>\n",
       "      <td>23.2752</td>\n",
       "      <td>3.9047</td>\n",
       "      <td>0.0613</td>\n",
       "      <td>19.0002</td>\n",
       "      <td>0.0138</td>\n",
       "      <td>4.2750</td>\n",
       "      <td>3.900333e+06</td>\n",
       "      <td>1.0808</td>\n",
       "      <td>2.8239</td>\n",
       "    </tr>\n",
       "    <tr>\n",
       "      <th>13</th>\n",
       "      <td>1</td>\n",
       "      <td>15</td>\n",
       "      <td>2005</td>\n",
       "      <td>127574.0</td>\n",
       "      <td>20252.0</td>\n",
       "      <td>258361.0</td>\n",
       "      <td>51029.6</td>\n",
       "      <td>2.7</td>\n",
       "      <td>0.1378</td>\n",
       "      <td>0.0123</td>\n",
       "      <td>...</td>\n",
       "      <td>0.0036</td>\n",
       "      <td>21.0225</td>\n",
       "      <td>4.0007</td>\n",
       "      <td>0.0554</td>\n",
       "      <td>17.1612</td>\n",
       "      <td>0.0125</td>\n",
       "      <td>3.8613</td>\n",
       "      <td>3.522828e+06</td>\n",
       "      <td>1.1073</td>\n",
       "      <td>2.8934</td>\n",
       "    </tr>\n",
       "    <tr>\n",
       "      <th>14</th>\n",
       "      <td>1</td>\n",
       "      <td>15</td>\n",
       "      <td>2006</td>\n",
       "      <td>100188.0</td>\n",
       "      <td>14627.0</td>\n",
       "      <td>146544.0</td>\n",
       "      <td>40075.2</td>\n",
       "      <td>2.7</td>\n",
       "      <td>0.1082</td>\n",
       "      <td>0.0122</td>\n",
       "      <td>...</td>\n",
       "      <td>0.0028</td>\n",
       "      <td>12.5653</td>\n",
       "      <td>3.1419</td>\n",
       "      <td>0.0331</td>\n",
       "      <td>10.2574</td>\n",
       "      <td>0.0074</td>\n",
       "      <td>2.3079</td>\n",
       "      <td>2.105620e+06</td>\n",
       "      <td>0.8696</td>\n",
       "      <td>2.2723</td>\n",
       "    </tr>\n",
       "    <tr>\n",
       "      <th>15</th>\n",
       "      <td>1</td>\n",
       "      <td>15</td>\n",
       "      <td>2007</td>\n",
       "      <td>98400.0</td>\n",
       "      <td>25837.0</td>\n",
       "      <td>254233.0</td>\n",
       "      <td>39360.0</td>\n",
       "      <td>2.7</td>\n",
       "      <td>0.1063</td>\n",
       "      <td>0.0123</td>\n",
       "      <td>...</td>\n",
       "      <td>0.0028</td>\n",
       "      <td>20.0613</td>\n",
       "      <td>3.0858</td>\n",
       "      <td>0.0528</td>\n",
       "      <td>16.3766</td>\n",
       "      <td>0.0119</td>\n",
       "      <td>3.6847</td>\n",
       "      <td>3.361762e+06</td>\n",
       "      <td>0.8541</td>\n",
       "      <td>2.2317</td>\n",
       "    </tr>\n",
       "    <tr>\n",
       "      <th>16</th>\n",
       "      <td>1</td>\n",
       "      <td>15</td>\n",
       "      <td>2008</td>\n",
       "      <td>92810.0</td>\n",
       "      <td>24322.0</td>\n",
       "      <td>225734.0</td>\n",
       "      <td>37124.0</td>\n",
       "      <td>2.7</td>\n",
       "      <td>0.1002</td>\n",
       "      <td>0.0123</td>\n",
       "      <td>...</td>\n",
       "      <td>0.0026</td>\n",
       "      <td>17.9378</td>\n",
       "      <td>2.9105</td>\n",
       "      <td>0.0472</td>\n",
       "      <td>14.6431</td>\n",
       "      <td>0.0106</td>\n",
       "      <td>3.2947</td>\n",
       "      <td>3.005923e+06</td>\n",
       "      <td>0.8056</td>\n",
       "      <td>2.1049</td>\n",
       "    </tr>\n",
       "    <tr>\n",
       "      <th>17</th>\n",
       "      <td>1</td>\n",
       "      <td>15</td>\n",
       "      <td>2009</td>\n",
       "      <td>88530.0</td>\n",
       "      <td>22374.0</td>\n",
       "      <td>198080.0</td>\n",
       "      <td>35412.0</td>\n",
       "      <td>2.7</td>\n",
       "      <td>0.0956</td>\n",
       "      <td>0.0123</td>\n",
       "      <td>...</td>\n",
       "      <td>0.0025</td>\n",
       "      <td>15.9037</td>\n",
       "      <td>2.7763</td>\n",
       "      <td>0.0419</td>\n",
       "      <td>12.9826</td>\n",
       "      <td>0.0094</td>\n",
       "      <td>2.9211</td>\n",
       "      <td>2.665053e+06</td>\n",
       "      <td>0.7684</td>\n",
       "      <td>2.0079</td>\n",
       "    </tr>\n",
       "    <tr>\n",
       "      <th>18</th>\n",
       "      <td>1</td>\n",
       "      <td>15</td>\n",
       "      <td>2010</td>\n",
       "      <td>86574.0</td>\n",
       "      <td>21192.0</td>\n",
       "      <td>183464.0</td>\n",
       "      <td>34629.6</td>\n",
       "      <td>2.7</td>\n",
       "      <td>0.0935</td>\n",
       "      <td>0.0123</td>\n",
       "      <td>...</td>\n",
       "      <td>0.0024</td>\n",
       "      <td>14.8356</td>\n",
       "      <td>2.7150</td>\n",
       "      <td>0.0391</td>\n",
       "      <td>12.1107</td>\n",
       "      <td>0.0088</td>\n",
       "      <td>2.7249</td>\n",
       "      <td>2.486074e+06</td>\n",
       "      <td>0.7515</td>\n",
       "      <td>1.9635</td>\n",
       "    </tr>\n",
       "    <tr>\n",
       "      <th>19</th>\n",
       "      <td>1</td>\n",
       "      <td>15</td>\n",
       "      <td>2011</td>\n",
       "      <td>77806.0</td>\n",
       "      <td>28800.0</td>\n",
       "      <td>224082.0</td>\n",
       "      <td>31122.4</td>\n",
       "      <td>2.7</td>\n",
       "      <td>0.0840</td>\n",
       "      <td>0.0123</td>\n",
       "      <td>...</td>\n",
       "      <td>0.0022</td>\n",
       "      <td>17.4765</td>\n",
       "      <td>2.4400</td>\n",
       "      <td>0.0460</td>\n",
       "      <td>14.2665</td>\n",
       "      <td>0.0104</td>\n",
       "      <td>3.2100</td>\n",
       "      <td>2.928612e+06</td>\n",
       "      <td>0.6754</td>\n",
       "      <td>1.7646</td>\n",
       "    </tr>\n",
       "    <tr>\n",
       "      <th>20</th>\n",
       "      <td>1</td>\n",
       "      <td>15</td>\n",
       "      <td>2012</td>\n",
       "      <td>93476.0</td>\n",
       "      <td>26010.0</td>\n",
       "      <td>243130.0</td>\n",
       "      <td>37390.4</td>\n",
       "      <td>2.7</td>\n",
       "      <td>0.1010</td>\n",
       "      <td>0.0123</td>\n",
       "      <td>...</td>\n",
       "      <td>0.0026</td>\n",
       "      <td>19.1707</td>\n",
       "      <td>2.9314</td>\n",
       "      <td>0.0505</td>\n",
       "      <td>15.6496</td>\n",
       "      <td>0.0114</td>\n",
       "      <td>3.5212</td>\n",
       "      <td>3.212526e+06</td>\n",
       "      <td>0.8114</td>\n",
       "      <td>2.1200</td>\n",
       "    </tr>\n",
       "    <tr>\n",
       "      <th>21</th>\n",
       "      <td>1</td>\n",
       "      <td>15</td>\n",
       "      <td>2013</td>\n",
       "      <td>99626.0</td>\n",
       "      <td>31273.0</td>\n",
       "      <td>311558.0</td>\n",
       "      <td>39850.4</td>\n",
       "      <td>2.7</td>\n",
       "      <td>0.1076</td>\n",
       "      <td>0.0123</td>\n",
       "      <td>...</td>\n",
       "      <td>0.0028</td>\n",
       "      <td>24.1018</td>\n",
       "      <td>3.1243</td>\n",
       "      <td>0.0635</td>\n",
       "      <td>19.6749</td>\n",
       "      <td>0.0143</td>\n",
       "      <td>4.4269</td>\n",
       "      <td>4.038841e+06</td>\n",
       "      <td>0.8648</td>\n",
       "      <td>2.2595</td>\n",
       "    </tr>\n",
       "    <tr>\n",
       "      <th>22</th>\n",
       "      <td>1</td>\n",
       "      <td>15</td>\n",
       "      <td>2014</td>\n",
       "      <td>104823.0</td>\n",
       "      <td>32260.0</td>\n",
       "      <td>338158.0</td>\n",
       "      <td>41929.2</td>\n",
       "      <td>2.7</td>\n",
       "      <td>0.1132</td>\n",
       "      <td>0.0123</td>\n",
       "      <td>...</td>\n",
       "      <td>0.0029</td>\n",
       "      <td>26.0833</td>\n",
       "      <td>3.2872</td>\n",
       "      <td>0.0687</td>\n",
       "      <td>21.2925</td>\n",
       "      <td>0.0155</td>\n",
       "      <td>4.7908</td>\n",
       "      <td>4.370890e+06</td>\n",
       "      <td>0.9099</td>\n",
       "      <td>2.3774</td>\n",
       "    </tr>\n",
       "    <tr>\n",
       "      <th>23</th>\n",
       "      <td>1</td>\n",
       "      <td>15</td>\n",
       "      <td>2015</td>\n",
       "      <td>108485.0</td>\n",
       "      <td>33437.0</td>\n",
       "      <td>362746.0</td>\n",
       "      <td>43394.0</td>\n",
       "      <td>2.7</td>\n",
       "      <td>0.1172</td>\n",
       "      <td>0.0123</td>\n",
       "      <td>...</td>\n",
       "      <td>0.0030</td>\n",
       "      <td>27.8886</td>\n",
       "      <td>3.4021</td>\n",
       "      <td>0.0734</td>\n",
       "      <td>22.7662</td>\n",
       "      <td>0.0165</td>\n",
       "      <td>5.1224</td>\n",
       "      <td>4.673415e+06</td>\n",
       "      <td>0.9416</td>\n",
       "      <td>2.4604</td>\n",
       "    </tr>\n",
       "    <tr>\n",
       "      <th>24</th>\n",
       "      <td>1</td>\n",
       "      <td>15</td>\n",
       "      <td>2016</td>\n",
       "      <td>108049.0</td>\n",
       "      <td>32427.0</td>\n",
       "      <td>350369.0</td>\n",
       "      <td>43219.6</td>\n",
       "      <td>2.7</td>\n",
       "      <td>0.1167</td>\n",
       "      <td>0.0122</td>\n",
       "      <td>...</td>\n",
       "      <td>0.0030</td>\n",
       "      <td>27.0123</td>\n",
       "      <td>3.3884</td>\n",
       "      <td>0.0711</td>\n",
       "      <td>22.0508</td>\n",
       "      <td>0.0160</td>\n",
       "      <td>4.9614</td>\n",
       "      <td>4.526566e+06</td>\n",
       "      <td>0.9379</td>\n",
       "      <td>2.4506</td>\n",
       "    </tr>\n",
       "    <tr>\n",
       "      <th>25</th>\n",
       "      <td>1</td>\n",
       "      <td>15</td>\n",
       "      <td>2017</td>\n",
       "      <td>80992.0</td>\n",
       "      <td>21783.0</td>\n",
       "      <td>176428.0</td>\n",
       "      <td>32396.8</td>\n",
       "      <td>2.7</td>\n",
       "      <td>0.0875</td>\n",
       "      <td>0.0122</td>\n",
       "      <td>...</td>\n",
       "      <td>0.0023</td>\n",
       "      <td>14.2146</td>\n",
       "      <td>2.5399</td>\n",
       "      <td>0.0374</td>\n",
       "      <td>11.6037</td>\n",
       "      <td>0.0084</td>\n",
       "      <td>2.6108</td>\n",
       "      <td>2.381997e+06</td>\n",
       "      <td>0.7030</td>\n",
       "      <td>1.8369</td>\n",
       "    </tr>\n",
       "  </tbody>\n",
       "</table>\n",
       "<p>26 rows × 22 columns</p>\n",
       "</div>"
      ],
      "text/plain": [
       "elementcode  areacode  itemcode  year      5312     5419      5510     7245  \\\n",
       "0                   1        15  1992   65500.0  21600.0  141483.0  26200.0   \n",
       "1                   1        15  1993   97900.0  22257.0  217900.0  39160.0   \n",
       "2                   1        15  1994   85697.0  17842.0  152900.0  34278.8   \n",
       "3                   1        15  1995   60362.0  25480.0  153800.0  24144.8   \n",
       "4                   1        15  1996   85450.0  23569.0  201400.0  34180.0   \n",
       "5                   1        15  1997  108000.0  17009.0  183700.0  43200.0   \n",
       "6                   1        15  1998  118300.0  20651.0  244300.0  47320.0   \n",
       "7                   1        15  1999  110129.0  19466.0  214380.0  44051.6   \n",
       "8                   1        15  2000  106581.0  16679.0  177762.0  42632.4   \n",
       "9                   1        15  2001  108554.0  22263.0  241679.0  43421.6   \n",
       "10                  1        15  2002  119224.0  23877.0  284670.0  47689.6   \n",
       "11                  1        15  2003  126112.0  17183.0  216698.0  50444.8   \n",
       "12                  1        15  2004  124511.0  23416.0  291556.0  49804.4   \n",
       "13                  1        15  2005  127574.0  20252.0  258361.0  51029.6   \n",
       "14                  1        15  2006  100188.0  14627.0  146544.0  40075.2   \n",
       "15                  1        15  2007   98400.0  25837.0  254233.0  39360.0   \n",
       "16                  1        15  2008   92810.0  24322.0  225734.0  37124.0   \n",
       "17                  1        15  2009   88530.0  22374.0  198080.0  35412.0   \n",
       "18                  1        15  2010   86574.0  21192.0  183464.0  34629.6   \n",
       "19                  1        15  2011   77806.0  28800.0  224082.0  31122.4   \n",
       "20                  1        15  2012   93476.0  26010.0  243130.0  37390.4   \n",
       "21                  1        15  2013   99626.0  31273.0  311558.0  39850.4   \n",
       "22                  1        15  2014  104823.0  32260.0  338158.0  41929.2   \n",
       "23                  1        15  2015  108485.0  33437.0  362746.0  43394.0   \n",
       "24                  1        15  2016  108049.0  32427.0  350369.0  43219.6   \n",
       "25                  1        15  2017   80992.0  21783.0  176428.0  32396.8   \n",
       "\n",
       "elementcode  72247   72257   72292  ...   72307    72312   72317   72342  \\\n",
       "0              2.7  0.0707  0.0122  ...  0.0018  11.4118  2.0541  0.0301   \n",
       "1              2.7  0.1057  0.0123  ...  0.0027  17.5068  3.0701  0.0461   \n",
       "2              2.7  0.0926  0.0123  ...  0.0024  12.6762  2.6875  0.0334   \n",
       "3              2.7  0.0652  0.0123  ...  0.0017  12.1555  1.8930  0.0320   \n",
       "4              2.7  0.0923  0.0123  ...  0.0024  16.0651  2.6797  0.0423   \n",
       "5              2.7  0.1166  0.0123  ...  0.0030  15.3459  3.3869  0.0404   \n",
       "6              2.7  0.1278  0.0123  ...  0.0033  19.8246  3.7099  0.0522   \n",
       "7              2.7  0.1189  0.0123  ...  0.0031  17.5422  3.4536  0.0462   \n",
       "8              2.7  0.1151  0.0123  ...  0.0030  14.8976  3.3424  0.0392   \n",
       "9              2.7  0.1172  0.0123  ...  0.0030  19.4166  3.4043  0.0511   \n",
       "10             2.7  0.1288  0.0123  ...  0.0033  22.6715  3.7389  0.0597   \n",
       "11             2.7  0.1362  0.0122  ...  0.0035  18.0728  3.9549  0.0476   \n",
       "12             2.7  0.1345  0.0123  ...  0.0035  23.2752  3.9047  0.0613   \n",
       "13             2.7  0.1378  0.0123  ...  0.0036  21.0225  4.0007  0.0554   \n",
       "14             2.7  0.1082  0.0122  ...  0.0028  12.5653  3.1419  0.0331   \n",
       "15             2.7  0.1063  0.0123  ...  0.0028  20.0613  3.0858  0.0528   \n",
       "16             2.7  0.1002  0.0123  ...  0.0026  17.9378  2.9105  0.0472   \n",
       "17             2.7  0.0956  0.0123  ...  0.0025  15.9037  2.7763  0.0419   \n",
       "18             2.7  0.0935  0.0123  ...  0.0024  14.8356  2.7150  0.0391   \n",
       "19             2.7  0.0840  0.0123  ...  0.0022  17.4765  2.4400  0.0460   \n",
       "20             2.7  0.1010  0.0123  ...  0.0026  19.1707  2.9314  0.0505   \n",
       "21             2.7  0.1076  0.0123  ...  0.0028  24.1018  3.1243  0.0635   \n",
       "22             2.7  0.1132  0.0123  ...  0.0029  26.0833  3.2872  0.0687   \n",
       "23             2.7  0.1172  0.0123  ...  0.0030  27.8886  3.4021  0.0734   \n",
       "24             2.7  0.1167  0.0122  ...  0.0030  27.0123  3.3884  0.0711   \n",
       "25             2.7  0.0875  0.0122  ...  0.0023  14.2146  2.5399  0.0374   \n",
       "\n",
       "elementcode    72352   72362   72372         72392   72437   72447  \n",
       "0             9.3157  0.0068  2.0960  1.912320e+06  0.5685  1.4855  \n",
       "1            14.2913  0.0104  3.2155  2.933695e+06  0.8498  2.2204  \n",
       "2            10.3480  0.0075  2.3283  2.124213e+06  0.7438  1.9436  \n",
       "3             9.9228  0.0072  2.2326  2.036943e+06  0.5239  1.3690  \n",
       "4            13.1144  0.0095  2.9507  2.692099e+06  0.7417  1.9380  \n",
       "5            12.5272  0.0091  2.8186  2.571574e+06  0.9374  2.4494  \n",
       "6            16.1834  0.0117  3.6413  3.322102e+06  1.0268  2.6830  \n",
       "7            14.3202  0.0104  3.2220  2.939630e+06  0.9559  2.4977  \n",
       "8            12.1613  0.0088  2.7363  2.496450e+06  0.9251  2.4173  \n",
       "9            15.8503  0.0115  3.5663  3.253729e+06  0.9422  2.4620  \n",
       "10           18.5073  0.0134  4.1641  3.799155e+06  1.0349  2.7040  \n",
       "11           14.7533  0.0107  3.3195  3.028532e+06  1.0947  2.8602  \n",
       "12           19.0002  0.0138  4.2750  3.900333e+06  1.0808  2.8239  \n",
       "13           17.1612  0.0125  3.8613  3.522828e+06  1.1073  2.8934  \n",
       "14           10.2574  0.0074  2.3079  2.105620e+06  0.8696  2.2723  \n",
       "15           16.3766  0.0119  3.6847  3.361762e+06  0.8541  2.2317  \n",
       "16           14.6431  0.0106  3.2947  3.005923e+06  0.8056  2.1049  \n",
       "17           12.9826  0.0094  2.9211  2.665053e+06  0.7684  2.0079  \n",
       "18           12.1107  0.0088  2.7249  2.486074e+06  0.7515  1.9635  \n",
       "19           14.2665  0.0104  3.2100  2.928612e+06  0.6754  1.7646  \n",
       "20           15.6496  0.0114  3.5212  3.212526e+06  0.8114  2.1200  \n",
       "21           19.6749  0.0143  4.4269  4.038841e+06  0.8648  2.2595  \n",
       "22           21.2925  0.0155  4.7908  4.370890e+06  0.9099  2.3774  \n",
       "23           22.7662  0.0165  5.1224  4.673415e+06  0.9416  2.4604  \n",
       "24           22.0508  0.0160  4.9614  4.526566e+06  0.9379  2.4506  \n",
       "25           11.6037  0.0084  2.6108  2.381997e+06  0.7030  1.8369  \n",
       "\n",
       "[26 rows x 22 columns]"
      ]
     },
     "execution_count": 148,
     "metadata": {},
     "output_type": "execute_result"
    }
   ],
   "source": [
    "reshaped_df[(reshaped_df.itemcode == 15) & (reshaped_df.areacode == 1)].dropna(axis=1, how='all')"
   ]
  },
  {
   "cell_type": "code",
   "execution_count": 152,
   "metadata": {},
   "outputs": [],
   "source": [
    "t = reshaped_df.groupby(['itemcode', 'areacode']).apply(lambda x: pd.Series({'years': x['year'].tolist(), 'cols': x.drop(columns=['areacode', 'itemcode', 'year']).dropna(axis=1, how='all').columns.tolist()}))"
   ]
  },
  {
   "cell_type": "code",
   "execution_count": 155,
   "metadata": {},
   "outputs": [
    {
     "data": {
      "text/plain": [
       "count    42548.000000\n",
       "mean        42.023409\n",
       "std         16.466761\n",
       "min         10.000000\n",
       "25%         26.000000\n",
       "50%         51.000000\n",
       "75%         57.000000\n",
       "max         70.000000\n",
       "Name: years, dtype: float64"
      ]
     },
     "execution_count": 155,
     "metadata": {},
     "output_type": "execute_result"
    }
   ],
   "source": [
    "t.years.apply(len).describe()"
   ]
  },
  {
   "cell_type": "code",
   "execution_count": 132,
   "metadata": {},
   "outputs": [
    {
     "data": {
      "text/html": [
       "<div>\n",
       "<style scoped>\n",
       "    .dataframe tbody tr th:only-of-type {\n",
       "        vertical-align: middle;\n",
       "    }\n",
       "\n",
       "    .dataframe tbody tr th {\n",
       "        vertical-align: top;\n",
       "    }\n",
       "\n",
       "    .dataframe thead th {\n",
       "        text-align: right;\n",
       "    }\n",
       "</style>\n",
       "<table border=\"1\" class=\"dataframe\">\n",
       "  <thead>\n",
       "    <tr style=\"text-align: right;\">\n",
       "      <th>elementcode</th>\n",
       "      <th>itemcode</th>\n",
       "      <th>areacode</th>\n",
       "    </tr>\n",
       "  </thead>\n",
       "  <tbody>\n",
       "    <tr>\n",
       "      <th>0</th>\n",
       "      <td>15</td>\n",
       "      <td>1</td>\n",
       "    </tr>\n",
       "    <tr>\n",
       "      <th>28</th>\n",
       "      <td>44</td>\n",
       "      <td>1</td>\n",
       "    </tr>\n",
       "    <tr>\n",
       "      <th>56</th>\n",
       "      <td>56</td>\n",
       "      <td>1</td>\n",
       "    </tr>\n",
       "    <tr>\n",
       "      <th>84</th>\n",
       "      <td>71</td>\n",
       "      <td>1</td>\n",
       "    </tr>\n",
       "    <tr>\n",
       "      <th>112</th>\n",
       "      <td>75</td>\n",
       "      <td>1</td>\n",
       "    </tr>\n",
       "    <tr>\n",
       "      <th>...</th>\n",
       "      <td>...</td>\n",
       "      <td>...</td>\n",
       "    </tr>\n",
       "    <tr>\n",
       "      <th>1842741</th>\n",
       "      <td>6808</td>\n",
       "      <td>351</td>\n",
       "    </tr>\n",
       "    <tr>\n",
       "      <th>1842772</th>\n",
       "      <td>6809</td>\n",
       "      <td>351</td>\n",
       "    </tr>\n",
       "    <tr>\n",
       "      <th>1842799</th>\n",
       "      <td>6810</td>\n",
       "      <td>351</td>\n",
       "    </tr>\n",
       "    <tr>\n",
       "      <th>1842841</th>\n",
       "      <td>6811</td>\n",
       "      <td>351</td>\n",
       "    </tr>\n",
       "    <tr>\n",
       "      <th>1842883</th>\n",
       "      <td>6813</td>\n",
       "      <td>351</td>\n",
       "    </tr>\n",
       "  </tbody>\n",
       "</table>\n",
       "<p>42548 rows × 2 columns</p>\n",
       "</div>"
      ],
      "text/plain": [
       "elementcode  itemcode  areacode\n",
       "0                  15         1\n",
       "28                 44         1\n",
       "56                 56         1\n",
       "84                 71         1\n",
       "112                75         1\n",
       "...               ...       ...\n",
       "1842741          6808       351\n",
       "1842772          6809       351\n",
       "1842799          6810       351\n",
       "1842841          6811       351\n",
       "1842883          6813       351\n",
       "\n",
       "[42548 rows x 2 columns]"
      ]
     },
     "execution_count": 132,
     "metadata": {},
     "output_type": "execute_result"
    }
   ],
   "source": [
    "reshaped_df[['itemcode', 'areacode']].drop_duplicates()"
   ]
  },
  {
   "cell_type": "code",
   "execution_count": 97,
   "metadata": {},
   "outputs": [
    {
     "data": {
      "text/plain": [
       "155325    160.0\n",
       "155326    160.0\n",
       "155327    160.0\n",
       "155328    160.0\n",
       "155329    160.0\n",
       "155330    190.0\n",
       "155331    190.0\n",
       "155332    190.0\n",
       "155333    300.0\n",
       "155334    190.0\n",
       "155335    200.0\n",
       "155336    200.0\n",
       "155337    250.0\n",
       "155338    270.0\n",
       "155339    270.0\n",
       "155340    270.0\n",
       "155341    300.0\n",
       "155342    300.0\n",
       "155343    300.0\n",
       "155344    300.0\n",
       "155345    500.0\n",
       "155346    500.0\n",
       "155347    500.0\n",
       "155348    500.0\n",
       "155349    500.0\n",
       "155350    500.0\n",
       "155351    500.0\n",
       "155352    500.0\n",
       "155353    500.0\n",
       "155354    382.0\n",
       "155355    674.0\n",
       "155356    233.0\n",
       "155357    423.0\n",
       "155358    503.0\n",
       "155359    471.0\n",
       "155360    371.0\n",
       "155361    363.0\n",
       "155362    300.0\n",
       "155363    299.0\n",
       "155364    274.0\n",
       "155365    350.0\n",
       "155366    231.0\n",
       "155367    215.0\n",
       "155368    205.0\n",
       "155369    187.0\n",
       "155370    179.0\n",
       "155371     80.0\n",
       "155372    130.0\n",
       "155373      0.0\n",
       "155374      0.0\n",
       "155375      0.0\n",
       "155376      0.0\n",
       "155377      0.0\n",
       "155378      NaN\n",
       "155379      NaN\n",
       "155380      NaN\n",
       "155381      NaN\n",
       "Name: 5312, dtype: float64"
      ]
     },
     "execution_count": 97,
     "metadata": {},
     "output_type": "execute_result"
    }
   ],
   "source": [
    "reshaped_df[(reshaped_df.itemcode == 15) & (reshaped_df.areacode == 20)][5312]"
   ]
  },
  {
   "cell_type": "code",
   "execution_count": null,
   "metadata": {},
   "outputs": [],
   "source": []
  }
 ],
 "metadata": {
  "kernelspec": {
   "display_name": "Python (ADA)",
   "language": "python",
   "name": "ada"
  },
  "language_info": {
   "codemirror_mode": {
    "name": "ipython",
    "version": 3
   },
   "file_extension": ".py",
   "mimetype": "text/x-python",
   "name": "python",
   "nbconvert_exporter": "python",
   "pygments_lexer": "ipython3",
   "version": "3.7.4"
  }
 },
 "nbformat": 4,
 "nbformat_minor": 2
}
