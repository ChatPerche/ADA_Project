{
 "cells": [
  {
   "cell_type": "markdown",
   "metadata": {},
   "source": [
    "# Environmental Impact of Agricultural Practices in the World\n",
    "\n",
    "**ADA Project Milestone 2**\n",
    "\n",
    "This notebook consists of our initial Data Analysis of the FAOSTAT dataset on Food an agriculture. We will first study the contents of the data and its strucuture, before restructuring it in order to start our analysis. Also, some research questions initially asked will be answered by the end of this notebook."
   ]
  },
  {
   "cell_type": "markdown",
   "metadata": {},
   "source": [
    "## A. Initial Analysis"
   ]
  },
  {
   "cell_type": "markdown",
   "metadata": {},
   "source": [
    "The dataset initially contained 78 csv files, but some of them were discarded as they will not be useful for our analysis. We have selected 43 CSVs that would help us with our analysis."
   ]
  },
  {
   "cell_type": "code",
   "execution_count": 1,
   "metadata": {},
   "outputs": [],
   "source": [
    "from glob import glob\n",
    "import pandas as pd\n",
    "import numpy as np\n",
    "\n",
    "%load_ext autoreload\n",
    "%autoreload 2"
   ]
  },
  {
   "cell_type": "code",
   "execution_count": 2,
   "metadata": {},
   "outputs": [
    {
     "data": {
      "text/plain": [
       "43"
      ]
     },
     "execution_count": 2,
     "metadata": {},
     "output_type": "execute_result"
    }
   ],
   "source": [
    "csv_files = glob('data/**/**.csv')\n",
    "len(csv_files)"
   ]
  },
  {
   "cell_type": "markdown",
   "metadata": {},
   "source": [
    "We split those 43 csv into different directories, one for each group of csv. Each group corresponds to one category:\n",
    "```.\n",
    "+-- data/\n",
    "|   +-- emissions_agriculture/\n",
    "|      +-- ...\n",
    "|   +-- emissions_land/\n",
    "|      +-- ...\n",
    "|   +-- environment/\n",
    "|      +-- ...\n",
    "|   +-- forestry/\n",
    "|      +-- ...\n",
    "|   +-- inputs/\n",
    "|      +-- ...\n",
    "|   +-- population/\n",
    "|      +-- ...\n",
    "|   +-- production/\n",
    "|      +-- ...\n",
    "```"
   ]
  },
  {
   "cell_type": "markdown",
   "metadata": {},
   "source": [
    "---\n",
    "### A.1 Schema consistency\n",
    "---\n",
    "\n",
    "We will first study the schemas of all the csv files we have in order to see if they are consistent or require changes"
   ]
  },
  {
   "cell_type": "markdown",
   "metadata": {},
   "source": [
    "#### 1. Checking column names across whole dataset\n",
    "---"
   ]
  },
  {
   "cell_type": "markdown",
   "metadata": {},
   "source": [
    "Now, let's scan all the csv files and check their schemas."
   ]
  },
  {
   "cell_type": "code",
   "execution_count": 1,
   "metadata": {},
   "outputs": [
    {
     "ename": "NameError",
     "evalue": "name 'csv_files' is not defined",
     "output_type": "error",
     "traceback": [
      "\u001b[0;31m---------------------------------------------------------------------------\u001b[0m",
      "\u001b[0;31mNameError\u001b[0m                                 Traceback (most recent call last)",
      "\u001b[0;32m<ipython-input-1-984a285ad20b>\u001b[0m in \u001b[0;36m<module>\u001b[0;34m\u001b[0m\n\u001b[1;32m      1\u001b[0m \u001b[0;32mfrom\u001b[0m \u001b[0mdata_processing\u001b[0m \u001b[0;32mimport\u001b[0m \u001b[0mscan_columns\u001b[0m\u001b[0;34m\u001b[0m\u001b[0;34m\u001b[0m\u001b[0m\n\u001b[0;32m----> 2\u001b[0;31m \u001b[0mall_columns\u001b[0m \u001b[0;34m=\u001b[0m \u001b[0mscan_columns\u001b[0m\u001b[0;34m(\u001b[0m\u001b[0mcsv_files\u001b[0m\u001b[0;34m)\u001b[0m\u001b[0;34m\u001b[0m\u001b[0;34m\u001b[0m\u001b[0m\n\u001b[0m\u001b[1;32m      3\u001b[0m \u001b[0mprint\u001b[0m\u001b[0;34m(\u001b[0m\u001b[0;34m\"The found columns, grouped, are:\\n\"\u001b[0m\u001b[0;34m)\u001b[0m\u001b[0;34m\u001b[0m\u001b[0;34m\u001b[0m\u001b[0m\n\u001b[1;32m      4\u001b[0m \u001b[0;32mfor\u001b[0m \u001b[0mcols\u001b[0m\u001b[0;34m,\u001b[0m \u001b[0mf\u001b[0m \u001b[0;32min\u001b[0m \u001b[0mall_columns\u001b[0m\u001b[0;34m:\u001b[0m\u001b[0;34m\u001b[0m\u001b[0;34m\u001b[0m\u001b[0m\n\u001b[1;32m      5\u001b[0m     \u001b[0mprint\u001b[0m\u001b[0;34m(\u001b[0m\u001b[0mlist\u001b[0m\u001b[0;34m(\u001b[0m\u001b[0msorted\u001b[0m\u001b[0;34m(\u001b[0m\u001b[0mcols\u001b[0m\u001b[0;34m)\u001b[0m\u001b[0;34m)\u001b[0m\u001b[0;34m,\u001b[0m \u001b[0;34mf\"Num files {len(f)}\"\u001b[0m\u001b[0;34m)\u001b[0m\u001b[0;34m\u001b[0m\u001b[0;34m\u001b[0m\u001b[0m\n",
      "\u001b[0;31mNameError\u001b[0m: name 'csv_files' is not defined"
     ]
    }
   ],
   "source": [
    "from data_processing import scan_columns\n",
    "all_columns = scan_columns(csv_files)\n",
    "print(\"The found columns, grouped, are:\\n\")\n",
    "for cols, f in all_columns:\n",
    "    print(list(sorted(cols)), f\"Num files {len(f)}\")"
   ]
  },
  {
   "cell_type": "markdown",
   "metadata": {},
   "source": [
    "As we can see, sometimes the columns `area` and `areacode` are named `country` and `countrycode`, only because some csv files only contain country data, without country groups. We will rename those as to have a unified schema. Also, some files have the `note`, `elementgroup` and `months` columns. We will look into those in subsequent steps as we are now simply checking whether column naming is consistent.\n",
    "\n",
    "In order to obtain a more consistent column naming, we will rename `country` to `area` and `countrycode` to `areacode`."
   ]
  },
  {
   "cell_type": "code",
   "execution_count": 4,
   "metadata": {},
   "outputs": [],
   "source": [
    "column_rename = {'country': 'area', 'countrycode': 'areacode'}"
   ]
  },
  {
   "cell_type": "code",
   "execution_count": 5,
   "metadata": {},
   "outputs": [
    {
     "name": "stdout",
     "output_type": "stream",
     "text": [
      "After renaming, we obtain the following columns:\n",
      "\n",
      "['area', 'areacode', 'element', 'elementcode', 'flag', 'item', 'itemcode', 'unit', 'value', 'year', 'yearcode'] Num files 34\n",
      "['area', 'areacode', 'element', 'elementcode', 'elementgroup', 'flag', 'item', 'itemcode', 'unit', 'value', 'year'] Num files 4\n",
      "['area', 'areacode', 'element', 'elementcode', 'flag', 'months', 'monthscode', 'unit', 'value', 'year', 'yearcode'] Num files 1\n",
      "['area', 'areacode', 'element', 'elementcode', 'flag', 'item', 'itemcode', 'note', 'unit', 'value', 'year', 'yearcode'] Num files 4\n"
     ]
    }
   ],
   "source": [
    "all_columns_2 = scan_columns(csv_files, column_rename)\n",
    "print(f\"After renaming, we obtain the following columns:\\n\")\n",
    "for cols, f in all_columns_2:\n",
    "    print(list(sorted(cols)), f\"Num files {len(f)}\")"
   ]
  },
  {
   "cell_type": "markdown",
   "metadata": {},
   "source": [
    "#### 2. Checking which columns to drop\n",
    "---"
   ]
  },
  {
   "cell_type": "markdown",
   "metadata": {},
   "source": [
    "Now we have a few files that have different schemas. One column that we should look into before continuing is `note`, as it is in 4 files."
   ]
  },
  {
   "cell_type": "code",
   "execution_count": 6,
   "metadata": {},
   "outputs": [
    {
     "data": {
      "text/html": [
       "<div>\n",
       "<style scoped>\n",
       "    .dataframe tbody tr th:only-of-type {\n",
       "        vertical-align: middle;\n",
       "    }\n",
       "\n",
       "    .dataframe tbody tr th {\n",
       "        vertical-align: top;\n",
       "    }\n",
       "\n",
       "    .dataframe thead th {\n",
       "        text-align: right;\n",
       "    }\n",
       "</style>\n",
       "<table border=\"1\" class=\"dataframe\">\n",
       "  <thead>\n",
       "    <tr style=\"text-align: right;\">\n",
       "      <th></th>\n",
       "      <th>note</th>\n",
       "    </tr>\n",
       "  </thead>\n",
       "  <tbody>\n",
       "    <tr>\n",
       "      <th>0</th>\n",
       "      <td>NaN</td>\n",
       "    </tr>\n",
       "  </tbody>\n",
       "</table>\n",
       "</div>"
      ],
      "text/plain": [
       "   note\n",
       "0   NaN"
      ]
     },
     "execution_count": 6,
     "metadata": {},
     "output_type": "execute_result"
    }
   ],
   "source": [
    "from data_processing import get_column_unique_values\n",
    "\n",
    "files_with_note = all_columns_2[-1][1]\n",
    "note_values = get_column_unique_values(files_with_note, column_rename, None,['note'])\n",
    "note_values"
   ]
  },
  {
   "cell_type": "markdown",
   "metadata": {},
   "source": [
    "As we can see, all values for this column are NaN, so we can safely drop the column."
   ]
  },
  {
   "cell_type": "markdown",
   "metadata": {},
   "source": [
    "#### 3. Checking duplicate columns\n",
    "---\n",
    "\n",
    "We figured it would be useful to scan for duplicate columns in each dataframe (i.e. columns with different names but same values)"
   ]
  },
  {
   "cell_type": "code",
   "execution_count": 7,
   "metadata": {},
   "outputs": [
    {
     "name": "stdout",
     "output_type": "stream",
     "text": [
      "Duplicates for [('yearcode', 'year')] in 39 files\n",
      "Duplicates for [('elementgroup', 'elementcode')] in 3 files\n"
     ]
    }
   ],
   "source": [
    "from data_processing import scan_column_duplicates\n",
    "duplicates = scan_column_duplicates(csv_files, column_rename)\n",
    "for c, f in duplicates:\n",
    "    print(f\"Duplicates for {c} in {len(f)} files\")"
   ]
  },
  {
   "cell_type": "markdown",
   "metadata": {},
   "source": [
    "As we can see, most files have `year` and `yearcode` columns which are equal. Hence, we can safely drop this column. However, for `elementgroup` and `elementcode`, they are equal in almost all CSV where they appear (3/4), but not all, so we cannot safely drop it without checking. We choose to keep `elementcode` when those two are equal, and keep them both when they are not.\n",
    "\n",
    "Hence, we can define a list of columns to be checked and dropped; We drop them if they fulfill any of the following conditions:\n",
    " - NaN in all rows\n",
    " - Duplicate with another column"
   ]
  },
  {
   "cell_type": "code",
   "execution_count": 8,
   "metadata": {},
   "outputs": [
    {
     "name": "stdout",
     "output_type": "stream",
     "text": [
      "After renaming and dropping columns, we obtain the following columns:\n",
      "\n",
      "['area', 'areacode', 'element', 'elementcode', 'flag', 'item', 'itemcode', 'unit', 'value', 'year'] Num files 41\n",
      "['area', 'areacode', 'element', 'elementcode', 'elementgroup', 'flag', 'item', 'itemcode', 'unit', 'value', 'year'] Num files 1\n",
      "['area', 'areacode', 'element', 'elementcode', 'flag', 'months', 'monthscode', 'unit', 'value', 'year'] Num files 1\n"
     ]
    }
   ],
   "source": [
    "check_columns = [\"note\", \"yearcode\", \"elementgroup\"]\n",
    "all_columns_3 = scan_columns(csv_files, column_rename, check_columns)\n",
    "print(f\"After renaming and dropping columns, we obtain the following columns:\\n\")\n",
    "for cols, f in all_columns_3:\n",
    "    print(list(sorted(cols)), f\"Num files {len(f)}\")"
   ]
  },
  {
   "cell_type": "markdown",
   "metadata": {},
   "source": [
    "We now have 41 files with identical schemas, and 2 files that have a different one:\n",
    " - The file containing the `elementgroup` additional column, which refers to groups of `elements`\n",
    " - The file with monthly data and no `item` and `itemcode` columns\n",
    " \n",
    "To obtain the desired format, we can now call `load_dataframe(<file>, column_rename, drop_columns)` with `column_rename = {'country': 'area', 'countrycode': 'areacode'}` and `drop_columns = [\"note\", \"yearcode\", \"elementgroup\"]`"
   ]
  },
  {
   "cell_type": "markdown",
   "metadata": {},
   "source": [
    "---\n",
    "### A.2 Schema description\n",
    "\n",
    "---\n",
    "Now that we have a unified schema for (almost) all csv files, we can start looking into the meaning of each column and their possible value. "
   ]
  },
  {
   "cell_type": "markdown",
   "metadata": {},
   "source": [
    "#### 1. Area columns\n",
    "---\n",
    "We will first look into the columns `area` and `areacode`. According to FAOSTAT's website, each area is defined by a unique areacode, however some areas include other ones, i.e. there are grouped areas in the datasets. We would expect a one-to-one mapping between those two columns. Let's see how this looks like"
   ]
  },
  {
   "cell_type": "markdown",
   "metadata": {},
   "source": [
    "To verify that it is indeed a one-to-one mapping, we will append all values from all csv files, and drop duplicates. Then we group by area and see if the length of the group is 1."
   ]
  },
  {
   "cell_type": "code",
   "execution_count": 10,
   "metadata": {},
   "outputs": [
    {
     "data": {
      "text/plain": [
       "False"
      ]
     },
     "execution_count": 10,
     "metadata": {},
     "output_type": "execute_result"
    }
   ],
   "source": [
    "from utils import is_unique_mapping\n",
    "\n",
    "area_values = get_column_unique_values(csv_files, column_rename, check_columns, ['area', 'areacode'])\n",
    "is_unique_mapping(area_values, 'area', 'areacode')"
   ]
  },
  {
   "cell_type": "markdown",
   "metadata": {},
   "source": [
    "It seems that the mapping is not one-to-one. Let's look into why that is. First we group by `areacode` and aggregate to a list of `area` and then we do the inverse. This way, we can see how the mapping is."
   ]
  },
  {
   "cell_type": "code",
   "execution_count": 11,
   "metadata": {},
   "outputs": [
    {
     "data": {
      "text/plain": [
       "Series([], Name: areacode, dtype: object)"
      ]
     },
     "execution_count": 11,
     "metadata": {},
     "output_type": "execute_result"
    }
   ],
   "source": [
    "grpd = area_values.groupby('area')['areacode'].apply(list)\n",
    "grpd[grpd.apply(lambda x: len(x) > 1)]"
   ]
  },
  {
   "cell_type": "markdown",
   "metadata": {},
   "source": [
    "The mapping `area` -> `areacode` is unique, now for the opposite:"
   ]
  },
  {
   "cell_type": "code",
   "execution_count": 12,
   "metadata": {},
   "outputs": [
    {
     "data": {
      "text/plain": [
       "areacode\n",
       "35                               [Cabo Verde, Cape Verde]\n",
       "151     [Netherlands Antilles (former), Netherlands An...\n",
       "154     [The former Yugoslav Republic of Macedonia, No...\n",
       "167                             [Czechia, Czech Republic]\n",
       "209                                 [Eswatini, Swaziland]\n",
       "299           [Occupied Palestinian Territory, Palestine]\n",
       "5000                             [World, World + (Total)]\n",
       "5100                           [Africa, Africa + (Total)]\n",
       "5101           [Eastern Africa, Eastern Africa + (Total)]\n",
       "5102             [Middle Africa, Middle Africa + (Total)]\n",
       "5103         [Northern Africa, Northern Africa + (Total)]\n",
       "5104         [Southern Africa, Southern Africa + (Total)]\n",
       "5105           [Western Africa, Western Africa + (Total)]\n",
       "5200                       [Americas, Americas + (Total)]\n",
       "5203       [Northern America, Northern America + (Total)]\n",
       "5204         [Central America, Central America + (Total)]\n",
       "5206                     [Caribbean, Caribbean + (Total)]\n",
       "5207             [South America, South America + (Total)]\n",
       "5300                               [Asia, Asia + (Total)]\n",
       "5301               [Central Asia, Central Asia + (Total)]\n",
       "5302               [Eastern Asia, Eastern Asia + (Total)]\n",
       "5303             [Southern Asia, Southern Asia + (Total)]\n",
       "5304    [South-Eastern Asia, South-Eastern Asia + (Tot...\n",
       "5305               [Western Asia, Western Asia + (Total)]\n",
       "5400                           [Europe, Europe + (Total)]\n",
       "5401           [Eastern Europe, Eastern Europe + (Total)]\n",
       "5402         [Northern Europe, Northern Europe + (Total)]\n",
       "5403         [Southern Europe, Southern Europe + (Total)]\n",
       "5404           [Western Europe, Western Europe + (Total)]\n",
       "5500                         [Oceania, Oceania + (Total)]\n",
       "5501    [Australia & New Zealand, Australia and New Ze...\n",
       "5502                     [Melanesia, Melanesia + (Total)]\n",
       "5504                     [Polynesia, Polynesia + (Total)]\n",
       "5706           [European Union, European Union + (Total)]\n",
       "5801    [Least Developed Countries, Least Developed Co...\n",
       "5802    [Land Locked Developing Countries, LandLocked ...\n",
       "5803    [Small Island Developing States, Small Island ...\n",
       "5815    [Low Income Food Deficit Countries, Low Income...\n",
       "5817    [Net Food Importing Developing Countries, Net ...\n",
       "Name: area, dtype: object"
      ]
     },
     "execution_count": 12,
     "metadata": {},
     "output_type": "execute_result"
    }
   ],
   "source": [
    "grpd = area_values.groupby('areacode')['area'].apply(list)\n",
    "grpd[grpd.apply(lambda x: len(x) > 1)]"
   ]
  },
  {
   "cell_type": "markdown",
   "metadata": {},
   "source": [
    "It seems that the same `areacode` is sometimes mapped to multiple `area`, most of the time by adding \"+ (Total)\". For that, we could drop the `area` column and keep working with `areacode`.\n",
    "\n",
    "However, we still need a fixed database that maps the `areacode` to `area`, and for this, FAOSTAT provides one CSV file containing the mapping, as well as another one containing a description of country groups (i.e. \"Asia\") and which contries they contain."
   ]
  },
  {
   "cell_type": "code",
   "execution_count": 14,
   "metadata": {},
   "outputs": [
    {
     "data": {
      "text/html": [
       "<div>\n",
       "<style scoped>\n",
       "    .dataframe tbody tr th:only-of-type {\n",
       "        vertical-align: middle;\n",
       "    }\n",
       "\n",
       "    .dataframe tbody tr th {\n",
       "        vertical-align: top;\n",
       "    }\n",
       "\n",
       "    .dataframe thead th {\n",
       "        text-align: right;\n",
       "    }\n",
       "</style>\n",
       "<table border=\"1\" class=\"dataframe\">\n",
       "  <thead>\n",
       "    <tr style=\"text-align: right;\">\n",
       "      <th></th>\n",
       "      <th>countrycode</th>\n",
       "      <th>country</th>\n",
       "      <th>m49code</th>\n",
       "      <th>iso2code</th>\n",
       "      <th>iso3code</th>\n",
       "      <th>startyear</th>\n",
       "      <th>endyear</th>\n",
       "    </tr>\n",
       "  </thead>\n",
       "  <tbody>\n",
       "    <tr>\n",
       "      <th>0</th>\n",
       "      <td>2</td>\n",
       "      <td>Afghanistan</td>\n",
       "      <td>4.0</td>\n",
       "      <td>AF</td>\n",
       "      <td>AFG</td>\n",
       "      <td>NaN</td>\n",
       "      <td>NaN</td>\n",
       "    </tr>\n",
       "    <tr>\n",
       "      <th>1</th>\n",
       "      <td>5100</td>\n",
       "      <td>Africa</td>\n",
       "      <td>2.0</td>\n",
       "      <td>NaN</td>\n",
       "      <td>X06</td>\n",
       "      <td>NaN</td>\n",
       "      <td>NaN</td>\n",
       "    </tr>\n",
       "    <tr>\n",
       "      <th>2</th>\n",
       "      <td>284</td>\n",
       "      <td>Ã",
       "land Islands</td>\n",
       "      <td>248.0</td>\n",
       "      <td>NaN</td>\n",
       "      <td>ALA</td>\n",
       "      <td>NaN</td>\n",
       "      <td>NaN</td>\n",
       "    </tr>\n",
       "    <tr>\n",
       "      <th>3</th>\n",
       "      <td>3</td>\n",
       "      <td>Albania</td>\n",
       "      <td>8.0</td>\n",
       "      <td>AL</td>\n",
       "      <td>ALB</td>\n",
       "      <td>NaN</td>\n",
       "      <td>NaN</td>\n",
       "    </tr>\n",
       "    <tr>\n",
       "      <th>4</th>\n",
       "      <td>4</td>\n",
       "      <td>Algeria</td>\n",
       "      <td>12.0</td>\n",
       "      <td>DZ</td>\n",
       "      <td>DZA</td>\n",
       "      <td>NaN</td>\n",
       "      <td>NaN</td>\n",
       "    </tr>\n",
       "  </tbody>\n",
       "</table>\n",
       "</div>"
      ],
      "text/plain": [
       "   countrycode         country  m49code iso2code iso3code  startyear  endyear\n",
       "0            2     Afghanistan      4.0       AF      AFG        NaN      NaN\n",
       "1         5100          Africa      2.0      NaN      X06        NaN      NaN\n",
       "2          284  Ã\n",
       "land Islands    248.0      NaN      ALA        NaN      NaN\n",
       "3            3         Albania      8.0       AL      ALB        NaN      NaN\n",
       "4            4         Algeria     12.0       DZ      DZA        NaN      NaN"
      ]
     },
     "execution_count": 14,
     "metadata": {},
     "output_type": "execute_result"
    }
   ],
   "source": [
    "from data_processing import load_dataframe\n",
    "area_codes = load_dataframe('data/countries.csv')\n",
    "area_codes.head()"
   ]
  },
  {
   "cell_type": "code",
   "execution_count": 15,
   "metadata": {},
   "outputs": [
    {
     "data": {
      "text/html": [
       "<div>\n",
       "<style scoped>\n",
       "    .dataframe tbody tr th:only-of-type {\n",
       "        vertical-align: middle;\n",
       "    }\n",
       "\n",
       "    .dataframe tbody tr th {\n",
       "        vertical-align: top;\n",
       "    }\n",
       "\n",
       "    .dataframe thead th {\n",
       "        text-align: right;\n",
       "    }\n",
       "</style>\n",
       "<table border=\"1\" class=\"dataframe\">\n",
       "  <thead>\n",
       "    <tr style=\"text-align: right;\">\n",
       "      <th></th>\n",
       "      <th>countrygroupcode</th>\n",
       "      <th>countrygroup</th>\n",
       "      <th>countrycode</th>\n",
       "      <th>country</th>\n",
       "      <th>m49code</th>\n",
       "      <th>iso2code</th>\n",
       "      <th>iso3code</th>\n",
       "    </tr>\n",
       "  </thead>\n",
       "  <tbody>\n",
       "    <tr>\n",
       "      <th>0</th>\n",
       "      <td>5100</td>\n",
       "      <td>Africa</td>\n",
       "      <td>4</td>\n",
       "      <td>Algeria</td>\n",
       "      <td>12.0</td>\n",
       "      <td>DZ</td>\n",
       "      <td>DZA</td>\n",
       "    </tr>\n",
       "    <tr>\n",
       "      <th>1</th>\n",
       "      <td>5100</td>\n",
       "      <td>Africa</td>\n",
       "      <td>7</td>\n",
       "      <td>Angola</td>\n",
       "      <td>24.0</td>\n",
       "      <td>AO</td>\n",
       "      <td>AGO</td>\n",
       "    </tr>\n",
       "    <tr>\n",
       "      <th>2</th>\n",
       "      <td>5100</td>\n",
       "      <td>Africa</td>\n",
       "      <td>53</td>\n",
       "      <td>Benin</td>\n",
       "      <td>204.0</td>\n",
       "      <td>BJ</td>\n",
       "      <td>BEN</td>\n",
       "    </tr>\n",
       "    <tr>\n",
       "      <th>3</th>\n",
       "      <td>5100</td>\n",
       "      <td>Africa</td>\n",
       "      <td>20</td>\n",
       "      <td>Botswana</td>\n",
       "      <td>72.0</td>\n",
       "      <td>BW</td>\n",
       "      <td>BWA</td>\n",
       "    </tr>\n",
       "    <tr>\n",
       "      <th>4</th>\n",
       "      <td>5100</td>\n",
       "      <td>Africa</td>\n",
       "      <td>24</td>\n",
       "      <td>British Indian Ocean Territory</td>\n",
       "      <td>86.0</td>\n",
       "      <td>IO</td>\n",
       "      <td>IOT</td>\n",
       "    </tr>\n",
       "  </tbody>\n",
       "</table>\n",
       "</div>"
      ],
      "text/plain": [
       "   countrygroupcode countrygroup  countrycode                         country  \\\n",
       "0              5100       Africa            4                         Algeria   \n",
       "1              5100       Africa            7                          Angola   \n",
       "2              5100       Africa           53                           Benin   \n",
       "3              5100       Africa           20                        Botswana   \n",
       "4              5100       Africa           24  British Indian Ocean Territory   \n",
       "\n",
       "   m49code iso2code iso3code  \n",
       "0     12.0       DZ      DZA  \n",
       "1     24.0       AO      AGO  \n",
       "2    204.0       BJ      BEN  \n",
       "3     72.0       BW      BWA  \n",
       "4     86.0       IO      IOT  "
      ]
     },
     "execution_count": 15,
     "metadata": {},
     "output_type": "execute_result"
    }
   ],
   "source": [
    "country_groups = load_dataframe('data/country_groups.csv')\n",
    "country_groups.head()"
   ]
  },
  {
   "cell_type": "markdown",
   "metadata": {},
   "source": [
    "Here, countries are grouped into multiple `countrygroup`, so we know exactly of which countries each group is formed. These country groups are present in the dataset as `area`, meaning there are aggregated values in the dataset. For example: we can find the emissions for \"Algeria\" and for \"Africa\", where the latter is an aggregated value over the whole group. We will need to be careful when aggregating values in the future, as we could account multiple times for one country."
   ]
  },
  {
   "cell_type": "code",
   "execution_count": 16,
   "metadata": {},
   "outputs": [
    {
     "data": {
      "text/plain": [
       "True"
      ]
     },
     "execution_count": 16,
     "metadata": {},
     "output_type": "execute_result"
    }
   ],
   "source": [
    "is_unique_mapping(area_codes[['country', 'countrycode']].drop_duplicates(), 'country', 'countrycode')"
   ]
  },
  {
   "cell_type": "code",
   "execution_count": 17,
   "metadata": {},
   "outputs": [
    {
     "data": {
      "text/plain": [
       "True"
      ]
     },
     "execution_count": 17,
     "metadata": {},
     "output_type": "execute_result"
    }
   ],
   "source": [
    "all(x in area_codes.countrycode.unique() for x in area_values.areacode.unique())"
   ]
  },
  {
   "cell_type": "markdown",
   "metadata": {},
   "source": [
    "Hence, we can use the dataframe `area_codes` to obtain the country's name from it's code, and `country_groups` to get which countries form a group. For this, we can now drop the `area` column in our dataset."
   ]
  },
  {
   "cell_type": "markdown",
   "metadata": {},
   "source": [
    "#### 2. Element Columns\n",
    "---\n",
    "\n",
    "The `element` and `elementcode` represent the measure quantity for a given `item`. A quantity has a name and a unit, which is why we believe these two columns should also have a one-to-one mapping accross the whole dataset. Also, since an `elementcode` potentially uniquely identifies (`element`, `unit`) pair, we might drop those two columns as to make the csv files smaller and easier to manipulate.\n",
    "\n",
    "First let's check if indeed this mapping is one-to-one:"
   ]
  },
  {
   "cell_type": "code",
   "execution_count": 18,
   "metadata": {},
   "outputs": [
    {
     "data": {
      "text/plain": [
       "True"
      ]
     },
     "execution_count": 18,
     "metadata": {},
     "output_type": "execute_result"
    }
   ],
   "source": [
    "element_values = get_column_unique_values(csv_files, column_rename, check_columns, ['elementcode', 'element', 'unit'])\n",
    "is_unique_mapping(element_values, 'elementcode', ['element', 'unit'])"
   ]
  },
  {
   "cell_type": "code",
   "execution_count": 19,
   "metadata": {},
   "outputs": [
    {
     "data": {
      "text/html": [
       "<div>\n",
       "<style scoped>\n",
       "    .dataframe tbody tr th:only-of-type {\n",
       "        vertical-align: middle;\n",
       "    }\n",
       "\n",
       "    .dataframe tbody tr th {\n",
       "        vertical-align: top;\n",
       "    }\n",
       "\n",
       "    .dataframe thead th {\n",
       "        text-align: right;\n",
       "    }\n",
       "</style>\n",
       "<table border=\"1\" class=\"dataframe\">\n",
       "  <thead>\n",
       "    <tr style=\"text-align: right;\">\n",
       "      <th></th>\n",
       "      <th>elementcode</th>\n",
       "      <th>element</th>\n",
       "      <th>unit</th>\n",
       "    </tr>\n",
       "  </thead>\n",
       "  <tbody>\n",
       "    <tr>\n",
       "      <th>0</th>\n",
       "      <td>5111</td>\n",
       "      <td>Stocks</td>\n",
       "      <td>Head</td>\n",
       "    </tr>\n",
       "    <tr>\n",
       "      <th>171</th>\n",
       "      <td>5112</td>\n",
       "      <td>Stocks</td>\n",
       "      <td>1000 Head</td>\n",
       "    </tr>\n",
       "    <tr>\n",
       "      <th>684</th>\n",
       "      <td>5114</td>\n",
       "      <td>Stocks</td>\n",
       "      <td>No</td>\n",
       "    </tr>\n",
       "    <tr>\n",
       "      <th>0</th>\n",
       "      <td>5510</td>\n",
       "      <td>Production</td>\n",
       "      <td>tonnes</td>\n",
       "    </tr>\n",
       "    <tr>\n",
       "      <th>0</th>\n",
       "      <td>5313</td>\n",
       "      <td>Laying</td>\n",
       "      <td>1000 Head</td>\n",
       "    </tr>\n",
       "  </tbody>\n",
       "</table>\n",
       "</div>"
      ],
      "text/plain": [
       "     elementcode     element       unit\n",
       "0           5111      Stocks       Head\n",
       "171         5112      Stocks  1000 Head\n",
       "684         5114      Stocks         No\n",
       "0           5510  Production     tonnes\n",
       "0           5313      Laying  1000 Head"
      ]
     },
     "execution_count": 19,
     "metadata": {},
     "output_type": "execute_result"
    }
   ],
   "source": [
    "element_values.head()"
   ]
  },
  {
   "cell_type": "markdown",
   "metadata": {},
   "source": [
    "As we can see, `elementcode` uniquely identify (`element`, `unit`) pairs, so we can safely drop those two columns and only use `elementcode`. We will later pivot each csv as to obtain all the `elementcode`s as columns, so we can reduce de number of rows significantly. A mapping using a dictionnary will of course be necessary in order to have a nice GUI where users can select the (element, unit) pair instead of the code."
   ]
  },
  {
   "cell_type": "markdown",
   "metadata": {},
   "source": [
    "#### 3. Item columns\n",
    "---\n",
    "\n",
    "According to FAOSTAT, the `item` and `itemcode` columns represent item on which measurements were done. For example an item can be `cattle` and the measurement can be \"CH4 emissions in gigagrams\". \n",
    "Similarly to what we did above, we expect `item` and `itemcode` to have a one-to-one relationship. Let's verify this using the same functions"
   ]
  },
  {
   "cell_type": "code",
   "execution_count": 20,
   "metadata": {},
   "outputs": [
    {
     "data": {
      "text/plain": [
       "False"
      ]
     },
     "execution_count": 20,
     "metadata": {},
     "output_type": "execute_result"
    }
   ],
   "source": [
    "item_values = get_column_unique_values(csv_files, column_rename, check_columns, ['item', 'itemcode'], with_file=True)\n",
    "is_unique_mapping(item_values[['item', 'itemcode']], 'item', 'itemcode')"
   ]
  },
  {
   "cell_type": "markdown",
   "metadata": {},
   "source": [
    "It seems that `item` to `itemcode` is not unique for a few items, let's check those and try to understand why it is the case."
   ]
  },
  {
   "cell_type": "code",
   "execution_count": 21,
   "metadata": {},
   "outputs": [
    {
     "data": {
      "text/plain": [
       "Series([], Name: item, dtype: object)"
      ]
     },
     "execution_count": 21,
     "metadata": {},
     "output_type": "execute_result"
    }
   ],
   "source": [
    "grpd = item_values.groupby('itemcode')['item'].agg(set)\n",
    "grpd[grpd.apply(len) > 1]"
   ]
  },
  {
   "cell_type": "markdown",
   "metadata": {},
   "source": [
    "The mapping `itemcode` -> `item` is unique, now let's check the other way around"
   ]
  },
  {
   "cell_type": "code",
   "execution_count": 22,
   "metadata": {},
   "outputs": [
    {
     "data": {
      "text/plain": [
       "item\n",
       "Ammonium nitrate (AN)                                  {1362, 4003}\n",
       "Ammonium sulphate                                      {1361, 4002}\n",
       "Burning - all categories                               {6795, 6798}\n",
       "Cattle                                                  {866, 1757}\n",
       "Chickens                                               {1057, 1054}\n",
       "Cropland                                               {6620, 5070}\n",
       "Disinfectants                                          {1358, 1351}\n",
       "Forest land                                      {5065, 6749, 6646}\n",
       "Grassland                                              {6794, 6983}\n",
       "Mineral Oils                                           {1354, 1316}\n",
       "Other Pesticides nes                                   {1355, 1359}\n",
       "Other nitrogenous fertilizers, n.e.c.                  {4008, 1369}\n",
       "Other potassic fertilizers, n.e.c.                     {4018, 1391}\n",
       "Plant Growth Regulators                                {1356, 1341}\n",
       "Potassium sulphate (sulphate of potash) (SOP)          {4017, 1387}\n",
       "Urea                                                   {4001, 1367}\n",
       "Name: itemcode, dtype: object"
      ]
     },
     "execution_count": 22,
     "metadata": {},
     "output_type": "execute_result"
    }
   ],
   "source": [
    "grouped = item_values.groupby('item')['itemcode'].agg(set)\n",
    "grouped[grouped.apply(len) > 1]"
   ]
  },
  {
   "cell_type": "markdown",
   "metadata": {},
   "source": [
    "Some items seem to have multiple (up to 3) different item codes, which doesn't seem very normal. \n",
    "\n",
    "**a.** It seems that some of those items correspond to nutrients provided throught fertilizers. Let's see in which files those appear. The items related to nutrients are the following :"
   ]
  },
  {
   "cell_type": "code",
   "execution_count": 23,
   "metadata": {},
   "outputs": [
    {
     "data": {
      "text/plain": [
       "array(['data/inputs/Inputs_FertilizersArchive_E_All_Data_(Normalized).csv',\n",
       "       'data/inputs/Inputs_FertilizersProduct_E_All_Data_(Normalized).csv'],\n",
       "      dtype=object)"
      ]
     },
     "execution_count": 23,
     "metadata": {},
     "output_type": "execute_result"
    }
   ],
   "source": [
    "nutrient_items = [\"Ammonium nitrate (AN)\", \"Ammonium sulphate\", \"Other nitrogenous fertilizers, n.e.c.\", \"Other potassic fertilizers, n.e.c.\", \"Potassium sulphate (sulphate of potash) (SOP)\", \"Urea\"]\n",
    "item_values[item_values.item.isin(nutrient_items)].file.unique()"
   ]
  },
  {
   "cell_type": "markdown",
   "metadata": {},
   "source": [
    "Those items are only present in two dataframes, related to Ferilizer use. If we look closely at the names of csv files, we can see that one of them is \"Archive\", \n",
    "while the other is product. After having looking and reading the documentation for this CSV http://www.fao.org/faostat/en/#data/RA, we understand that it is an archive document, that has not been updated since 2002. \n",
    "\n",
    "Before that date, all data on Fertilizer was put into one single dataframe (i.e. info about production, trade and consumption) both in total nutrients and amount of product. After 2002, it was split into nutrient and product, which is why we have two `itemcode` values for those `items`. \n",
    "\n",
    "Hence, we should be careful when studying the fertilizer use, as data collection has changed in 2002.\n"
   ]
  },
  {
   "cell_type": "markdown",
   "metadata": {},
   "source": [
    "**b.** Some items are related to pesticides. Let's in which csv files they appear"
   ]
  },
  {
   "cell_type": "code",
   "execution_count": 24,
   "metadata": {},
   "outputs": [
    {
     "data": {
      "text/plain": [
       "array(['data/inputs/Inputs_Pesticides_Use_E_All_Data_(Normalized).csv'],\n",
       "      dtype=object)"
      ]
     },
     "execution_count": 24,
     "metadata": {},
     "output_type": "execute_result"
    }
   ],
   "source": [
    "pesticide_items = [\"Disinfectants\", \"Mineral Oils\", \"Other Pesticides nes\", \"Plant Growth Regulators\"]\n",
    "item_values[item_values.item.isin(pesticide_items)].file.unique()"
   ]
  },
  {
   "cell_type": "markdown",
   "metadata": {},
   "source": [
    "Some duplicate items with the same name but different codes appear in only one csv file, which seems quite odd. We suspect having duplicate rows in that case. Let's check that out."
   ]
  },
  {
   "cell_type": "code",
   "execution_count": 26,
   "metadata": {},
   "outputs": [
    {
     "name": "stdout",
     "output_type": "stream",
     "text": [
      "Duplicate item for Disinfectants codes [1358 1351]\n",
      "Duplicate item for Mineral Oils codes [1354 1316]\n",
      "Duplicate item for Other Pesticides nes codes [1359 1355]\n",
      "Duplicate item for Plant Growth Regulators codes [1356 1341]\n"
     ]
    }
   ],
   "source": [
    "from data_processing import check_duplicate_items\n",
    "t = load_dataframe('data/inputs/Inputs_Pesticides_Use_E_All_Data_(Normalized).csv', column_rename, check_columns)\n",
    "check_duplicate_items(t, pesticide_items)"
   ]
  },
  {
   "cell_type": "markdown",
   "metadata": {},
   "source": [
    "We now know that there are potentially duplicate rows for the same `item` but a different `itemcode` (with the same measurements). Hence, we need to add a functionnality that checks for duplicated items in the dataframe."
   ]
  },
  {
   "cell_type": "markdown",
   "metadata": {},
   "source": [
    "**c.** Now let's look at livestock items"
   ]
  },
  {
   "cell_type": "code",
   "execution_count": 27,
   "metadata": {},
   "outputs": [
    {
     "data": {
      "text/html": [
       "<div>\n",
       "<style scoped>\n",
       "    .dataframe tbody tr th:only-of-type {\n",
       "        vertical-align: middle;\n",
       "    }\n",
       "\n",
       "    .dataframe tbody tr th {\n",
       "        vertical-align: top;\n",
       "    }\n",
       "\n",
       "    .dataframe thead th {\n",
       "        text-align: right;\n",
       "    }\n",
       "</style>\n",
       "<table border=\"1\" class=\"dataframe\">\n",
       "  <thead>\n",
       "    <tr style=\"text-align: right;\">\n",
       "      <th></th>\n",
       "      <th></th>\n",
       "      <th>file</th>\n",
       "    </tr>\n",
       "    <tr>\n",
       "      <th>item</th>\n",
       "      <th>itemcode</th>\n",
       "      <th></th>\n",
       "    </tr>\n",
       "  </thead>\n",
       "  <tbody>\n",
       "    <tr>\n",
       "      <th rowspan=\"2\" valign=\"top\">Cattle</th>\n",
       "      <th>866</th>\n",
       "      <td>{data/production/Production_Livestock_E_All_Da...</td>\n",
       "    </tr>\n",
       "    <tr>\n",
       "      <th>1757</th>\n",
       "      <td>{data/environment/Environment_LivestockManure_...</td>\n",
       "    </tr>\n",
       "    <tr>\n",
       "      <th rowspan=\"2\" valign=\"top\">Chickens</th>\n",
       "      <th>1054</th>\n",
       "      <td>{data/emissions_agriculture/Emissions_Agricult...</td>\n",
       "    </tr>\n",
       "    <tr>\n",
       "      <th>1057</th>\n",
       "      <td>{data/production/Production_Livestock_E_All_Da...</td>\n",
       "    </tr>\n",
       "  </tbody>\n",
       "</table>\n",
       "</div>"
      ],
      "text/plain": [
       "                                                                file\n",
       "item     itemcode                                                   \n",
       "Cattle   866       {data/production/Production_Livestock_E_All_Da...\n",
       "         1757      {data/environment/Environment_LivestockManure_...\n",
       "Chickens 1054      {data/emissions_agriculture/Emissions_Agricult...\n",
       "         1057      {data/production/Production_Livestock_E_All_Da..."
      ]
     },
     "execution_count": 27,
     "metadata": {},
     "output_type": "execute_result"
    }
   ],
   "source": [
    "livestock_items = [\"Cattle\", \"Chickens\"]\n",
    "item_values[item_values.item.isin(livestock_items)].groupby(['item', 'itemcode']).agg(set)"
   ]
  },
  {
   "cell_type": "markdown",
   "metadata": {},
   "source": [
    "The `itemcode` -> `item` seems one-to-one in each csv file, but we see that there are two distinct `itemcode` for \"Cattle\" and \"Chickens\" accross all csv files."
   ]
  },
  {
   "cell_type": "code",
   "execution_count": 28,
   "metadata": {},
   "outputs": [
    {
     "data": {
      "text/plain": [
       "array([['data/production/Production_Livestock_E_All_Data_(Normalized).csv',\n",
       "        866, 'Cattle'],\n",
       "       ['data/production/Production_Livestock_E_All_Data_(Normalized).csv',\n",
       "        1057, 'Chickens'],\n",
       "       ['data/environment/Environment_LivestockPatterns_E_All_Data_(Normalized).csv',\n",
       "        866, 'Cattle'],\n",
       "       ['data/environment/Environment_LivestockPatterns_E_All_Data_(Normalized).csv',\n",
       "        1057, 'Chickens'],\n",
       "       ['data/environment/Environment_LivestockManure_E_All_Data_(Normalized).csv',\n",
       "        1757, 'Cattle'],\n",
       "       ['data/environment/Environment_LivestockManure_E_All_Data_(Normalized).csv',\n",
       "        1054, 'Chickens'],\n",
       "       ['data/emissions_agriculture/Emissions_Agriculture_Enteric_Fermentation_E_All_Data_(Normalized).csv',\n",
       "        1757, 'Cattle'],\n",
       "       ['data/emissions_agriculture/Emissions_Agriculture_Manure_Management_E_All_Data_(Normalized).csv',\n",
       "        1757, 'Cattle'],\n",
       "       ['data/emissions_agriculture/Emissions_Agriculture_Manure_Management_E_All_Data_(Normalized).csv',\n",
       "        1054, 'Chickens'],\n",
       "       ['data/emissions_agriculture/Emissions_Agriculture_Manure_left_on_pasture_E_All_Data_(Normalized).csv',\n",
       "        1757, 'Cattle'],\n",
       "       ['data/emissions_agriculture/Emissions_Agriculture_Manure_left_on_pasture_E_All_Data_(Normalized).csv',\n",
       "        1054, 'Chickens'],\n",
       "       ['data/emissions_agriculture/Emissions_Agriculture_Manure_applied_to_soils_E_All_Data_(Normalized).csv',\n",
       "        1757, 'Cattle'],\n",
       "       ['data/emissions_agriculture/Emissions_Agriculture_Manure_applied_to_soils_E_All_Data_(Normalized).csv',\n",
       "        1054, 'Chickens']], dtype=object)"
      ]
     },
     "execution_count": 28,
     "metadata": {},
     "output_type": "execute_result"
    }
   ],
   "source": [
    "item_values[item_values.item.isin(livestock_items)][['file', 'itemcode', 'item']].drop_duplicates().values"
   ]
  },
  {
   "cell_type": "markdown",
   "metadata": {},
   "source": [
    "It seems that different values for `itemcode` for both \"Chickens\" and \"Cattles\" differ when the measured quantity is realted to Manure. Thus, this might be a discrepancy in the data as it does not appear for other items. However, since the two different item codes appear in un-related csv files, we can keep them that way, and have two itemcodes that map to \"Chickens\" and \"Cattle\""
   ]
  },
  {
   "cell_type": "markdown",
   "metadata": {},
   "source": [
    "**d.** And finally, land related items"
   ]
  },
  {
   "cell_type": "code",
   "execution_count": 29,
   "metadata": {},
   "outputs": [
    {
     "data": {
      "text/plain": [
       "array(['data/emissions_land/Emissions_Land_Use_Forest_Land_E_All_Data_(Normalized).csv',\n",
       "       'data/emissions_land/Emissions_Land_Use_Forest_Land_E_All_Data_(Normalized).csv',\n",
       "       'data/emissions_land/Emissions_Land_Use_Land_Use_Total_E_All_Data_(Normalized).csv',\n",
       "       'data/environment/Environment_LandUse_E_All_Data_(Normalized).csv',\n",
       "       'data/inputs/Inputs_LandUse_E_All_Data_(Normalized).csv'],\n",
       "      dtype=object)"
      ]
     },
     "execution_count": 29,
     "metadata": {},
     "output_type": "execute_result"
    }
   ],
   "source": [
    "land_items = [\"Forest land\"]\n",
    "item_values[item_values.item.isin(land_items)].sort_values(['item', 'file']).file.values"
   ]
  },
  {
   "cell_type": "markdown",
   "metadata": {},
   "source": [
    "After looking into the description of each csv file, we have found the following explanations:\n",
    "- For `Burning - all categories`:\n",
    "    - for \"Emissions_Agriculture_Burning_Savanna_E_All_Data_(Normalized).csv\", it represents the emissions due to burning of Savanna (all categories) i.e. aggregated over all items\n",
    "    - for \"Emissions_Land_Use_Burning_Biomass_E_All_Data_(Normalized).csv\", it represents the emissions due to the burning of Biomass.\n",
    "- For `Grassland`: \n",
    "    - for \"Emissions_Agriculture_Burning_Savanna_E_All_Data_(Normalized).csv\", it represents the emissions burning of grassland\n",
    "    - for \"Emissions_Land_Use_Land_Use_Total_E_All_Data_(Normalized).csv\" it represents the Green house gass emissions and removals from grasslands\n",
    "    - for \"Environment_LandCover_E_All_Data_(Normalized).csv\" it represents the area of grassland\n",
    "- For `Cropland`:\n",
    "    - for \"Emissions_Land_Use_Land_Use_Total_E_All_Data_(Normalized).csv\" it represents the Green house gass emissions and removals from Croplands\n",
    "    - for \"Environment_LandUse_E_All_Data_(Normalized).csv\" it represents the area of Cropland\n",
    "    - for \"Inputs_LandUse_E_All_Data_(Normalized).csv\" it represents the usage of Cropland\n",
    "    \n",
    "TODO : Add Forest Land, "
   ]
  },
  {
   "cell_type": "markdown",
   "metadata": {},
   "source": [
    "#### 4. Flag Columns\n",
    "---\n",
    "\n",
    "According to FAOSTAT, not all the data points are official figures reported by individual countries. Some are estimates, others are aggregates done by external entities. In order to understand the meaning of those flagas, they provide a csv file containing the description of each."
   ]
  },
  {
   "cell_type": "code",
   "execution_count": 30,
   "metadata": {},
   "outputs": [
    {
     "data": {
      "text/html": [
       "<div>\n",
       "<style scoped>\n",
       "    .dataframe tbody tr th:only-of-type {\n",
       "        vertical-align: middle;\n",
       "    }\n",
       "\n",
       "    .dataframe tbody tr th {\n",
       "        vertical-align: top;\n",
       "    }\n",
       "\n",
       "    .dataframe thead th {\n",
       "        text-align: right;\n",
       "    }\n",
       "</style>\n",
       "<table border=\"1\" class=\"dataframe\">\n",
       "  <thead>\n",
       "    <tr style=\"text-align: right;\">\n",
       "      <th></th>\n",
       "      <th>flag</th>\n",
       "      <th>flags</th>\n",
       "    </tr>\n",
       "  </thead>\n",
       "  <tbody>\n",
       "    <tr>\n",
       "      <th>0</th>\n",
       "      <td>NaN</td>\n",
       "      <td>Official data</td>\n",
       "    </tr>\n",
       "    <tr>\n",
       "      <th>1</th>\n",
       "      <td>*</td>\n",
       "      <td>Unofficial figure</td>\n",
       "    </tr>\n",
       "    <tr>\n",
       "      <th>2</th>\n",
       "      <td>A</td>\n",
       "      <td>Aggregate, may include official, semi-official...</td>\n",
       "    </tr>\n",
       "    <tr>\n",
       "      <th>3</th>\n",
       "      <td>B</td>\n",
       "      <td>Balance</td>\n",
       "    </tr>\n",
       "    <tr>\n",
       "      <th>4</th>\n",
       "      <td>Bk</td>\n",
       "      <td>Break in series</td>\n",
       "    </tr>\n",
       "  </tbody>\n",
       "</table>\n",
       "</div>"
      ],
      "text/plain": [
       "  flag                                              flags\n",
       "0  NaN                                      Official data\n",
       "1    *                                  Unofficial figure\n",
       "2    A  Aggregate, may include official, semi-official...\n",
       "3    B                                            Balance\n",
       "4   Bk                                    Break in series"
      ]
     },
     "execution_count": 30,
     "metadata": {},
     "output_type": "execute_result"
    }
   ],
   "source": [
    "flags = load_dataframe(\"data/flags.csv\")\n",
    "flags.head()"
   ]
  },
  {
   "cell_type": "code",
   "execution_count": 31,
   "metadata": {},
   "outputs": [
    {
     "name": "stdout",
     "output_type": "stream",
     "text": [
      "There are 41 flags\n"
     ]
    }
   ],
   "source": [
    "print(f\"There are {len(flags)} flags\")"
   ]
  },
  {
   "cell_type": "markdown",
   "metadata": {},
   "source": [
    "---\n",
    "### A.3 Conclusion about Schemas\n",
    "\n",
    "---\n",
    "\n",
    "After having applied some analysis on the initially different schemas of the dataframes, we are now able to obtain identitcal schemas for 41 of them, and left two of them where we believe they should not be changed as some information could be lost.\n",
    "\n",
    "The common schema has the following columns:\n",
    "\n",
    "`['area', 'areacode', 'element', 'elementcode', 'flag', 'item', 'itemcode', 'unit', 'value', 'year']`\n",
    "\n",
    "For now, we have come up with a few steps that should be applied when loading a dataframe:\n",
    " - Rename columns to remove spaces and captial letters\n",
    " - Rename \"Country\" to \"Area\" and \"CountryCode\" to \"Areacode\"\n",
    " - Drop columns that are either duplicates or NaN values\n",
    " - Rename \"gigagrams\" to \"Gigagrams\", as otherwise we would have a non one-to-one mapping for `elementcode`\n",
    " - Check for items if they have duplicate rows.\n",
    "\n",
    "The function that does the first 4 cleaning steps is `data_processing/load_dataframe`, and the one that puts everything together is `data_processing/load_clean_dataframe`.\n",
    "\n",
    "Also, we have decided to only work with codes (i.e. `areacode` and `elementcode`) and drop `area`, `element` and `unit`. Of course, we will need a mapping from `code` -> `value`. Additionally, in order to keep track of `countrygroup` and do know how values are aggregated, we will also create a mapping that tells us which countries form a group, by codes.\n",
    "\n",
    "Hence, to load a dataframe, we simply call :\n",
    "```\n",
    "df = load_clean_dataframe(<filename>, column_rename, check_columns, drop_columns)\n",
    "```\n",
    "\n",
    "with  `column_rename = {'country': 'area', 'countrycode': 'areacode'}` and `check_columns = [\"note\", \"yearcode\", \"elementgroup\"]` and `drop_columns = [\"area\", \"item\", \"element\", \"unit\"]`"
   ]
  },
  {
   "cell_type": "code",
   "execution_count": 3,
   "metadata": {},
   "outputs": [],
   "source": [
    "column_rename = {'country': 'area', 'countrycode': 'areacode'}\n",
    "check_columns = [\"note\", \"yearcode\", \"elementgroup\"]\n",
    "drop_columns = [\"area\", \"item\", \"element\", \"unit\"]"
   ]
  },
  {
   "cell_type": "markdown",
   "metadata": {},
   "source": [
    "Now we need to get the mappings for :\n",
    "- `elementcode` -> (`element`, `unit`) (unique in both ways)\n",
    "- `itemcode` -> `item` (unique in that way, but not the other way around)\n",
    "- `areacode` -> `area` (unique in both ways)"
   ]
  },
  {
   "cell_type": "code",
   "execution_count": 24,
   "metadata": {},
   "outputs": [],
   "source": [
    "from mappings import get_mapping, get_area_mapping, get_country_groups\n",
    "item_mapping = get_mapping(csv_files, column_rename, check_columns, ['itemcode','item'])\n",
    "element_mapping = get_mapping(csv_files, column_rename, check_columns, ['elementcode', 'element', 'unit'])\n"
   ]
  },
  {
   "cell_type": "code",
   "execution_count": 4,
   "metadata": {},
   "outputs": [],
   "source": [
    "from mappings import get_area_mapping, get_country_groups\n",
    "area_mapping = get_area_mapping(\"data/countries.csv\")\n",
    "country_groups = get_country_groups(\"data/country_groups.csv\")"
   ]
  },
  {
   "cell_type": "markdown",
   "metadata": {},
   "source": [
    "---\n",
    "---\n",
    "## B. Reshaping the Database"
   ]
  },
  {
   "cell_type": "markdown",
   "metadata": {},
   "source": [
    "For now everything was stored in database format (i.e. Row format), but we would like to have elements in columns, so that we can reduce drastically the number of rows, and so we can have all the measurements for a single (`itemcode`, `areacode`, `year`) pair."
   ]
  },
  {
   "cell_type": "markdown",
   "metadata": {},
   "source": [
    "---\n",
    "### B.1 Merging all files with same schema\n",
    "\n",
    "---\n",
    "\n",
    "Before reshaping, we know that 41 csv files have the same schema. Thus, it would be good to have them all in a single dataframe in order to facilitate access to values. We will then create a single dataframe from all those 41 (over 43 in total). This dataframe will then have potentially duplicate rows, which we will drop."
   ]
  },
  {
   "cell_type": "code",
   "execution_count": 5,
   "metadata": {},
   "outputs": [],
   "source": [
    "from data_processing import load_clean_dataframe\n",
    "def load_all_df_with_schema(files, schema):\n",
    "    dfs = []\n",
    "    for f in csv_files:\n",
    "        df = load_clean_dataframe(f, column_rename, check_columns, drop_columns) # Load the DF\n",
    "        if all(x in schema for x in df.columns):  # Check if schema corresponds\n",
    "            df = df.assign(file=f)\n",
    "            dfs.append(df)\n",
    "    df = pd.concat(dfs).reset_index(drop=True)\n",
    "    shape = df.shape[0]\n",
    "    \n",
    "    to_keep = df.drop(columns=['file']).drop_duplicates().index # Drop all duplicated row, after removing `file`\n",
    "    df = df.loc[to_keep].reset_index(drop=True)\n",
    "    print(f\"Dropped {shape - df.shape[0]} duplicate rows\")\n",
    "    return df"
   ]
  },
  {
   "cell_type": "code",
   "execution_count": 6,
   "metadata": {},
   "outputs": [
    {
     "name": "stdout",
     "output_type": "stream",
     "text": [
      "Dropped duplicate item Disinfectants with codes [1358, 1351] (Dropped 1351)\n",
      "Dropped duplicate item Mineral Oils with codes [1354, 1316] (Dropped 1316)\n",
      "Dropped duplicate item Other Pesticides nes with codes [1359, 1355] (Dropped 1355)\n",
      "Dropped duplicate item Plant Growth Regulators with codes [1356, 1341] (Dropped 1341)\n",
      "Dropped 1919040 duplicate rows\n"
     ]
    }
   ],
   "source": [
    "df = load_all_df_with_schema(csv_files, ['area', 'areacode', 'element', 'elementcode', 'flag', 'item', 'itemcode', 'unit', 'value', 'year'])"
   ]
  },
  {
   "cell_type": "code",
   "execution_count": 7,
   "metadata": {},
   "outputs": [],
   "source": [
    "group_codes = set(country_groups.keys())\n",
    "df = df[~df.areacode.isin(group_codes)]#.reset_index(drop=True)  # Drop all country groups"
   ]
  },
  {
   "cell_type": "code",
   "execution_count": 8,
   "metadata": {},
   "outputs": [
    {
     "data": {
      "text/plain": [
       "44"
      ]
     },
     "execution_count": 8,
     "metadata": {},
     "output_type": "execute_result"
    }
   ],
   "source": [
    "import gc\n",
    "gc.collect()"
   ]
  },
  {
   "cell_type": "markdown",
   "metadata": {},
   "source": [
    "---\n",
    "### B.2 Checking for duplicate measurements\n",
    "\n",
    "---\n",
    "\n",
    "Ideally, we would like to have a single row for each (`areacode`, `itemcode`, `elementcode` and `year`), i.e one measurement. Let's check if it is the case:"
   ]
  },
  {
   "cell_type": "code",
   "execution_count": 10,
   "metadata": {},
   "outputs": [
    {
     "data": {
      "text/plain": [
       "1    0.964959\n",
       "2    0.035041\n",
       "Name: value, dtype: float64"
      ]
     },
     "execution_count": 10,
     "metadata": {},
     "output_type": "execute_result"
    }
   ],
   "source": [
    "grouped = df.groupby(['areacode', 'itemcode', 'elementcode', 'year'])[['value', 'flag']].nunique(dropna=False).reset_index()\n",
    "grouped['value'].value_counts(dropna=False) / grouped.shape[0]"
   ]
  },
  {
   "cell_type": "markdown",
   "metadata": {},
   "source": [
    "As we can see, it is not the case:\n",
    "    - Most of the time there is one measurement (~96%)\n",
    "    - Some have two measurements (~4%)\n",
    "This could be due to different `value` and/or different `flag`\n",
    "\n",
    "Let's look at those values"
   ]
  },
  {
   "cell_type": "markdown",
   "metadata": {},
   "source": [
    "#### 1. Assessing Elements that have duplicates\n",
    "\n",
    "In order to remediate to this issue, we will look at the differences between the values, when there are multiple ones, and group by `elementcode`"
   ]
  },
  {
   "cell_type": "code",
   "execution_count": 14,
   "metadata": {},
   "outputs": [],
   "source": [
    "from utils import get_percentage_diff\n",
    "\n",
    "def get_discrepancies(df):\n",
    "    indexed = df.set_index(['areacode', 'itemcode', 'elementcode', 'year']) # Set the index to what what should be unique\n",
    "    duplicated_1 = indexed.index.duplicated(keep='first')  # Take the first duplicate\n",
    "    duplicated_2 = indexed.index.duplicated(keep='last')  # Take the second one\n",
    "    joined = indexed.loc[duplicated_1].join(indexed.loc[duplicated_2], rsuffix='_2')  # Join on the index to have both values and indices\n",
    "    return joined\n",
    "\n",
    "def get_discrepancies_by_elem(df, e_mapping):\n",
    "    discrepancies_by_element = df.reset_index().groupby('elementcode')\\\n",
    "                                 .apply(lambda x: pd.Series({'mean_diff': np.mean(x['value'] - x['value_2']), # Mean difference\n",
    "                                                             'std': np.std(x['value'] - x['value_2']),        # STD of difference\n",
    "                                                             'csv': set(tuple(i) for i in x[['file', 'file_2']].values.tolist()),  # CSV files where there are different values\n",
    "                                                             'num': x.shape[0],                                 # Number of different values\n",
    "                                                             'mean_perc_diff': np.mean(get_percentage_diff(x['value'], x['value_2'])*100)})) # Average difference in percentage\n",
    "    discrepancies_by_element.index = [e_mapping[i] for i in discrepancies_by_element.index]\n",
    "    return discrepancies_by_element"
   ]
  },
  {
   "cell_type": "code",
   "execution_count": 12,
   "metadata": {},
   "outputs": [],
   "source": [
    "joined = get_discrepancies(df)"
   ]
  },
  {
   "cell_type": "code",
   "execution_count": 13,
   "metadata": {},
   "outputs": [
    {
     "data": {
      "text/html": [
       "<div>\n",
       "<style scoped>\n",
       "    .dataframe tbody tr th:only-of-type {\n",
       "        vertical-align: middle;\n",
       "    }\n",
       "\n",
       "    .dataframe tbody tr th {\n",
       "        vertical-align: top;\n",
       "    }\n",
       "\n",
       "    .dataframe thead th {\n",
       "        text-align: right;\n",
       "    }\n",
       "</style>\n",
       "<table border=\"1\" class=\"dataframe\">\n",
       "  <thead>\n",
       "    <tr style=\"text-align: right;\">\n",
       "      <th></th>\n",
       "      <th>mean_diff</th>\n",
       "      <th>std</th>\n",
       "      <th>csv</th>\n",
       "      <th>num</th>\n",
       "      <th>mean_perc_diff</th>\n",
       "    </tr>\n",
       "  </thead>\n",
       "  <tbody>\n",
       "    <tr>\n",
       "      <th>(Area, 1000 ha)</th>\n",
       "      <td>0.000000e+00</td>\n",
       "      <td>0.000000</td>\n",
       "      <td>{(data/inputs/Inputs_LandUse_E_All_Data_(Norma...</td>\n",
       "      <td>6290</td>\n",
       "      <td>0.000000e+00</td>\n",
       "    </tr>\n",
       "    <tr>\n",
       "      <th>(Manure applied to soils that volatilises (N content), kg)</th>\n",
       "      <td>8.568984e-07</td>\n",
       "      <td>0.000030</td>\n",
       "      <td>{(data/emissions_agriculture/Emissions_Agricul...</td>\n",
       "      <td>119694</td>\n",
       "      <td>3.091777e-05</td>\n",
       "    </tr>\n",
       "    <tr>\n",
       "      <th>(Manure applied to soils that leaches (N content), kg)</th>\n",
       "      <td>-1.824625e-07</td>\n",
       "      <td>0.000031</td>\n",
       "      <td>{(data/emissions_agriculture/Emissions_Agricul...</td>\n",
       "      <td>127883</td>\n",
       "      <td>2.061410e-05</td>\n",
       "    </tr>\n",
       "    <tr>\n",
       "      <th>(Manure applied to soils (N content), kg)</th>\n",
       "      <td>7.303738e-07</td>\n",
       "      <td>0.000031</td>\n",
       "      <td>{(data/emissions_agriculture/Emissions_Agricul...</td>\n",
       "      <td>98108</td>\n",
       "      <td>5.130522e-06</td>\n",
       "    </tr>\n",
       "    <tr>\n",
       "      <th>(Manure left on pasture that volatilises (N content), kg)</th>\n",
       "      <td>1.336092e-06</td>\n",
       "      <td>0.000031</td>\n",
       "      <td>{(data/emissions_agriculture/Emissions_Agricul...</td>\n",
       "      <td>77879</td>\n",
       "      <td>8.938878e-06</td>\n",
       "    </tr>\n",
       "    <tr>\n",
       "      <th>(Manure left on pasture that leaches (N content), kg)</th>\n",
       "      <td>-4.747674e-07</td>\n",
       "      <td>0.000032</td>\n",
       "      <td>{(data/emissions_agriculture/Emissions_Agricul...</td>\n",
       "      <td>88475</td>\n",
       "      <td>6.441224e-06</td>\n",
       "    </tr>\n",
       "    <tr>\n",
       "      <th>(Manure treated (N content), kg)</th>\n",
       "      <td>8.953654e-07</td>\n",
       "      <td>0.000033</td>\n",
       "      <td>{(data/emissions_agriculture/Emissions_Agricul...</td>\n",
       "      <td>49992</td>\n",
       "      <td>9.461075e-06</td>\n",
       "    </tr>\n",
       "    <tr>\n",
       "      <th>(Manure left on pasture (N content), kg)</th>\n",
       "      <td>-5.481813e-07</td>\n",
       "      <td>0.000033</td>\n",
       "      <td>{(data/emissions_agriculture/Emissions_Agricul...</td>\n",
       "      <td>55120</td>\n",
       "      <td>1.751645e-06</td>\n",
       "    </tr>\n",
       "    <tr>\n",
       "      <th>(Area, ha)</th>\n",
       "      <td>4.840766e-05</td>\n",
       "      <td>0.000242</td>\n",
       "      <td>{(data/emissions_agriculture/Emissions_Agricul...</td>\n",
       "      <td>157</td>\n",
       "      <td>1.362119e-07</td>\n",
       "    </tr>\n",
       "    <tr>\n",
       "      <th>(Stocks, Head)</th>\n",
       "      <td>-5.714286e-02</td>\n",
       "      <td>0.998366</td>\n",
       "      <td>{(data/environment/Environment_LivestockManure...</td>\n",
       "      <td>70</td>\n",
       "      <td>5.809386e-03</td>\n",
       "    </tr>\n",
       "    <tr>\n",
       "      <th>(Emissions (CO2eq) from N2O, Gigagrams)</th>\n",
       "      <td>1.518658e+02</td>\n",
       "      <td>1187.341584</td>\n",
       "      <td>{(data/emissions_agriculture/Emissions_Agricul...</td>\n",
       "      <td>6138</td>\n",
       "      <td>3.759896e+01</td>\n",
       "    </tr>\n",
       "    <tr>\n",
       "      <th>(Emissions (CO2eq), Gigagrams)</th>\n",
       "      <td>1.251206e+02</td>\n",
       "      <td>2569.289515</td>\n",
       "      <td>{(data/emissions_agriculture/Emissions_Agricul...</td>\n",
       "      <td>4189</td>\n",
       "      <td>5.936785e+00</td>\n",
       "    </tr>\n",
       "    <tr>\n",
       "      <th>(Emissions (CO2eq) from CH4, Gigagrams)</th>\n",
       "      <td>2.895621e+02</td>\n",
       "      <td>2883.452321</td>\n",
       "      <td>{(data/emissions_agriculture/Emissions_Agricul...</td>\n",
       "      <td>5645</td>\n",
       "      <td>3.864113e+01</td>\n",
       "    </tr>\n",
       "    <tr>\n",
       "      <th>(Production, tonnes)</th>\n",
       "      <td>-3.086206e+03</td>\n",
       "      <td>264387.916583</td>\n",
       "      <td>{(data/environment/Environment_Emissions_inten...</td>\n",
       "      <td>6002</td>\n",
       "      <td>8.370665e+00</td>\n",
       "    </tr>\n",
       "  </tbody>\n",
       "</table>\n",
       "</div>"
      ],
      "text/plain": [
       "                                                       mean_diff  \\\n",
       "(Area, 1000 ha)                                     0.000000e+00   \n",
       "(Manure applied to soils that volatilises (N co...  8.568984e-07   \n",
       "(Manure applied to soils that leaches (N conten... -1.824625e-07   \n",
       "(Manure applied to soils (N content), kg)           7.303738e-07   \n",
       "(Manure left on pasture that volatilises (N con...  1.336092e-06   \n",
       "(Manure left on pasture that leaches (N content... -4.747674e-07   \n",
       "(Manure treated (N content), kg)                    8.953654e-07   \n",
       "(Manure left on pasture (N content), kg)           -5.481813e-07   \n",
       "(Area, ha)                                          4.840766e-05   \n",
       "(Stocks, Head)                                     -5.714286e-02   \n",
       "(Emissions (CO2eq) from N2O, Gigagrams)             1.518658e+02   \n",
       "(Emissions (CO2eq), Gigagrams)                      1.251206e+02   \n",
       "(Emissions (CO2eq) from CH4, Gigagrams)             2.895621e+02   \n",
       "(Production, tonnes)                               -3.086206e+03   \n",
       "\n",
       "                                                              std  \\\n",
       "(Area, 1000 ha)                                          0.000000   \n",
       "(Manure applied to soils that volatilises (N co...       0.000030   \n",
       "(Manure applied to soils that leaches (N conten...       0.000031   \n",
       "(Manure applied to soils (N content), kg)                0.000031   \n",
       "(Manure left on pasture that volatilises (N con...       0.000031   \n",
       "(Manure left on pasture that leaches (N content...       0.000032   \n",
       "(Manure treated (N content), kg)                         0.000033   \n",
       "(Manure left on pasture (N content), kg)                 0.000033   \n",
       "(Area, ha)                                               0.000242   \n",
       "(Stocks, Head)                                           0.998366   \n",
       "(Emissions (CO2eq) from N2O, Gigagrams)               1187.341584   \n",
       "(Emissions (CO2eq), Gigagrams)                        2569.289515   \n",
       "(Emissions (CO2eq) from CH4, Gigagrams)               2883.452321   \n",
       "(Production, tonnes)                                264387.916583   \n",
       "\n",
       "                                                                                                  csv  \\\n",
       "(Area, 1000 ha)                                     {(data/inputs/Inputs_LandUse_E_All_Data_(Norma...   \n",
       "(Manure applied to soils that volatilises (N co...  {(data/emissions_agriculture/Emissions_Agricul...   \n",
       "(Manure applied to soils that leaches (N conten...  {(data/emissions_agriculture/Emissions_Agricul...   \n",
       "(Manure applied to soils (N content), kg)           {(data/emissions_agriculture/Emissions_Agricul...   \n",
       "(Manure left on pasture that volatilises (N con...  {(data/emissions_agriculture/Emissions_Agricul...   \n",
       "(Manure left on pasture that leaches (N content...  {(data/emissions_agriculture/Emissions_Agricul...   \n",
       "(Manure treated (N content), kg)                    {(data/emissions_agriculture/Emissions_Agricul...   \n",
       "(Manure left on pasture (N content), kg)            {(data/emissions_agriculture/Emissions_Agricul...   \n",
       "(Area, ha)                                          {(data/emissions_agriculture/Emissions_Agricul...   \n",
       "(Stocks, Head)                                      {(data/environment/Environment_LivestockManure...   \n",
       "(Emissions (CO2eq) from N2O, Gigagrams)             {(data/emissions_agriculture/Emissions_Agricul...   \n",
       "(Emissions (CO2eq), Gigagrams)                      {(data/emissions_agriculture/Emissions_Agricul...   \n",
       "(Emissions (CO2eq) from CH4, Gigagrams)             {(data/emissions_agriculture/Emissions_Agricul...   \n",
       "(Production, tonnes)                                {(data/environment/Environment_Emissions_inten...   \n",
       "\n",
       "                                                       num  mean_perc_diff  \n",
       "(Area, 1000 ha)                                       6290    0.000000e+00  \n",
       "(Manure applied to soils that volatilises (N co...  119694    3.091777e-05  \n",
       "(Manure applied to soils that leaches (N conten...  127883    2.061410e-05  \n",
       "(Manure applied to soils (N content), kg)            98108    5.130522e-06  \n",
       "(Manure left on pasture that volatilises (N con...   77879    8.938878e-06  \n",
       "(Manure left on pasture that leaches (N content...   88475    6.441224e-06  \n",
       "(Manure treated (N content), kg)                     49992    9.461075e-06  \n",
       "(Manure left on pasture (N content), kg)             55120    1.751645e-06  \n",
       "(Area, ha)                                             157    1.362119e-07  \n",
       "(Stocks, Head)                                          70    5.809386e-03  \n",
       "(Emissions (CO2eq) from N2O, Gigagrams)               6138    3.759896e+01  \n",
       "(Emissions (CO2eq), Gigagrams)                        4189    5.936785e+00  \n",
       "(Emissions (CO2eq) from CH4, Gigagrams)               5645    3.864113e+01  \n",
       "(Production, tonnes)                                  6002    8.370665e+00  "
      ]
     },
     "execution_count": 13,
     "metadata": {},
     "output_type": "execute_result"
    }
   ],
   "source": [
    "discrepancies_by_element = get_discrepancies_by_elem(joined, element_mapping).sort_values('std')\n",
    "discrepancies_by_element"
   ]
  },
  {
   "cell_type": "markdown",
   "metadata": {},
   "source": [
    "As we can see, most differences have a very small mean and standard deviation, with a small percentage in variation. However, the last 4 elements have quite high differences in the two values, and we would like to see why that is.\n",
    "\n",
    "For this, let's print the csv files that have conflicting values:"
   ]
  },
  {
   "cell_type": "code",
   "execution_count": 14,
   "metadata": {},
   "outputs": [
    {
     "name": "stdout",
     "output_type": "stream",
     "text": [
      "Discrepancies in ('Emissions (CO2eq) from N2O', 'Gigagrams') are in \n",
      "\n",
      "('data/emissions_agriculture/Emissions_Agriculture_Agriculture_total_E_All_Data_(Normalized).csv', 'data/environment/Environment_Emissions_by_Sector_E_All_Data_(Normalized).csv')\n",
      "('data/emissions_land/Emissions_Land_Use_Land_Use_Total_E_All_Data_(Normalized).csv', 'data/environment/Environment_Emissions_by_Sector_E_All_Data_(Normalized).csv')\n",
      "\n",
      "\n",
      "Discrepancies in ('Emissions (CO2eq)', 'Gigagrams') are in \n",
      "\n",
      "('data/emissions_agriculture/Emissions_Agriculture_Agriculture_total_E_All_Data_(Normalized).csv', 'data/environment/Environment_Emissions_by_Sector_E_All_Data_(Normalized).csv')\n",
      "\n",
      "\n",
      "Discrepancies in ('Emissions (CO2eq) from CH4', 'Gigagrams') are in \n",
      "\n",
      "('data/emissions_agriculture/Emissions_Agriculture_Agriculture_total_E_All_Data_(Normalized).csv', 'data/environment/Environment_Emissions_by_Sector_E_All_Data_(Normalized).csv')\n",
      "('data/emissions_land/Emissions_Land_Use_Land_Use_Total_E_All_Data_(Normalized).csv', 'data/environment/Environment_Emissions_by_Sector_E_All_Data_(Normalized).csv')\n",
      "\n",
      "\n",
      "Discrepancies in ('Production', 'tonnes') are in \n",
      "\n",
      "('data/environment/Environment_Emissions_intensities_E_All_Data_(Normalized).csv', 'data/production/Production_Crops_E_All_Data_(Normalized).csv')\n",
      "('data/environment/Environment_Emissions_intensities_E_All_Data_(Normalized).csv', 'data/production/Production_LivestockPrimary_E_All_Data_(Normalized).csv')\n",
      "('data/production/Production_Crops_E_All_Data_(Normalized).csv', 'data/production/Production_CropsProcessed_E_All_Data_(Normalized).csv')\n",
      "\n",
      "\n"
     ]
    }
   ],
   "source": [
    "for i, f in discrepancies_by_element[-4:][['csv']].iterrows():\n",
    "    print(f\"Discrepancies in {i} are in \\n\")\n",
    "    for c in f.csv:\n",
    "        print(c)\n",
    "    print(\"\\n\")"
   ]
  },
  {
   "cell_type": "markdown",
   "metadata": {},
   "source": [
    "As we can see, large differences in values are found when using the csvs `data/environment/Environment_Emissions_by_Sector_E_All_Data_(Normalized).csv`, and `data/environment/Environment_Emissions_intensities_E_All_Data_(Normalized).csv`, as well as \"Processed\" version of `data/production/Production_Crops_E_All_Data_(Normalized).csv` (which means the emissions due to processed Crops).\n",
    "\n",
    "Since we want to focus only on the general view of production, we will then drop the two csv that account for Production for Processed crops and livestock (i.e. derived products from crops and livestock).\n",
    "\n",
    "Also, the emissions by sector are computed differently than the emissions for each sector individually (according to FAO), which are more accurate as they are aggregates of more specific items. For this reason, we have also decided to drop `data/environment/Environment_Emissions_by_Sector_E_All_Data_(Normalized).csv` and `data/environment/Environment_Emissions_intensities_E_All_Data_(Normalized).csv`, the latter because it only contains indicators rather that raw values."
   ]
  },
  {
   "cell_type": "code",
   "execution_count": 9,
   "metadata": {},
   "outputs": [],
   "source": [
    "csv_to_drop = [\"data/environment/Environment_Emissions_by_Sector_E_All_Data_(Normalized).csv\", \n",
    "               \"data/environment/Environment_Emissions_intensities_E_All_Data_(Normalized).csv\", \n",
    "               \"data/production/Production_CropsProcessed_E_All_Data_(Normalized).csv\", \n",
    "               \"data/production/Production_LivestockProcessed_E_All_Data_(Normalized).csv\"]\n",
    "df = df[~df.file.isin(csv_to_drop)]"
   ]
  },
  {
   "cell_type": "code",
   "execution_count": 15,
   "metadata": {},
   "outputs": [],
   "source": [
    "joined = get_discrepancies(df)"
   ]
  },
  {
   "cell_type": "code",
   "execution_count": 16,
   "metadata": {},
   "outputs": [
    {
     "data": {
      "text/html": [
       "<div>\n",
       "<style scoped>\n",
       "    .dataframe tbody tr th:only-of-type {\n",
       "        vertical-align: middle;\n",
       "    }\n",
       "\n",
       "    .dataframe tbody tr th {\n",
       "        vertical-align: top;\n",
       "    }\n",
       "\n",
       "    .dataframe thead th {\n",
       "        text-align: right;\n",
       "    }\n",
       "</style>\n",
       "<table border=\"1\" class=\"dataframe\">\n",
       "  <thead>\n",
       "    <tr style=\"text-align: right;\">\n",
       "      <th></th>\n",
       "      <th>mean_diff</th>\n",
       "      <th>std</th>\n",
       "      <th>csv</th>\n",
       "      <th>num</th>\n",
       "      <th>mean_perc_diff</th>\n",
       "    </tr>\n",
       "  </thead>\n",
       "  <tbody>\n",
       "    <tr>\n",
       "      <th>(Area, 1000 ha)</th>\n",
       "      <td>0.000000e+00</td>\n",
       "      <td>0.000000</td>\n",
       "      <td>{(data/inputs/Inputs_LandUse_E_All_Data_(Norma...</td>\n",
       "      <td>6290</td>\n",
       "      <td>0.000000e+00</td>\n",
       "    </tr>\n",
       "    <tr>\n",
       "      <th>(Manure applied to soils that volatilises (N content), kg)</th>\n",
       "      <td>8.568984e-07</td>\n",
       "      <td>0.000030</td>\n",
       "      <td>{(data/emissions_agriculture/Emissions_Agricul...</td>\n",
       "      <td>119694</td>\n",
       "      <td>3.091777e-05</td>\n",
       "    </tr>\n",
       "    <tr>\n",
       "      <th>(Manure applied to soils that leaches (N content), kg)</th>\n",
       "      <td>-1.824625e-07</td>\n",
       "      <td>0.000031</td>\n",
       "      <td>{(data/emissions_agriculture/Emissions_Agricul...</td>\n",
       "      <td>127883</td>\n",
       "      <td>2.061410e-05</td>\n",
       "    </tr>\n",
       "    <tr>\n",
       "      <th>(Manure applied to soils (N content), kg)</th>\n",
       "      <td>7.303738e-07</td>\n",
       "      <td>0.000031</td>\n",
       "      <td>{(data/emissions_agriculture/Emissions_Agricul...</td>\n",
       "      <td>98108</td>\n",
       "      <td>5.130522e-06</td>\n",
       "    </tr>\n",
       "    <tr>\n",
       "      <th>(Manure left on pasture that volatilises (N content), kg)</th>\n",
       "      <td>1.336092e-06</td>\n",
       "      <td>0.000031</td>\n",
       "      <td>{(data/emissions_agriculture/Emissions_Agricul...</td>\n",
       "      <td>77879</td>\n",
       "      <td>8.938878e-06</td>\n",
       "    </tr>\n",
       "    <tr>\n",
       "      <th>(Manure left on pasture that leaches (N content), kg)</th>\n",
       "      <td>-4.747674e-07</td>\n",
       "      <td>0.000032</td>\n",
       "      <td>{(data/emissions_agriculture/Emissions_Agricul...</td>\n",
       "      <td>88475</td>\n",
       "      <td>6.441224e-06</td>\n",
       "    </tr>\n",
       "    <tr>\n",
       "      <th>(Manure treated (N content), kg)</th>\n",
       "      <td>8.953654e-07</td>\n",
       "      <td>0.000033</td>\n",
       "      <td>{(data/emissions_agriculture/Emissions_Agricul...</td>\n",
       "      <td>49992</td>\n",
       "      <td>9.461075e-06</td>\n",
       "    </tr>\n",
       "    <tr>\n",
       "      <th>(Manure left on pasture (N content), kg)</th>\n",
       "      <td>-5.481813e-07</td>\n",
       "      <td>0.000033</td>\n",
       "      <td>{(data/emissions_agriculture/Emissions_Agricul...</td>\n",
       "      <td>55120</td>\n",
       "      <td>1.751645e-06</td>\n",
       "    </tr>\n",
       "    <tr>\n",
       "      <th>(Area, ha)</th>\n",
       "      <td>4.840766e-05</td>\n",
       "      <td>0.000242</td>\n",
       "      <td>{(data/emissions_agriculture/Emissions_Agricul...</td>\n",
       "      <td>157</td>\n",
       "      <td>1.362119e-07</td>\n",
       "    </tr>\n",
       "    <tr>\n",
       "      <th>(Stocks, Head)</th>\n",
       "      <td>-5.714286e-02</td>\n",
       "      <td>0.998366</td>\n",
       "      <td>{(data/environment/Environment_LivestockManure...</td>\n",
       "      <td>70</td>\n",
       "      <td>5.809386e-03</td>\n",
       "    </tr>\n",
       "  </tbody>\n",
       "</table>\n",
       "</div>"
      ],
      "text/plain": [
       "                                                       mean_diff       std  \\\n",
       "(Area, 1000 ha)                                     0.000000e+00  0.000000   \n",
       "(Manure applied to soils that volatilises (N co...  8.568984e-07  0.000030   \n",
       "(Manure applied to soils that leaches (N conten... -1.824625e-07  0.000031   \n",
       "(Manure applied to soils (N content), kg)           7.303738e-07  0.000031   \n",
       "(Manure left on pasture that volatilises (N con...  1.336092e-06  0.000031   \n",
       "(Manure left on pasture that leaches (N content... -4.747674e-07  0.000032   \n",
       "(Manure treated (N content), kg)                    8.953654e-07  0.000033   \n",
       "(Manure left on pasture (N content), kg)           -5.481813e-07  0.000033   \n",
       "(Area, ha)                                          4.840766e-05  0.000242   \n",
       "(Stocks, Head)                                     -5.714286e-02  0.998366   \n",
       "\n",
       "                                                                                                  csv  \\\n",
       "(Area, 1000 ha)                                     {(data/inputs/Inputs_LandUse_E_All_Data_(Norma...   \n",
       "(Manure applied to soils that volatilises (N co...  {(data/emissions_agriculture/Emissions_Agricul...   \n",
       "(Manure applied to soils that leaches (N conten...  {(data/emissions_agriculture/Emissions_Agricul...   \n",
       "(Manure applied to soils (N content), kg)           {(data/emissions_agriculture/Emissions_Agricul...   \n",
       "(Manure left on pasture that volatilises (N con...  {(data/emissions_agriculture/Emissions_Agricul...   \n",
       "(Manure left on pasture that leaches (N content...  {(data/emissions_agriculture/Emissions_Agricul...   \n",
       "(Manure treated (N content), kg)                    {(data/emissions_agriculture/Emissions_Agricul...   \n",
       "(Manure left on pasture (N content), kg)            {(data/emissions_agriculture/Emissions_Agricul...   \n",
       "(Area, ha)                                          {(data/emissions_agriculture/Emissions_Agricul...   \n",
       "(Stocks, Head)                                      {(data/environment/Environment_LivestockManure...   \n",
       "\n",
       "                                                       num  mean_perc_diff  \n",
       "(Area, 1000 ha)                                       6290    0.000000e+00  \n",
       "(Manure applied to soils that volatilises (N co...  119694    3.091777e-05  \n",
       "(Manure applied to soils that leaches (N conten...  127883    2.061410e-05  \n",
       "(Manure applied to soils (N content), kg)            98108    5.130522e-06  \n",
       "(Manure left on pasture that volatilises (N con...   77879    8.938878e-06  \n",
       "(Manure left on pasture that leaches (N content...   88475    6.441224e-06  \n",
       "(Manure treated (N content), kg)                     49992    9.461075e-06  \n",
       "(Manure left on pasture (N content), kg)             55120    1.751645e-06  \n",
       "(Area, ha)                                             157    1.362119e-07  \n",
       "(Stocks, Head)                                          70    5.809386e-03  "
      ]
     },
     "execution_count": 16,
     "metadata": {},
     "output_type": "execute_result"
    }
   ],
   "source": [
    "discrepancies_2 = get_discrepancies_by_elem(joined, element_mapping)\n",
    "discrepancies_2.sort_values('std')"
   ]
  },
  {
   "cell_type": "markdown",
   "metadata": {},
   "source": [
    "Now, the discrepancies have very low variance, and hence, we can safely drop some duplicate rows according to a rule using the `value` and `flag`"
   ]
  },
  {
   "cell_type": "markdown",
   "metadata": {},
   "source": [
    "#### 2. Taking care of duplicate measurements\n",
    "\n",
    "Now that we have understood where the big differences in duplicates appear, we focus on those that are still here, but are quite small. In order to get rid of duplicate measurements, we will work with a combination of the `value` and `flag` columns."
   ]
  },
  {
   "cell_type": "code",
   "execution_count": 17,
   "metadata": {},
   "outputs": [],
   "source": [
    "def is_close(value_1, value_2, threshold=0.01):\n",
    "    diff = get_percentage_diff(value_1, value_2)\n",
    "    return (value_1 == value_2) | (diff < threshold) | (value_1.isna() & value_2.isna())\n",
    "\n",
    "def is_same_flag(flag_1, flag_2):\n",
    "    return (flag_1 == flag_2) | (flag_1.isna() & flag_2.isna())"
   ]
  },
  {
   "cell_type": "code",
   "execution_count": 19,
   "metadata": {},
   "outputs": [
    {
     "name": "stdout",
     "output_type": "stream",
     "text": [
      "All duplicated measruements' difference are at less than 1%\n"
     ]
    }
   ],
   "source": [
    "if all(is_close(joined['value'], joined['value_2'])):\n",
    "    print(\"All duplicated measruements' difference are at less than 1%\")"
   ]
  },
  {
   "cell_type": "code",
   "execution_count": 20,
   "metadata": {},
   "outputs": [
    {
     "name": "stdout",
     "output_type": "stream",
     "text": [
      "98.98% of duplicated rows have the same flag\n"
     ]
    }
   ],
   "source": [
    "same_flag = joined[is_same_flag(joined.flag, joined.flag_2)]\n",
    "print(\"{:.2f}% of duplicated rows have the same flag\".format(same_flag.shape[0]/ joined.shape[0]*100))"
   ]
  },
  {
   "cell_type": "markdown",
   "metadata": {},
   "source": [
    "Since most duplicated measurements'values are really close, we will take the mean if there are two different values."
   ]
  },
  {
   "cell_type": "code",
   "execution_count": 10,
   "metadata": {},
   "outputs": [],
   "source": [
    "df = df.drop(columns=['file', 'flag']).drop_duplicates().groupby(['areacode', 'itemcode', 'elementcode', 'year'])['value'].mean().reset_index()"
   ]
  },
  {
   "cell_type": "code",
   "execution_count": 33,
   "metadata": {},
   "outputs": [
    {
     "ename": "NameError",
     "evalue": "name 'df' is not defined",
     "output_type": "error",
     "traceback": [
      "\u001b[0;31m---------------------------------------------------------------------------\u001b[0m",
      "\u001b[0;31mNameError\u001b[0m                                 Traceback (most recent call last)",
      "\u001b[0;32m<ipython-input-33-00cf07b74dcd>\u001b[0m in \u001b[0;36m<module>\u001b[0;34m\u001b[0m\n\u001b[0;32m----> 1\u001b[0;31m \u001b[0mdf\u001b[0m\u001b[0;34m\u001b[0m\u001b[0;34m\u001b[0m\u001b[0m\n\u001b[0m",
      "\u001b[0;31mNameError\u001b[0m: name 'df' is not defined"
     ]
    }
   ],
   "source": [
    "df"
   ]
  },
  {
   "cell_type": "markdown",
   "metadata": {},
   "source": [
    "---\n",
    "### B.3 Reshaping measurements as columns\n",
    "---\n",
    "\n",
    "Now that we have unique measurements, we will reshape the dataframe to put each measurement for an item as column, so that for each (`areacode`, `itemcode`, `year`) we have all the measurements as columns."
   ]
  },
  {
   "cell_type": "code",
   "execution_count": 12,
   "metadata": {},
   "outputs": [],
   "source": [
    "reshaped_df = df.set_index(['areacode', 'itemcode', 'elementcode', 'year'])['value'].unstack(level=2).reset_index()"
   ]
  },
  {
   "cell_type": "code",
   "execution_count": 16,
   "metadata": {},
   "outputs": [],
   "source": [
    "reshaped_df.to_pickle(\"data/reshaped_df.pkl\")"
   ]
  },
  {
   "cell_type": "code",
   "execution_count": 111,
   "metadata": {},
   "outputs": [],
   "source": [
    "from utils import get_item\n",
    "cattle = get_item(reshaped_df, 867, areacodes=[21,231])"
   ]
  },
  {
   "cell_type": "code",
   "execution_count": 112,
   "metadata": {},
   "outputs": [
    {
     "data": {
      "text/html": [
       "<div>\n",
       "<style scoped>\n",
       "    .dataframe tbody tr th:only-of-type {\n",
       "        vertical-align: middle;\n",
       "    }\n",
       "\n",
       "    .dataframe tbody tr th {\n",
       "        vertical-align: top;\n",
       "    }\n",
       "\n",
       "    .dataframe thead th {\n",
       "        text-align: right;\n",
       "    }\n",
       "</style>\n",
       "<table border=\"1\" class=\"dataframe\">\n",
       "  <thead>\n",
       "    <tr style=\"text-align: right;\">\n",
       "      <th>elementcode</th>\n",
       "      <th>areacode</th>\n",
       "      <th>itemcode</th>\n",
       "      <th>year</th>\n",
       "      <th>5320</th>\n",
       "      <th>5417</th>\n",
       "      <th>5510</th>\n",
       "    </tr>\n",
       "  </thead>\n",
       "  <tbody>\n",
       "    <tr>\n",
       "      <th>243140</th>\n",
       "      <td>21</td>\n",
       "      <td>867</td>\n",
       "      <td>1961</td>\n",
       "      <td>7141000.0</td>\n",
       "      <td>1917.0</td>\n",
       "      <td>1369078.0</td>\n",
       "    </tr>\n",
       "    <tr>\n",
       "      <th>243141</th>\n",
       "      <td>21</td>\n",
       "      <td>867</td>\n",
       "      <td>1962</td>\n",
       "      <td>6989000.0</td>\n",
       "      <td>1940.0</td>\n",
       "      <td>1355958.0</td>\n",
       "    </tr>\n",
       "    <tr>\n",
       "      <th>243142</th>\n",
       "      <td>21</td>\n",
       "      <td>867</td>\n",
       "      <td>1963</td>\n",
       "      <td>7065000.0</td>\n",
       "      <td>1926.0</td>\n",
       "      <td>1360928.0</td>\n",
       "    </tr>\n",
       "    <tr>\n",
       "      <th>243143</th>\n",
       "      <td>21</td>\n",
       "      <td>867</td>\n",
       "      <td>1964</td>\n",
       "      <td>7523000.0</td>\n",
       "      <td>1910.0</td>\n",
       "      <td>1437185.0</td>\n",
       "    </tr>\n",
       "    <tr>\n",
       "      <th>243144</th>\n",
       "      <td>21</td>\n",
       "      <td>867</td>\n",
       "      <td>1965</td>\n",
       "      <td>7843000.0</td>\n",
       "      <td>1909.0</td>\n",
       "      <td>1496849.0</td>\n",
       "    </tr>\n",
       "  </tbody>\n",
       "</table>\n",
       "</div>"
      ],
      "text/plain": [
       "elementcode  areacode  itemcode  year       5320    5417       5510\n",
       "243140             21       867  1961  7141000.0  1917.0  1369078.0\n",
       "243141             21       867  1962  6989000.0  1940.0  1355958.0\n",
       "243142             21       867  1963  7065000.0  1926.0  1360928.0\n",
       "243143             21       867  1964  7523000.0  1910.0  1437185.0\n",
       "243144             21       867  1965  7843000.0  1909.0  1496849.0"
      ]
     },
     "execution_count": 112,
     "metadata": {},
     "output_type": "execute_result"
    }
   ],
   "source": [
    "cattle.head()"
   ]
  },
  {
   "cell_type": "code",
   "execution_count": 113,
   "metadata": {},
   "outputs": [],
   "source": [
    "from sklearn.linear_model import LinearRegression\n",
    "ls = LinearRegression(fit_intercept=True, normalize=True)"
   ]
  },
  {
   "cell_type": "code",
   "execution_count": 114,
   "metadata": {},
   "outputs": [
    {
     "data": {
      "text/plain": [
       "(('Production', 'tonnes'), 'Meat, cattle')"
      ]
     },
     "execution_count": 114,
     "metadata": {},
     "output_type": "execute_result"
    }
   ],
   "source": [
    "element_mapping[5510], item_mapping[867]"
   ]
  },
  {
   "cell_type": "code",
   "execution_count": 116,
   "metadata": {},
   "outputs": [
    {
     "data": {
      "text/plain": [
       "<matplotlib.axes._subplots.AxesSubplot at 0x7f6076037cd0>"
      ]
     },
     "execution_count": 116,
     "metadata": {},
     "output_type": "execute_result"
    },
    {
     "data": {
      "image/png": "[encoded data removed]",
      "text/plain": [
       "<Figure size 432x288 with 1 Axes>"
      ]
     },
     "metadata": {
      "needs_background": "light"
     },
     "output_type": "display_data"
    }
   ],
   "source": [
    "sns.lineplot(x=cattle.year, y=cattle[5510], hue=\"areacode\", data=cattle, )"
   ]
  },
  {
   "cell_type": "code",
   "execution_count": 117,
   "metadata": {},
   "outputs": [
    {
     "data": {
      "text/plain": [
       "array([ 21, 231])"
      ]
     },
     "execution_count": 117,
     "metadata": {},
     "output_type": "execute_result"
    }
   ],
   "source": [
    "cattle.areacode.unique()"
   ]
  },
  {
   "cell_type": "code",
   "execution_count": 101,
   "metadata": {},
   "outputs": [
    {
     "data": {
      "text/plain": [
       "{2: 'Afghanistan',\n",
       " 5100: 'Africa',\n",
       " 284: 'Ã\\x85land Islands',\n",
       " 3: 'Albania',\n",
       " 4: 'Algeria',\n",
       " 5: 'American Samoa',\n",
       " 5200: 'Americas',\n",
       " 6: 'Andorra',\n",
       " 7: 'Angola',\n",
       " 258: 'Anguilla',\n",
       " 5848: 'Annex I countries',\n",
       " 5600: 'Antarctic Region',\n",
       " 30: 'Antarctica',\n",
       " 8: 'Antigua and Barbuda',\n",
       " 9: 'Argentina',\n",
       " 1: 'Armenia',\n",
       " 22: 'Aruba',\n",
       " 5300: 'Asia',\n",
       " 10: 'Australia',\n",
       " 5501: 'Australia and New Zealand',\n",
       " 11: 'Austria',\n",
       " 52: 'Azerbaijan',\n",
       " 12: 'Bahamas',\n",
       " 13: 'Bahrain',\n",
       " 16: 'Bangladesh',\n",
       " 14: 'Barbados',\n",
       " 57: 'Belarus',\n",
       " 255: 'Belgium',\n",
       " 15: 'Belgium-Luxembourg',\n",
       " 23: 'Belize',\n",
       " 53: 'Benin',\n",
       " 17: 'Bermuda',\n",
       " 18: 'Bhutan',\n",
       " 19: 'Bolivia (Plurinational State of)',\n",
       " 278: 'Bonaire, Sint Eustatius and Saba',\n",
       " 80: 'Bosnia and Herzegovina',\n",
       " 20: 'Botswana',\n",
       " 31: 'Bouvet Island',\n",
       " 21: 'Brazil',\n",
       " 24: 'British Indian Ocean Territory',\n",
       " 239: 'British Virgin Islands',\n",
       " 26: 'Brunei Darussalam',\n",
       " 27: 'Bulgaria',\n",
       " 233: 'Burkina Faso',\n",
       " 29: 'Burundi',\n",
       " 35: 'Cabo Verde',\n",
       " 115: 'Cambodia',\n",
       " 32: 'Cameroon',\n",
       " 33: 'Canada',\n",
       " 5206: 'Caribbean',\n",
       " 36: 'Cayman Islands',\n",
       " 37: 'Central African Republic',\n",
       " 5204: 'Central America',\n",
       " 5301: 'Central Asia',\n",
       " 5306: 'Central Asia and Southern Asia',\n",
       " 39: 'Chad',\n",
       " 259: 'Channel Islands',\n",
       " 40: 'Chile',\n",
       " 351: 'China',\n",
       " 357: 'China (exc. Hong Kong & Macao)',\n",
       " 96: 'China, Hong Kong SAR',\n",
       " 128: 'China, Macao SAR',\n",
       " 41: 'China, mainland',\n",
       " 214: 'China, Taiwan Province of',\n",
       " 42: 'Christmas Island',\n",
       " 43: 'Cocos (Keeling) Islands',\n",
       " 44: 'Colombia',\n",
       " 45: 'Comoros',\n",
       " 46: 'Congo',\n",
       " 47: 'Cook Islands',\n",
       " 48: 'Costa Rica',\n",
       " 107: \"CÃ´te d'Ivoire\",\n",
       " 98: 'Croatia',\n",
       " 49: 'Cuba',\n",
       " 279: 'CuraÃ§ao',\n",
       " 50: 'Cyprus',\n",
       " 167: 'Czechia',\n",
       " 51: 'Czechoslovakia',\n",
       " 116: \"Democratic People's Republic of Korea\",\n",
       " 250: 'Democratic Republic of the Congo',\n",
       " 54: 'Denmark',\n",
       " 72: 'Djibouti',\n",
       " 55: 'Dominica',\n",
       " 56: 'Dominican Republic',\n",
       " 5854: 'East Asia (exc China)',\n",
       " 5101: 'Eastern Africa',\n",
       " 5302: 'Eastern Asia',\n",
       " 5307: 'Eastern Asia and South-eastern Asia',\n",
       " 5401: 'Eastern Europe',\n",
       " 58: 'Ecuador',\n",
       " 59: 'Egypt',\n",
       " 60: 'El Salvador',\n",
       " 61: 'Equatorial Guinea',\n",
       " 178: 'Eritrea',\n",
       " 63: 'Estonia',\n",
       " 209: 'Eswatini',\n",
       " 238: 'Ethiopia',\n",
       " 62: 'Ethiopia PDR',\n",
       " 5400: 'Europe',\n",
       " 5706: 'European Union',\n",
       " 65: 'Falkland Islands (Malvinas)',\n",
       " 64: 'Faroe Islands',\n",
       " 66: 'Fiji',\n",
       " 67: 'Finland',\n",
       " 68: 'France',\n",
       " 69: 'French Guiana',\n",
       " 70: 'French Polynesia',\n",
       " 71: 'French Southern and Antarctic Territories',\n",
       " 74: 'Gabon',\n",
       " 75: 'Gambia',\n",
       " 73: 'Georgia',\n",
       " 79: 'Germany',\n",
       " 78: 'Germany Fr',\n",
       " 77: 'Germany Nl',\n",
       " 81: 'Ghana',\n",
       " 82: 'Gibraltar',\n",
       " 84: 'Greece',\n",
       " 85: 'Greenland',\n",
       " 86: 'Grenada',\n",
       " 87: 'Guadeloupe',\n",
       " 88: 'Guam',\n",
       " 89: 'Guatemala',\n",
       " 90: 'Guinea',\n",
       " 175: 'Guinea-Bissau',\n",
       " 91: 'Guyana',\n",
       " 93: 'Haiti',\n",
       " 92: 'Heard and McDonald Islands',\n",
       " 9010: 'High-income economies',\n",
       " 94: 'Holy See',\n",
       " 95: 'Honduras',\n",
       " 97: 'Hungary',\n",
       " 99: 'Iceland',\n",
       " 100: 'India',\n",
       " 101: 'Indonesia',\n",
       " 102: 'Iran (Islamic Republic of)',\n",
       " 103: 'Iraq',\n",
       " 104: 'Ireland',\n",
       " 264: 'Isle of Man',\n",
       " 105: 'Israel',\n",
       " 106: 'Italy',\n",
       " 109: 'Jamaica',\n",
       " 110: 'Japan',\n",
       " 283: 'Jersey',\n",
       " 111: 'Johnston Island',\n",
       " 112: 'Jordan',\n",
       " 108: 'Kazakhstan',\n",
       " 114: 'Kenya',\n",
       " 83: 'Kiribati',\n",
       " 275: 'Kosovo',\n",
       " 118: 'Kuwait',\n",
       " 113: 'Kyrgyzstan',\n",
       " 5802: 'Land Locked Developing Countries',\n",
       " 120: \"Lao People's Democratic Republic\",\n",
       " 5205: 'Latin America and the Caribbean',\n",
       " 119: 'Latvia',\n",
       " 5801: 'Least Developed Countries',\n",
       " 121: 'Lebanon',\n",
       " 122: 'Lesotho',\n",
       " 123: 'Liberia',\n",
       " 124: 'Libya',\n",
       " 125: 'Liechtenstein',\n",
       " 126: 'Lithuania',\n",
       " 5858: 'Low income economies',\n",
       " 5815: 'Low Income Food Deficit Countries',\n",
       " 5859: 'Lower-middle-income economies',\n",
       " 256: 'Luxembourg',\n",
       " 129: 'Madagascar',\n",
       " 130: 'Malawi',\n",
       " 131: 'Malaysia',\n",
       " 132: 'Maldives',\n",
       " 133: 'Mali',\n",
       " 134: 'Malta',\n",
       " 127: 'Marshall Islands',\n",
       " 135: 'Martinique',\n",
       " 136: 'Mauritania',\n",
       " 137: 'Mauritius',\n",
       " 270: 'Mayotte',\n",
       " 5502: 'Melanesia',\n",
       " 138: 'Mexico',\n",
       " 5503: 'Micronesia',\n",
       " 145: 'Micronesia (Federated States of)',\n",
       " 5102: 'Middle Africa',\n",
       " 139: 'Midway Island',\n",
       " 140: 'Monaco',\n",
       " 141: 'Mongolia',\n",
       " 273: 'Montenegro',\n",
       " 142: 'Montserrat',\n",
       " 143: 'Morocco',\n",
       " 144: 'Mozambique',\n",
       " 28: 'Myanmar',\n",
       " 147: 'Namibia',\n",
       " 148: 'Nauru',\n",
       " 149: 'Nepal',\n",
       " 5817: 'Net Food Importing Developing Countries',\n",
       " 150: 'Netherlands',\n",
       " 151: 'Netherlands Antilles (former)',\n",
       " 153: 'New Caledonia',\n",
       " 156: 'New Zealand',\n",
       " 157: 'Nicaragua',\n",
       " 158: 'Niger',\n",
       " 159: 'Nigeria',\n",
       " 160: 'Niue',\n",
       " 5849: 'Non-Annex I countries',\n",
       " 161: 'Norfolk Island',\n",
       " 429: 'North Africa (exc Sudan)',\n",
       " 154: 'North Macedonia',\n",
       " 5103: 'Northern Africa',\n",
       " 5203: 'Northern America',\n",
       " 5208: 'Northern America and Europe',\n",
       " 5402: 'Northern Europe',\n",
       " 163: 'Northern Mariana Islands',\n",
       " 162: 'Norway',\n",
       " 5500: 'Oceania',\n",
       " 5807: 'Oceania excluding Australia and New Zealand',\n",
       " 5873: 'OECD',\n",
       " 221: 'Oman',\n",
       " 164: 'Pacific Islands Trust Territory',\n",
       " 165: 'Pakistan',\n",
       " 180: 'Palau',\n",
       " 299: 'Palestine',\n",
       " 166: 'Panama',\n",
       " 168: 'Papua New Guinea',\n",
       " 169: 'Paraguay',\n",
       " 170: 'Peru',\n",
       " 171: 'Philippines',\n",
       " 172: 'Pitcairn Islands',\n",
       " 173: 'Poland',\n",
       " 5504: 'Polynesia',\n",
       " 174: 'Portugal',\n",
       " 177: 'Puerto Rico',\n",
       " 179: 'Qatar',\n",
       " 117: 'Republic of Korea',\n",
       " 146: 'Republic of Moldova',\n",
       " 182: 'RÃ©union',\n",
       " 183: 'Romania',\n",
       " 185: 'Russian Federation',\n",
       " 184: 'Rwanda',\n",
       " 282: 'Saint BarthÃ©lemy',\n",
       " 187: 'Saint Helena, Ascension and Tristan da Cunha',\n",
       " 188: 'Saint Kitts and Nevis',\n",
       " 189: 'Saint Lucia',\n",
       " 190: 'Saint Pierre and Miquelon',\n",
       " 191: 'Saint Vincent and the Grenadines',\n",
       " 281: 'Saint-Martin (French Part)',\n",
       " 244: 'Samoa',\n",
       " 192: 'San Marino',\n",
       " 193: 'Sao Tome and Principe',\n",
       " 194: 'Saudi Arabia',\n",
       " 195: 'Senegal',\n",
       " 272: 'Serbia',\n",
       " 286: 'Serbia (exc Kosovo)',\n",
       " 186: 'Serbia and Montenegro',\n",
       " 196: 'Seychelles',\n",
       " 197: 'Sierra Leone',\n",
       " 200: 'Singapore',\n",
       " 280: 'Sint Maarten (Dutch Part)',\n",
       " 199: 'Slovakia',\n",
       " 198: 'Slovenia',\n",
       " 5803: 'Small Island Developing States',\n",
       " 25: 'Solomon Islands',\n",
       " 201: 'Somalia',\n",
       " 202: 'South Africa',\n",
       " 5207: 'South America',\n",
       " 5855: 'South Asia (exc India)',\n",
       " 271: 'South Georgia and the South Sandwich Islands',\n",
       " 277: 'South Sudan',\n",
       " 5304: 'South-Eastern Asia',\n",
       " 5104: 'Southern Africa',\n",
       " 5303: 'Southern Asia',\n",
       " 5403: 'Southern Europe',\n",
       " 203: 'Spain',\n",
       " 38: 'Sri Lanka',\n",
       " 420: 'Sub-Saharan Africa',\n",
       " 5810: 'Sub-Saharan Africa (including Sudan)',\n",
       " 276: 'Sudan',\n",
       " 206: 'Sudan (former)',\n",
       " 207: 'Suriname',\n",
       " 260: 'Svalbard and Jan Mayen Islands',\n",
       " 210: 'Sweden',\n",
       " 211: 'Switzerland',\n",
       " 212: 'Syrian Arab Republic',\n",
       " 208: 'Tajikistan',\n",
       " 216: 'Thailand',\n",
       " 176: 'Timor-Leste',\n",
       " 217: 'Togo',\n",
       " 218: 'Tokelau',\n",
       " 219: 'Tonga',\n",
       " 220: 'Trinidad and Tobago',\n",
       " 222: 'Tunisia',\n",
       " 223: 'Turkey',\n",
       " 213: 'Turkmenistan',\n",
       " 224: 'Turks and Caicos Islands',\n",
       " 227: 'Tuvalu',\n",
       " 226: 'Uganda',\n",
       " 230: 'Ukraine',\n",
       " 225: 'United Arab Emirates',\n",
       " 229: 'United Kingdom',\n",
       " 215: 'United Republic of Tanzania',\n",
       " 231: 'United States of America',\n",
       " 240: 'United States Virgin Islands',\n",
       " 9011: 'Upper-middle-income economies',\n",
       " 234: 'Uruguay',\n",
       " 232: 'US Minor Is.',\n",
       " 228: 'USSR',\n",
       " 235: 'Uzbekistan',\n",
       " 155: 'Vanuatu',\n",
       " 236: 'Venezuela (Bolivarian Republic of)',\n",
       " 237: 'Viet Nam',\n",
       " 242: 'Wake Island',\n",
       " 243: 'Wallis and Futuna Islands',\n",
       " 5105: 'Western Africa',\n",
       " 5305: 'Western Asia',\n",
       " 5308: 'Western Asia and Northern Africa',\n",
       " 5404: 'Western Europe',\n",
       " 205: 'Western Sahara',\n",
       " 5000: 'World',\n",
       " 249: 'Yemen',\n",
       " 246: 'Yemen Ar Rp',\n",
       " 247: 'Yemen Dem',\n",
       " 248: 'Yugoslav SFR',\n",
       " 251: 'Zambia',\n",
       " 181: 'Zimbabwe'}"
      ]
     },
     "execution_count": 101,
     "metadata": {},
     "output_type": "execute_result"
    }
   ],
   "source": [
    "area_mapping"
   ]
  },
  {
   "cell_type": "code",
   "execution_count": 65,
   "metadata": {},
   "outputs": [],
   "source": [
    "ls = ls.fit(X=cattle[5111].values.reshape(-1,1)[:-100], y=cattle[72254][:-100])"
   ]
  },
  {
   "cell_type": "code",
   "execution_count": 66,
   "metadata": {},
   "outputs": [],
   "source": [
    "pred = ls.predict(cattle[5111].values.reshape(-1, 1)[-100:])"
   ]
  },
  {
   "cell_type": "code",
   "execution_count": 67,
   "metadata": {},
   "outputs": [],
   "source": [
    "err = pred - cattle[72254][-100:].values"
   ]
  },
  {
   "cell_type": "code",
   "execution_count": 73,
   "metadata": {},
   "outputs": [],
   "source": [
    "import seaborn as sns"
   ]
  },
  {
   "cell_type": "code",
   "execution_count": 84,
   "metadata": {},
   "outputs": [
    {
     "data": {
      "text/plain": [
       "<matplotlib.axes._subplots.AxesSubplot at 0x7f6076afb510>"
      ]
     },
     "execution_count": 84,
     "metadata": {},
     "output_type": "execute_result"
    },
    {
     "data": {
      "image/png": "[encoded data removed]",
      "text/plain": [
       "<Figure size 432x288 with 1 Axes>"
      ]
     },
     "metadata": {
      "needs_background": "light"
     },
     "output_type": "display_data"
    }
   ],
   "source": [
    "sns.scatterplot(x=cattle[5111], y=cattle[72254], hue=cattle.areacode)"
   ]
  },
  {
   "cell_type": "code",
   "execution_count": 82,
   "metadata": {},
   "outputs": [
    {
     "ename": "KeyError",
     "evalue": "'5111'",
     "output_type": "error",
     "traceback": [
      "\u001b[0;31m---------------------------------------------------------------------------\u001b[0m",
      "\u001b[0;31mKeyError\u001b[0m                                  Traceback (most recent call last)",
      "\u001b[0;32m~/anaconda3/envs/ada/lib/python3.7/site-packages/pandas/core/indexes/base.py\u001b[0m in \u001b[0;36mget_loc\u001b[0;34m(self, key, method, tolerance)\u001b[0m\n\u001b[1;32m   2896\u001b[0m             \u001b[0;32mtry\u001b[0m\u001b[0;34m:\u001b[0m\u001b[0;34m\u001b[0m\u001b[0;34m\u001b[0m\u001b[0m\n\u001b[0;32m-> 2897\u001b[0;31m                 \u001b[0;32mreturn\u001b[0m \u001b[0mself\u001b[0m\u001b[0;34m.\u001b[0m\u001b[0m_engine\u001b[0m\u001b[0;34m.\u001b[0m\u001b[0mget_loc\u001b[0m\u001b[0;34m(\u001b[0m\u001b[0mkey\u001b[0m\u001b[0;34m)\u001b[0m\u001b[0;34m\u001b[0m\u001b[0;34m\u001b[0m\u001b[0m\n\u001b[0m\u001b[1;32m   2898\u001b[0m             \u001b[0;32mexcept\u001b[0m \u001b[0mKeyError\u001b[0m\u001b[0;34m:\u001b[0m\u001b[0;34m\u001b[0m\u001b[0;34m\u001b[0m\u001b[0m\n",
      "\u001b[0;32mpandas/_libs/index.pyx\u001b[0m in \u001b[0;36mpandas._libs.index.IndexEngine.get_loc\u001b[0;34m()\u001b[0m\n",
      "\u001b[0;32mpandas/_libs/index.pyx\u001b[0m in \u001b[0;36mpandas._libs.index.IndexEngine.get_loc\u001b[0;34m()\u001b[0m\n",
      "\u001b[0;32mpandas/_libs/hashtable_class_helper.pxi\u001b[0m in \u001b[0;36mpandas._libs.hashtable.PyObjectHashTable.get_item\u001b[0;34m()\u001b[0m\n",
      "\u001b[0;32mpandas/_libs/hashtable_class_helper.pxi\u001b[0m in \u001b[0;36mpandas._libs.hashtable.PyObjectHashTable.get_item\u001b[0;34m()\u001b[0m\n",
      "\u001b[0;31mKeyError\u001b[0m: '5111'",
      "\nDuring handling of the above exception, another exception occurred:\n",
      "\u001b[0;31mKeyError\u001b[0m                                  Traceback (most recent call last)",
      "\u001b[0;32m<ipython-input-82-f95ad1283c92>\u001b[0m in \u001b[0;36m<module>\u001b[0;34m\u001b[0m\n\u001b[0;32m----> 1\u001b[0;31m \u001b[0mcattle\u001b[0m\u001b[0;34m[\u001b[0m\u001b[0;34m\"5111\"\u001b[0m\u001b[0;34m]\u001b[0m\u001b[0;34m\u001b[0m\u001b[0;34m\u001b[0m\u001b[0m\n\u001b[0m",
      "\u001b[0;32m~/anaconda3/envs/ada/lib/python3.7/site-packages/pandas/core/frame.py\u001b[0m in \u001b[0;36m__getitem__\u001b[0;34m(self, key)\u001b[0m\n\u001b[1;32m   2993\u001b[0m             \u001b[0;32mif\u001b[0m \u001b[0mself\u001b[0m\u001b[0;34m.\u001b[0m\u001b[0mcolumns\u001b[0m\u001b[0;34m.\u001b[0m\u001b[0mnlevels\u001b[0m \u001b[0;34m>\u001b[0m \u001b[0;36m1\u001b[0m\u001b[0;34m:\u001b[0m\u001b[0;34m\u001b[0m\u001b[0;34m\u001b[0m\u001b[0m\n\u001b[1;32m   2994\u001b[0m                 \u001b[0;32mreturn\u001b[0m \u001b[0mself\u001b[0m\u001b[0;34m.\u001b[0m\u001b[0m_getitem_multilevel\u001b[0m\u001b[0;34m(\u001b[0m\u001b[0mkey\u001b[0m\u001b[0;34m)\u001b[0m\u001b[0;34m\u001b[0m\u001b[0;34m\u001b[0m\u001b[0m\n\u001b[0;32m-> 2995\u001b[0;31m             \u001b[0mindexer\u001b[0m \u001b[0;34m=\u001b[0m \u001b[0mself\u001b[0m\u001b[0;34m.\u001b[0m\u001b[0mcolumns\u001b[0m\u001b[0;34m.\u001b[0m\u001b[0mget_loc\u001b[0m\u001b[0;34m(\u001b[0m\u001b[0mkey\u001b[0m\u001b[0;34m)\u001b[0m\u001b[0;34m\u001b[0m\u001b[0;34m\u001b[0m\u001b[0m\n\u001b[0m\u001b[1;32m   2996\u001b[0m             \u001b[0;32mif\u001b[0m \u001b[0mis_integer\u001b[0m\u001b[0;34m(\u001b[0m\u001b[0mindexer\u001b[0m\u001b[0;34m)\u001b[0m\u001b[0;34m:\u001b[0m\u001b[0;34m\u001b[0m\u001b[0;34m\u001b[0m\u001b[0m\n\u001b[1;32m   2997\u001b[0m                 \u001b[0mindexer\u001b[0m \u001b[0;34m=\u001b[0m \u001b[0;34m[\u001b[0m\u001b[0mindexer\u001b[0m\u001b[0;34m]\u001b[0m\u001b[0;34m\u001b[0m\u001b[0;34m\u001b[0m\u001b[0m\n",
      "\u001b[0;32m~/anaconda3/envs/ada/lib/python3.7/site-packages/pandas/core/indexes/base.py\u001b[0m in \u001b[0;36mget_loc\u001b[0;34m(self, key, method, tolerance)\u001b[0m\n\u001b[1;32m   2897\u001b[0m                 \u001b[0;32mreturn\u001b[0m \u001b[0mself\u001b[0m\u001b[0;34m.\u001b[0m\u001b[0m_engine\u001b[0m\u001b[0;34m.\u001b[0m\u001b[0mget_loc\u001b[0m\u001b[0;34m(\u001b[0m\u001b[0mkey\u001b[0m\u001b[0;34m)\u001b[0m\u001b[0;34m\u001b[0m\u001b[0;34m\u001b[0m\u001b[0m\n\u001b[1;32m   2898\u001b[0m             \u001b[0;32mexcept\u001b[0m \u001b[0mKeyError\u001b[0m\u001b[0;34m:\u001b[0m\u001b[0;34m\u001b[0m\u001b[0;34m\u001b[0m\u001b[0m\n\u001b[0;32m-> 2899\u001b[0;31m                 \u001b[0;32mreturn\u001b[0m \u001b[0mself\u001b[0m\u001b[0;34m.\u001b[0m\u001b[0m_engine\u001b[0m\u001b[0;34m.\u001b[0m\u001b[0mget_loc\u001b[0m\u001b[0;34m(\u001b[0m\u001b[0mself\u001b[0m\u001b[0;34m.\u001b[0m\u001b[0m_maybe_cast_indexer\u001b[0m\u001b[0;34m(\u001b[0m\u001b[0mkey\u001b[0m\u001b[0;34m)\u001b[0m\u001b[0;34m)\u001b[0m\u001b[0;34m\u001b[0m\u001b[0;34m\u001b[0m\u001b[0m\n\u001b[0m\u001b[1;32m   2900\u001b[0m         \u001b[0mindexer\u001b[0m \u001b[0;34m=\u001b[0m \u001b[0mself\u001b[0m\u001b[0;34m.\u001b[0m\u001b[0mget_indexer\u001b[0m\u001b[0;34m(\u001b[0m\u001b[0;34m[\u001b[0m\u001b[0mkey\u001b[0m\u001b[0;34m]\u001b[0m\u001b[0;34m,\u001b[0m \u001b[0mmethod\u001b[0m\u001b[0;34m=\u001b[0m\u001b[0mmethod\u001b[0m\u001b[0;34m,\u001b[0m \u001b[0mtolerance\u001b[0m\u001b[0;34m=\u001b[0m\u001b[0mtolerance\u001b[0m\u001b[0;34m)\u001b[0m\u001b[0;34m\u001b[0m\u001b[0;34m\u001b[0m\u001b[0m\n\u001b[1;32m   2901\u001b[0m         \u001b[0;32mif\u001b[0m \u001b[0mindexer\u001b[0m\u001b[0;34m.\u001b[0m\u001b[0mndim\u001b[0m \u001b[0;34m>\u001b[0m \u001b[0;36m1\u001b[0m \u001b[0;32mor\u001b[0m \u001b[0mindexer\u001b[0m\u001b[0;34m.\u001b[0m\u001b[0msize\u001b[0m \u001b[0;34m>\u001b[0m \u001b[0;36m1\u001b[0m\u001b[0;34m:\u001b[0m\u001b[0;34m\u001b[0m\u001b[0;34m\u001b[0m\u001b[0m\n",
      "\u001b[0;32mpandas/_libs/index.pyx\u001b[0m in \u001b[0;36mpandas._libs.index.IndexEngine.get_loc\u001b[0;34m()\u001b[0m\n",
      "\u001b[0;32mpandas/_libs/index.pyx\u001b[0m in \u001b[0;36mpandas._libs.index.IndexEngine.get_loc\u001b[0;34m()\u001b[0m\n",
      "\u001b[0;32mpandas/_libs/hashtable_class_helper.pxi\u001b[0m in \u001b[0;36mpandas._libs.hashtable.PyObjectHashTable.get_item\u001b[0;34m()\u001b[0m\n",
      "\u001b[0;32mpandas/_libs/hashtable_class_helper.pxi\u001b[0m in \u001b[0;36mpandas._libs.hashtable.PyObjectHashTable.get_item\u001b[0;34m()\u001b[0m\n",
      "\u001b[0;31mKeyError\u001b[0m: '5111'"
     ]
    }
   ],
   "source": [
    "cattle[\"5111\"]"
   ]
  },
  {
   "cell_type": "code",
   "execution_count": 80,
   "metadata": {},
   "outputs": [
    {
     "data": {
      "text/plain": [
       "array([  1,   2,   3,   4,   5,   7,   8,   9,  10,  11,  12,  13,  14,\n",
       "        15,  16,  17,  18,  19,  20,  21,  23,  25,  26,  27,  28,  29,\n",
       "        32,  33,  35,  36,  37,  38,  39,  40,  41,  44,  45,  46,  47,\n",
       "        48,  49,  50,  51,  52,  53,  54,  55,  56,  57,  58,  59,  60,\n",
       "        61,  62,  63,  64,  65,  66,  67,  68,  69,  70,  72,  73,  74,\n",
       "        75,  79,  80,  81,  84,  85,  86,  87,  88,  89,  90,  91,  93,\n",
       "        95,  96,  97,  98,  99, 100, 101, 102, 103, 104, 105, 106, 107,\n",
       "       108, 109, 110, 112, 113, 114, 115, 116, 117, 118, 119, 120, 121,\n",
       "       122, 123, 124, 125, 126, 129, 130, 131, 133, 134, 135, 136, 137,\n",
       "       138, 141, 142, 143, 144, 145, 146, 147, 149, 150, 151, 153, 154,\n",
       "       155, 156, 157, 158, 159, 160, 161, 162, 164, 165, 166, 167, 168,\n",
       "       169, 170, 171, 173, 174, 175, 176, 177, 178, 179, 181, 182, 183,\n",
       "       184, 185, 186, 187, 188, 189, 190, 191, 193, 194, 195, 196, 197,\n",
       "       198, 199, 200, 201, 202, 203, 205, 206, 207, 208, 209, 210, 211,\n",
       "       212, 213, 214, 215, 216, 217, 219, 220, 221, 222, 223, 225, 226,\n",
       "       228, 229, 230, 231, 233, 234, 235, 236, 237, 238, 239, 240, 243,\n",
       "       244, 248, 249, 250, 251, 255, 256, 272, 273, 276, 277, 299, 351])"
      ]
     },
     "execution_count": 80,
     "metadata": {},
     "output_type": "execute_result"
    }
   ],
   "source": [
    "cattle.areacode.unique()"
   ]
  },
  {
   "cell_type": "code",
   "execution_count": null,
   "metadata": {},
   "outputs": [],
   "source": []
  }
 ],
 "metadata": {
  "kernelspec": {
   "display_name": "Python (ADA)",
   "language": "python",
   "name": "ada"
  },
  "language_info": {
   "codemirror_mode": {
    "name": "ipython",
    "version": 3
   },
   "file_extension": ".py",
   "mimetype": "text/x-python",
   "name": "python",
   "nbconvert_exporter": "python",
   "pygments_lexer": "ipython3",
   "version": "3.7.4"
  }
 },
 "nbformat": 4,
 "nbformat_minor": 2
}
