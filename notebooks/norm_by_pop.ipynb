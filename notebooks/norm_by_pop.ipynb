{
 "cells": [
  {
   "cell_type": "code",
   "execution_count": 44,
   "metadata": {},
   "outputs": [],
   "source": [
    "import pandas as pd\n",
    "from data_processing import load_dataframe"
   ]
  },
  {
   "cell_type": "code",
   "execution_count": 42,
   "metadata": {},
   "outputs": [],
   "source": [
    "df = load_dataframe(\"data/emissions_agriculture/Emissions_Agriculture_Agriculture_total_E_All_Data_(Normalized).csv\")\n",
    "def normalize_by_population(df):\n",
    "    pop = load_dataframe(\"data/Population_E_All_Data_(Normalized).csv\")\n",
    "    pop = pop[pop.element == \"Total Population - Both sexes\"]\\\n",
    "            .drop([\"area\",\"itemcode\",\"item\",\"elementcode\",\"element\",\"year\", \"unit\", \"flag\", \"note\"], axis = 1)\\\n",
    "            .rename({\"value\":\"pop\"}, axis = 1)\n",
    "    df = df.merge(pop, on = [\"yearcode\",\"areacode\"])\n",
    "    df[\"value_norm\"] = df.apply(lambda x: x[\"value\"]/x[\"pop\"], axis = 1)\n",
    "    return df"
   ]
  },
  {
   "cell_type": "code",
   "execution_count": 43,
   "metadata": {},
   "outputs": [],
   "source": [
    "test = normalize_by_population(df)"
   ]
  }
 ],
 "metadata": {
  "kernelspec": {
   "display_name": "Python 3",
   "language": "python",
   "name": "python3"
  },
  "language_info": {
   "codemirror_mode": {
    "name": "ipython",
    "version": 3
   },
   "file_extension": ".py",
   "mimetype": "text/x-python",
   "name": "python",
   "nbconvert_exporter": "python",
   "pygments_lexer": "ipython3",
   "version": "3.7.1"
  }
 },
 "nbformat": 4,
 "nbformat_minor": 4
}
