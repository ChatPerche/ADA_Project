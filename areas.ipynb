{
 "cells": [
  {
   "cell_type": "code",
   "execution_count": 2,
   "metadata": {},
   "outputs": [],
   "source": [
    "import pandas as pd\n",
    "import numpy as np\n",
    "from data_processing import load_dataframe\n",
    "import os"
   ]
  },
  {
   "cell_type": "markdown",
   "metadata": {},
   "source": [
    "# Investigating missing values: years"
   ]
  },
  {
   "cell_type": "code",
   "execution_count": 11,
   "metadata": {},
   "outputs": [],
   "source": [
    "dir = os.getcwd() + \"\\data\"\n",
    "countries = load_dataframe(dir + \"\\Countries.csv\")\n",
    "areas = load_dataframe(dir + \"\\Areas.csv\").drop(['m49code', 'iso2code'], axis = 1)"
   ]
  },
  {
   "cell_type": "markdown",
   "metadata": {},
   "source": [
    "# Looking at countrie with missing year records"
   ]
  },
  {
   "cell_type": "code",
   "execution_count": 141,
   "metadata": {},
   "outputs": [
    {
     "data": {
      "text/html": [
       "<div>\n",
       "<style scoped>\n",
       "    .dataframe tbody tr th:only-of-type {\n",
       "        vertical-align: middle;\n",
       "    }\n",
       "\n",
       "    .dataframe tbody tr th {\n",
       "        vertical-align: top;\n",
       "    }\n",
       "\n",
       "    .dataframe thead th {\n",
       "        text-align: right;\n",
       "    }\n",
       "</style>\n",
       "<table border=\"1\" class=\"dataframe\">\n",
       "  <thead>\n",
       "    <tr style=\"text-align: right;\">\n",
       "      <th></th>\n",
       "      <th>areacode</th>\n",
       "      <th>area</th>\n",
       "      <th>itemcode</th>\n",
       "      <th>item</th>\n",
       "      <th>elementcode</th>\n",
       "      <th>element</th>\n",
       "      <th>yearcode</th>\n",
       "      <th>year</th>\n",
       "      <th>unit</th>\n",
       "      <th>value</th>\n",
       "      <th>flag</th>\n",
       "      <th>note</th>\n",
       "    </tr>\n",
       "  </thead>\n",
       "  <tbody>\n",
       "    <tr>\n",
       "      <th>0</th>\n",
       "      <td>2</td>\n",
       "      <td>Afghanistan</td>\n",
       "      <td>5058</td>\n",
       "      <td>Enteric Fermentation</td>\n",
       "      <td>7225</td>\n",
       "      <td>Emissions (CH4)</td>\n",
       "      <td>1961</td>\n",
       "      <td>1961</td>\n",
       "      <td>Gigagrams</td>\n",
       "      <td>240.6831</td>\n",
       "      <td>A</td>\n",
       "      <td>NaN</td>\n",
       "    </tr>\n",
       "  </tbody>\n",
       "</table>\n",
       "</div>"
      ],
      "text/plain": [
       "   areacode         area  itemcode                  item  elementcode  ...  year       unit     value flag  note\n",
       "0         2  Afghanistan      5058  Enteric Fermentation         7225  ...  1961  Gigagrams  240.6831    A   NaN\n",
       "\n",
       "[1 rows x 12 columns]"
      ]
     },
     "execution_count": 141,
     "metadata": {},
     "output_type": "execute_result"
    }
   ],
   "source": [
    "sample.head(1)"
   ]
  },
  {
   "cell_type": "code",
   "execution_count": 143,
   "metadata": {},
   "outputs": [
    {
     "name": "stdout",
     "output_type": "stream",
     "text": [
      "1961 2050\n"
     ]
    }
   ],
   "source": [
    "# should take all mighty total merged df\n",
    "# for now lets load a random one\n",
    "sample = load_dataframe(dir + \"/emissions_agriculture\\Emissions_Agriculture_Agriculture_total_E_All_Data_(Normalized).csv\")\\\n",
    "    .drop([\"areacode\",\"itemcode\",\"elementcode\",\"yearcode\",\"note\"], axis = 1)\n",
    "print(sample.year.min(), sample.year.max())"
   ]
  },
  {
   "cell_type": "code",
   "execution_count": 152,
   "metadata": {},
   "outputs": [
    {
     "name": "stdout",
     "output_type": "stream",
     "text": [
      "1961 2017\n"
     ]
    }
   ],
   "source": [
    "# remove data points occuring after 2017\n",
    "sample = sample[sample.year < 2019]\n",
    "print(sample.year.min(), sample.year.max())"
   ]
  },
  {
   "cell_type": "code",
   "execution_count": 101,
   "metadata": {},
   "outputs": [
    {
     "data": {
      "text/html": [
       "<div>\n",
       "<style scoped>\n",
       "    .dataframe tbody tr th:only-of-type {\n",
       "        vertical-align: middle;\n",
       "    }\n",
       "\n",
       "    .dataframe tbody tr th {\n",
       "        vertical-align: top;\n",
       "    }\n",
       "\n",
       "    .dataframe thead th {\n",
       "        text-align: right;\n",
       "    }\n",
       "</style>\n",
       "<table border=\"1\" class=\"dataframe\">\n",
       "  <thead>\n",
       "    <tr style=\"text-align: right;\">\n",
       "      <th></th>\n",
       "      <th>year</th>\n",
       "    </tr>\n",
       "  </thead>\n",
       "  <tbody>\n",
       "    <tr>\n",
       "      <th>count</th>\n",
       "      <td>10601.000000</td>\n",
       "    </tr>\n",
       "    <tr>\n",
       "      <th>mean</th>\n",
       "      <td>46.935289</td>\n",
       "    </tr>\n",
       "    <tr>\n",
       "      <th>std</th>\n",
       "      <td>14.938729</td>\n",
       "    </tr>\n",
       "    <tr>\n",
       "      <th>min</th>\n",
       "      <td>1.000000</td>\n",
       "    </tr>\n",
       "    <tr>\n",
       "      <th>25%</th>\n",
       "      <td>28.000000</td>\n",
       "    </tr>\n",
       "    <tr>\n",
       "      <th>50%</th>\n",
       "      <td>57.000000</td>\n",
       "    </tr>\n",
       "    <tr>\n",
       "      <th>75%</th>\n",
       "      <td>57.000000</td>\n",
       "    </tr>\n",
       "    <tr>\n",
       "      <th>max</th>\n",
       "      <td>57.000000</td>\n",
       "    </tr>\n",
       "  </tbody>\n",
       "</table>\n",
       "</div>"
      ],
      "text/plain": [
       "               year\n",
       "count  10601.000000\n",
       "mean      46.935289\n",
       "std       14.938729\n",
       "min        1.000000\n",
       "25%       28.000000\n",
       "50%       57.000000\n",
       "75%       57.000000\n",
       "max       57.000000"
      ]
     },
     "execution_count": 101,
     "metadata": {},
     "output_type": "execute_result"
    }
   ],
   "source": [
    "sample.groupby([\"area\",\"item\",\"element\"]).agg({\"year\":\"count\"}).reset_index().describe()\n",
    "# clearly, different countries have different number of values over the total year range"
   ]
  },
  {
   "cell_type": "code",
   "execution_count": 104,
   "metadata": {},
   "outputs": [
    {
     "data": {
      "text/plain": [
       "57"
      ]
     },
     "execution_count": 104,
     "metadata": {},
     "output_type": "execute_result"
    }
   ],
   "source": [
    "# 50% quantile has 57 values as expected\n",
    "# need to investigate the rest.\n",
    "sample.year.max()- sample.year.min() + 1"
   ]
  },
  {
   "cell_type": "markdown",
   "metadata": {},
   "source": [
    "# Explaining all country formation + dissolution"
   ]
  },
  {
   "cell_type": "code",
   "execution_count": 21,
   "metadata": {},
   "outputs": [
    {
     "name": "stdout",
     "output_type": "stream",
     "text": [
      " start : [1992. 2000. 1993. 1991. 2006. 2012.] \n",
      " \n",
      " end : [1999. 1992. 2010. 1990. 2005. 2011. 1991.]\n"
     ]
    }
   ],
   "source": [
    "start = areas[~areas.startyear.isnull()]\n",
    "end = areas[~areas.endyear.isnull()]\n",
    "print(\" start : {} \\n \\n end : {}\".format(start.startyear.unique(), end.endyear.unique()))"
   ]
  },
  {
   "cell_type": "code",
   "execution_count": 16,
   "metadata": {},
   "outputs": [],
   "source": [
    "check_end = list(end.country)\n",
    "check_start = list(start.country)"
   ]
  },
  {
   "cell_type": "code",
   "execution_count": 59,
   "metadata": {},
   "outputs": [],
   "source": [
    "# Yugoslavia republic split in 1991 --> 1992, new countries\n",
    "ysfr  = ['Bosnia and Herzegovina', 'Croatia', 'North Macedonia', 'Serbia and Montenegro', 'Slovenia']\n",
    "ysfr_og = ['Yugoslav SFR']\n",
    "\n",
    "# USSR into different countries in 1991 --> 1992, new countries\n",
    "ussr  = ['Lithuania', 'Estonia', 'Latvia', 'Armenia', 'Georgia', 'Ukraine', 'Belarus', \\\n",
    "         'Republic of Moldova', 'Kyrgyzstan', 'Uzbekistan','Tajikistan', 'Turkmenistan',\\\n",
    "         'Kazakhstan', 'Azerbaijan', 'Russian Federation']\n",
    "ussr_og = ['USSR']\n",
    "\n",
    "# belgium luxembourg split in 1999 --> 2000, new countries\n",
    "belux = ['Belgium', 'Luxembourg']\n",
    "belux_og = ['Belgium-Luxembourg']\n",
    "\n",
    "# serbia and montegro, split from yugoslavia, then split again 2005 --> 2006, new countries\n",
    "serbmont = ['Serbia', 'Montenegro']\n",
    "serbmont_og= ['Serbia and Montenegro']\n",
    "\n",
    "# Czechoslovakia dissolution in 1992 --> 1003, new countries\n",
    "czeslo = ['Czechia', 'Slovakia']\n",
    "czeslo_og = ['Czechoslovakia']\n",
    "\n",
    "# South Sudan Independence in 2011 --> 2012, new countries\n",
    "sudan = ['South Sudan', 'Sudan']\n",
    "sudan_og = ['Sudan (former)']\n",
    "\n",
    "# 1992 eritrea independence referendum --> 1993, new countries\n",
    "ethiopia = ['Ethiopia', 'Eritrea']\n",
    "ethiopia_og = ['Ethiopia PDR']\n",
    "\n",
    "# 1990ish USA stops administering this territory --> 1991, new countries\n",
    "pacific = ['Marshall Islands', 'Micronesia (Federated States of)', 'Northern Mariana Islands','Palau']\n",
    "pacific_og = ['Pacific Islands Trust Territory']\n",
    "\n",
    "# netherland antilles dissolved in 2010 --> 2011, part of netherlands\n",
    "n_antilles_og = ['Netherlands Antilles (former)']"
   ]
  },
  {
   "cell_type": "code",
   "execution_count": 48,
   "metadata": {},
   "outputs": [],
   "source": [
    "end_set = ysfr + ussr + belux + serbmont + czeslo + sudan + ethiopia + pacific\n",
    "start_set = ysfr_og + ussr_og + belux_og + serbmont_og + czeslo_og + sudan_og + ethiopia_og + pacific_og + n_antilles_og"
   ]
  },
  {
   "cell_type": "code",
   "execution_count": 57,
   "metadata": {},
   "outputs": [],
   "source": [
    "# check that we explained all discrepancies in new countries exploding / forming\n",
    "exploding = set(check_end) - set(start_set)\n",
    "forming = set(check_start) - set(end_set)\n",
    "assert(not exploding and not forming)"
   ]
  },
  {
   "cell_type": "markdown",
   "metadata": {},
   "source": [
    "### Now check the count removing those areas from the list, see how much it impacts the count"
   ]
  },
  {
   "cell_type": "code",
   "execution_count": 173,
   "metadata": {},
   "outputs": [],
   "source": [
    "# new = sample[sample.area in set(end_set)]\n",
    "# sample[sample.area.str.isin(end_set)]\n",
    "new = sample[~sample.area.apply(lambda x: x in end_set or x in start_set) == True]"
   ]
  },
  {
   "cell_type": "code",
   "execution_count": 174,
   "metadata": {},
   "outputs": [
    {
     "data": {
      "text/html": [
       "<div>\n",
       "<style scoped>\n",
       "    .dataframe tbody tr th:only-of-type {\n",
       "        vertical-align: middle;\n",
       "    }\n",
       "\n",
       "    .dataframe tbody tr th {\n",
       "        vertical-align: top;\n",
       "    }\n",
       "\n",
       "    .dataframe thead th {\n",
       "        text-align: right;\n",
       "    }\n",
       "</style>\n",
       "<table border=\"1\" class=\"dataframe\">\n",
       "  <thead>\n",
       "    <tr style=\"text-align: right;\">\n",
       "      <th></th>\n",
       "      <th>year</th>\n",
       "    </tr>\n",
       "  </thead>\n",
       "  <tbody>\n",
       "    <tr>\n",
       "      <th>count</th>\n",
       "      <td>9011.000000</td>\n",
       "    </tr>\n",
       "    <tr>\n",
       "      <th>mean</th>\n",
       "      <td>50.876706</td>\n",
       "    </tr>\n",
       "    <tr>\n",
       "      <th>std</th>\n",
       "      <td>12.013598</td>\n",
       "    </tr>\n",
       "    <tr>\n",
       "      <th>min</th>\n",
       "      <td>3.000000</td>\n",
       "    </tr>\n",
       "    <tr>\n",
       "      <th>25%</th>\n",
       "      <td>57.000000</td>\n",
       "    </tr>\n",
       "    <tr>\n",
       "      <th>50%</th>\n",
       "      <td>57.000000</td>\n",
       "    </tr>\n",
       "    <tr>\n",
       "      <th>75%</th>\n",
       "      <td>57.000000</td>\n",
       "    </tr>\n",
       "    <tr>\n",
       "      <th>max</th>\n",
       "      <td>57.000000</td>\n",
       "    </tr>\n",
       "  </tbody>\n",
       "</table>\n",
       "</div>"
      ],
      "text/plain": [
       "              year\n",
       "count  9011.000000\n",
       "mean     50.876706\n",
       "std      12.013598\n",
       "min       3.000000\n",
       "25%      57.000000\n",
       "50%      57.000000\n",
       "75%      57.000000\n",
       "max      57.000000"
      ]
     },
     "execution_count": 174,
     "metadata": {},
     "output_type": "execute_result"
    }
   ],
   "source": [
    "new.groupby([\"area\",\"item\",\"element\"]).agg({\"year\":\"count\"}).reset_index().describe()\n",
    "# ok now even 25th percentile has all values for years (57)"
   ]
  },
  {
   "cell_type": "code",
   "execution_count": 175,
   "metadata": {},
   "outputs": [],
   "source": [
    "years = pd.DataFrame(new.groupby('area').year.nunique().sort_values().reset_index().rename({'year':'yearcount'}, axis = 1))"
   ]
  },
  {
   "cell_type": "code",
   "execution_count": 177,
   "metadata": {},
   "outputs": [
    {
     "data": {
      "text/html": [
       "<div>\n",
       "<style scoped>\n",
       "    .dataframe tbody tr th:only-of-type {\n",
       "        vertical-align: middle;\n",
       "    }\n",
       "\n",
       "    .dataframe tbody tr th {\n",
       "        vertical-align: top;\n",
       "    }\n",
       "\n",
       "    .dataframe thead th {\n",
       "        text-align: right;\n",
       "    }\n",
       "</style>\n",
       "<table border=\"1\" class=\"dataframe\">\n",
       "  <thead>\n",
       "    <tr style=\"text-align: right;\">\n",
       "      <th></th>\n",
       "      <th>area</th>\n",
       "      <th>yearcount</th>\n",
       "    </tr>\n",
       "  </thead>\n",
       "  <tbody>\n",
       "    <tr>\n",
       "      <th>0</th>\n",
       "      <td>Gibraltar</td>\n",
       "      <td>12</td>\n",
       "    </tr>\n",
       "    <tr>\n",
       "      <th>1</th>\n",
       "      <td>Monaco</td>\n",
       "      <td>23</td>\n",
       "    </tr>\n",
       "    <tr>\n",
       "      <th>2</th>\n",
       "      <td>Holy See</td>\n",
       "      <td>23</td>\n",
       "    </tr>\n",
       "    <tr>\n",
       "      <th>3</th>\n",
       "      <td>Norfolk Island</td>\n",
       "      <td>24</td>\n",
       "    </tr>\n",
       "    <tr>\n",
       "      <th>4</th>\n",
       "      <td>Central Asia</td>\n",
       "      <td>26</td>\n",
       "    </tr>\n",
       "    <tr>\n",
       "      <th>5</th>\n",
       "      <td>Palestine</td>\n",
       "      <td>28</td>\n",
       "    </tr>\n",
       "    <tr>\n",
       "      <th>6</th>\n",
       "      <td>Isle of Man</td>\n",
       "      <td>28</td>\n",
       "    </tr>\n",
       "    <tr>\n",
       "      <th>7</th>\n",
       "      <td>Svalbard and Jan Mayen Islands</td>\n",
       "      <td>28</td>\n",
       "    </tr>\n",
       "    <tr>\n",
       "      <th>8</th>\n",
       "      <td>Aruba</td>\n",
       "      <td>28</td>\n",
       "    </tr>\n",
       "    <tr>\n",
       "      <th>9</th>\n",
       "      <td>Mayotte</td>\n",
       "      <td>28</td>\n",
       "    </tr>\n",
       "    <tr>\n",
       "      <th>10</th>\n",
       "      <td>Pitcairn Islands</td>\n",
       "      <td>28</td>\n",
       "    </tr>\n",
       "    <tr>\n",
       "      <th>11</th>\n",
       "      <td>Andorra</td>\n",
       "      <td>28</td>\n",
       "    </tr>\n",
       "    <tr>\n",
       "      <th>12</th>\n",
       "      <td>Anguilla</td>\n",
       "      <td>28</td>\n",
       "    </tr>\n",
       "    <tr>\n",
       "      <th>13</th>\n",
       "      <td>Turks and Caicos Islands</td>\n",
       "      <td>28</td>\n",
       "    </tr>\n",
       "    <tr>\n",
       "      <th>14</th>\n",
       "      <td>Saint Pierre and Miquelon</td>\n",
       "      <td>33</td>\n",
       "    </tr>\n",
       "    <tr>\n",
       "      <th>15</th>\n",
       "      <td>Cayman Islands</td>\n",
       "      <td>52</td>\n",
       "    </tr>\n",
       "  </tbody>\n",
       "</table>\n",
       "</div>"
      ],
      "text/plain": [
       "                              area  yearcount\n",
       "0                        Gibraltar         12\n",
       "1                           Monaco         23\n",
       "2                         Holy See         23\n",
       "3                   Norfolk Island         24\n",
       "4                     Central Asia         26\n",
       "5                        Palestine         28\n",
       "6                      Isle of Man         28\n",
       "7   Svalbard and Jan Mayen Islands         28\n",
       "8                            Aruba         28\n",
       "9                          Mayotte         28\n",
       "10                Pitcairn Islands         28\n",
       "11                         Andorra         28\n",
       "12                        Anguilla         28\n",
       "13        Turks and Caicos Islands         28\n",
       "14       Saint Pierre and Miquelon         33\n",
       "15                  Cayman Islands         52"
      ]
     },
     "execution_count": 177,
     "metadata": {},
     "output_type": "execute_result"
    }
   ],
   "source": [
    "missing = years[years.yearcount<57]\n",
    "missing"
   ]
  },
  {
   "cell_type": "code",
   "execution_count": 194,
   "metadata": {},
   "outputs": [],
   "source": [
    "# we didnt even drop things like central Asia = not a country\n",
    "# the rest of these teritories are very small in size... and therefore production of anything\n",
    "# check sum of values for these (except for CEntral Asia)\n",
    "check_missing = list(missing[missing.area != \"Central Asia\"].area)"
   ]
  },
  {
   "cell_type": "code",
   "execution_count": 209,
   "metadata": {},
   "outputs": [],
   "source": [
    "prod1 = sample[sample.area.apply(lambda x: x in check_missing)==True].groupby(['item']).agg({'value':'sum'}, axis =1).rename({'value':'missing'},axis=1)"
   ]
  },
  {
   "cell_type": "code",
   "execution_count": 210,
   "metadata": {},
   "outputs": [],
   "source": [
    "prod2 = sample[~(sample.area.apply(lambda x: x in check_missing)==True)].groupby(['item']).agg({'value':'sum'}, axis =1).rename({'value':'all'},axis=1)"
   ]
  },
  {
   "cell_type": "code",
   "execution_count": 225,
   "metadata": {},
   "outputs": [
    {
     "data": {
      "text/html": [
       "<div>\n",
       "<style scoped>\n",
       "    .dataframe tbody tr th:only-of-type {\n",
       "        vertical-align: middle;\n",
       "    }\n",
       "\n",
       "    .dataframe tbody tr th {\n",
       "        vertical-align: top;\n",
       "    }\n",
       "\n",
       "    .dataframe thead th {\n",
       "        text-align: right;\n",
       "    }\n",
       "</style>\n",
       "<table border=\"1\" class=\"dataframe\">\n",
       "  <thead>\n",
       "    <tr style=\"text-align: right;\">\n",
       "      <th></th>\n",
       "      <th>item</th>\n",
       "      <th>ratio</th>\n",
       "    </tr>\n",
       "  </thead>\n",
       "  <tbody>\n",
       "    <tr>\n",
       "      <th>0</th>\n",
       "      <td>Agricultural Soils</td>\n",
       "      <td>7.318860e-06</td>\n",
       "    </tr>\n",
       "    <tr>\n",
       "      <th>1</th>\n",
       "      <td>Agriculture total</td>\n",
       "      <td>4.951478e-06</td>\n",
       "    </tr>\n",
       "    <tr>\n",
       "      <th>2</th>\n",
       "      <td>Burning - Crop residues</td>\n",
       "      <td>1.620700e-06</td>\n",
       "    </tr>\n",
       "    <tr>\n",
       "      <th>3</th>\n",
       "      <td>Burning - Savanna</td>\n",
       "      <td>8.924623e-08</td>\n",
       "    </tr>\n",
       "    <tr>\n",
       "      <th>4</th>\n",
       "      <td>Crop Residues</td>\n",
       "      <td>2.224675e-06</td>\n",
       "    </tr>\n",
       "    <tr>\n",
       "      <th>5</th>\n",
       "      <td>Cultivation of Organic Soils</td>\n",
       "      <td>5.441293e-06</td>\n",
       "    </tr>\n",
       "    <tr>\n",
       "      <th>6</th>\n",
       "      <td>Enteric Fermentation</td>\n",
       "      <td>5.228226e-06</td>\n",
       "    </tr>\n",
       "    <tr>\n",
       "      <th>7</th>\n",
       "      <td>Manure Management</td>\n",
       "      <td>2.456088e-06</td>\n",
       "    </tr>\n",
       "    <tr>\n",
       "      <th>8</th>\n",
       "      <td>Manure applied to Soils</td>\n",
       "      <td>3.402434e-06</td>\n",
       "    </tr>\n",
       "    <tr>\n",
       "      <th>9</th>\n",
       "      <td>Manure left on Pasture</td>\n",
       "      <td>1.429941e-05</td>\n",
       "    </tr>\n",
       "  </tbody>\n",
       "</table>\n",
       "</div>"
      ],
      "text/plain": [
       "                           item         ratio\n",
       "0            Agricultural Soils  7.318860e-06\n",
       "1             Agriculture total  4.951478e-06\n",
       "2       Burning - Crop residues  1.620700e-06\n",
       "3             Burning - Savanna  8.924623e-08\n",
       "4                 Crop Residues  2.224675e-06\n",
       "5  Cultivation of Organic Soils  5.441293e-06\n",
       "6          Enteric Fermentation  5.228226e-06\n",
       "7             Manure Management  2.456088e-06\n",
       "8       Manure applied to Soils  3.402434e-06\n",
       "9        Manure left on Pasture  1.429941e-05"
      ]
     },
     "execution_count": 225,
     "metadata": {},
     "output_type": "execute_result"
    }
   ],
   "source": [
    "# compare to the rest sum of the rest of the countries...\n",
    "total = pd.DataFrame(prod2.merge(prod1, how = 'inner', on = 'item').apply(lambda x: x['missing'] / x['all'], axis = 1).reset_index())\n",
    "total.columns = ['item', 'ratio']\n",
    "total\n",
    "# so we can probably not worry about the rest of these. Although if we are meticulous, we should investigate further"
   ]
  },
  {
   "cell_type": "markdown",
   "metadata": {},
   "source": [
    "# Conclusion"
   ]
  },
  {
   "cell_type": "markdown",
   "metadata": {},
   "source": [
    "This allows us to explain the \"blank\" areas when we are plotting worlwide countrywide evolution of values: some countries do not exist in certain time-frames (e.g. the Russian Fedeeration  before 1991). \n",
    "\n",
    "We could look at regions instead of countries, and define the \"USSR\" to define a certain geographic boundary. However this is not a good idea, and would not help our analysis and conclusions.\n",
    "\n",
    "A more suitable idea would be to define geographical areas based on climate, however for large countries (e.g. Russia, China, USA), different climates arise within a single country, so this approach is limited as well.\n",
    "\n",
    "Therefore we have decided to keep all countries as they are, and will take into account in our analyses that some countries have less data-points than others (have existed for a shorter amount of time)."
   ]
  },
  {
   "cell_type": "code",
   "execution_count": null,
   "metadata": {},
   "outputs": [],
   "source": []
  }
 ],
 "metadata": {
  "kernelspec": {
   "display_name": "Python 3",
   "language": "python",
   "name": "python3"
  },
  "language_info": {
   "codemirror_mode": {
    "name": "ipython",
    "version": 3
   },
   "file_extension": ".py",
   "mimetype": "text/x-python",
   "name": "python",
   "nbconvert_exporter": "python",
   "pygments_lexer": "ipython3",
   "version": "3.7.1"
  }
 },
 "nbformat": 4,
 "nbformat_minor": 2
}
