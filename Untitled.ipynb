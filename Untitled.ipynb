{
 "cells": [
  {
   "cell_type": "code",
   "execution_count": null,
   "metadata": {},
   "outputs": [],
   "source": [
    "from lstm import *\n",
    "from mappings import *\n",
    "from matplotlib import pyplot\n",
    "\n",
    "import tensorflow as tf\n",
    "import tensorflow.keras as k\n",
    "import pandas as pdk\n",
    "import glob\n",
    "\n",
    "%load_ext autoreload\n",
    "%autoreload 2\n",
    "\n",
    "assert(tf.test.is_gpu_available()   and\\\n",
    "       tf.test.is_built_with_cuda() and\\\n",
    "       tf.test.is_built_with_gpu_support())\n",
    "\n",
    "\n",
    "tf.__version__"
   ]
  },
  {
   "cell_type": "code",
   "execution_count": null,
   "metadata": {},
   "outputs": [],
   "source": [
    "csv_files     = glob.glob('data/**/**.csv')\n",
    "column_rename = {'country': 'area', 'countrycode': 'areacode'}\n",
    "check_columns = [\"note\", \"yearcode\", \"elementgroup\"]\n",
    "\n",
    "from mappings import get_mapping, get_area_mapping, extract_element_to_item\n",
    "\n",
    "item_mapping    = get_mapping(csv_files, column_rename, check_columns, ['itemcode','item'])\n",
    "element_mapping = get_mapping(csv_files, column_rename, check_columns, ['elementcode', 'element', 'unit'])\n",
    "df              = pd.read_csv(\"df.csv\")\n",
    "element_to_item = extract_element_to_item(df)"
   ]
  },
  {
   "cell_type": "code",
   "execution_count": null,
   "metadata": {},
   "outputs": [],
   "source": [
    "df.columns\n",
    "print(df[~df['5510'].isna()].itemcode.value_counts())\n",
    "#print([(e,element_mapping[int(e)]) for e,_ in element_to_item.items()])\n",
    "print((7231,element_mapping[7231]))\n",
    "print([(i,item_mapping[i]) for i in element_to_item[str(7231)]])"
   ]
  },
  {
   "cell_type": "code",
   "execution_count": null,
   "metadata": {},
   "outputs": [],
   "source": [
    "#print([(e,element_mapping[int(e)]) for e,_ in element_to_item.items()])\n",
    "print((5510,element_mapping[5510]))\n",
    "print([(i,item_mapping[i]) for i in element_to_item[str(5510)]])"
   ]
  },
  {
   "cell_type": "code",
   "execution_count": 129,
   "metadata": {},
   "outputs": [
    {
     "name": "stdout",
     "output_type": "stream",
     "text": [
      "Number of training_samples:  4512\n"
     ]
    }
   ],
   "source": [
    "input_pairs   = [(5510,item_code) for item_code in (1765,1808,1738,1058,1062)]\n",
    "output_pairs  = [(7231,1711)]\n",
    "samples       = build_samples(df,20,input_pairs,output_pairs)\n",
    "\n",
    "non_differentiated  = df[df.itemcode == 1711][['areacode','year',str(7231)]].set_index(['areacode','year'])\n",
    "differentiated      = introduce_differentiation(non_differentialed)\n",
    "adjustment_ratio          = ((differentiated.max()-differentiated.min())).values[0]\n",
    "#avg_percentage_adjustment = differentiated.mean().values[0]\n",
    "\n",
    "def adj_rms(y_true, y_pred): \n",
    "    return tf.sqrt(tf.reduce_mean(((y_true - y_pred)*(adjustment_ratio))**2))\n",
    "\n",
    "\n",
    "train_X, train_Y, test_X, test_Y  = reshuffle_observations(samples,0.80,len(output_pairs))\n",
    "print(\"Number of training_samples: \",len(train_X))\n"
   ]
  },
  {
   "cell_type": "code",
   "execution_count": 130,
   "metadata": {},
   "outputs": [
    {
     "name": "stdout",
     "output_type": "stream",
     "text": [
      "Train on 5 steps, validate on 2 steps\n",
      "Epoch 1/10\n",
      "5/5 [==============================] - 5s 978ms/step - loss: 0.0031 - adj_rms: 0.0967 - val_loss: 0.0026 - val_adj_rms: 0.0899\n",
      "Epoch 2/10\n",
      "5/5 [==============================] - 0s 21ms/step - loss: 0.0025 - adj_rms: 0.0868 - val_loss: 0.0028 - val_adj_rms: 0.0940\n",
      "Epoch 3/10\n",
      "5/5 [==============================] - 0s 20ms/step - loss: 0.0025 - adj_rms: 0.0872 - val_loss: 0.0026 - val_adj_rms: 0.0901\n",
      "Epoch 4/10\n",
      "5/5 [==============================] - 0s 22ms/step - loss: 0.0024 - adj_rms: 0.0849 - val_loss: 0.0026 - val_adj_rms: 0.0905\n",
      "Epoch 5/10\n",
      "5/5 [==============================] - 0s 22ms/step - loss: 0.0024 - adj_rms: 0.0854 - val_loss: 0.0026 - val_adj_rms: 0.0903\n",
      "Epoch 6/10\n",
      "5/5 [==============================] - 0s 22ms/step - loss: 0.0024 - adj_rms: 0.0849 - val_loss: 0.0026 - val_adj_rms: 0.0899\n",
      "Epoch 7/10\n",
      "5/5 [==============================] - 0s 22ms/step - loss: 0.0023 - adj_rms: 0.0847 - val_loss: 0.0026 - val_adj_rms: 0.0901\n",
      "Epoch 8/10\n",
      "5/5 [==============================] - 0s 22ms/step - loss: 0.0023 - adj_rms: 0.0848 - val_loss: 0.0026 - val_adj_rms: 0.0899\n",
      "Epoch 9/10\n",
      "5/5 [==============================] - 0s 22ms/step - loss: 0.0023 - adj_rms: 0.0847 - val_loss: 0.0026 - val_adj_rms: 0.0899\n",
      "Epoch 10/10\n",
      "5/5 [==============================] - 0s 22ms/step - loss: 0.0023 - adj_rms: 0.0847 - val_loss: 0.0026 - val_adj_rms: 0.0899\n"
     ]
    },
    {
     "data": {
      "image/png": "[encoded data removed]",
      "text/plain": [
       "<Figure size 432x288 with 1 Axes>"
      ]
     },
     "metadata": {
      "needs_background": "light"
     },
     "output_type": "display_data"
    }
   ],
   "source": [
    "batch_size = 1000\n",
    "num_samples = train_X.shape[0]\n",
    "\n",
    "model = build_lstm(num_input_timeseries=train_X[0].shape[1],\n",
    "                   num_output_dimensions=train_Y[0].shape[1],\n",
    "                   num_timesteps=train_X[0].shape[0],\n",
    "                   model_complexity=80,\n",
    "                   batch_size=batch_size )\n",
    "\n",
    "\n",
    "model.compile(optimizer=k.optimizers.Adam(lr=0.001),\n",
    "              loss=k.losses.MSE,metrics=[adj_rms])\n",
    "\n",
    "training_set = tf.data.Dataset.from_tensor_slices((    \\\n",
    "                            tf.cast(train_X, tf.float32), \\\n",
    "                            tf.cast(train_Y, tf.float32))).batch(batch_size).shuffle(num_samples)\n",
    "\n",
    "testing_set = tf.data.Dataset.from_tensor_slices((\n",
    "                            tf.cast(test_X,tf.float32),\n",
    "                            tf.cast(test_Y,tf.float32))).batch(batch_size).shuffle(num_samples)\n",
    "    \n",
    "history      = model.fit(training_set,validation_data=testing_set,\n",
    "                         epochs=10,verbose=1, shuffle=False)\n",
    "\n",
    "#pyplot.plot(history.history['loss'], label='train')\n",
    "#pyplot.plot(history.history['loss'], label='test')\n",
    "pyplot.plot(history.history['adj_rms'], label='train')\n",
    "pyplot.plot(history.history['adj_rms'], label='test')\n",
    "pyplot.legend()\n",
    "pyplot.show()"
   ]
  },
  {
   "cell_type": "code",
   "execution_count": null,
   "metadata": {},
   "outputs": [],
   "source": []
  }
 ],
 "metadata": {
  "kernelspec": {
   "display_name": "tensorflow_gpu",
   "language": "python",
   "name": "tensorflow_gpu"
  },
  "language_info": {
   "codemirror_mode": {
    "name": "ipython",
    "version": 3
   },
   "file_extension": ".py",
   "mimetype": "text/x-python",
   "name": "python",
   "nbconvert_exporter": "python",
   "pygments_lexer": "ipython3",
   "version": "3.7.4"
  }
 },
 "nbformat": 4,
 "nbformat_minor": 2
}
