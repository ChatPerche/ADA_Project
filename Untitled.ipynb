{
 "cells": [
  {
   "cell_type": "code",
   "execution_count": null,
   "metadata": {},
   "outputs": [],
   "source": [
    "from lstm import *\n",
    "from mappings import *\n",
    "from matplotlib import pyplot\n",
    "\n",
    "import tensorflow as tf\n",
    "import tensorflow.keras as k\n",
    "import pandas as pdk\n",
    "import glob\n",
    "\n",
    "%load_ext autoreload\n",
    "%autoreload 2\n",
    "\n",
    "assert(tf.test.is_gpu_available()   and\\\n",
    "       tf.test.is_built_with_cuda() and\\\n",
    "       tf.test.is_built_with_gpu_support())\n",
    "\n",
    "\n",
    "tf.__version__"
   ]
  },
  {
   "cell_type": "code",
   "execution_count": null,
   "metadata": {},
   "outputs": [],
   "source": [
    "csv_files     = glob.glob('data/**/**.csv')\n",
    "column_rename = {'country': 'area', 'countrycode': 'areacode'}\n",
    "check_columns = [\"note\", \"yearcode\", \"elementgroup\"]\n",
    "\n",
    "from mappings import get_mapping, get_area_mapping, extract_element_to_item\n",
    "\n",
    "item_mapping    = get_mapping(csv_files, column_rename, check_columns, ['itemcode','item'])\n",
    "element_mapping = get_mapping(csv_files, column_rename, check_columns, ['elementcode', 'element', 'unit'])\n",
    "df              = pd.read_csv(\"df.csv\")\n",
    "element_to_item = extract_element_to_item(df)"
   ]
  },
  {
   "cell_type": "code",
   "execution_count": null,
   "metadata": {},
   "outputs": [],
   "source": [
    "df.columns\n",
    "print(df[~df['5510'].isna()].itemcode.value_counts())\n",
    "#print([(e,element_mapping[int(e)]) for e,_ in element_to_item.items()])\n",
    "print((7231,element_mapping[7231]))\n",
    "print([(i,item_mapping[i]) for i in element_to_item[str(7231)]])"
   ]
  },
  {
   "cell_type": "code",
   "execution_count": null,
   "metadata": {},
   "outputs": [],
   "source": [
    "#print([(e,element_mapping[int(e)]) for e,_ in element_to_item.items()])\n",
    "print((5510,element_mapping[5510]))\n",
    "print([(i,item_mapping[i]) for i in element_to_item[str(5510)]])"
   ]
  },
  {
   "cell_type": "code",
   "execution_count": 105,
   "metadata": {},
   "outputs": [
    {
     "name": "stdout",
     "output_type": "stream",
     "text": [
      "Number of training_samples:  5190\n"
     ]
    }
   ],
   "source": [
    "input_pairs   = [(5510,item_code) for item_code in (1765,1808,1738,1058,1062)]\n",
    "output_pairs  = [(7231,1711)]\n",
    "samples       = build_samples(df,15,input_pairs,output_pairs)\n",
    "\n",
    "# Needs to be a tensor later on\n",
    "\n",
    "non_differentiated = df[df.itemcode == 1711][['areacode','year',str(7231)]].set_index(['areacode','year'])\n",
    "#scaled_outs        = introduce_differentiation(non_differentialed)\n",
    "\n",
    "adjustment_ratio          = ((non_differentialed.max()-non_differentialed.min())).values[0]\n",
    "avg_percentage_adjustment = non_differentiated.mean().values[0]\n",
    "\n",
    "def adj_rms(y_true, y_pred): \n",
    "    return tf.sqrt(tf.reduce_mean(((y_true - y_pred)*(adjustment_ratio))**2))/avg_percentage_adjustment\n",
    "\n",
    "\n",
    "train_X, train_Y, test_X, test_Y  = reshuffle_observations(samples,0.80,len(output_pairs))\n",
    "print(\"Number of training_samples: \",len(train_X))\n"
   ]
  },
  {
   "cell_type": "code",
   "execution_count": 106,
   "metadata": {},
   "outputs": [
    {
     "name": "stderr",
     "output_type": "stream",
     "text": [
      "/home/rlaporte/.local/lib/python3.7/site-packages/numpy/lib/histograms.py:829: RuntimeWarning: invalid value encountered in greater_equal\n",
      "  keep = (tmp_a >= first_edge)\n",
      "/home/rlaporte/.local/lib/python3.7/site-packages/numpy/lib/histograms.py:830: RuntimeWarning: invalid value encountered in less_equal\n",
      "  keep &= (tmp_a <= last_edge)\n",
      "/home/rlaporte/anaconda3/envs/tensorflow_gpu/lib/python3.7/site-packages/statsmodels/nonparametric/kde.py:447: RuntimeWarning: invalid value encountered in greater\n",
      "  X = X[np.logical_and(X > clip[0], X < clip[1])] # won't work for two columns.\n",
      "/home/rlaporte/anaconda3/envs/tensorflow_gpu/lib/python3.7/site-packages/statsmodels/nonparametric/kde.py:447: RuntimeWarning: invalid value encountered in less\n",
      "  X = X[np.logical_and(X > clip[0], X < clip[1])] # won't work for two columns.\n"
     ]
    },
    {
     "data": {
      "text/plain": [
       "<matplotlib.axes._subplots.AxesSubplot at 0x7f7096186cd0>"
      ]
     },
     "execution_count": 106,
     "metadata": {},
     "output_type": "execute_result"
    },
    {
     "data": {
      "image/png": "[encoded data removed]",
      "text/plain": [
       "<Figure size 432x288 with 1 Axes>"
      ]
     },
     "metadata": {
      "needs_background": "light"
     },
     "output_type": "display_data"
    }
   ],
   "source": [
    "import seaborn as sns\n",
    "sns.distplot(df[df.itemcode == 1711][['areacode','year',str(7231)]]\\\n",
    "             .set_index(['areacode','year']), hist=True, kde=True, \n",
    "             bins=int(180/5), color = 'darkblue', \n",
    "             hist_kws={'edgecolor':'black'},\n",
    "             kde_kws={'linewidth': 4})"
   ]
  },
  {
   "cell_type": "code",
   "execution_count": 104,
   "metadata": {},
   "outputs": [
    {
     "name": "stdout",
     "output_type": "stream",
     "text": [
      "Train on 11 steps, validate on 3 steps\n",
      "Epoch 1/100\n",
      "11/11 [==============================] - 3s 304ms/step - loss: 4.3565 - mean_squared_error: 0.0886 - val_loss: 2.2476 - val_mean_squared_error: 0.0145\n",
      "Epoch 2/100\n",
      "11/11 [==============================] - 0s 16ms/step - loss: 1.9097 - mean_squared_error: 0.0102 - val_loss: 2.2500 - val_mean_squared_error: 0.0146\n",
      "Epoch 3/100\n",
      "11/11 [==============================] - 0s 15ms/step - loss: 1.9109 - mean_squared_error: 0.0103 - val_loss: 2.2504 - val_mean_squared_error: 0.0146\n",
      "Epoch 4/100\n",
      "11/11 [==============================] - 0s 15ms/step - loss: 1.9112 - mean_squared_error: 0.0103 - val_loss: 2.2505 - val_mean_squared_error: 0.0146\n",
      "Epoch 5/100\n",
      "11/11 [==============================] - 0s 15ms/step - loss: 1.9112 - mean_squared_error: 0.0103 - val_loss: 2.2506 - val_mean_squared_error: 0.0146\n",
      "Epoch 6/100\n",
      "11/11 [==============================] - 0s 15ms/step - loss: 1.9112 - mean_squared_error: 0.0103 - val_loss: 2.2506 - val_mean_squared_error: 0.0146\n",
      "Epoch 7/100\n",
      "11/11 [==============================] - 0s 16ms/step - loss: 1.9112 - mean_squared_error: 0.0103 - val_loss: 2.2506 - val_mean_squared_error: 0.0146\n",
      "Epoch 8/100\n",
      "11/11 [==============================] - 0s 17ms/step - loss: 1.9112 - mean_squared_error: 0.0103 - val_loss: 2.2505 - val_mean_squared_error: 0.0146\n",
      "Epoch 9/100\n",
      "11/11 [==============================] - 0s 15ms/step - loss: 1.9112 - mean_squared_error: 0.0103 - val_loss: 2.2505 - val_mean_squared_error: 0.0146\n",
      "Epoch 10/100\n",
      "11/11 [==============================] - 0s 14ms/step - loss: 1.9112 - mean_squared_error: 0.0103 - val_loss: 2.2505 - val_mean_squared_error: 0.0146\n",
      "Epoch 11/100\n",
      "11/11 [==============================] - 0s 15ms/step - loss: 1.9112 - mean_squared_error: 0.0103 - val_loss: 2.2505 - val_mean_squared_error: 0.0146\n",
      "Epoch 12/100\n",
      "11/11 [==============================] - 0s 15ms/step - loss: 1.9111 - mean_squared_error: 0.0103 - val_loss: 2.2504 - val_mean_squared_error: 0.0146\n",
      "Epoch 13/100\n",
      "11/11 [==============================] - 0s 14ms/step - loss: 1.9110 - mean_squared_error: 0.0103 - val_loss: 2.2503 - val_mean_squared_error: 0.0146\n",
      "Epoch 14/100\n",
      "11/11 [==============================] - 0s 15ms/step - loss: 1.9110 - mean_squared_error: 0.0103 - val_loss: 2.2503 - val_mean_squared_error: 0.0146\n",
      "Epoch 15/100\n",
      "11/11 [==============================] - 0s 15ms/step - loss: 1.9109 - mean_squared_error: 0.0103 - val_loss: 2.2502 - val_mean_squared_error: 0.0146\n",
      "Epoch 16/100\n",
      "11/11 [==============================] - 0s 14ms/step - loss: 1.9108 - mean_squared_error: 0.0103 - val_loss: 2.2501 - val_mean_squared_error: 0.0146\n",
      "Epoch 17/100\n",
      "11/11 [==============================] - 0s 15ms/step - loss: 1.9108 - mean_squared_error: 0.0103 - val_loss: 2.2501 - val_mean_squared_error: 0.0146\n",
      "Epoch 18/100\n",
      "11/11 [==============================] - 0s 15ms/step - loss: 1.9107 - mean_squared_error: 0.0102 - val_loss: 2.2500 - val_mean_squared_error: 0.0146\n",
      "Epoch 19/100\n",
      "11/11 [==============================] - 0s 14ms/step - loss: 1.9107 - mean_squared_error: 0.0102 - val_loss: 2.2500 - val_mean_squared_error: 0.0146\n",
      "Epoch 20/100\n",
      "11/11 [==============================] - 0s 15ms/step - loss: 1.9106 - mean_squared_error: 0.0102 - val_loss: 2.2499 - val_mean_squared_error: 0.0146\n",
      "Epoch 21/100\n",
      "11/11 [==============================] - 0s 15ms/step - loss: 1.9105 - mean_squared_error: 0.0102 - val_loss: 2.2498 - val_mean_squared_error: 0.0146\n",
      "Epoch 22/100\n",
      "11/11 [==============================] - 0s 16ms/step - loss: 1.9103 - mean_squared_error: 0.0102 - val_loss: 2.2495 - val_mean_squared_error: 0.0146\n",
      "Epoch 23/100\n",
      "11/11 [==============================] - 0s 18ms/step - loss: 1.9100 - mean_squared_error: 0.0102 - val_loss: 2.2492 - val_mean_squared_error: 0.0146\n",
      "Epoch 24/100\n",
      "11/11 [==============================] - 0s 17ms/step - loss: 1.9097 - mean_squared_error: 0.0102 - val_loss: 2.2489 - val_mean_squared_error: 0.0146\n",
      "Epoch 25/100\n",
      "11/11 [==============================] - 0s 18ms/step - loss: 1.9094 - mean_squared_error: 0.0102 - val_loss: 2.2486 - val_mean_squared_error: 0.0146\n",
      "Epoch 26/100\n",
      "11/11 [==============================] - 0s 17ms/step - loss: 1.9091 - mean_squared_error: 0.0102 - val_loss: 2.2484 - val_mean_squared_error: 0.0146\n",
      "Epoch 27/100\n",
      "11/11 [==============================] - 0s 16ms/step - loss: 1.9088 - mean_squared_error: 0.0102 - val_loss: 2.2479 - val_mean_squared_error: 0.0146\n",
      "Epoch 28/100\n",
      "11/11 [==============================] - 0s 19ms/step - loss: 1.9082 - mean_squared_error: 0.0102 - val_loss: 2.2472 - val_mean_squared_error: 0.0145\n",
      "Epoch 29/100\n",
      "11/11 [==============================] - 0s 16ms/step - loss: 1.9076 - mean_squared_error: 0.0102 - val_loss: 2.2468 - val_mean_squared_error: 0.0145\n",
      "Epoch 30/100\n",
      "11/11 [==============================] - 0s 15ms/step - loss: 1.9070 - mean_squared_error: 0.0102 - val_loss: 2.2459 - val_mean_squared_error: 0.0145\n",
      "Epoch 31/100\n",
      "11/11 [==============================] - 0s 16ms/step - loss: 1.9060 - mean_squared_error: 0.0102 - val_loss: 2.2450 - val_mean_squared_error: 0.0145\n",
      "Epoch 32/100\n",
      "11/11 [==============================] - 0s 16ms/step - loss: 1.9049 - mean_squared_error: 0.0102 - val_loss: 2.2435 - val_mean_squared_error: 0.0145\n",
      "Epoch 33/100\n",
      "11/11 [==============================] - 0s 16ms/step - loss: 1.9029 - mean_squared_error: 0.0102 - val_loss: 2.2408 - val_mean_squared_error: 0.0145\n",
      "Epoch 34/100\n",
      "11/11 [==============================] - 0s 16ms/step - loss: 1.9002 - mean_squared_error: 0.0101 - val_loss: 2.2386 - val_mean_squared_error: 0.0144\n",
      "Epoch 35/100\n",
      "11/11 [==============================] - 0s 18ms/step - loss: 1.8977 - mean_squared_error: 0.0101 - val_loss: 2.2358 - val_mean_squared_error: 0.0144\n",
      "Epoch 36/100\n",
      "11/11 [==============================] - 0s 19ms/step - loss: 1.8937 - mean_squared_error: 0.0101 - val_loss: 2.2290 - val_mean_squared_error: 0.0143\n",
      "Epoch 37/100\n",
      "11/11 [==============================] - 0s 18ms/step - loss: 1.8817 - mean_squared_error: 0.0099 - val_loss: 2.2131 - val_mean_squared_error: 0.0141\n",
      "Epoch 38/100\n",
      "11/11 [==============================] - 0s 17ms/step - loss: 1.8573 - mean_squared_error: 0.0097 - val_loss: 2.1680 - val_mean_squared_error: 0.0136\n",
      "Epoch 39/100\n",
      "11/11 [==============================] - 0s 16ms/step - loss: 1.8119 - mean_squared_error: 0.0092 - val_loss: 2.1320 - val_mean_squared_error: 0.0131\n",
      "Epoch 40/100\n",
      "11/11 [==============================] - 0s 14ms/step - loss: 1.8082 - mean_squared_error: 0.0092 - val_loss: 2.1328 - val_mean_squared_error: 0.0131\n",
      "Epoch 41/100\n",
      "11/11 [==============================] - 0s 15ms/step - loss: 1.8058 - mean_squared_error: 0.0092 - val_loss: 2.1372 - val_mean_squared_error: 0.0132\n",
      "Epoch 42/100\n",
      "11/11 [==============================] - 0s 15ms/step - loss: 1.8060 - mean_squared_error: 0.0092 - val_loss: 2.1356 - val_mean_squared_error: 0.0131\n",
      "Epoch 43/100\n",
      "11/11 [==============================] - 0s 15ms/step - loss: 1.8060 - mean_squared_error: 0.0092 - val_loss: 2.1334 - val_mean_squared_error: 0.0131\n",
      "Epoch 44/100\n",
      "11/11 [==============================] - 0s 15ms/step - loss: 1.8059 - mean_squared_error: 0.0092 - val_loss: 2.1343 - val_mean_squared_error: 0.0131\n",
      "Epoch 45/100\n",
      "11/11 [==============================] - 0s 15ms/step - loss: 1.8057 - mean_squared_error: 0.0092 - val_loss: 2.1341 - val_mean_squared_error: 0.0131\n",
      "Epoch 46/100\n",
      "11/11 [==============================] - 0s 14ms/step - loss: 1.8057 - mean_squared_error: 0.0092 - val_loss: 2.1345 - val_mean_squared_error: 0.0131\n",
      "Epoch 47/100\n",
      "11/11 [==============================] - 0s 15ms/step - loss: 1.8058 - mean_squared_error: 0.0092 - val_loss: 2.1347 - val_mean_squared_error: 0.0131\n",
      "Epoch 48/100\n",
      "11/11 [==============================] - 0s 15ms/step - loss: 1.8056 - mean_squared_error: 0.0092 - val_loss: 2.1340 - val_mean_squared_error: 0.0131\n",
      "Epoch 49/100\n",
      "11/11 [==============================] - 0s 15ms/step - loss: 1.8057 - mean_squared_error: 0.0092 - val_loss: 2.1341 - val_mean_squared_error: 0.0131\n",
      "Epoch 50/100\n",
      "11/11 [==============================] - 0s 15ms/step - loss: 1.8058 - mean_squared_error: 0.0092 - val_loss: 2.1347 - val_mean_squared_error: 0.0131\n",
      "Epoch 51/100\n"
     ]
    },
    {
     "name": "stdout",
     "output_type": "stream",
     "text": [
      "11/11 [==============================] - 0s 15ms/step - loss: 1.8056 - mean_squared_error: 0.0092 - val_loss: 2.1343 - val_mean_squared_error: 0.0131\n",
      "Epoch 52/100\n",
      "11/11 [==============================] - 0s 15ms/step - loss: 1.8062 - mean_squared_error: 0.0092 - val_loss: 2.1332 - val_mean_squared_error: 0.0131\n",
      "Epoch 53/100\n",
      "11/11 [==============================] - 0s 15ms/step - loss: 1.8054 - mean_squared_error: 0.0092 - val_loss: 2.1347 - val_mean_squared_error: 0.0131\n",
      "Epoch 54/100\n",
      "11/11 [==============================] - 0s 15ms/step - loss: 1.8059 - mean_squared_error: 0.0092 - val_loss: 2.1359 - val_mean_squared_error: 0.0131\n",
      "Epoch 55/100\n",
      "11/11 [==============================] - 0s 15ms/step - loss: 1.8057 - mean_squared_error: 0.0092 - val_loss: 2.1347 - val_mean_squared_error: 0.0131\n",
      "Epoch 56/100\n",
      "11/11 [==============================] - 0s 15ms/step - loss: 1.8057 - mean_squared_error: 0.0092 - val_loss: 2.1338 - val_mean_squared_error: 0.0131\n",
      "Epoch 57/100\n",
      "11/11 [==============================] - 0s 15ms/step - loss: 1.8058 - mean_squared_error: 0.0092 - val_loss: 2.1340 - val_mean_squared_error: 0.0131\n",
      "Epoch 58/100\n",
      "11/11 [==============================] - 0s 16ms/step - loss: 1.8057 - mean_squared_error: 0.0092 - val_loss: 2.1343 - val_mean_squared_error: 0.0131\n",
      "Epoch 59/100\n",
      "11/11 [==============================] - 0s 15ms/step - loss: 1.8056 - mean_squared_error: 0.0092 - val_loss: 2.1344 - val_mean_squared_error: 0.0131\n",
      "Epoch 60/100\n",
      "11/11 [==============================] - 0s 15ms/step - loss: 1.8056 - mean_squared_error: 0.0092 - val_loss: 2.1339 - val_mean_squared_error: 0.0131\n",
      "Epoch 61/100\n",
      "11/11 [==============================] - 0s 15ms/step - loss: 1.8057 - mean_squared_error: 0.0092 - val_loss: 2.1348 - val_mean_squared_error: 0.0131\n",
      "Epoch 62/100\n",
      "11/11 [==============================] - 0s 15ms/step - loss: 1.8062 - mean_squared_error: 0.0092 - val_loss: 2.1337 - val_mean_squared_error: 0.0131\n",
      "Epoch 63/100\n",
      "11/11 [==============================] - 0s 15ms/step - loss: 1.8056 - mean_squared_error: 0.0092 - val_loss: 2.1352 - val_mean_squared_error: 0.0131\n",
      "Epoch 64/100\n",
      "11/11 [==============================] - 0s 15ms/step - loss: 1.8060 - mean_squared_error: 0.0092 - val_loss: 2.1342 - val_mean_squared_error: 0.0131\n",
      "Epoch 65/100\n",
      "11/11 [==============================] - 0s 15ms/step - loss: 1.8058 - mean_squared_error: 0.0092 - val_loss: 2.1355 - val_mean_squared_error: 0.0131\n",
      "Epoch 66/100\n",
      "11/11 [==============================] - 0s 16ms/step - loss: 1.8057 - mean_squared_error: 0.0092 - val_loss: 2.1343 - val_mean_squared_error: 0.0131\n",
      "Epoch 67/100\n",
      "11/11 [==============================] - 0s 16ms/step - loss: 1.8056 - mean_squared_error: 0.0092 - val_loss: 2.1335 - val_mean_squared_error: 0.0131\n",
      "Epoch 68/100\n",
      "11/11 [==============================] - 0s 15ms/step - loss: 1.8059 - mean_squared_error: 0.0092 - val_loss: 2.1346 - val_mean_squared_error: 0.0131\n",
      "Epoch 69/100\n",
      "11/11 [==============================] - 0s 15ms/step - loss: 1.8056 - mean_squared_error: 0.0092 - val_loss: 2.1343 - val_mean_squared_error: 0.0131\n",
      "Epoch 70/100\n",
      "11/11 [==============================] - 0s 15ms/step - loss: 1.8059 - mean_squared_error: 0.0092 - val_loss: 2.1349 - val_mean_squared_error: 0.0131\n",
      "Epoch 71/100\n",
      "11/11 [==============================] - 0s 15ms/step - loss: 1.8057 - mean_squared_error: 0.0092 - val_loss: 2.1341 - val_mean_squared_error: 0.0131\n",
      "Epoch 72/100\n",
      "11/11 [==============================] - 0s 15ms/step - loss: 1.8057 - mean_squared_error: 0.0092 - val_loss: 2.1339 - val_mean_squared_error: 0.0131\n",
      "Epoch 73/100\n",
      "11/11 [==============================] - 0s 15ms/step - loss: 1.8056 - mean_squared_error: 0.0092 - val_loss: 2.1339 - val_mean_squared_error: 0.0131\n",
      "Epoch 74/100\n",
      "11/11 [==============================] - 0s 15ms/step - loss: 1.8059 - mean_squared_error: 0.0092 - val_loss: 2.1336 - val_mean_squared_error: 0.0131\n",
      "Epoch 75/100\n",
      "11/11 [==============================] - 0s 14ms/step - loss: 1.8058 - mean_squared_error: 0.0092 - val_loss: 2.1360 - val_mean_squared_error: 0.0131\n",
      "Epoch 76/100\n",
      "11/11 [==============================] - 0s 17ms/step - loss: 1.8061 - mean_squared_error: 0.0092 - val_loss: 2.1338 - val_mean_squared_error: 0.0131\n",
      "Epoch 77/100\n",
      "11/11 [==============================] - 0s 16ms/step - loss: 1.8056 - mean_squared_error: 0.0092 - val_loss: 2.1345 - val_mean_squared_error: 0.0131\n",
      "Epoch 78/100\n",
      "11/11 [==============================] - 0s 16ms/step - loss: 1.8057 - mean_squared_error: 0.0092 - val_loss: 2.1349 - val_mean_squared_error: 0.0131\n",
      "Epoch 79/100\n",
      "11/11 [==============================] - 0s 16ms/step - loss: 1.8057 - mean_squared_error: 0.0092 - val_loss: 2.1340 - val_mean_squared_error: 0.0131\n",
      "Epoch 80/100\n",
      "11/11 [==============================] - 0s 15ms/step - loss: 1.8057 - mean_squared_error: 0.0092 - val_loss: 2.1348 - val_mean_squared_error: 0.0131\n",
      "Epoch 81/100\n",
      "11/11 [==============================] - 0s 14ms/step - loss: 1.8065 - mean_squared_error: 0.0092 - val_loss: 2.1337 - val_mean_squared_error: 0.0131\n",
      "Epoch 82/100\n",
      "11/11 [==============================] - 0s 15ms/step - loss: 1.8060 - mean_squared_error: 0.0092 - val_loss: 2.1363 - val_mean_squared_error: 0.0132\n",
      "Epoch 83/100\n",
      "11/11 [==============================] - 0s 15ms/step - loss: 1.8056 - mean_squared_error: 0.0092 - val_loss: 2.1340 - val_mean_squared_error: 0.0131\n",
      "Epoch 84/100\n",
      "11/11 [==============================] - 0s 14ms/step - loss: 1.8057 - mean_squared_error: 0.0092 - val_loss: 2.1333 - val_mean_squared_error: 0.0131\n",
      "Epoch 85/100\n",
      "11/11 [==============================] - 0s 15ms/step - loss: 1.8061 - mean_squared_error: 0.0092 - val_loss: 2.1355 - val_mean_squared_error: 0.0131\n",
      "Epoch 86/100\n",
      "11/11 [==============================] - 0s 15ms/step - loss: 1.8058 - mean_squared_error: 0.0092 - val_loss: 2.1345 - val_mean_squared_error: 0.0131\n",
      "Epoch 87/100\n",
      "11/11 [==============================] - 0s 15ms/step - loss: 1.8062 - mean_squared_error: 0.0092 - val_loss: 2.1330 - val_mean_squared_error: 0.0131\n",
      "Epoch 88/100\n",
      "11/11 [==============================] - 0s 18ms/step - loss: 1.8059 - mean_squared_error: 0.0092 - val_loss: 2.1352 - val_mean_squared_error: 0.0131\n",
      "Epoch 89/100\n",
      "11/11 [==============================] - 0s 18ms/step - loss: 1.8057 - mean_squared_error: 0.0092 - val_loss: 2.1342 - val_mean_squared_error: 0.0131\n",
      "Epoch 90/100\n",
      "11/11 [==============================] - 0s 16ms/step - loss: 1.8058 - mean_squared_error: 0.0092 - val_loss: 2.1338 - val_mean_squared_error: 0.0131\n",
      "Epoch 91/100\n",
      "11/11 [==============================] - 0s 15ms/step - loss: 1.8057 - mean_squared_error: 0.0092 - val_loss: 2.1346 - val_mean_squared_error: 0.0131\n",
      "Epoch 92/100\n",
      "11/11 [==============================] - 0s 16ms/step - loss: 1.8058 - mean_squared_error: 0.0092 - val_loss: 2.1350 - val_mean_squared_error: 0.0131\n",
      "Epoch 93/100\n",
      "11/11 [==============================] - 0s 15ms/step - loss: 1.8062 - mean_squared_error: 0.0092 - val_loss: 2.1339 - val_mean_squared_error: 0.0131\n",
      "Epoch 94/100\n",
      "11/11 [==============================] - 0s 15ms/step - loss: 1.8058 - mean_squared_error: 0.0092 - val_loss: 2.1345 - val_mean_squared_error: 0.0131\n",
      "Epoch 95/100\n",
      "11/11 [==============================] - 0s 17ms/step - loss: 1.8059 - mean_squared_error: 0.0092 - val_loss: 2.1358 - val_mean_squared_error: 0.0131\n",
      "Epoch 96/100\n",
      "11/11 [==============================] - 0s 16ms/step - loss: 1.8057 - mean_squared_error: 0.0092 - val_loss: 2.1339 - val_mean_squared_error: 0.0131\n",
      "Epoch 97/100\n",
      "11/11 [==============================] - 0s 15ms/step - loss: 1.8066 - mean_squared_error: 0.0092 - val_loss: 2.1332 - val_mean_squared_error: 0.0131\n",
      "Epoch 98/100\n",
      "11/11 [==============================] - 0s 14ms/step - loss: 1.8056 - mean_squared_error: 0.0092 - val_loss: 2.1363 - val_mean_squared_error: 0.0132\n",
      "Epoch 99/100\n",
      "11/11 [==============================] - 0s 15ms/step - loss: 1.8060 - mean_squared_error: 0.0092 - val_loss: 2.1345 - val_mean_squared_error: 0.0131\n",
      "Epoch 100/100\n",
      "11/11 [==============================] - 0s 14ms/step - loss: 1.8067 - mean_squared_error: 0.0092 - val_loss: 2.1325 - val_mean_squared_error: 0.0131\n"
     ]
    },
    {
     "data": {
      "image/png": "[encoded data removed]",
      "text/plain": [
       "<Figure size 432x288 with 1 Axes>"
      ]
     },
     "metadata": {
      "needs_background": "light"
     },
     "output_type": "display_data"
    }
   ],
   "source": [
    "batch_size = 500\n",
    "num_samples = train_X.shape[0]\n",
    "\n",
    "model = build_lstm(num_input_timeseries=train_X[0].shape[1],\n",
    "                   num_output_dimensions=train_Y[0].shape[1],\n",
    "                   num_timesteps=train_X[0].shape[0],\n",
    "                   model_complexity=200,\n",
    "                   batch_size=batch_size )\n",
    "\n",
    "\n",
    "model.compile(optimizer=k.optimizers.Adam(lr=0.005),\n",
    "              loss=adj_rms,metrics=[k.losses.MSE])\n",
    "\n",
    "training_set = tf.data.Dataset.from_tensor_slices((    \\\n",
    "                            tf.cast(train_X, tf.float32), \\\n",
    "                            tf.cast(train_Y, tf.float32))).batch(batch_size).shuffle(num_samples)\n",
    "\n",
    "testing_set = tf.data.Dataset.from_tensor_slices((\n",
    "                            tf.cast(test_X,tf.float32),\n",
    "                            tf.cast(test_Y,tf.float32))).batch(batch_size).shuffle(num_samples)\n",
    "    \n",
    "history      = model.fit(training_set,validation_data=testing_set,\n",
    "                         epochs=100,verbose=1, shuffle=True)\n",
    "\n",
    "pyplot.plot(history.history['loss'], label='train')\n",
    "pyplot.plot(history.history['loss'], label='test')\n",
    "pyplot.legend()\n",
    "pyplot.show()"
   ]
  },
  {
   "cell_type": "code",
   "execution_count": 74,
   "metadata": {},
   "outputs": [
    {
     "data": {
      "text/plain": [
       "7231    339391.1733\n",
       "dtype: float64"
      ]
     },
     "execution_count": 74,
     "metadata": {},
     "output_type": "execute_result"
    }
   ],
   "source": [
    "scaled_outs.max()"
   ]
  },
  {
   "cell_type": "code",
   "execution_count": null,
   "metadata": {},
   "outputs": [],
   "source": [
    "print(\"RMS of Error on Training - in Gigakilos\")\n",
    "\n",
    "\n",
    "\n",
    "\n",
    "model.evaluate(testing_set,)\n",
    "(history.history['val_loss'][-1]+scaled_outs.min())*adjustment_ratio "
   ]
  },
  {
   "cell_type": "code",
   "execution_count": null,
   "metadata": {},
   "outputs": [],
   "source": [
    "scaled_outs.max()"
   ]
  },
  {
   "cell_type": "code",
   "execution_count": null,
   "metadata": {},
   "outputs": [],
   "source": [
    "a = pd.DataFrame([[10,12],[20,22]])\n",
    "(a - a.shift()).dropna(axis=0,how='all')/(a.loc[1:])"
   ]
  },
  {
   "cell_type": "code",
   "execution_count": null,
   "metadata": {},
   "outputs": [],
   "source": []
  }
 ],
 "metadata": {
  "kernelspec": {
   "display_name": "tensorflow_gpu",
   "language": "python",
   "name": "tensorflow_gpu"
  },
  "language_info": {
   "codemirror_mode": {
    "name": "ipython",
    "version": 3
   },
   "file_extension": ".py",
   "mimetype": "text/x-python",
   "name": "python",
   "nbconvert_exporter": "python",
   "pygments_lexer": "ipython3",
   "version": "3.7.4"
  }
 },
 "nbformat": 4,
 "nbformat_minor": 2
}
