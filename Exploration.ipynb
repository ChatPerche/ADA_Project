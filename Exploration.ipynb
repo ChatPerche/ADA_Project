{
 "cells": [
  {
   "cell_type": "code",
   "execution_count": 2,
   "metadata": {},
   "outputs": [],
   "source": [
    "import pandas as pd\n",
    "from glob import glob\n",
    "from tqdm import tqdm\n",
    "%load_ext autoreload\n",
    "%autoreload 2"
   ]
  },
  {
   "cell_type": "code",
   "execution_count": 4,
   "metadata": {},
   "outputs": [
    {
     "name": "stdout",
     "output_type": "stream",
     "text": [
      "['data/emissions_land/Emissions_Land_Use_Land_Use_Total_E_All_Data_(Normalized).csv', 'data/emissions_land/Emissions_Land_Use_Burning_Biomass_E_All_Data_(Normalized).csv', 'data/emissions_land/Emissions_Land_Use_Forest_Land_E_All_Data_(Normalized).csv', 'data/emissions_land/Emissions_Land_Use_Cropland_E_All_Data_(Normalized).csv', 'data/emissions_land/Emissions_Land_Use_Grassland_E_All_Data_(Normalized).csv', 'data/production/Production_LivestockPrimary_E_All_Data_(Normalized).csv', 'data/production/Production_LivestockProcessed_E_All_Data_(Normalized).csv', 'data/production/Production_Livestock_E_All_Data_(Normalized).csv', 'data/production/Production_Crops_E_All_Data_(Normalized).csv', 'data/production/Production_CropsProcessed_E_All_Data_(Normalized).csv', 'data/production/Production_Indices_E_All_Data_(Normalized).csv', 'data/inputs/Inputs_Pesticides_Use_E_All_Data_(Normalized).csv', 'data/inputs/Inputs_FertilizersArchive_E_All_Data_(Normalized).csv', 'data/inputs/Inputs_LandUse_E_All_Data_(Normalized).csv', 'data/inputs/Inputs_FertilizersNutrient_E_All_Data_(Normalized).csv', 'data/inputs/Inputs_FertilizersProduct_E_All_Data_(Normalized).csv', 'data/environment/Environment_Emissions_by_Sector_E_All_Data_(Normalized).csv', 'data/environment/Environment_Temperature_change_E_All_Data_(Normalized).csv', 'data/environment/Environment_Emissions_intensities_E_All_Data_(Normalized).csv', 'data/environment/Environment_Fertilizers_E_All_Data_(Normalized).csv', 'data/environment/Environment_LandUse_E_All_Data_(Normalized).csv', 'data/environment/Environment_Water_E_All_Data.csv', 'data/environment/Environment_LivestockManure_E_All_Data_(Normalized).csv', 'data/environment/Environment_Pesticides_E_All_Data_(Normalized).csv', 'data/environment/Environment_Energy_E_All_Data.csv', 'data/environment/Environment_LandCover_E_All_Data_(Normalized).csv', 'data/environment/Environment_Soil_E_All_Data.csv', 'data/environment/Environment_LivestockPatterns_E_All_Data_(Normalized).csv', 'data/environment/Environment_AirClimateChange_E_All_Data.csv', 'data/emissions_agriculture/Emissions_Agriculture_Energy_E_All_Data_(Norm).csv', 'data/emissions_agriculture/Emissions_Agriculture_Manure_applied_to_soils_E_All_Data_(Normalized).csv', 'data/emissions_agriculture/Emissions_Agriculture_Burning_Savanna_E_All_Data_(Normalized).csv', 'data/emissions_agriculture/Emissions_Agriculture_Manure_Management_E_All_Data_(Normalized).csv', 'data/emissions_agriculture/Emissions_Agriculture_Agriculture_total_E_All_Data_(Normalized).csv', 'data/emissions_agriculture/Emissions_Agriculture_Cultivated_Organic_Soils_E_All_Data_(Normalized).csv', 'data/emissions_agriculture/Emissions_Agriculture_Crop_Residues_E_All_Data_(Normalized).csv', 'data/emissions_agriculture/Emissions_Agriculture_Burning_crop_residues_E_All_Data_(Normalized).csv', 'data/emissions_agriculture/Emissions_Agriculture_Rice_Cultivation_E_All_Data_(Normalized).csv', 'data/emissions_agriculture/Emissions_Agriculture_Synthetic_Fertilizers_E_All_Data_(Normalized).csv', 'data/emissions_agriculture/Emissions_Agriculture_Enteric_Fermentation_E_All_Data_(Normalized).csv', 'data/emissions_agriculture/Emissions_Agriculture_Manure_left_on_pasture_E_All_Data_(Normalized).csv']\n"
     ]
    }
   ],
   "source": [
    "csv_files = glob(\"data/*/*.csv\")\n"
   ]
  },
  {
   "cell_type": "markdown",
   "metadata": {},
   "source": [
    "#### Look up all the different columns of all kept files"
   ]
  },
  {
   "cell_type": "code",
   "execution_count": 3,
   "metadata": {},
   "outputs": [
    {
     "name": "stderr",
     "output_type": "stream",
     "text": [
      "100%|██████████| 43/43 [00:22<00:00,  1.92it/s]\n"
     ]
    }
   ],
   "source": [
    "columns = []\n",
    "for f in tqdm(csv_files):\n",
    "    df = pd.read_csv(f, encoding=\"latin-1\")\n",
    "    df.columns = df.columns.str.lower()\n",
    "    df.columns = df.columns.str.replace(\" \", \"\")\n",
    "    columns.append((set(df.columns), f))"
   ]
  },
  {
   "cell_type": "code",
   "execution_count": 4,
   "metadata": {},
   "outputs": [],
   "source": [
    "unique_columns = []\n",
    "files = []\n",
    "for c, f in columns:\n",
    "    if c not in unique_columns:\n",
    "        unique_columns.append(c)\n",
    "        files.append([f])\n",
    "    else :\n",
    "        i = unique_columns.index(c)\n",
    "        files[i].append(f)\n",
    "column_df = pd.DataFrame(list(zip(unique_columns, files)), columns=[\"Columns\", \"Files\"])\n",
    "column_df['num_files'] = column_df.Files.apply(len)\n",
    "column_df = column_df.sort_values('num_files')"
   ]
  },
  {
   "cell_type": "code",
   "execution_count": 5,
   "metadata": {},
   "outputs": [
    {
     "data": {
      "text/html": [
       "<div>\n",
       "<style scoped>\n",
       "    .dataframe tbody tr th:only-of-type {\n",
       "        vertical-align: middle;\n",
       "    }\n",
       "\n",
       "    .dataframe tbody tr th {\n",
       "        vertical-align: top;\n",
       "    }\n",
       "\n",
       "    .dataframe thead th {\n",
       "        text-align: right;\n",
       "    }\n",
       "</style>\n",
       "<table border=\"1\" class=\"dataframe\">\n",
       "  <thead>\n",
       "    <tr style=\"text-align: right;\">\n",
       "      <th></th>\n",
       "      <th>Columns</th>\n",
       "      <th>Files</th>\n",
       "      <th>num_files</th>\n",
       "    </tr>\n",
       "  </thead>\n",
       "  <tbody>\n",
       "    <tr>\n",
       "      <th>3</th>\n",
       "      <td>{elementcode, yearcode, areacode, monthscode, ...</td>\n",
       "      <td>[data/Environment_Temperature_change_E_All_Dat...</td>\n",
       "      <td>1</td>\n",
       "    </tr>\n",
       "    <tr>\n",
       "      <th>4</th>\n",
       "      <td>{elementcode, yearcode, itemcode, element, fla...</td>\n",
       "      <td>[data/Emissions_Agriculture_Energy_E_All_Data_...</td>\n",
       "      <td>1</td>\n",
       "    </tr>\n",
       "    <tr>\n",
       "      <th>1</th>\n",
       "      <td>{elementcode, itemcode, element, flag, value, ...</td>\n",
       "      <td>[data/Environment_Energy_E_All_Data.csv, data/...</td>\n",
       "      <td>4</td>\n",
       "    </tr>\n",
       "    <tr>\n",
       "      <th>2</th>\n",
       "      <td>{elementcode, yearcode, itemcode, areacode, no...</td>\n",
       "      <td>[data/Emissions_Agriculture_Burning_crop_resid...</td>\n",
       "      <td>4</td>\n",
       "    </tr>\n",
       "    <tr>\n",
       "      <th>0</th>\n",
       "      <td>{elementcode, yearcode, itemcode, areacode, ar...</td>\n",
       "      <td>[data/Emissions_Agriculture_Enteric_Fermentati...</td>\n",
       "      <td>33</td>\n",
       "    </tr>\n",
       "  </tbody>\n",
       "</table>\n",
       "</div>"
      ],
      "text/plain": [
       "                                             Columns  \\\n",
       "3  {elementcode, yearcode, areacode, monthscode, ...   \n",
       "4  {elementcode, yearcode, itemcode, element, fla...   \n",
       "1  {elementcode, itemcode, element, flag, value, ...   \n",
       "2  {elementcode, yearcode, itemcode, areacode, no...   \n",
       "0  {elementcode, yearcode, itemcode, areacode, ar...   \n",
       "\n",
       "                                               Files  num_files  \n",
       "3  [data/Environment_Temperature_change_E_All_Dat...          1  \n",
       "4  [data/Emissions_Agriculture_Energy_E_All_Data_...          1  \n",
       "1  [data/Environment_Energy_E_All_Data.csv, data/...          4  \n",
       "2  [data/Emissions_Agriculture_Burning_crop_resid...          4  \n",
       "0  [data/Emissions_Agriculture_Enteric_Fermentati...         33  "
      ]
     },
     "execution_count": 5,
     "metadata": {},
     "output_type": "execute_result"
    }
   ],
   "source": [
    "column_df"
   ]
  },
  {
   "cell_type": "code",
   "execution_count": 6,
   "metadata": {},
   "outputs": [
    {
     "name": "stdout",
     "output_type": "stream",
     "text": [
      "{'elementcode', 'yearcode', 'areacode', 'monthscode', 'area', 'element', 'flag', 'value', 'unit', 'months', 'year'}\n",
      "{'elementcode', 'yearcode', 'itemcode', 'element', 'flag', 'value', 'unit', 'country', 'countrycode', 'item', 'year'}\n",
      "{'elementcode', 'itemcode', 'element', 'flag', 'value', 'unit', 'country', 'elementgroup', 'countrycode', 'item', 'year'}\n",
      "{'elementcode', 'yearcode', 'itemcode', 'areacode', 'note', 'area', 'element', 'flag', 'value', 'unit', 'item', 'year'}\n",
      "{'elementcode', 'yearcode', 'itemcode', 'areacode', 'area', 'element', 'flag', 'value', 'unit', 'item', 'year'}\n"
     ]
    }
   ],
   "source": [
    "for i, x in column_df.Columns.iteritems():\n",
    "    print(x)"
   ]
  },
  {
   "cell_type": "markdown",
   "metadata": {},
   "source": [
    "#### Get mapping of elementcode => (element, unit) and itemcode => item"
   ]
  },
  {
   "cell_type": "code",
   "execution_count": 7,
   "metadata": {},
   "outputs": [
    {
     "name": "stdout",
     "output_type": "stream",
     "text": [
      "Fount 43 files in data/\n"
     ]
    }
   ],
   "source": [
    "from mappings import get_all_element_mapping\n",
    "data_dir = \"data/\"\n",
    "element_mapping = get_all_element_mapping(data_dir)"
   ]
  },
  {
   "cell_type": "code",
   "execution_count": 8,
   "metadata": {},
   "outputs": [
    {
     "name": "stdout",
     "output_type": "stream",
     "text": [
      "Fount 43 files in data/\n",
      "Item Code not found in data/Environment_Temperature_change_E_All_Data_(Normalized).csv\n"
     ]
    }
   ],
   "source": [
    "from mappings import get_all_item_mapping\n",
    "item_mapping = get_all_item_mapping(data_dir)"
   ]
  },
  {
   "cell_type": "markdown",
   "metadata": {},
   "source": [
    "#### Print out the description of each csv (**DO NOT RUN**)"
   ]
  },
  {
   "cell_type": "code",
   "execution_count": 5,
   "metadata": {},
   "outputs": [],
   "source": [
    "from mappings import get_item_mapping, get_element_mapping\n",
    "from utils import rename_columns\n",
    "import os\n"
   ]
  },
  {
   "cell_type": "code",
   "execution_count": 6,
   "metadata": {},
   "outputs": [
    {
     "ename": "KeyError",
     "evalue": "\"None of [Index(['elementcode', 'element', 'unit'], dtype='object')] are in the [columns]\"",
     "output_type": "error",
     "traceback": [
      "\u001b[0;31m---------------------------------------------------------------------------\u001b[0m",
      "\u001b[0;31mKeyError\u001b[0m                                  Traceback (most recent call last)",
      "\u001b[0;32m<ipython-input-6-f6ea4850128a>\u001b[0m in \u001b[0;36m<module>\u001b[0;34m\u001b[0m\n\u001b[1;32m      7\u001b[0m         \u001b[0;32melse\u001b[0m\u001b[0;34m:\u001b[0m\u001b[0;34m\u001b[0m\u001b[0;34m\u001b[0m\u001b[0m\n\u001b[1;32m      8\u001b[0m             \u001b[0mitem_mapping\u001b[0m \u001b[0;34m=\u001b[0m \u001b[0mpd\u001b[0m\u001b[0;34m.\u001b[0m\u001b[0mDataFrame\u001b[0m\u001b[0;34m(\u001b[0m\u001b[0;34m[\u001b[0m\u001b[0;34m]\u001b[0m\u001b[0;34m)\u001b[0m\u001b[0;34m\u001b[0m\u001b[0;34m\u001b[0m\u001b[0m\n\u001b[0;32m----> 9\u001b[0;31m         \u001b[0melement_mapping\u001b[0m \u001b[0;34m=\u001b[0m \u001b[0mget_element_mapping\u001b[0m\u001b[0;34m(\u001b[0m\u001b[0mdf\u001b[0m\u001b[0;34m)\u001b[0m\u001b[0;34m\u001b[0m\u001b[0;34m\u001b[0m\u001b[0m\n\u001b[0m\u001b[1;32m     10\u001b[0m         \u001b[0mf\u001b[0m\u001b[0;34m.\u001b[0m\u001b[0mwrite\u001b[0m\u001b[0;34m(\u001b[0m\u001b[0;34m\"Items : \\n\"\u001b[0m \u001b[0;34m+\u001b[0m \u001b[0mitem_mapping\u001b[0m\u001b[0;34m.\u001b[0m\u001b[0mto_string\u001b[0m\u001b[0;34m(\u001b[0m\u001b[0mindex\u001b[0m\u001b[0;34m=\u001b[0m\u001b[0;32mFalse\u001b[0m\u001b[0;34m)\u001b[0m \u001b[0;34m+\u001b[0m \u001b[0;34m\"\\n\\n\"\u001b[0m\u001b[0;34m)\u001b[0m\u001b[0;34m\u001b[0m\u001b[0;34m\u001b[0m\u001b[0m\n\u001b[1;32m     11\u001b[0m         \u001b[0mf\u001b[0m\u001b[0;34m.\u001b[0m\u001b[0mwrite\u001b[0m\u001b[0;34m(\u001b[0m\u001b[0;34m\"Elements : \\n\"\u001b[0m \u001b[0;34m+\u001b[0m \u001b[0melement_mapping\u001b[0m\u001b[0;34m.\u001b[0m\u001b[0mto_string\u001b[0m\u001b[0;34m(\u001b[0m\u001b[0mindex\u001b[0m\u001b[0;34m=\u001b[0m\u001b[0;32mFalse\u001b[0m\u001b[0;34m)\u001b[0m \u001b[0;34m+\u001b[0m \u001b[0;34m\"\\n\\n\"\u001b[0m\u001b[0;34m)\u001b[0m\u001b[0;34m\u001b[0m\u001b[0;34m\u001b[0m\u001b[0m\n",
      "\u001b[0;32m~/Repositories/ADA_Project/mappings.py\u001b[0m in \u001b[0;36mget_element_mapping\u001b[0;34m(df)\u001b[0m\n\u001b[1;32m      5\u001b[0m \u001b[0;34m\u001b[0m\u001b[0m\n\u001b[1;32m      6\u001b[0m \u001b[0;32mdef\u001b[0m \u001b[0mget_element_mapping\u001b[0m\u001b[0;34m(\u001b[0m\u001b[0mdf\u001b[0m\u001b[0;34m)\u001b[0m\u001b[0;34m:\u001b[0m\u001b[0;34m\u001b[0m\u001b[0;34m\u001b[0m\u001b[0m\n\u001b[0;32m----> 7\u001b[0;31m     \u001b[0melements\u001b[0m \u001b[0;34m=\u001b[0m \u001b[0mdf\u001b[0m\u001b[0;34m[\u001b[0m\u001b[0;34m[\u001b[0m\u001b[0;34m'elementcode'\u001b[0m\u001b[0;34m,\u001b[0m \u001b[0;34m'element'\u001b[0m\u001b[0;34m,\u001b[0m \u001b[0;34m'unit'\u001b[0m\u001b[0;34m]\u001b[0m\u001b[0;34m]\u001b[0m\u001b[0;34m.\u001b[0m\u001b[0mdrop_duplicates\u001b[0m\u001b[0;34m(\u001b[0m\u001b[0;34m)\u001b[0m\u001b[0;34m\u001b[0m\u001b[0;34m\u001b[0m\u001b[0m\n\u001b[0m\u001b[1;32m      8\u001b[0m     \u001b[0;32mreturn\u001b[0m \u001b[0melements\u001b[0m\u001b[0;34m\u001b[0m\u001b[0;34m\u001b[0m\u001b[0m\n\u001b[1;32m      9\u001b[0m \u001b[0;34m\u001b[0m\u001b[0m\n",
      "\u001b[0;32m~/anaconda3/envs/data.analysis/lib/python3.7/site-packages/pandas/core/frame.py\u001b[0m in \u001b[0;36m__getitem__\u001b[0;34m(self, key)\u001b[0m\n\u001b[1;32m   2984\u001b[0m             \u001b[0;32mif\u001b[0m \u001b[0mis_iterator\u001b[0m\u001b[0;34m(\u001b[0m\u001b[0mkey\u001b[0m\u001b[0;34m)\u001b[0m\u001b[0;34m:\u001b[0m\u001b[0;34m\u001b[0m\u001b[0;34m\u001b[0m\u001b[0m\n\u001b[1;32m   2985\u001b[0m                 \u001b[0mkey\u001b[0m \u001b[0;34m=\u001b[0m \u001b[0mlist\u001b[0m\u001b[0;34m(\u001b[0m\u001b[0mkey\u001b[0m\u001b[0;34m)\u001b[0m\u001b[0;34m\u001b[0m\u001b[0;34m\u001b[0m\u001b[0m\n\u001b[0;32m-> 2986\u001b[0;31m             \u001b[0mindexer\u001b[0m \u001b[0;34m=\u001b[0m \u001b[0mself\u001b[0m\u001b[0;34m.\u001b[0m\u001b[0mloc\u001b[0m\u001b[0;34m.\u001b[0m\u001b[0m_convert_to_indexer\u001b[0m\u001b[0;34m(\u001b[0m\u001b[0mkey\u001b[0m\u001b[0;34m,\u001b[0m \u001b[0maxis\u001b[0m\u001b[0;34m=\u001b[0m\u001b[0;36m1\u001b[0m\u001b[0;34m,\u001b[0m \u001b[0mraise_missing\u001b[0m\u001b[0;34m=\u001b[0m\u001b[0;32mTrue\u001b[0m\u001b[0;34m)\u001b[0m\u001b[0;34m\u001b[0m\u001b[0;34m\u001b[0m\u001b[0m\n\u001b[0m\u001b[1;32m   2987\u001b[0m \u001b[0;34m\u001b[0m\u001b[0m\n\u001b[1;32m   2988\u001b[0m         \u001b[0;31m# take() does not accept boolean indexers\u001b[0m\u001b[0;34m\u001b[0m\u001b[0;34m\u001b[0m\u001b[0;34m\u001b[0m\u001b[0m\n",
      "\u001b[0;32m~/anaconda3/envs/data.analysis/lib/python3.7/site-packages/pandas/core/indexing.py\u001b[0m in \u001b[0;36m_convert_to_indexer\u001b[0;34m(self, obj, axis, is_setter, raise_missing)\u001b[0m\n\u001b[1;32m   1283\u001b[0m                 \u001b[0;31m# When setting, missing keys are not allowed, even with .loc:\u001b[0m\u001b[0;34m\u001b[0m\u001b[0;34m\u001b[0m\u001b[0;34m\u001b[0m\u001b[0m\n\u001b[1;32m   1284\u001b[0m                 \u001b[0mkwargs\u001b[0m \u001b[0;34m=\u001b[0m \u001b[0;34m{\u001b[0m\u001b[0;34m\"raise_missing\"\u001b[0m\u001b[0;34m:\u001b[0m \u001b[0;32mTrue\u001b[0m \u001b[0;32mif\u001b[0m \u001b[0mis_setter\u001b[0m \u001b[0;32melse\u001b[0m \u001b[0mraise_missing\u001b[0m\u001b[0;34m}\u001b[0m\u001b[0;34m\u001b[0m\u001b[0;34m\u001b[0m\u001b[0m\n\u001b[0;32m-> 1285\u001b[0;31m                 \u001b[0;32mreturn\u001b[0m \u001b[0mself\u001b[0m\u001b[0;34m.\u001b[0m\u001b[0m_get_listlike_indexer\u001b[0m\u001b[0;34m(\u001b[0m\u001b[0mobj\u001b[0m\u001b[0;34m,\u001b[0m \u001b[0maxis\u001b[0m\u001b[0;34m,\u001b[0m \u001b[0;34m**\u001b[0m\u001b[0mkwargs\u001b[0m\u001b[0;34m)\u001b[0m\u001b[0;34m[\u001b[0m\u001b[0;36m1\u001b[0m\u001b[0;34m]\u001b[0m\u001b[0;34m\u001b[0m\u001b[0;34m\u001b[0m\u001b[0m\n\u001b[0m\u001b[1;32m   1286\u001b[0m         \u001b[0;32melse\u001b[0m\u001b[0;34m:\u001b[0m\u001b[0;34m\u001b[0m\u001b[0;34m\u001b[0m\u001b[0m\n\u001b[1;32m   1287\u001b[0m             \u001b[0;32mtry\u001b[0m\u001b[0;34m:\u001b[0m\u001b[0;34m\u001b[0m\u001b[0;34m\u001b[0m\u001b[0m\n",
      "\u001b[0;32m~/anaconda3/envs/data.analysis/lib/python3.7/site-packages/pandas/core/indexing.py\u001b[0m in \u001b[0;36m_get_listlike_indexer\u001b[0;34m(self, key, axis, raise_missing)\u001b[0m\n\u001b[1;32m   1090\u001b[0m \u001b[0;34m\u001b[0m\u001b[0m\n\u001b[1;32m   1091\u001b[0m         self._validate_read_indexer(\n\u001b[0;32m-> 1092\u001b[0;31m             \u001b[0mkeyarr\u001b[0m\u001b[0;34m,\u001b[0m \u001b[0mindexer\u001b[0m\u001b[0;34m,\u001b[0m \u001b[0mo\u001b[0m\u001b[0;34m.\u001b[0m\u001b[0m_get_axis_number\u001b[0m\u001b[0;34m(\u001b[0m\u001b[0maxis\u001b[0m\u001b[0;34m)\u001b[0m\u001b[0;34m,\u001b[0m \u001b[0mraise_missing\u001b[0m\u001b[0;34m=\u001b[0m\u001b[0mraise_missing\u001b[0m\u001b[0;34m\u001b[0m\u001b[0;34m\u001b[0m\u001b[0m\n\u001b[0m\u001b[1;32m   1093\u001b[0m         )\n\u001b[1;32m   1094\u001b[0m         \u001b[0;32mreturn\u001b[0m \u001b[0mkeyarr\u001b[0m\u001b[0;34m,\u001b[0m \u001b[0mindexer\u001b[0m\u001b[0;34m\u001b[0m\u001b[0;34m\u001b[0m\u001b[0m\n",
      "\u001b[0;32m~/anaconda3/envs/data.analysis/lib/python3.7/site-packages/pandas/core/indexing.py\u001b[0m in \u001b[0;36m_validate_read_indexer\u001b[0;34m(self, key, indexer, axis, raise_missing)\u001b[0m\n\u001b[1;32m   1175\u001b[0m                 raise KeyError(\n\u001b[1;32m   1176\u001b[0m                     \"None of [{key}] are in the [{axis}]\".format(\n\u001b[0;32m-> 1177\u001b[0;31m                         \u001b[0mkey\u001b[0m\u001b[0;34m=\u001b[0m\u001b[0mkey\u001b[0m\u001b[0;34m,\u001b[0m \u001b[0maxis\u001b[0m\u001b[0;34m=\u001b[0m\u001b[0mself\u001b[0m\u001b[0;34m.\u001b[0m\u001b[0mobj\u001b[0m\u001b[0;34m.\u001b[0m\u001b[0m_get_axis_name\u001b[0m\u001b[0;34m(\u001b[0m\u001b[0maxis\u001b[0m\u001b[0;34m)\u001b[0m\u001b[0;34m\u001b[0m\u001b[0;34m\u001b[0m\u001b[0m\n\u001b[0m\u001b[1;32m   1178\u001b[0m                     )\n\u001b[1;32m   1179\u001b[0m                 )\n",
      "\u001b[0;31mKeyError\u001b[0m: \"None of [Index(['elementcode', 'element', 'unit'], dtype='object')] are in the [columns]\""
     ]
    }
   ],
   "source": [
    "with open(\"csv_description.md\", 'w+') as f:\n",
    "    for file in csv_files:\n",
    "        df = rename_columns(pd.read_csv(file, encoding=\"latin-1\"))\n",
    "        f.write(\"#### \" + os.path.basename(file) + \"\\n\")\n",
    "        if 'itemcode' in df.columns:\n",
    "            item_mapping = get_item_mapping(df)\n",
    "        else:\n",
    "            item_mapping = pd.DataFrame([])\n",
    "        element_mapping = get_element_mapping(df)\n",
    "        f.write(\"Items : \\n\" + item_mapping.to_string(index=False) + \"\\n\\n\")\n",
    "        f.write(\"Elements : \\n\" + element_mapping.to_string(index=False) + \"\\n\\n\")\n",
    "        f.write(\"\\n\\n ------\\n\\n\")"
   ]
  },
  {
   "cell_type": "code",
   "execution_count": null,
   "metadata": {},
   "outputs": [],
   "source": []
  }
 ],
 "metadata": {
  "kernelspec": {
   "display_name": "data.analysis",
   "language": "python",
   "name": "data.analysis"
  },
  "language_info": {
   "codemirror_mode": {
    "name": "ipython",
    "version": 3
   },
   "file_extension": ".py",
   "mimetype": "text/x-python",
   "name": "python",
   "nbconvert_exporter": "python",
   "pygments_lexer": "ipython3",
   "version": "3.7.4"
  }
 },
 "nbformat": 4,
 "nbformat_minor": 4
}
