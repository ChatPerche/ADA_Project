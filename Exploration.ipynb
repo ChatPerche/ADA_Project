{
 "cells": [
  {
   "cell_type": "code",
   "execution_count": 177,
   "metadata": {},
   "outputs": [
    {
     "name": "stdout",
     "output_type": "stream",
     "text": [
      "The autoreload extension is already loaded. To reload it, use:\n",
      "  %reload_ext autoreload\n"
     ]
    }
   ],
   "source": [
    "import pandas as pd\n",
    "from glob import glob\n",
    "from tqdm import tqdm\n",
    "%load_ext autoreload\n",
    "%autoreload 2"
   ]
  },
  {
   "cell_type": "code",
   "execution_count": 178,
   "metadata": {},
   "outputs": [
    {
     "data": {
      "text/plain": [
       "43"
      ]
     },
     "execution_count": 178,
     "metadata": {},
     "output_type": "execute_result"
    }
   ],
   "source": [
    "csv_files = glob(\"data/*.csv\")\n",
    "len(csv_files)"
   ]
  },
  {
   "cell_type": "markdown",
   "metadata": {},
   "source": [
    "#### Look up all the different columns of all kept files"
   ]
  },
  {
   "cell_type": "code",
   "execution_count": 17,
   "metadata": {},
   "outputs": [
    {
     "name": "stderr",
     "output_type": "stream",
     "text": [
      "100%|██████████| 46/46 [00:24<00:00,  1.90it/s]\n"
     ]
    }
   ],
   "source": [
    "columns = []\n",
    "for f in tqdm(csv_files):\n",
    "    df = pd.read_csv(f, encoding=\"latin-1\")\n",
    "    df.columns = df.columns.str.lower()\n",
    "    df.columns = df.columns.str.replace(\" \", \"\")\n",
    "    columns.append((set(df.columns), f))"
   ]
  },
  {
   "cell_type": "code",
   "execution_count": 18,
   "metadata": {},
   "outputs": [],
   "source": [
    "unique_columns = []\n",
    "files = []\n",
    "for c, f in columns:\n",
    "    if c not in unique_columns:\n",
    "        unique_columns.append(c)\n",
    "        files.append([f])\n",
    "    else :\n",
    "        i = unique_columns.index(c)\n",
    "        files[i].append(f)\n",
    "column_df = pd.DataFrame(list(zip(unique_columns, files)), columns=[\"Columns\", \"Files\"])\n",
    "column_df['num_files'] = column_df.Files.apply(len)\n",
    "column_df = column_df.sort_values('num_files')"
   ]
  },
  {
   "cell_type": "code",
   "execution_count": 19,
   "metadata": {},
   "outputs": [
    {
     "data": {
      "text/html": [
       "<div>\n",
       "<style scoped>\n",
       "    .dataframe tbody tr th:only-of-type {\n",
       "        vertical-align: middle;\n",
       "    }\n",
       "\n",
       "    .dataframe tbody tr th {\n",
       "        vertical-align: top;\n",
       "    }\n",
       "\n",
       "    .dataframe thead th {\n",
       "        text-align: right;\n",
       "    }\n",
       "</style>\n",
       "<table border=\"1\" class=\"dataframe\">\n",
       "  <thead>\n",
       "    <tr style=\"text-align: right;\">\n",
       "      <th></th>\n",
       "      <th>Columns</th>\n",
       "      <th>Files</th>\n",
       "      <th>num_files</th>\n",
       "    </tr>\n",
       "  </thead>\n",
       "  <tbody>\n",
       "    <tr>\n",
       "      <th>3</th>\n",
       "      <td>{yearcode, year, area, monthscode, areacode, e...</td>\n",
       "      <td>[data/Environment_Temperature_change_E_All_Dat...</td>\n",
       "      <td>1</td>\n",
       "    </tr>\n",
       "    <tr>\n",
       "      <th>4</th>\n",
       "      <td>{item, itemcode, yearcode, year, elementcode, ...</td>\n",
       "      <td>[data/Emissions_Agriculture_Energy_E_All_Data_...</td>\n",
       "      <td>1</td>\n",
       "    </tr>\n",
       "    <tr>\n",
       "      <th>1</th>\n",
       "      <td>{item, itemcode, year, elementgroup, elementco...</td>\n",
       "      <td>[data/Environment_Energy_E_All_Data.csv, data/...</td>\n",
       "      <td>4</td>\n",
       "    </tr>\n",
       "    <tr>\n",
       "      <th>2</th>\n",
       "      <td>{item, itemcode, yearcode, year, note, area, a...</td>\n",
       "      <td>[data/Emissions_Agriculture_Burning_crop_resid...</td>\n",
       "      <td>4</td>\n",
       "    </tr>\n",
       "    <tr>\n",
       "      <th>0</th>\n",
       "      <td>{item, itemcode, yearcode, year, area, areacod...</td>\n",
       "      <td>[data/Emissions_Agriculture_Enteric_Fermentati...</td>\n",
       "      <td>36</td>\n",
       "    </tr>\n",
       "  </tbody>\n",
       "</table>\n",
       "</div>"
      ],
      "text/plain": [
       "                                             Columns  \\\n",
       "3  {yearcode, year, area, monthscode, areacode, e...   \n",
       "4  {item, itemcode, yearcode, year, elementcode, ...   \n",
       "1  {item, itemcode, year, elementgroup, elementco...   \n",
       "2  {item, itemcode, yearcode, year, note, area, a...   \n",
       "0  {item, itemcode, yearcode, year, area, areacod...   \n",
       "\n",
       "                                               Files  num_files  \n",
       "3  [data/Environment_Temperature_change_E_All_Dat...          1  \n",
       "4  [data/Emissions_Agriculture_Energy_E_All_Data_...          1  \n",
       "1  [data/Environment_Energy_E_All_Data.csv, data/...          4  \n",
       "2  [data/Emissions_Agriculture_Burning_crop_resid...          4  \n",
       "0  [data/Emissions_Agriculture_Enteric_Fermentati...         36  "
      ]
     },
     "execution_count": 19,
     "metadata": {},
     "output_type": "execute_result"
    }
   ],
   "source": [
    "column_df"
   ]
  },
  {
   "cell_type": "code",
   "execution_count": 21,
   "metadata": {},
   "outputs": [
    {
     "name": "stdout",
     "output_type": "stream",
     "text": [
      "{'yearcode', 'year', 'area', 'monthscode', 'areacode', 'element', 'months', 'flag', 'unit', 'elementcode', 'value'}\n",
      "{'item', 'itemcode', 'yearcode', 'year', 'elementcode', 'element', 'flag', 'unit', 'country', 'value', 'countrycode'}\n",
      "{'item', 'itemcode', 'year', 'elementgroup', 'elementcode', 'element', 'flag', 'unit', 'country', 'value', 'countrycode'}\n",
      "{'item', 'itemcode', 'yearcode', 'year', 'note', 'area', 'areacode', 'element', 'flag', 'unit', 'elementcode', 'value'}\n",
      "{'item', 'itemcode', 'yearcode', 'year', 'area', 'areacode', 'element', 'flag', 'unit', 'elementcode', 'value'}\n"
     ]
    }
   ],
   "source": [
    "for i, x in column_df.Columns.iteritems():\n",
    "    print(x)"
   ]
  },
  {
   "cell_type": "markdown",
   "metadata": {},
   "source": [
    "#### Get mapping of elementcode => (element, unit) and itemcode => item"
   ]
  },
  {
   "cell_type": "code",
   "execution_count": 179,
   "metadata": {},
   "outputs": [
    {
     "name": "stdout",
     "output_type": "stream",
     "text": [
      "Fount 43 files in data/\n"
     ]
    }
   ],
   "source": [
    "from mappings import get_all_element_mapping\n",
    "data_dir = \"data/\"\n",
    "element_mapping = get_all_element_mapping(data_dir)"
   ]
  },
  {
   "cell_type": "code",
   "execution_count": 180,
   "metadata": {},
   "outputs": [
    {
     "name": "stdout",
     "output_type": "stream",
     "text": [
      "Fount 43 files in data/\n",
      "Item Code not found in data/Environment_Temperature_change_E_All_Data_(Normalized).csv\n"
     ]
    }
   ],
   "source": [
    "from mappings import get_all_item_mapping\n",
    "item_mapping = get_all_item_mapping(data_dir)"
   ]
  },
  {
   "cell_type": "markdown",
   "metadata": {},
   "source": [
    "#### Print out the description of each csv (**DO NOT RUN**)"
   ]
  },
  {
   "cell_type": "code",
   "execution_count": 181,
   "metadata": {},
   "outputs": [],
   "source": [
    "from mappings import get_item_mapping, get_element_mapping\n",
    "from utils import rename_columns\n",
    "import os\n"
   ]
  },
  {
   "cell_type": "code",
   "execution_count": 182,
   "metadata": {},
   "outputs": [],
   "source": [
    "with open(\"csv_description.md\", 'w+') as f:\n",
    "    for file in csv_files:\n",
    "        df = rename_columns(pd.read_csv(file, encoding=\"latin-1\"))\n",
    "        f.write(\"#### \" + os.path.basename(file) + \"\\n\")\n",
    "        if 'itemcode' in df.columns:\n",
    "            item_mapping = get_item_mapping(df)\n",
    "        else:\n",
    "            item_mapping = pd.DataFrame([])\n",
    "        element_mapping = get_element_mapping(df)\n",
    "        f.write(\"Items : \\n\" + item_mapping.to_string(index=False) + \"\\n\\n\")\n",
    "        f.write(\"Elements : \\n\" + element_mapping.to_string(index=False) + \"\\n\\n\")\n",
    "        f.write(\"\\n\\n ------\\n\\n\")"
   ]
  },
  {
   "cell_type": "code",
   "execution_count": null,
   "metadata": {},
   "outputs": [],
   "source": []
  }
 ],
 "metadata": {
  "kernelspec": {
   "display_name": "Python (ADA)",
   "language": "python",
   "name": "ada"
  },
  "language_info": {
   "codemirror_mode": {
    "name": "ipython",
    "version": 3
   },
   "file_extension": ".py",
   "mimetype": "text/x-python",
   "name": "python",
   "nbconvert_exporter": "python",
   "pygments_lexer": "ipython3",
   "version": "3.7.4"
  }
 },
 "nbformat": 4,
 "nbformat_minor": 2
}
