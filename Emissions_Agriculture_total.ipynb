{
 "cells": [
  {
   "cell_type": "code",
   "execution_count": 1,
   "metadata": {},
   "outputs": [],
   "source": [
    "import pandas as pd\n",
    "from glob import glob\n",
    "from tqdm import tqdm\n",
    "import seaborn as sns\n",
    "import matplotlib.pyplot as plt\n",
    "\n",
    "from utils import load_dataframe\n",
    "from mappings import get_element_mapping, get_item_mapping, get_area_mapping\n",
    "import numpy as np\n",
    "%load_ext autoreload\n",
    "%autoreload 2"
   ]
  },
  {
   "cell_type": "markdown",
   "metadata": {},
   "source": [
    "### Reshape the dataframe"
   ]
  },
  {
   "cell_type": "markdown",
   "metadata": {},
   "source": [
    "First check which country codes to keep. Here we keep all countries that are in the group `World`, and also add the country code 5000 which corresponds to `World`"
   ]
  },
  {
   "cell_type": "code",
   "execution_count": 30,
   "metadata": {},
   "outputs": [],
   "source": [
    "df = load_dataframe(\"data/emissions_agriculture/Emissions_Agriculture_Agriculture_total_E_All_Data_(Normalized).csv\") # Loads and renames columns\n",
    "element_mapping = get_element_mapping(df)  \n",
    "item_mapping = get_item_mapping(df)\n",
    "area_mapping = get_area_mapping(df)"
   ]
  },
  {
   "cell_type": "code",
   "execution_count": 31,
   "metadata": {},
   "outputs": [],
   "source": [
    "#element_mapping"
   ]
  },
  {
   "cell_type": "code",
   "execution_count": 32,
   "metadata": {},
   "outputs": [],
   "source": [
    "country_groups = pd.read_csv(\"data/country_groups.csv\") # This dataframe contains the countries contained in each group (only pick )\n",
    "country_codes = np.append(country_groups[country_groups['Country Group'] == \"World\"]['Country Code'].unique(), 5000)\n",
    "\n",
    "#df = df[df.areacode.isin(country_codes)] # Keep only those country codes"
   ]
  },
  {
   "cell_type": "markdown",
   "metadata": {},
   "source": [
    "1. Check if elements or items are redundant (i.e. if one contains the other)"
   ]
  },
  {
   "cell_type": "code",
   "execution_count": 33,
   "metadata": {},
   "outputs": [],
   "source": [
    "#element_mapping"
   ]
  },
  {
   "cell_type": "code",
   "execution_count": 34,
   "metadata": {},
   "outputs": [],
   "source": [
    "#item_mapping"
   ]
  },
  {
   "cell_type": "markdown",
   "metadata": {},
   "source": [
    "Here `Agriculture total` represents the total of all countries"
   ]
  },
  {
   "cell_type": "code",
   "execution_count": 7,
   "metadata": {},
   "outputs": [],
   "source": [
    "area_mapping = area_mapping[area_mapping.areacode.isin(country_codes)]"
   ]
  },
  {
   "cell_type": "markdown",
   "metadata": {},
   "source": [
    "This functions checks if any item names are contained in other items"
   ]
  },
  {
   "cell_type": "code",
   "execution_count": 8,
   "metadata": {},
   "outputs": [
    {
     "data": {
      "text/plain": [
       "set()"
      ]
     },
     "execution_count": 8,
     "metadata": {},
     "output_type": "execute_result"
    }
   ],
   "source": [
    "to_drop = set()\n",
    "for i in item_mapping.item.values:\n",
    "    contain = item_mapping[(item_mapping.item != i) & (item_mapping.item.str.contains(i))].item.values\n",
    "    for c in contain:\n",
    "        if c not in to_drop:\n",
    "            to_drop.add(c)\n",
    "to_drop"
   ]
  },
  {
   "cell_type": "code",
   "execution_count": 9,
   "metadata": {},
   "outputs": [],
   "source": [
    "df = df[~df.item.isin(to_drop)]"
   ]
  },
  {
   "cell_type": "code",
   "execution_count": 111,
   "metadata": {},
   "outputs": [],
   "source": [
    "df = df[df.year < 2020]"
   ]
  },
  {
   "cell_type": "code",
   "execution_count": 35,
   "metadata": {},
   "outputs": [],
   "source": [
    "from utils import reshape_dataframe\n",
    "\n",
    "df = reshape_dataframe(df, element_mapping)"
   ]
  },
  {
   "cell_type": "code",
   "execution_count": 36,
   "metadata": {},
   "outputs": [
    {
     "data": {
      "text/html": [
       "<div>\n",
       "<style scoped>\n",
       "    .dataframe tbody tr th:only-of-type {\n",
       "        vertical-align: middle;\n",
       "    }\n",
       "\n",
       "    .dataframe tbody tr th {\n",
       "        vertical-align: top;\n",
       "    }\n",
       "\n",
       "    .dataframe thead th {\n",
       "        text-align: right;\n",
       "    }\n",
       "</style>\n",
       "<table border=\"1\" class=\"dataframe\">\n",
       "  <thead>\n",
       "    <tr style=\"text-align: right;\">\n",
       "      <th></th>\n",
       "      <th>area</th>\n",
       "      <th>item</th>\n",
       "      <th>year</th>\n",
       "      <th>Emissions (CH4) (gigagrams)</th>\n",
       "      <th>Emissions (N2O) (gigagrams)</th>\n",
       "      <th>Emissions (CO2eq) (gigagrams)</th>\n",
       "      <th>Emissions (CO2eq) from N2O (gigagrams)</th>\n",
       "      <th>Emissions (CO2eq) from CH4 (gigagrams)</th>\n",
       "    </tr>\n",
       "  </thead>\n",
       "  <tbody>\n",
       "    <tr>\n",
       "      <th>0</th>\n",
       "      <td>Afghanistan</td>\n",
       "      <td>Agricultural Soils</td>\n",
       "      <td>1961</td>\n",
       "      <td>NaN</td>\n",
       "      <td>NaN</td>\n",
       "      <td>3097.8213</td>\n",
       "      <td>3097.8213</td>\n",
       "      <td>NaN</td>\n",
       "    </tr>\n",
       "    <tr>\n",
       "      <th>1</th>\n",
       "      <td>Afghanistan</td>\n",
       "      <td>Agricultural Soils</td>\n",
       "      <td>1962</td>\n",
       "      <td>NaN</td>\n",
       "      <td>NaN</td>\n",
       "      <td>3063.8992</td>\n",
       "      <td>3063.8992</td>\n",
       "      <td>NaN</td>\n",
       "    </tr>\n",
       "    <tr>\n",
       "      <th>2</th>\n",
       "      <td>Afghanistan</td>\n",
       "      <td>Agricultural Soils</td>\n",
       "      <td>1963</td>\n",
       "      <td>NaN</td>\n",
       "      <td>NaN</td>\n",
       "      <td>3116.2194</td>\n",
       "      <td>3116.2194</td>\n",
       "      <td>NaN</td>\n",
       "    </tr>\n",
       "    <tr>\n",
       "      <th>3</th>\n",
       "      <td>Afghanistan</td>\n",
       "      <td>Agricultural Soils</td>\n",
       "      <td>1964</td>\n",
       "      <td>NaN</td>\n",
       "      <td>NaN</td>\n",
       "      <td>3181.7806</td>\n",
       "      <td>3181.7806</td>\n",
       "      <td>NaN</td>\n",
       "    </tr>\n",
       "    <tr>\n",
       "      <th>4</th>\n",
       "      <td>Afghanistan</td>\n",
       "      <td>Agricultural Soils</td>\n",
       "      <td>1965</td>\n",
       "      <td>NaN</td>\n",
       "      <td>NaN</td>\n",
       "      <td>3257.1703</td>\n",
       "      <td>3257.1703</td>\n",
       "      <td>NaN</td>\n",
       "    </tr>\n",
       "  </tbody>\n",
       "</table>\n",
       "</div>"
      ],
      "text/plain": [
       "          area                item  year  Emissions (CH4) (gigagrams)  \\\n",
       "0  Afghanistan  Agricultural Soils  1961                          NaN   \n",
       "1  Afghanistan  Agricultural Soils  1962                          NaN   \n",
       "2  Afghanistan  Agricultural Soils  1963                          NaN   \n",
       "3  Afghanistan  Agricultural Soils  1964                          NaN   \n",
       "4  Afghanistan  Agricultural Soils  1965                          NaN   \n",
       "\n",
       "   Emissions (N2O) (gigagrams)  Emissions (CO2eq) (gigagrams)  \\\n",
       "0                          NaN                      3097.8213   \n",
       "1                          NaN                      3063.8992   \n",
       "2                          NaN                      3116.2194   \n",
       "3                          NaN                      3181.7806   \n",
       "4                          NaN                      3257.1703   \n",
       "\n",
       "   Emissions (CO2eq) from N2O (gigagrams)  \\\n",
       "0                               3097.8213   \n",
       "1                               3063.8992   \n",
       "2                               3116.2194   \n",
       "3                               3181.7806   \n",
       "4                               3257.1703   \n",
       "\n",
       "   Emissions (CO2eq) from CH4 (gigagrams)  \n",
       "0                                     NaN  \n",
       "1                                     NaN  \n",
       "2                                     NaN  \n",
       "3                                     NaN  \n",
       "4                                     NaN  "
      ]
     },
     "execution_count": 36,
     "metadata": {},
     "output_type": "execute_result"
    }
   ],
   "source": [
    "df.head()"
   ]
  },
  {
   "cell_type": "code",
   "execution_count": 1,
   "metadata": {},
   "outputs": [
    {
     "ename": "NameError",
     "evalue": "name 'df' is not defined",
     "output_type": "error",
     "traceback": [
      "\u001b[0;31m---------------------------------------------------------------------------\u001b[0m",
      "\u001b[0;31mNameError\u001b[0m                                 Traceback (most recent call last)",
      "\u001b[0;32m<ipython-input-1-70de5e568a29>\u001b[0m in \u001b[0;36m<module>\u001b[0;34m\u001b[0m\n\u001b[1;32m      1\u001b[0m \u001b[0;32mimport\u001b[0m \u001b[0mipywidgets\u001b[0m \u001b[0;32mas\u001b[0m \u001b[0mwidgets\u001b[0m\u001b[0;34m\u001b[0m\u001b[0;34m\u001b[0m\u001b[0m\n\u001b[0;32m----> 2\u001b[0;31m \u001b[0mitems\u001b[0m \u001b[0;34m=\u001b[0m \u001b[0mdf\u001b[0m\u001b[0;34m.\u001b[0m\u001b[0mitem\u001b[0m\u001b[0;34m.\u001b[0m\u001b[0munique\u001b[0m\u001b[0;34m(\u001b[0m\u001b[0;34m)\u001b[0m\u001b[0;34m\u001b[0m\u001b[0;34m\u001b[0m\u001b[0m\n\u001b[0m\u001b[1;32m      3\u001b[0m \u001b[0melements\u001b[0m \u001b[0;34m=\u001b[0m \u001b[0mdf\u001b[0m\u001b[0;34m.\u001b[0m\u001b[0mcolumns\u001b[0m\u001b[0;34m[\u001b[0m\u001b[0;36m3\u001b[0m\u001b[0;34m:\u001b[0m\u001b[0;34m]\u001b[0m\u001b[0;34m\u001b[0m\u001b[0;34m\u001b[0m\u001b[0m\n\u001b[1;32m      4\u001b[0m \u001b[0mareas\u001b[0m \u001b[0;34m=\u001b[0m \u001b[0mdf\u001b[0m\u001b[0;34m.\u001b[0m\u001b[0marea\u001b[0m\u001b[0;34m.\u001b[0m\u001b[0munique\u001b[0m\u001b[0;34m(\u001b[0m\u001b[0;34m)\u001b[0m\u001b[0;34m\u001b[0m\u001b[0;34m\u001b[0m\u001b[0m\n\u001b[1;32m      5\u001b[0m item_select = widgets.Dropdown(\n",
      "\u001b[0;31mNameError\u001b[0m: name 'df' is not defined"
     ]
    }
   ],
   "source": [
    "import ipywidgets as widgets\n",
    "items = df.item.unique()\n",
    "elements = df.columns[3:]\n",
    "areas = df.area.unique()\n",
    "item_select = widgets.Dropdown(\n",
    "    options=items,\n",
    "    value=items[0],\n",
    "    description='Item:',\n",
    "    disabled=False,\n",
    ")\n",
    "\n",
    "element_select = widgets.Dropdown(\n",
    "    options=elements,\n",
    "    value=elements[0],\n",
    "    description='Element:',\n",
    "    disabled=False,\n",
    ")\n",
    "\n",
    "area_select = widgets.Dropdown(\n",
    "    options=areas,\n",
    "    value=areas[0],\n",
    "    description='Area:',\n",
    "    disabled=False,\n",
    ")\n",
    "items = [item_select, element_select, area_select]\n",
    "selector = widgets.GridBox(items, layout=widgets.Layout(grid_template_columns=\"repeat(3, 300px)\"))"
   ]
  },
  {
   "cell_type": "code",
   "execution_count": 106,
   "metadata": {},
   "outputs": [
    {
     "data": {
      "text/html": [
       "<div>\n",
       "<style scoped>\n",
       "    .dataframe tbody tr th:only-of-type {\n",
       "        vertical-align: middle;\n",
       "    }\n",
       "\n",
       "    .dataframe tbody tr th {\n",
       "        vertical-align: top;\n",
       "    }\n",
       "\n",
       "    .dataframe thead th {\n",
       "        text-align: right;\n",
       "    }\n",
       "</style>\n",
       "<table border=\"1\" class=\"dataframe\">\n",
       "  <thead>\n",
       "    <tr style=\"text-align: right;\">\n",
       "      <th></th>\n",
       "      <th>area</th>\n",
       "      <th>item</th>\n",
       "      <th>year</th>\n",
       "      <th>Emissions (CH4) (gigagrams)</th>\n",
       "      <th>Emissions (N2O) (gigagrams)</th>\n",
       "      <th>Emissions (CO2eq) (gigagrams)</th>\n",
       "      <th>Emissions (CO2eq) from N2O (gigagrams)</th>\n",
       "      <th>Emissions (CO2eq) from CH4 (gigagrams)</th>\n",
       "    </tr>\n",
       "  </thead>\n",
       "  <tbody>\n",
       "    <tr>\n",
       "      <th>0</th>\n",
       "      <td>Afghanistan</td>\n",
       "      <td>Agricultural Soils</td>\n",
       "      <td>1961</td>\n",
       "      <td>NaN</td>\n",
       "      <td>NaN</td>\n",
       "      <td>3097.8213</td>\n",
       "      <td>3097.8213</td>\n",
       "      <td>NaN</td>\n",
       "    </tr>\n",
       "    <tr>\n",
       "      <th>1</th>\n",
       "      <td>Afghanistan</td>\n",
       "      <td>Agricultural Soils</td>\n",
       "      <td>1962</td>\n",
       "      <td>NaN</td>\n",
       "      <td>NaN</td>\n",
       "      <td>3063.8992</td>\n",
       "      <td>3063.8992</td>\n",
       "      <td>NaN</td>\n",
       "    </tr>\n",
       "    <tr>\n",
       "      <th>2</th>\n",
       "      <td>Afghanistan</td>\n",
       "      <td>Agricultural Soils</td>\n",
       "      <td>1963</td>\n",
       "      <td>NaN</td>\n",
       "      <td>NaN</td>\n",
       "      <td>3116.2194</td>\n",
       "      <td>3116.2194</td>\n",
       "      <td>NaN</td>\n",
       "    </tr>\n",
       "    <tr>\n",
       "      <th>3</th>\n",
       "      <td>Afghanistan</td>\n",
       "      <td>Agricultural Soils</td>\n",
       "      <td>1964</td>\n",
       "      <td>NaN</td>\n",
       "      <td>NaN</td>\n",
       "      <td>3181.7806</td>\n",
       "      <td>3181.7806</td>\n",
       "      <td>NaN</td>\n",
       "    </tr>\n",
       "    <tr>\n",
       "      <th>4</th>\n",
       "      <td>Afghanistan</td>\n",
       "      <td>Agricultural Soils</td>\n",
       "      <td>1965</td>\n",
       "      <td>NaN</td>\n",
       "      <td>NaN</td>\n",
       "      <td>3257.1703</td>\n",
       "      <td>3257.1703</td>\n",
       "      <td>NaN</td>\n",
       "    </tr>\n",
       "  </tbody>\n",
       "</table>\n",
       "</div>"
      ],
      "text/plain": [
       "          area                item  year  Emissions (CH4) (gigagrams)  \\\n",
       "0  Afghanistan  Agricultural Soils  1961                          NaN   \n",
       "1  Afghanistan  Agricultural Soils  1962                          NaN   \n",
       "2  Afghanistan  Agricultural Soils  1963                          NaN   \n",
       "3  Afghanistan  Agricultural Soils  1964                          NaN   \n",
       "4  Afghanistan  Agricultural Soils  1965                          NaN   \n",
       "\n",
       "   Emissions (N2O) (gigagrams)  Emissions (CO2eq) (gigagrams)  \\\n",
       "0                          NaN                      3097.8213   \n",
       "1                          NaN                      3063.8992   \n",
       "2                          NaN                      3116.2194   \n",
       "3                          NaN                      3181.7806   \n",
       "4                          NaN                      3257.1703   \n",
       "\n",
       "   Emissions (CO2eq) from N2O (gigagrams)  \\\n",
       "0                               3097.8213   \n",
       "1                               3063.8992   \n",
       "2                               3116.2194   \n",
       "3                               3181.7806   \n",
       "4                               3257.1703   \n",
       "\n",
       "   Emissions (CO2eq) from CH4 (gigagrams)  \n",
       "0                                     NaN  \n",
       "1                                     NaN  \n",
       "2                                     NaN  \n",
       "3                                     NaN  \n",
       "4                                     NaN  "
      ]
     },
     "execution_count": 106,
     "metadata": {},
     "output_type": "execute_result"
    }
   ],
   "source": [
    "df.head()"
   ]
  },
  {
   "cell_type": "code",
   "execution_count": 109,
   "metadata": {},
   "outputs": [],
   "source": [
    "sns.set_palette(sns.color_palette(\"tab20c\", 20))"
   ]
  },
  {
   "cell_type": "code",
   "execution_count": 112,
   "metadata": {},
   "outputs": [
    {
     "data": {
      "application/vnd.jupyter.widget-view+json": {
       "model_id": "d410e9dc8dce4cf1acf895694bdfcf9d",
       "version_major": 2,
       "version_minor": 0
      },
      "text/plain": [
       "GridBox(children=(Dropdown(description='Item:', index=2, options=('Agricultural Soils', 'Agriculture total', '…"
      ]
     },
     "metadata": {},
     "output_type": "display_data"
    },
    {
     "data": {
      "application/vnd.jupyter.widget-view+json": {
       "model_id": "0cd681b3b28f4ead9d0fa253416a0bf4",
       "version_major": 2,
       "version_minor": 0
      },
      "text/plain": [
       "Output()"
      ]
     },
     "metadata": {},
     "output_type": "display_data"
    }
   ],
   "source": [
    "from IPython.display import display, clear_output\n",
    "from ipywidgets import Output\n",
    "\n",
    "out = Output()\n",
    "\n",
    "@out.capture()\n",
    "def on_change(change):\n",
    "    if change['type'] == 'change' and change['name'] == 'value':\n",
    "        clear_output()\n",
    "        fig, ax = plt.subplots(figsize=(20, 10))\n",
    "        data = df[(df['area'] == area_select.get_interact_value()) & (df['item'] == item_select.get_interact_value())] \n",
    "        sns.lineplot(x='year', y=element_select.get_interact_value(), data=data, ax=ax)\n",
    "        plt.show()\n",
    "        \n",
    "item_select.observe(on_change, names=['value'])\n",
    "element_select.observe(on_change, names=['value'])\n",
    "area_select.observe(on_change, names=['value'])\n",
    "\n",
    "display(selector)\n",
    "display(out)"
   ]
  },
  {
   "cell_type": "markdown",
   "metadata": {},
   "source": [
    "### Plot evolution of world data"
   ]
  },
  {
   "cell_type": "code",
   "execution_count": 14,
   "metadata": {},
   "outputs": [
    {
     "name": "stderr",
     "output_type": "stream",
     "text": [
      "/home/tarek/anaconda3/envs/ada/lib/python3.7/site-packages/pandas/core/indexing.py:376: SettingWithCopyWarning: \n",
      "A value is trying to be set on a copy of a slice from a DataFrame.\n",
      "Try using .loc[row_indexer,col_indexer] = value instead\n",
      "\n",
      "See the caveats in the documentation: http://pandas.pydata.org/pandas-docs/stable/user_guide/indexing.html#returning-a-view-versus-a-copy\n",
      "  self.obj[key] = _infer_fill_value(value)\n",
      "/home/tarek/anaconda3/envs/ada/lib/python3.7/site-packages/pandas/core/indexing.py:494: SettingWithCopyWarning: \n",
      "A value is trying to be set on a copy of a slice from a DataFrame.\n",
      "Try using .loc[row_indexer,col_indexer] = value instead\n",
      "\n",
      "See the caveats in the documentation: http://pandas.pydata.org/pandas-docs/stable/user_guide/indexing.html#returning-a-view-versus-a-copy\n",
      "  self.obj[item] = s\n"
     ]
    }
   ],
   "source": [
    "from utils import percentage_of_total\n",
    "df_world = df[df.area == \"World\"]\n",
    "df_world = percentage_of_total(df_world, \"Agriculture total\", \"Emissions (CO2eq) (gigagrams)\")"
   ]
  },
  {
   "cell_type": "code",
   "execution_count": 15,
   "metadata": {},
   "outputs": [],
   "source": [
    "palette = dict(zip(df_world.item.unique(), sns.color_palette()))"
   ]
  },
  {
   "cell_type": "code",
   "execution_count": 16,
   "metadata": {},
   "outputs": [
    {
     "data": {
      "image/png": "[encoded data removed]",
      "text/plain": [
       "<Figure size 1440x720 with 1 Axes>"
      ]
     },
     "metadata": {
      "needs_background": "light"
     },
     "output_type": "display_data"
    }
   ],
   "source": [
    "fig, ax = plt.subplots(figsize=(20,10))\n",
    "g = sns.lineplot(data=df_world[(df_world.year < 2020) & (df_world.item != \"Agriculture total\")], x='year', y='Emissions (CO2eq) (gigagrams) %', hue=\"item\", ax=ax)#.plot(x='year', y='Emissions (CH4) (Enteric) (gigagrams)')\n",
    "ax.legend(loc='center', bbox_to_anchor=(1.08, 0.83), ncol=1)\n",
    "ax.set_title(\"Evolution of CO2eq per item as a percentage of total emissions due to agriculture\");"
   ]
  },
  {
   "cell_type": "code",
   "execution_count": 17,
   "metadata": {},
   "outputs": [],
   "source": [
    "def plot_histogram(year=2017):\n",
    "    \n",
    "    fig, ax = plt.subplots(figsize=(20,10))\n",
    "    dataframe = df_world[df_world.year == year]\n",
    "    sns.barplot(x='item', y='Emissions (CO2eq) (gigagrams) %', data=dataframe[dataframe.item != \"Agriculture total\"].sort_values(\"Emissions (CO2eq) (gigagrams) %\", ascending=False), palette=palette)\n",
    "    ax.set_title(f\"Emissions (CO2eq) (gigagrams) for {year}\")\n",
    "    plt.xticks(rotation=45);"
   ]
  },
  {
   "cell_type": "code",
   "execution_count": 18,
   "metadata": {},
   "outputs": [
    {
     "data": {
      "application/vnd.jupyter.widget-view+json": {
       "model_id": "904974bf0dc7447ab419cd474a02ed7c",
       "version_major": 2,
       "version_minor": 0
      },
      "text/plain": [
       "interactive(children=(IntSlider(value=2017, description='year', max=2017, min=1970), Output()), _dom_classes=(…"
      ]
     },
     "metadata": {},
     "output_type": "display_data"
    },
    {
     "data": {
      "text/plain": [
       "<function __main__.plot_histogram(year=2017)>"
      ]
     },
     "execution_count": 18,
     "metadata": {},
     "output_type": "execute_result"
    }
   ],
   "source": [
    "from ipywidgets import interact\n",
    "interact(plot_histogram, year=(1970, 2017, 1))"
   ]
  },
  {
   "cell_type": "code",
   "execution_count": 19,
   "metadata": {},
   "outputs": [
    {
     "data": {
      "text/html": [
       "<div>\n",
       "<style scoped>\n",
       "    .dataframe tbody tr th:only-of-type {\n",
       "        vertical-align: middle;\n",
       "    }\n",
       "\n",
       "    .dataframe tbody tr th {\n",
       "        vertical-align: top;\n",
       "    }\n",
       "\n",
       "    .dataframe thead th {\n",
       "        text-align: right;\n",
       "    }\n",
       "</style>\n",
       "<table border=\"1\" class=\"dataframe\">\n",
       "  <thead>\n",
       "    <tr style=\"text-align: right;\">\n",
       "      <th></th>\n",
       "      <th>itemcode</th>\n",
       "      <th>item</th>\n",
       "    </tr>\n",
       "  </thead>\n",
       "  <tbody>\n",
       "    <tr>\n",
       "      <th>0</th>\n",
       "      <td>5058</td>\n",
       "      <td>Enteric Fermentation</td>\n",
       "    </tr>\n",
       "    <tr>\n",
       "      <th>177</th>\n",
       "      <td>5059</td>\n",
       "      <td>Manure Management</td>\n",
       "    </tr>\n",
       "    <tr>\n",
       "      <th>472</th>\n",
       "      <td>5060</td>\n",
       "      <td>Rice Cultivation</td>\n",
       "    </tr>\n",
       "    <tr>\n",
       "      <th>649</th>\n",
       "      <td>5061</td>\n",
       "      <td>Synthetic Fertilizers</td>\n",
       "    </tr>\n",
       "    <tr>\n",
       "      <th>826</th>\n",
       "      <td>5062</td>\n",
       "      <td>Manure applied to Soils</td>\n",
       "    </tr>\n",
       "    <tr>\n",
       "      <th>1003</th>\n",
       "      <td>5063</td>\n",
       "      <td>Manure left on Pasture</td>\n",
       "    </tr>\n",
       "    <tr>\n",
       "      <th>1180</th>\n",
       "      <td>5064</td>\n",
       "      <td>Crop Residues</td>\n",
       "    </tr>\n",
       "    <tr>\n",
       "      <th>1357</th>\n",
       "      <td>5066</td>\n",
       "      <td>Burning - Crop residues</td>\n",
       "    </tr>\n",
       "    <tr>\n",
       "      <th>1652</th>\n",
       "      <td>5067</td>\n",
       "      <td>Burning - Savanna</td>\n",
       "    </tr>\n",
       "    <tr>\n",
       "      <th>1802</th>\n",
       "      <td>1711</td>\n",
       "      <td>Agriculture total</td>\n",
       "    </tr>\n",
       "    <tr>\n",
       "      <th>2097</th>\n",
       "      <td>1709</td>\n",
       "      <td>Agricultural Soils</td>\n",
       "    </tr>\n",
       "    <tr>\n",
       "      <th>3512</th>\n",
       "      <td>6759</td>\n",
       "      <td>Cultivation of Organic Soils</td>\n",
       "    </tr>\n",
       "  </tbody>\n",
       "</table>\n",
       "</div>"
      ],
      "text/plain": [
       "      itemcode                          item\n",
       "0         5058          Enteric Fermentation\n",
       "177       5059             Manure Management\n",
       "472       5060              Rice Cultivation\n",
       "649       5061         Synthetic Fertilizers\n",
       "826       5062       Manure applied to Soils\n",
       "1003      5063        Manure left on Pasture\n",
       "1180      5064                 Crop Residues\n",
       "1357      5066       Burning - Crop residues\n",
       "1652      5067             Burning - Savanna\n",
       "1802      1711             Agriculture total\n",
       "2097      1709            Agricultural Soils\n",
       "3512      6759  Cultivation of Organic Soils"
      ]
     },
     "execution_count": 19,
     "metadata": {},
     "output_type": "execute_result"
    }
   ],
   "source": [
    "item_mapping"
   ]
  },
  {
   "cell_type": "code",
   "execution_count": 47,
   "metadata": {},
   "outputs": [],
   "source": [
    "test = load_dataframe(\"data/emissions_agriculture/Emissions_Agriculture_Energy_E_All_Data_(Norm).csv\")\n",
    "test = test.rename({\"countrycode\": \"areacode\", \"country\": \"area\"}, axis=1)\n",
    "test_e_mapping = get_element_mapping(test)\n",
    "\n",
    "test = reshape_dataframe(test, test_e_mapping)"
   ]
  },
  {
   "cell_type": "code",
   "execution_count": 50,
   "metadata": {},
   "outputs": [
    {
     "data": {
      "text/html": [
       "<div>\n",
       "<style scoped>\n",
       "    .dataframe tbody tr th:only-of-type {\n",
       "        vertical-align: middle;\n",
       "    }\n",
       "\n",
       "    .dataframe tbody tr th {\n",
       "        vertical-align: top;\n",
       "    }\n",
       "\n",
       "    .dataframe thead th {\n",
       "        text-align: right;\n",
       "    }\n",
       "</style>\n",
       "<table border=\"1\" class=\"dataframe\">\n",
       "  <thead>\n",
       "    <tr style=\"text-align: right;\">\n",
       "      <th></th>\n",
       "      <th>elementcode</th>\n",
       "      <th>element</th>\n",
       "      <th>unit</th>\n",
       "    </tr>\n",
       "  </thead>\n",
       "  <tbody>\n",
       "    <tr>\n",
       "      <th>0</th>\n",
       "      <td>72184</td>\n",
       "      <td>Consumption in Agriculture</td>\n",
       "      <td>Terajoule</td>\n",
       "    </tr>\n",
       "    <tr>\n",
       "      <th>27</th>\n",
       "      <td>719610</td>\n",
       "      <td>Implied emission factor for CH4</td>\n",
       "      <td>Kg/TJ</td>\n",
       "    </tr>\n",
       "    <tr>\n",
       "      <th>54</th>\n",
       "      <td>722510</td>\n",
       "      <td>Emissions (CH4) (Energy)</td>\n",
       "      <td>Gigagrams</td>\n",
       "    </tr>\n",
       "    <tr>\n",
       "      <th>81</th>\n",
       "      <td>724410</td>\n",
       "      <td>Emissions (CO2eq) from CH4 (Energy)</td>\n",
       "      <td>Gigagrams</td>\n",
       "    </tr>\n",
       "    <tr>\n",
       "      <th>108</th>\n",
       "      <td>719710</td>\n",
       "      <td>Implied emission factor for N2O</td>\n",
       "      <td>Kg/TJ</td>\n",
       "    </tr>\n",
       "    <tr>\n",
       "      <th>135</th>\n",
       "      <td>723010</td>\n",
       "      <td>Emissions (N2O) (Energy)</td>\n",
       "      <td>Gigagrams</td>\n",
       "    </tr>\n",
       "    <tr>\n",
       "      <th>162</th>\n",
       "      <td>724310</td>\n",
       "      <td>Emissions (CO2eq) from N2O (Energy)</td>\n",
       "      <td>Gigagrams</td>\n",
       "    </tr>\n",
       "    <tr>\n",
       "      <th>189</th>\n",
       "      <td>719510</td>\n",
       "      <td>Implied emission factor for CO2</td>\n",
       "      <td>Kg/TJ</td>\n",
       "    </tr>\n",
       "    <tr>\n",
       "      <th>216</th>\n",
       "      <td>719410</td>\n",
       "      <td>Emissions (CO2) (Energy)</td>\n",
       "      <td>Gigagrams</td>\n",
       "    </tr>\n",
       "    <tr>\n",
       "      <th>243</th>\n",
       "      <td>723110</td>\n",
       "      <td>Emissions (CO2eq) (Energy)</td>\n",
       "      <td>Gigagrams</td>\n",
       "    </tr>\n",
       "    <tr>\n",
       "      <th>1481</th>\n",
       "      <td>72182</td>\n",
       "      <td>Consumption in Agriculture</td>\n",
       "      <td>million kWh</td>\n",
       "    </tr>\n",
       "    <tr>\n",
       "      <th>4172</th>\n",
       "      <td>719509</td>\n",
       "      <td>Implied emission factor for CO2</td>\n",
       "      <td>g/kWh</td>\n",
       "    </tr>\n",
       "  </tbody>\n",
       "</table>\n",
       "</div>"
      ],
      "text/plain": [
       "      elementcode                              element         unit\n",
       "0           72184           Consumption in Agriculture    Terajoule\n",
       "27         719610      Implied emission factor for CH4        Kg/TJ\n",
       "54         722510             Emissions (CH4) (Energy)    Gigagrams\n",
       "81         724410  Emissions (CO2eq) from CH4 (Energy)    Gigagrams\n",
       "108        719710      Implied emission factor for N2O        Kg/TJ\n",
       "135        723010             Emissions (N2O) (Energy)    Gigagrams\n",
       "162        724310  Emissions (CO2eq) from N2O (Energy)    Gigagrams\n",
       "189        719510      Implied emission factor for CO2        Kg/TJ\n",
       "216        719410             Emissions (CO2) (Energy)    Gigagrams\n",
       "243        723110           Emissions (CO2eq) (Energy)    Gigagrams\n",
       "1481        72182           Consumption in Agriculture  million kWh\n",
       "4172       719509      Implied emission factor for CO2        g/kWh"
      ]
     },
     "execution_count": 50,
     "metadata": {},
     "output_type": "execute_result"
    }
   ],
   "source": [
    "test_e_mapping"
   ]
  },
  {
   "cell_type": "code",
   "execution_count": 51,
   "metadata": {},
   "outputs": [
    {
     "data": {
      "text/plain": [
       "array(['Electricity', 'Energy for power irrigation', 'Total Energy',\n",
       "       'Coal', 'Energy used in fishery', 'Fuel oil',\n",
       "       'Fuel oil used in fisheries', 'Gas-Diesel oil',\n",
       "       'Gas-diesel oils used in fisheries',\n",
       "       'Liquefied petroleum gas (LPG)', 'Motor Gasoline',\n",
       "       'Natural gas (including LNG)',\n",
       "       'Transport fuel used in agriculture (excl. fishery)'], dtype=object)"
      ]
     },
     "execution_count": 51,
     "metadata": {},
     "output_type": "execute_result"
    }
   ],
   "source": [
    "test.item.unique()"
   ]
  },
  {
   "cell_type": "code",
   "execution_count": 55,
   "metadata": {},
   "outputs": [
    {
     "data": {
      "text/html": [
       "<div>\n",
       "<style scoped>\n",
       "    .dataframe tbody tr th:only-of-type {\n",
       "        vertical-align: middle;\n",
       "    }\n",
       "\n",
       "    .dataframe tbody tr th {\n",
       "        vertical-align: top;\n",
       "    }\n",
       "\n",
       "    .dataframe thead th {\n",
       "        text-align: right;\n",
       "    }\n",
       "</style>\n",
       "<table border=\"1\" class=\"dataframe\">\n",
       "  <thead>\n",
       "    <tr style=\"text-align: right;\">\n",
       "      <th></th>\n",
       "      <th>area</th>\n",
       "      <th>item</th>\n",
       "      <th>year</th>\n",
       "      <th>Consumption in Agriculture (million kWh)</th>\n",
       "      <th>Consumption in Agriculture (Terajoule)</th>\n",
       "      <th>Emissions (CO2) (Energy) (Gigagrams)</th>\n",
       "      <th>Implied emission factor for CO2 (g/kWh)</th>\n",
       "      <th>Implied emission factor for CO2 (Kg/TJ)</th>\n",
       "      <th>Implied emission factor for CH4 (Kg/TJ)</th>\n",
       "      <th>Implied emission factor for N2O (Kg/TJ)</th>\n",
       "      <th>Emissions (CH4) (Energy) (Gigagrams)</th>\n",
       "      <th>Emissions (N2O) (Energy) (Gigagrams)</th>\n",
       "      <th>Emissions (CO2eq) (Energy) (Gigagrams)</th>\n",
       "      <th>Emissions (CO2eq) from N2O (Energy) (Gigagrams)</th>\n",
       "      <th>Emissions (CO2eq) from CH4 (Energy) (Gigagrams)</th>\n",
       "    </tr>\n",
       "  </thead>\n",
       "  <tbody>\n",
       "    <tr>\n",
       "      <th>58464</th>\n",
       "      <td>World</td>\n",
       "      <td>Total Energy</td>\n",
       "      <td>1970</td>\n",
       "      <td>NaN</td>\n",
       "      <td>1520352.2</td>\n",
       "      <td>108469.2831</td>\n",
       "      <td>NaN</td>\n",
       "      <td>NaN</td>\n",
       "      <td>NaN</td>\n",
       "      <td>NaN</td>\n",
       "      <td>108.7525</td>\n",
       "      <td>24.9224</td>\n",
       "      <td>118479.0311</td>\n",
       "      <td>7725.9458</td>\n",
       "      <td>2283.8021</td>\n",
       "    </tr>\n",
       "  </tbody>\n",
       "</table>\n",
       "</div>"
      ],
      "text/plain": [
       "        area          item  year  Consumption in Agriculture (million kWh)  \\\n",
       "58464  World  Total Energy  1970                                       NaN   \n",
       "\n",
       "       Consumption in Agriculture (Terajoule)  \\\n",
       "58464                               1520352.2   \n",
       "\n",
       "       Emissions (CO2) (Energy) (Gigagrams)  \\\n",
       "58464                           108469.2831   \n",
       "\n",
       "       Implied emission factor for CO2 (g/kWh)  \\\n",
       "58464                                      NaN   \n",
       "\n",
       "       Implied emission factor for CO2 (Kg/TJ)  \\\n",
       "58464                                      NaN   \n",
       "\n",
       "       Implied emission factor for CH4 (Kg/TJ)  \\\n",
       "58464                                      NaN   \n",
       "\n",
       "       Implied emission factor for N2O (Kg/TJ)  \\\n",
       "58464                                      NaN   \n",
       "\n",
       "       Emissions (CH4) (Energy) (Gigagrams)  \\\n",
       "58464                              108.7525   \n",
       "\n",
       "       Emissions (N2O) (Energy) (Gigagrams)  \\\n",
       "58464                               24.9224   \n",
       "\n",
       "       Emissions (CO2eq) (Energy) (Gigagrams)  \\\n",
       "58464                             118479.0311   \n",
       "\n",
       "       Emissions (CO2eq) from N2O (Energy) (Gigagrams)  \\\n",
       "58464                                        7725.9458   \n",
       "\n",
       "       Emissions (CO2eq) from CH4 (Energy) (Gigagrams)  \n",
       "58464                                        2283.8021  "
      ]
     },
     "execution_count": 55,
     "metadata": {},
     "output_type": "execute_result"
    }
   ],
   "source": [
    "test[(test.item == \"Total Energy\") & (test.area == \"World\") & (test.year == 1970)]"
   ]
  },
  {
   "cell_type": "code",
   "execution_count": null,
   "metadata": {},
   "outputs": [],
   "source": [
    "df[(df.item == \"\")]"
   ]
  }
 ],
 "metadata": {
  "kernelspec": {
   "display_name": "data.analysis",
   "language": "python",
   "name": "data.analysis"
  },
  "language_info": {
   "codemirror_mode": {
    "name": "ipython",
    "version": 3
   },
   "file_extension": ".py",
   "mimetype": "text/x-python",
   "name": "python",
   "nbconvert_exporter": "python",
   "pygments_lexer": "ipython3",
   "version": "3.7.4"
  }
 },
 "nbformat": 4,
 "nbformat_minor": 4
}
