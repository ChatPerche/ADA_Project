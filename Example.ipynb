{
 "cells": [
  {
   "cell_type": "code",
   "execution_count": 10,
   "metadata": {},
   "outputs": [
    {
     "name": "stdout",
     "output_type": "stream",
     "text": [
      "The autoreload extension is already loaded. To reload it, use:\n",
      "  %reload_ext autoreload\n"
     ]
    }
   ],
   "source": [
    "import pandas as pd\n",
    "from utils import load_dataframe, reshape_dataframe\n",
    "from mappings import get_element_mapping, get_all_element_mapping\n",
    "%load_ext autoreload\n",
    "%autoreload 2"
   ]
  },
  {
   "cell_type": "code",
   "execution_count": 2,
   "metadata": {},
   "outputs": [],
   "source": [
    "df = load_dataframe(\"data/emissions_agriculture/Emissions_Agriculture_Agriculture_total_E_All_Data_(Normalized).csv\")"
   ]
  },
  {
   "cell_type": "code",
   "execution_count": 3,
   "metadata": {},
   "outputs": [],
   "source": [
    "element_mapping = get_element_mapping(df)"
   ]
  },
  {
   "cell_type": "code",
   "execution_count": 23,
   "metadata": {},
   "outputs": [
    {
     "data": {
      "text/plain": [
       "array(['Agricultural Soils', 'Agriculture total',\n",
       "       'Burning - Crop residues', 'Burning - Savanna', 'Crop Residues',\n",
       "       'Enteric Fermentation', 'Manure Management',\n",
       "       'Manure applied to Soils', 'Manure left on Pasture',\n",
       "       'Rice Cultivation', 'Synthetic Fertilizers',\n",
       "       'Cultivation of Organic Soils'], dtype=object)"
      ]
     },
     "execution_count": 23,
     "metadata": {},
     "output_type": "execute_result"
    }
   ],
   "source": [
    "df.item.unique()"
   ]
  },
  {
   "cell_type": "code",
   "execution_count": 6,
   "metadata": {},
   "outputs": [],
   "source": [
    "df = reshape_dataframe(df)"
   ]
  },
  {
   "cell_type": "code",
   "execution_count": 8,
   "metadata": {},
   "outputs": [
    {
     "data": {
      "text/plain": [
       "12"
      ]
     },
     "execution_count": 8,
     "metadata": {},
     "output_type": "execute_result"
    }
   ],
   "source": [
    "len(df.item.unique())"
   ]
  },
  {
   "cell_type": "code",
   "execution_count": 26,
   "metadata": {},
   "outputs": [
    {
     "name": "stdout",
     "output_type": "stream",
     "text": [
      "Fount 12 files in data/emissions_agriculture/\n"
     ]
    }
   ],
   "source": [
    "test = get_all_element_mapping(\"data/emissions_agriculture/\")"
   ]
  },
  {
   "cell_type": "code",
   "execution_count": 27,
   "metadata": {},
   "outputs": [
    {
     "data": {
      "text/html": [
       "<div>\n",
       "<style scoped>\n",
       "    .dataframe tbody tr th:only-of-type {\n",
       "        vertical-align: middle;\n",
       "    }\n",
       "\n",
       "    .dataframe tbody tr th {\n",
       "        vertical-align: top;\n",
       "    }\n",
       "\n",
       "    .dataframe thead th {\n",
       "        text-align: right;\n",
       "    }\n",
       "</style>\n",
       "<table border=\"1\" class=\"dataframe\">\n",
       "  <thead>\n",
       "    <tr style=\"text-align: right;\">\n",
       "      <th></th>\n",
       "      <th>element_code</th>\n",
       "      <th>element_string</th>\n",
       "    </tr>\n",
       "  </thead>\n",
       "  <tbody>\n",
       "    <tr>\n",
       "      <th>0</th>\n",
       "      <td>5111</td>\n",
       "      <td>Stocks (Head)</td>\n",
       "    </tr>\n",
       "    <tr>\n",
       "      <th>1</th>\n",
       "      <td>72244</td>\n",
       "      <td>Implied emission factor for CH4 (Enteric) (kg ...</td>\n",
       "    </tr>\n",
       "    <tr>\n",
       "      <th>2</th>\n",
       "      <td>72254</td>\n",
       "      <td>Emissions (CH4) (Enteric) (gigagrams)</td>\n",
       "    </tr>\n",
       "    <tr>\n",
       "      <th>3</th>\n",
       "      <td>72314</td>\n",
       "      <td>Emissions (CO2eq) (Enteric) (gigagrams)</td>\n",
       "    </tr>\n",
       "    <tr>\n",
       "      <th>4</th>\n",
       "      <td>7246</td>\n",
       "      <td>Burned Area (ha)</td>\n",
       "    </tr>\n",
       "    <tr>\n",
       "      <th>...</th>\n",
       "      <td>...</td>\n",
       "      <td>...</td>\n",
       "    </tr>\n",
       "    <tr>\n",
       "      <th>99</th>\n",
       "      <td>719510</td>\n",
       "      <td>Implied emission factor for CO2 (Kg/TJ)</td>\n",
       "    </tr>\n",
       "    <tr>\n",
       "      <th>100</th>\n",
       "      <td>719410</td>\n",
       "      <td>Emissions (CO2) (Energy) (Gigagrams)</td>\n",
       "    </tr>\n",
       "    <tr>\n",
       "      <th>101</th>\n",
       "      <td>723110</td>\n",
       "      <td>Emissions (CO2eq) (Energy) (Gigagrams)</td>\n",
       "    </tr>\n",
       "    <tr>\n",
       "      <th>102</th>\n",
       "      <td>72182</td>\n",
       "      <td>Consumption in Agriculture (million kWh)</td>\n",
       "    </tr>\n",
       "    <tr>\n",
       "      <th>103</th>\n",
       "      <td>719509</td>\n",
       "      <td>Implied emission factor for CO2 (g/kWh)</td>\n",
       "    </tr>\n",
       "  </tbody>\n",
       "</table>\n",
       "<p>100 rows × 2 columns</p>\n",
       "</div>"
      ],
      "text/plain": [
       "     element_code                                     element_string\n",
       "0            5111                                      Stocks (Head)\n",
       "1           72244  Implied emission factor for CH4 (Enteric) (kg ...\n",
       "2           72254              Emissions (CH4) (Enteric) (gigagrams)\n",
       "3           72314            Emissions (CO2eq) (Enteric) (gigagrams)\n",
       "4            7246                                   Burned Area (ha)\n",
       "..            ...                                                ...\n",
       "99         719510            Implied emission factor for CO2 (Kg/TJ)\n",
       "100        719410               Emissions (CO2) (Energy) (Gigagrams)\n",
       "101        723110             Emissions (CO2eq) (Energy) (Gigagrams)\n",
       "102         72182           Consumption in Agriculture (million kWh)\n",
       "103        719509            Implied emission factor for CO2 (g/kWh)\n",
       "\n",
       "[100 rows x 2 columns]"
      ]
     },
     "execution_count": 27,
     "metadata": {},
     "output_type": "execute_result"
    }
   ],
   "source": [
    "test"
   ]
  }
 ],
 "metadata": {
  "kernelspec": {
   "display_name": "Python (ADA)",
   "language": "python",
   "name": "ada"
  },
  "language_info": {
   "codemirror_mode": {
    "name": "ipython",
    "version": 3
   },
   "file_extension": ".py",
   "mimetype": "text/x-python",
   "name": "python",
   "nbconvert_exporter": "python",
   "pygments_lexer": "ipython3",
   "version": "3.7.4"
  }
 },
 "nbformat": 4,
 "nbformat_minor": 4
}
