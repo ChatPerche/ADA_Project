{
 "cells": [
  {
   "cell_type": "code",
   "execution_count": 2,
   "metadata": {},
   "outputs": [],
   "source": [
    "import pandas as pd\n",
    "import seaborn as sns\n",
    "import matplotlib.pyplot as plt\n",
    "import numpy as np\n",
    "from glob import glob\n",
    "import os\n",
    "from tqdm import tqdm"
   ]
  },
  {
   "cell_type": "markdown",
   "metadata": {},
   "source": [
    "## Constructing a diet based on nutrient needs\n",
    "\n",
    "\n",
    "### Diet diversity\n",
    "Nutrients are contained in different quantities in different commodities; for example:\n",
    "- roots and tubers contain a lot of vitamin A but a low amount of protein\n",
    "- livestock and fish contain a lot of protein and vitamin B12\n",
    "- some nutrients are generally harder to come by than others\n",
    "\n",
    "Therefore a healthy diet requires food intake diversity.\n",
    "\n",
    "Diversity is also important from an agricultural point of view; different types of crops or different species of a given crop will have less chance of all being wiped out by a single disease. \n",
    "\n",
    "### Malnutrition\n",
    "\n",
    "\n",
    "The first cause of death by malnutrition is caused by a lack of protein. The most common mineral deficiency is iron deficiency.\n",
    "\n",
    "\n",
    "Different regions have different diets and different deficiencies. In the USA for example, the nutrients that are under-consumed are fiber, calcium, vitamin D and potassium. However, in less-developped countries, there are a lot of iron and protein deficiencies.\n",
    "\n",
    "\n",
    "### Plants nutrients\n",
    "While plants contain a lot of fibers and carbohydrates, they have a poor balance of essential amino acids and have a low protein content. For example, cereals tend to be low in Lys (lysine) content, and legumes tend to be low in sulfur-rich amino acids (methionine, cysteine). It is important to note that manufacturing amino acids is costly, therefore manufacturing and distributing amino acids is not a feasible solution as of now. \n",
    "\n",
    "Another important point to consider is that some foods also contain anti-nutrients, allergens or toxins. A good example of this is phytate-containing plants. Phytate chelates iron, calcium and zinc which are essential nutrients. Therefore its positive impacts could be nefated by the fact that it impedes other nutrients from being properly incroporated by the human body.\n",
    "\n",
    "### Meat nutrients\n",
    "Although its overconsumption is an issue, meat is a major source of micro and macro nutrients, contains all essential amino acids and has overall high nutritional value. Its content in iron, zinc, vitamins B1 and B12, niacin, protein and vitamins A and D is high, with good amino acid digestibility (e.g. when compared to plants).\n",
    "Food group:\n",
    "- Energy\n",
    "- Protein, total fat, fatty acids, cholesterol\n",
    "- Micronutrients (iron, zinc, sodium, phosphorus, calcium, copper, magnesium)\n",
    "- Vitamins (vitamin A, vitamin D, thiamin, riboflavin, niacin, vitamin B6, vitamin B12, vitamin E)\n",
    "\n",
    "\n",
    "### Meat vs. plants:\n",
    "\n",
    "Moreover, plants are a fairly poor substitute for some of the nutrients meat provides. For example, iron and zinc contents in plants are very low. Their absorption Is further reduced in phytate-containing plants. The main nutrients plants lack in high quantities are Vitamin A, Thiamin, Vitamin B12, zince, Calcium.\n",
    "\n",
    "A diet relying more on plants rather than solely on meat is in accordance with most health councils and organizations. \n",
    "Vitamin B12 is mainly found in meat. Vitamin A is mainly found in butter, liver, and in carotenoids to some extent. Thiamin is found in meat and dairy, and cereals to a lesser extent. Calcium is mainly found in milk dairy, and cereals and vegetables to a much lesser extent. \n",
    "\n",
    "### Why we have chosen to include both meat and plants\n",
    "\n",
    "An in-depth example of why food diversity is important to a healthy diet:\n",
    "Roots and tubers provide energy mostly through carbohydrates and have fiber content, but contain a low amount of protein and only contain Sulphur-containing amino acids. Although some plants, such as sweet potato and yams contain vitamin C, and Taro contains potassium, plants overall provide these in fairly low quantities. The lipid content is very low in plants, and they are therefore also not a good source of fat soluble vitamins. Roots and tubers contain enough potassium, and not enough sodium. However, many diets tend to restrict sodium intake. \n",
    "\n",
    "Meat production is known to be more polluting and requires more land than plant production. However, we choose to consider both of these; first of all because in a real-world application it has proven difficult to transition meat production into plant production, second because meat yields interesting nutrient value, and third because the scope of our project is not based on how animals are treated/health impact of meat consumption/other issues of meat production.\n",
    "\n",
    "\n",
    "However, we will still try to have a mostly plant-based diet, reducing overall meat production. This should not be too much of a problem, seeing as more than half of the world's population already lives on a mostly plant-based diet.\n",
    "\n",
    "\n",
    "\n",
    "## Creating a nutrient list\n",
    "\n",
    "These nutrients are deemed to be essential not only because of their paramount importance to a healthy diet but also because of the fact that there exists widespread deficiencies worldwide.\n",
    "\n",
    "Some of these can be easily manufactured and distributed (e.g. iodine). We will only focus on a subset of nutrients, and look at protein content, fiber content, lipid content, vitamin content and mineral content of given foods in order to construct a \"healthy\" diet (meaning one that provides good nutrient intake).\n",
    "### What we will take into consideration for now:\n",
    "\n",
    "- Proteins\n",
    "- Carbohydrates\n",
    "- Fibers\n",
    "- Lipids\n",
    "- Vitamins and minerals\n",
    "    - Vitamins: A, B6, B9, B12, C, D, E\n",
    "    - Minerals : Fe, Ca\n",
    "    \n",
    "    \n",
    "    \n",
    "    \n",
    "    \n",
    "    \n",
    "## Getting an idea of nutrient quantities\n",
    "\n",
    "\n",
    "The daily reference values for a healthy diet for children and adults contains both nutrients to encourage and those to limit."
   ]
  },
  {
   "cell_type": "code",
   "execution_count": 13,
   "metadata": {},
   "outputs": [],
   "source": [
    "# import matplotlib.image as mpimg \n",
    "# import matplotlib.pyplot as plt \n",
    "  \n",
    "# img = mpimg.imread('data\\\\nutrients_daily.png') \n",
    "# fig, ax = plt.subplots(figsize=(12,12))\n",
    "# ax.imshow(img) "
   ]
  },
  {
   "cell_type": "markdown",
   "metadata": {},
   "source": [
    "# Issues that we will not address regarding food and health\n",
    "\n",
    "\n",
    "Some issues that we will not address regarding food security are food waste, food distribution optimization and food processing (e.g. cooking a certain way to preserve nutrients).\n",
    "\n",
    "\n",
    "Another issue lies in the health implications of each food. For example, red meat has been linked to some extent with different health issues when consumed in great quantities. This further reinforces the idea of having a diverse diet and not relying on a single type of food. However, we will not investigate this in great details, and rely on the fact that the food we are investigating is not lethal in reasonable quantities (e.g. sugar consumed in normal quantities vs. sugar over-consumption), and that a diet should evidently contain many different types of food to be \"healthy\".\n",
    "\n",
    "\n",
    "### Shortcomings \n",
    "Also, obviously, we are not taking into consideration all facets of a healthy diet. Different people have different needs and wants. We are only providing a possible example of a world-agricultural model that has a lower impact on environment while having a better impact on world nutrition.\n"
   ]
  },
  {
   "cell_type": "markdown",
   "metadata": {},
   "source": [
    "# Nutrient value database\n",
    "In parallel with the evaluation of the environmental impact of livestock and crops, we need to decide which food yield the best (or at least a good/healthy enough) nutritive value. \n",
    "To do this, after having decided on certain categories of nutrients (vitamins / fibers / etc...), we will check that the nutrients that we plan on using contain enough nutritive value using this database:"
   ]
  },
  {
   "cell_type": "markdown",
   "metadata": {},
   "source": [
    "https://www.ars.usda.gov/northeast-area/beltsville-md-bhnrc/beltsville-human-nutrition-research-center/food-surveys-research-group/docs/fndds-download-databases/\n",
    "\n",
    "Files:\n",
    "\n",
    "Ingredient Nutrient Values.xlsx\n",
    "\n",
    "FNDDS Nutrient Values.xlsx"
   ]
  },
  {
   "cell_type": "code",
   "execution_count": 6,
   "metadata": {},
   "outputs": [
    {
     "data": {
      "text/plain": [
       "['FNDDS_Nutrient_Values.xlsx', 'Ingredient_Nutrient_Values.xlsx']"
      ]
     },
     "execution_count": 6,
     "metadata": {},
     "output_type": "execute_result"
    }
   ],
   "source": [
    "dirname = os.getcwd()+ \"\\\\data\\\\nutrients\"\n",
    "os.listdir(dirname)"
   ]
  },
  {
   "cell_type": "code",
   "execution_count": 7,
   "metadata": {},
   "outputs": [],
   "source": [
    "food_attr = pd.read_excel(dirname+\"\\\\FNDDS_Nutrient_Values.xlsx\", header = 1)"
   ]
  },
  {
   "cell_type": "code",
   "execution_count": 8,
   "metadata": {},
   "outputs": [],
   "source": [
    "food_nutrient = pd.read_excel(dirname+\"\\\\Ingredient_Nutrient_Values.xlsx\", header = 1 )"
   ]
  },
  {
   "cell_type": "code",
   "execution_count": 9,
   "metadata": {},
   "outputs": [
    {
     "name": "stdout",
     "output_type": "stream",
     "text": [
      "2730 65\n"
     ]
    }
   ],
   "source": [
    "# food_nutrient[\"SR description\"].unique()\n",
    "food_nutrient = food_nutrient.drop([\"Ingredient code\", \"Nutrient code\", \"Nutrient value source\", \"SR 28 derivation code\", \"SR 28 AddMod year\"], axis = 1)\n",
    "food_nutrient.columns = [\"ingredient\",\"nutrient\",\"value\"]\n",
    "print(food_nutrient.ingredient.nunique(), food_nutrient.nutrient.nunique())"
   ]
  },
  {
   "cell_type": "code",
   "execution_count": 10,
   "metadata": {},
   "outputs": [],
   "source": [
    "nutrient_list = list(food_nutrient.nutrient.unique())\n",
    "selected_nutrients = [\"Protein\",\"Total Fat\",\"Carbohydrate\",\"Energy\",\"Water\",\\\n",
    "                      \"Fiber, total dietary\",\"Iron\",\\\n",
    "                      \"Calcium\", \"Vitamin C\",\"Vitamin B-6\",\\\n",
    "                      \"Vitamin B-12\",\"Vitamin A, RAE\",\"Vitamin E (alpha-tocopherol)\"\\\n",
    "                      ,\"Vitamin D (D2 + D3)\"]\n",
    "assert(set(selected_nutrients) - set(nutrient_list) == set())"
   ]
  },
  {
   "cell_type": "markdown",
   "metadata": {},
   "source": [
    "### An example of how we could use this dataset:\n",
    "First we would need to isolate certain food components based on environmental and agricultural considerations, Tand only then would we cross-check these components with the database here to make sure that they contain the necessary nutrients. "
   ]
  },
  {
   "cell_type": "code",
   "execution_count": 11,
   "metadata": {},
   "outputs": [
    {
     "data": {
      "text/html": [
       "<div>\n",
       "<style scoped>\n",
       "    .dataframe tbody tr th:only-of-type {\n",
       "        vertical-align: middle;\n",
       "    }\n",
       "\n",
       "    .dataframe tbody tr th {\n",
       "        vertical-align: top;\n",
       "    }\n",
       "\n",
       "    .dataframe thead th {\n",
       "        text-align: right;\n",
       "    }\n",
       "</style>\n",
       "<table border=\"1\" class=\"dataframe\">\n",
       "  <thead>\n",
       "    <tr style=\"text-align: right;\">\n",
       "      <th></th>\n",
       "      <th>name</th>\n",
       "      <th>value</th>\n",
       "      <th>item</th>\n",
       "    </tr>\n",
       "  </thead>\n",
       "  <tbody>\n",
       "    <tr>\n",
       "      <th>0</th>\n",
       "      <td>Protein</td>\n",
       "      <td>88.32</td>\n",
       "      <td>ingredient    Soy protein isolate\n",
       "nutrient    ...</td>\n",
       "    </tr>\n",
       "    <tr>\n",
       "      <th>1</th>\n",
       "      <td>Total Fat</td>\n",
       "      <td>100.00</td>\n",
       "      <td>ingredient    Fat, beef tallow\n",
       "nutrient       ...</td>\n",
       "    </tr>\n",
       "    <tr>\n",
       "      <th>2</th>\n",
       "      <td>Carbohydrate</td>\n",
       "      <td>100.00</td>\n",
       "      <td>ingredient    Sweetener, herbal extract powder...</td>\n",
       "    </tr>\n",
       "    <tr>\n",
       "      <th>3</th>\n",
       "      <td>Energy</td>\n",
       "      <td>902.00</td>\n",
       "      <td>ingredient    Fat, beef tallow\n",
       "nutrient       ...</td>\n",
       "    </tr>\n",
       "    <tr>\n",
       "      <th>4</th>\n",
       "      <td>Water</td>\n",
       "      <td>99.98</td>\n",
       "      <td>ingredient    Water, bottled, generic\n",
       "nutrient...</td>\n",
       "    </tr>\n",
       "    <tr>\n",
       "      <th>5</th>\n",
       "      <td>Fiber, total dietary</td>\n",
       "      <td>53.20</td>\n",
       "      <td>ingredient    Spices, curry powder\n",
       "nutrient   ...</td>\n",
       "    </tr>\n",
       "    <tr>\n",
       "      <th>6</th>\n",
       "      <td>Iron</td>\n",
       "      <td>123.60</td>\n",
       "      <td>ingredient    Spices, thyme, dried\n",
       "nutrient   ...</td>\n",
       "    </tr>\n",
       "    <tr>\n",
       "      <th>7</th>\n",
       "      <td>Calcium</td>\n",
       "      <td>7364.00</td>\n",
       "      <td>ingredient    Leavening agents, baking powder,...</td>\n",
       "    </tr>\n",
       "    <tr>\n",
       "      <th>8</th>\n",
       "      <td>Vitamin C</td>\n",
       "      <td>2400.00</td>\n",
       "      <td>ingredient    Fruit-flavored drink, powder, wi...</td>\n",
       "    </tr>\n",
       "    <tr>\n",
       "      <th>9</th>\n",
       "      <td>Vitamin B-6</td>\n",
       "      <td>12.00</td>\n",
       "      <td>ingredient    Cereals ready-to-eat, KELLOGG, K...</td>\n",
       "    </tr>\n",
       "    <tr>\n",
       "      <th>10</th>\n",
       "      <td>Vitamin B-12</td>\n",
       "      <td>83.13</td>\n",
       "      <td>ingredient    Beef, variety meats and by-produ...</td>\n",
       "    </tr>\n",
       "    <tr>\n",
       "      <th>11</th>\n",
       "      <td>Vitamin A, RAE</td>\n",
       "      <td>9442.00</td>\n",
       "      <td>ingredient    Beef, variety meats and by-produ...</td>\n",
       "    </tr>\n",
       "    <tr>\n",
       "      <th>12</th>\n",
       "      <td>Vitamin E (alpha-tocopherol)</td>\n",
       "      <td>149.40</td>\n",
       "      <td>ingredient                 Oil, wheat germ\n",
       "nut...</td>\n",
       "    </tr>\n",
       "    <tr>\n",
       "      <th>13</th>\n",
       "      <td>Vitamin D (D2 + D3)</td>\n",
       "      <td>10000.00</td>\n",
       "      <td>ingredient    Vitamin D as ingredient\n",
       "nutrient...</td>\n",
       "    </tr>\n",
       "  </tbody>\n",
       "</table>\n",
       "</div>"
      ],
      "text/plain": [
       "                            name     value  \\\n",
       "0                        Protein     88.32   \n",
       "1                      Total Fat    100.00   \n",
       "2                   Carbohydrate    100.00   \n",
       "3                         Energy    902.00   \n",
       "4                          Water     99.98   \n",
       "5           Fiber, total dietary     53.20   \n",
       "6                           Iron    123.60   \n",
       "7                        Calcium   7364.00   \n",
       "8                      Vitamin C   2400.00   \n",
       "9                    Vitamin B-6     12.00   \n",
       "10                  Vitamin B-12     83.13   \n",
       "11                Vitamin A, RAE   9442.00   \n",
       "12  Vitamin E (alpha-tocopherol)    149.40   \n",
       "13           Vitamin D (D2 + D3)  10000.00   \n",
       "\n",
       "                                                 item  \n",
       "0   ingredient    Soy protein isolate\n",
       "nutrient    ...  \n",
       "1   ingredient    Fat, beef tallow\n",
       "nutrient       ...  \n",
       "2   ingredient    Sweetener, herbal extract powder...  \n",
       "3   ingredient    Fat, beef tallow\n",
       "nutrient       ...  \n",
       "4   ingredient    Water, bottled, generic\n",
       "nutrient...  \n",
       "5   ingredient    Spices, curry powder\n",
       "nutrient   ...  \n",
       "6   ingredient    Spices, thyme, dried\n",
       "nutrient   ...  \n",
       "7   ingredient    Leavening agents, baking powder,...  \n",
       "8   ingredient    Fruit-flavored drink, powder, wi...  \n",
       "9   ingredient    Cereals ready-to-eat, KELLOGG, K...  \n",
       "10  ingredient    Beef, variety meats and by-produ...  \n",
       "11  ingredient    Beef, variety meats and by-produ...  \n",
       "12  ingredient                 Oil, wheat germ\n",
       "nut...  \n",
       "13  ingredient    Vitamin D as ingredient\n",
       "nutrient...  "
      ]
     },
     "execution_count": 11,
     "metadata": {},
     "output_type": "execute_result"
    }
   ],
   "source": [
    "# # food_nutrient[food_nutrient.nutrient == \"Calcium\"].sort_values(\"value\", ascending = False).head()\n",
    "df = pd.DataFrame(columns = [\"name\",\"value\",\"item\"])\n",
    "for idx, val in enumerate(selected_nutrients):\n",
    "    max_val= food_nutrient[food_nutrient.nutrient == val].value.max()\n",
    "    max_item = food_nutrient[food_nutrient.nutrient ==val].value.idxmax()\n",
    "    max_item = food_nutrient.iloc[max_item]\n",
    "    df.loc[idx] = val, max_val, max_item\n",
    "df\n",
    "# here: issue with vitamin D value. \n",
    "# also: the max value is often a supplement / else...\n",
    "# that's why it would be best used as a cross-checking tool\n",
    "# since this is not our original database, we're not going to spend ages cleaning / arranging it. "
   ]
  },
  {
   "cell_type": "markdown",
   "metadata": {},
   "source": [
    "# Fertilizer use\n",
    "\n",
    "\n",
    "The increased use of fertilizer has a strong impact on the environment, however it does generally help agriculture. It is also deemed necessary in many regions, and many reports highlight the fact that in order to feed the whole population, the quantity of fertilizer use must increase. However, it needs to be regulated, and a lot of areas could use a lesser amount. A direct consequence of high fertilizer use is the formation of excess nitrogen areas e.g. in rivers or lakes.\n",
    "\n",
    "\n",
    "Obviously, some crops and products require more fertilizer than others. An example of this is rice cultivation, which requires large amounts of area, water and \n",
    "fertilizers. Rice yields good energy, protein and carbohydrate nutritive value, but relatively low water, fat and fiber contents when compared to other staple foods such as maize, wheat or potatoes. Since rice is the most consumed food in the world, being the main diet ingredient of approximately half of the world's population. Therefore we want to investigate whether rice is a good agricultural choice both in terms of environmental impact and nutritive value at a worldwide scale."
   ]
  },
  {
   "cell_type": "markdown",
   "metadata": {},
   "source": [
    "# Agriculture Sectors Pollution\n",
    "\n",
    "\n",
    "Greenhouse gases basically trap heat and contribute to global warming. GHGs are almost entirely antropogenic.\n",
    "- C02: carbon dioxide. Deforestation, land clearing for agriculture and soil degradation impacts CO2 release in the air\n",
    "- CH4: methane. Most agriculture practices, agricultural waster, biomass burning, and livestock impact CH4 release in the air.\n",
    "- N20: Nitrous oxide. Fertilizer use is the main culrpit here, impacting N20 release in the air.\n",
    "\n",
    "However, agricultural practices also have some positive impact on GHG release: some ecosystems offset part of CO2 emissions."
   ]
  },
  {
   "cell_type": "markdown",
   "metadata": {},
   "source": [
    "# References:\n",
    "\n",
    "https://www.sciencedirect.com/science/article/pii/S2542519617300074\n",
    "\n",
    "https://www.ncbi.nlm.nih.gov/pmc/articles/PMC2442550/\n",
    "\n",
    "https://www.ncbi.nlm.nih.gov/pmc/articles/PMC3546624/\n",
    "\n",
    "https://www.ncbi.nlm.nih.gov/pmc/articles/PMC6213018/\n",
    "\n",
    "https://www.ncbi.nlm.nih.gov/pubmed/28532520\n",
    "\n",
    "http://www.fao.org/3/T0207E04.htm\n",
    "\n",
    "https://academic.oup.com/ajcn/article/78/3/660S/4690010\n",
    "\n",
    "https://www.ncbi.nlm.nih.gov/pmc/articles/PMC5346408/\n",
    "\n",
    "http://www.fao.org/3/ca6030en/ca6030en.pdf\n",
    "\n",
    "https://www.ncbi.nlm.nih.gov/pmc/articles/PMC3546624/\n",
    "\n",
    "https://en.wikipedia.org/wiki/Rice#Nutrition\n",
    "\n",
    "https://www.earth.columbia.edu/articles/view/3281\n",
    "\n",
    "https://www.epa.gov/ghgemissions/sources-greenhouse-gas-emissions"
   ]
  },
  {
   "cell_type": "code",
   "execution_count": null,
   "metadata": {},
   "outputs": [],
   "source": [
    "\n"
   ]
  }
 ],
 "metadata": {
  "kernelspec": {
   "display_name": "Python 3",
   "language": "python",
   "name": "python3"
  },
  "language_info": {
   "codemirror_mode": {
    "name": "ipython",
    "version": 3
   },
   "file_extension": ".py",
   "mimetype": "text/x-python",
   "name": "python",
   "nbconvert_exporter": "python",
   "pygments_lexer": "ipython3",
   "version": "3.7.1"
  }
 },
 "nbformat": 4,
 "nbformat_minor": 2
}
